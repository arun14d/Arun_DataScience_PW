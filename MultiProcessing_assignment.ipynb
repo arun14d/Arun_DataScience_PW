{
 "cells": [
  {
   "cell_type": "markdown",
   "id": "87652a16-abc6-4e21-8f9e-63ba1fbaa032",
   "metadata": {},
   "source": [
    "### Multi Processing Assignment"
   ]
  },
  {
   "cell_type": "markdown",
   "id": "9c2d9fa4-1926-4ff0-b8e3-25606fa51297",
   "metadata": {},
   "source": [
    "------"
   ]
  },
  {
   "cell_type": "markdown",
   "id": "843a6826-106b-4dd0-9734-3848ac3124fd",
   "metadata": {},
   "source": [
    "#### Q1. What is multiprocessing in python? Why is it useful?"
   ]
  },
  {
   "cell_type": "markdown",
   "id": "c13e6350-770d-4b9c-95f1-81cf2a653282",
   "metadata": {},
   "source": [
    "1. Multiprocessing in Python is a built-in package that allows the system to run multiple processes simultaneously. \n",
    "\n",
    "2. It will enable the breaking of applications into smaller threads that can run independently. \n",
    "\n",
    "3. The operating system can then allocate all these threads or processes to the processor to run them parallelly, thus improving the overall performance and efficiency.\n",
    "\n",
    "\n",
    "**Multiprocessing is used because**\n",
    "\n",
    "1. Allows the system to run multiple processes simultaneously. It will enable the breaking of applications into smaller threads that can run independently.\n",
    "\n",
    "2. Python multiprocessing Pool can be used for parallel execution of a function across multiple input values, distributing the input data across processes \n",
    "\n",
    "3. The Python Multiprocessing Module is a tool for you to increase your scripts' efficiency by allocating tasks to different processes.\n",
    "\n"
   ]
  },
  {
   "cell_type": "markdown",
   "id": "e06d5cd3-9f99-4d35-9d68-440ff3b23474",
   "metadata": {},
   "source": [
    "------------"
   ]
  },
  {
   "cell_type": "markdown",
   "id": "17c72be3-8fae-421b-84b1-75f0fd5a6cf1",
   "metadata": {},
   "source": [
    "#### Q2. What are the differences between multiprocessing and multithreading?\n"
   ]
  },
  {
   "cell_type": "markdown",
   "id": "1c1f11d0-8b67-400c-827b-c63651339538",
   "metadata": {},
   "source": [
    "|Diff B/W | Multiprocessing | Multithreading |\n",
    "|---|---|---|\n",
    "|1. Concept | Multiple processors/CPUs are added to the system to increase the computing power of the system. |Multiple threads are created of a process to be executed in a parallel fashion to increase the throughput of the system|\n",
    "|2. Parallel Action\t|Multiple processes are executed in a parallel fashion.\t|Multiple threads are executed in a parallel fashion.|\n",
    "|3. Categories\t| Multiprocessing can be classified into symmetric and asymmetric multiprocessing.\t| No such classification present for multithreading.|\n",
    "|4. Time |\tProcess creation is time-consuming.\t|Thread creation is easy and is time savvy.|\n",
    "|5. Execution\t| In multiprocessing, many processes are executed simultaneously.\t| In multithreading, many threads are executed simultaneously.|\n",
    "|6. Resources |\tMultiprocessing requires a significant amount of time and large number of resources. |\tMultithreading requires less time and few resources to create.|"
   ]
  },
  {
   "cell_type": "markdown",
   "id": "aae8a356-6a15-4fab-a80b-e20683ecc0bc",
   "metadata": {},
   "source": [
    "---------------"
   ]
  },
  {
   "cell_type": "markdown",
   "id": "19f0ac2c-e511-4dae-9b52-010238b373b3",
   "metadata": {},
   "source": [
    "#### Q3. Write a python code to create a process using the multiprocessing module."
   ]
  },
  {
   "cell_type": "code",
   "execution_count": 21,
   "id": "5332b2c5-33d2-46de-9a9e-515f8e7e7b29",
   "metadata": {},
   "outputs": [
    {
     "name": "stdout",
     "output_type": "stream",
     "text": [
      "This is my Main Program\n",
      "[100, 200, 300, 400, 500, 600]\n"
     ]
    }
   ],
   "source": [
    "import multiprocessing\n",
    "\n",
    "def multiple_by10(n):\n",
    "    return n*10\n",
    "\n",
    "## trying to call python main method\n",
    "\n",
    "if __name__ == '__main__':   ## will invoke entire python compiler/ invoke python main program\n",
    "    #\n",
    "    print(\"This is my Main Program\")  ## first main program is executed\n",
    "    with multiprocessing.Pool(processes=2) as pool:\n",
    "        out  = pool.map(multiple_by10,[10,20,30,40,50,60])\n",
    "        print(out)\n",
    "\n",
    "## here the Pool creates 2 processes to handle the code. as we have mentioned processes=2 in the Pool.\n"
   ]
  },
  {
   "cell_type": "markdown",
   "id": "7f2f0120-a708-4ae9-a90f-16327025018b",
   "metadata": {},
   "source": [
    "------------"
   ]
  },
  {
   "cell_type": "markdown",
   "id": "2239f4cd-43a1-4a06-baea-a0eea9b1c8df",
   "metadata": {},
   "source": [
    "#### Q4. What is a multiprocessing pool in python? Why is it used?"
   ]
  },
  {
   "cell_type": "markdown",
   "id": "3af94170-e3de-489a-9a0c-2cd191b60e7c",
   "metadata": {},
   "source": [
    "The Pool class represents a pool of worker processes. It has methods which allows tasks to be offloaded to the worker processes in a few different ways.\n",
    "\n",
    "A process pool is a programming pattern for automatically managing a pool of worker processes.\n",
    "\n",
    "The pool is responsible for a fixed number of processes.\n",
    "\n",
    "It controls when they are created, such as when they are needed.\n",
    "It also controls what they should do when they are not being used, such as making them wait without consuming computational resources.\n",
    "\n",
    "\n",
    "The multiprocessing.pool.Pool class provides a process pool in Python.\n",
    "\n",
    "\n"
   ]
  },
  {
   "cell_type": "markdown",
   "id": "7c7e328a-b7f8-4385-82fe-c210ede055ff",
   "metadata": {},
   "source": [
    "--------------------"
   ]
  },
  {
   "cell_type": "markdown",
   "id": "d0fe5cbd-4427-401a-b55f-51a2816648d5",
   "metadata": {},
   "source": [
    "#### Q5. How can we create a pool of worker processes in python using the multiprocessing module?"
   ]
  },
  {
   "cell_type": "code",
   "execution_count": 1,
   "id": "375e82ea-dea0-4072-9fa8-c33c6a2911f0",
   "metadata": {},
   "outputs": [
    {
     "name": "stdout",
     "output_type": "stream",
     "text": [
      "[1, 8, 27, 64, 125, 216, 343, 512, 729, 1000]\n"
     ]
    }
   ],
   "source": [
    "import multiprocessing\n",
    "\n",
    "## fucntion to return the cube of a number.\n",
    "\n",
    "def cube(n):\n",
    "    return n**3\n",
    "\n",
    "if __name__ == '__main__':  ## main function\n",
    "    \n",
    "    ## Pool(processes=5) ==> i used to create a pool of 5 processes and perform the cube function over the list given as input\n",
    "    with multiprocessing.Pool(processes=5) as pool:\n",
    "        out  = pool.map(cube,[1,2,3,4,5,6,7,8,9,10])\n",
    "        print(out)"
   ]
  },
  {
   "cell_type": "markdown",
   "id": "6038a742-5538-4b1c-970e-ec39f048e13e",
   "metadata": {},
   "source": [
    "-------------------"
   ]
  },
  {
   "cell_type": "markdown",
   "id": "81bfe466-e6bb-4442-9ab9-8f8127c8e88b",
   "metadata": {},
   "source": [
    "#### Q6. Write a python program to create 4 processes, each process should print a different number using the multiprocessing module in python."
   ]
  },
  {
   "cell_type": "code",
   "execution_count": 39,
   "id": "d6c89c51-3882-484e-a68b-52c73267d902",
   "metadata": {},
   "outputs": [
    {
     "name": "stdout",
     "output_type": "stream",
     "text": [
      "\n",
      " The output of process 1 is :  25\n",
      "125\n",
      "The output of process 2 is :  \n",
      "\n",
      "The output of process 3 is : 625\n",
      "The output of process 4 is :\n",
      " 3125\n"
     ]
    }
   ],
   "source": [
    "import multiprocessing\n",
    "\n",
    "## fucntion to return the Square of a number.\n",
    "def square(n):\n",
    "    print(\"\\n The output of process 1 is : \",n**2)\n",
    "    \n",
    "## fucntion to return the Cube of a number.\n",
    "def cube(n):\n",
    "    print(\"\\nThe output of process 2 is : \" ,n**3)\n",
    "    \n",
    "## fucntion to return the Quad of a number.\n",
    "def quad(n):\n",
    "    print(\"\\nThe output of process 3 is :\",n**4)\n",
    "    \n",
    "## fucntion to return the Quint of a number.\n",
    "def quint(n):\n",
    "    print(\"\\nThe output of process 4 is :\",n**5)\n",
    "\n",
    "## main function\n",
    "if __name__ == '__main__':\n",
    "    p1 = multiprocessing.Process(target = square, args=(5,)) ## Creating process 1 to square the given number\n",
    "    p2 = multiprocessing.Process(target = cube, args=(5,))  ## Creating process 2 to cube the given number\n",
    "    p3 = multiprocessing.Process(target = quad, args=(5,))  ## Creating process 3 to quad the given number\n",
    "    p4 = multiprocessing.Process(target = quint, args=(5,)) ## Creating process 4 to quint the given number\n",
    "    p1.start() ## starting the process 1\n",
    "    p2.start() ## starting the process 2\n",
    "    p3.start() ## starting the process 3\n",
    "    p4.start() ## starting the process 4\n",
    "    p1.join()\n",
    "    p2.join()\n",
    "    p3.join()\n",
    "    p4.join()\n",
    "        "
   ]
  },
  {
   "cell_type": "markdown",
   "id": "6f0eed30-69c7-45f7-a56b-99bf431944cd",
   "metadata": {},
   "source": [
    "---------------------"
   ]
  }
 ],
 "metadata": {
  "kernelspec": {
   "display_name": "Python 3 (ipykernel)",
   "language": "python",
   "name": "python3"
  },
  "language_info": {
   "codemirror_mode": {
    "name": "ipython",
    "version": 3
   },
   "file_extension": ".py",
   "mimetype": "text/x-python",
   "name": "python",
   "nbconvert_exporter": "python",
   "pygments_lexer": "ipython3",
   "version": "3.10.8"
  }
 },
 "nbformat": 4,
 "nbformat_minor": 5
}
