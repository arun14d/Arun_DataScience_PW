{
 "cells": [
  {
   "cell_type": "markdown",
   "id": "1c5f7252-66f2-4d5d-8bab-253b2de49c4a",
   "metadata": {},
   "source": [
    "### Assignment 4"
   ]
  },
  {
   "cell_type": "markdown",
   "id": "0fb97008-5100-4fb1-9366-2c144672461e",
   "metadata": {},
   "source": [
    "##### Q1. Create a python program to sort the given list of tuples based on integer value using a lambda function.\n",
    "[('Sachin Tendulkar', 34357), ('Ricky Ponting', 27483), ('Jack Kallis', 25534), ('Virat Kohli', 24936)]"
   ]
  },
  {
   "cell_type": "code",
   "execution_count": 1,
   "id": "62f22f64-4ba7-4e05-9ebc-b32c17cb9eb8",
   "metadata": {},
   "outputs": [],
   "source": [
    "l1 = [('Sachin Tendulkar', 34357), ('Ricky Ponting', 27483), ('Jack Kallis', 25534), ('Virat Kohli', 24936)]"
   ]
  },
  {
   "cell_type": "code",
   "execution_count": 2,
   "id": "96347fb7-2b19-4d4f-9e64-9626317eb763",
   "metadata": {},
   "outputs": [
    {
     "data": {
      "text/plain": [
       "[('Virat Kohli', 24936),\n",
       " ('Jack Kallis', 25534),\n",
       " ('Ricky Ponting', 27483),\n",
       " ('Sachin Tendulkar', 34357)]"
      ]
     },
     "execution_count": 2,
     "metadata": {},
     "output_type": "execute_result"
    }
   ],
   "source": [
    "l1.sort(key = lambda x:x[1])  ## sorted in the lowest value first -- asc order.\n",
    "l1"
   ]
  },
  {
   "cell_type": "code",
   "execution_count": 3,
   "id": "56fa1032-e14a-48c0-9b03-cd33a27c8018",
   "metadata": {},
   "outputs": [
    {
     "data": {
      "text/plain": [
       "[('Sachin Tendulkar', 34357),\n",
       " ('Ricky Ponting', 27483),\n",
       " ('Jack Kallis', 25534),\n",
       " ('Virat Kohli', 24936)]"
      ]
     },
     "execution_count": 3,
     "metadata": {},
     "output_type": "execute_result"
    }
   ],
   "source": [
    "l1.sort(key = lambda x:x[1], reverse=True)  ## sorted in the highest value first -- desc order\n",
    "l1"
   ]
  },
  {
   "cell_type": "code",
   "execution_count": null,
   "id": "11681ae4-c9ae-44d4-bc9e-4c74a8c30727",
   "metadata": {},
   "outputs": [],
   "source": []
  },
  {
   "cell_type": "markdown",
   "id": "563b31d3-2eab-43c2-9acd-5cee463ccde3",
   "metadata": {},
   "source": [
    "##### Q2. Write a Python Program to find the squares of all the numbers in the given list of integers using lambda and map functions. [1, 2, 3, 4, 5, 6, 7, 8, 9, 10]"
   ]
  },
  {
   "cell_type": "code",
   "execution_count": 6,
   "id": "0e26ee29-5611-4029-9446-2eda47458512",
   "metadata": {},
   "outputs": [],
   "source": [
    "l1 = [1,2,3,4,5,6,7,8,9,10]"
   ]
  },
  {
   "cell_type": "code",
   "execution_count": 5,
   "id": "e457ca67-5036-47ae-b4a7-5153650932eb",
   "metadata": {},
   "outputs": [
    {
     "data": {
      "text/plain": [
       "[1, 4, 9, 16, 25, 36, 49, 64, 81, 100]"
      ]
     },
     "execution_count": 5,
     "metadata": {},
     "output_type": "execute_result"
    }
   ],
   "source": [
    "list(map(lambda x : x**2,l1))"
   ]
  },
  {
   "cell_type": "code",
   "execution_count": null,
   "id": "8cb4fad2-2277-4648-aa90-62dfb2dbe11e",
   "metadata": {},
   "outputs": [],
   "source": []
  },
  {
   "cell_type": "markdown",
   "id": "93961984-ec37-4484-9974-e964eccc440b",
   "metadata": {},
   "source": [
    "##### Q3. Write a python program to convert the given list of integers into a tuple of strings. Use map and lambda functions\n",
    "Given String: [1, 2, 3, 4, 5, 6, 7, 8, 9, 10]\n",
    "\n",
    "Expected output: ('1', '2', '3', '4', '5', '6', '7', '8', '9', '10')"
   ]
  },
  {
   "cell_type": "code",
   "execution_count": 6,
   "id": "7c4ba219-7ffb-4112-8231-c5dff2be00c8",
   "metadata": {},
   "outputs": [],
   "source": [
    "st1 =  [1, 2, 3, 4, 5, 6, 7, 8, 9, 10]"
   ]
  },
  {
   "cell_type": "code",
   "execution_count": 7,
   "id": "2277a6b5-384c-417c-af02-5ae926005c9c",
   "metadata": {},
   "outputs": [
    {
     "data": {
      "text/plain": [
       "('1', '2', '3', '4', '5', '6', '7', '8', '9', '10')"
      ]
     },
     "execution_count": 7,
     "metadata": {},
     "output_type": "execute_result"
    }
   ],
   "source": [
    "tuple(map(lambda x : str(x),st1))"
   ]
  },
  {
   "cell_type": "code",
   "execution_count": null,
   "id": "8f4e3907-e631-4d05-a33d-fd59b050cd5e",
   "metadata": {},
   "outputs": [],
   "source": []
  },
  {
   "cell_type": "markdown",
   "id": "7a645829-174a-483e-a7c7-ab5c4a258ab6",
   "metadata": {},
   "source": [
    "##### Q4. Write a python program using reduce function to compute the product of a list containing numbers from 1 to 25."
   ]
  },
  {
   "cell_type": "code",
   "execution_count": 8,
   "id": "55942d28-72cd-4121-98b1-7edccd561b96",
   "metadata": {},
   "outputs": [
    {
     "data": {
      "text/plain": [
       "15511210043330985984000000"
      ]
     },
     "execution_count": 8,
     "metadata": {},
     "output_type": "execute_result"
    }
   ],
   "source": [
    "from functools import reduce\n",
    "\n",
    "l1 = []\n",
    "for i in range(1,26):  ## Have taken 26 cause, if 25 is given, it will not include 25 in the list. The upperbound -1 ==> 26-1=25. Hence i used 26\n",
    "    l1.append(i)\n",
    "reduce(lambda x,y :x*y,l1)"
   ]
  },
  {
   "cell_type": "code",
   "execution_count": 9,
   "id": "12fec853-08f0-4006-8c8b-70e558d36780",
   "metadata": {},
   "outputs": [
    {
     "name": "stdout",
     "output_type": "stream",
     "text": [
      "[1, 2, 3, 4, 5, 6, 7, 8, 9, 10, 11, 12, 13, 14, 15, 16, 17, 18, 19, 20, 21, 22, 23, 24, 25]\n"
     ]
    }
   ],
   "source": [
    "print(l1) ## list contains 1 to 25 elements"
   ]
  },
  {
   "cell_type": "code",
   "execution_count": null,
   "id": "0f162c72-d7d2-48fb-a50c-862f5c161aed",
   "metadata": {},
   "outputs": [],
   "source": []
  },
  {
   "cell_type": "markdown",
   "id": "2271d8e5-3cc3-4c69-94e6-990f6c922751",
   "metadata": {},
   "source": [
    "##### Q5. Write a python program to filter the numbers in a given list that are divisible by 2 and 3 using the filter function. [2, 3, 6, 9, 27, 60, 90, 120, 55, 46]"
   ]
  },
  {
   "cell_type": "code",
   "execution_count": 10,
   "id": "1921605f-8daf-4f91-b259-7cf528f603a3",
   "metadata": {},
   "outputs": [],
   "source": [
    "l1 = [2, 3, 6, 9, 27, 60, 90, 120, 55, 46]"
   ]
  },
  {
   "cell_type": "code",
   "execution_count": 11,
   "id": "5a3f48a2-758b-48f1-a42f-a5510f28c1f0",
   "metadata": {},
   "outputs": [
    {
     "name": "stdout",
     "output_type": "stream",
     "text": [
      "The list containing the values that are divisble by 2 and 3 is  [2, 3, 6, 9, 27, 60, 90, 120, 46]\n"
     ]
    }
   ],
   "source": [
    "l2 =list(filter(lambda x : x%2==0 or x%3==0,l1))\n",
    "### filters both the numbers that are divisble by 2 and 3 in the same list\n",
    "\n",
    "print(f\"The list containing the values that are divisble by 2 and 3 is \",l2)"
   ]
  },
  {
   "cell_type": "code",
   "execution_count": 12,
   "id": "e9ad7405-175d-4142-889b-e9f3ef3ab9e4",
   "metadata": {},
   "outputs": [
    {
     "name": "stdout",
     "output_type": "stream",
     "text": [
      "The list containing the values that are divisble by 2 is  [2, 6, 60, 90, 120, 46]\n",
      "The list containing the values that are divisble by 3 is  [3, 6, 9, 27, 60, 90, 120]\n"
     ]
    }
   ],
   "source": [
    "l_two =list(filter(lambda x : x%2==0,l1))\n",
    "l_three =list(filter(lambda x : x%3==0,l1))\n",
    "print(f\"The list containing the values that are divisble by 2 is \",l_two)\n",
    "print(f\"The list containing the values that are divisble by 3 is \",l_three)"
   ]
  },
  {
   "cell_type": "code",
   "execution_count": null,
   "id": "25846ba0-d483-4198-ba06-82abfc163341",
   "metadata": {},
   "outputs": [],
   "source": []
  },
  {
   "cell_type": "markdown",
   "id": "2559a2da-d6d6-4e96-863e-73b6dd4adcf0",
   "metadata": {},
   "source": [
    "##### Q6. Write a python program to find palindromes in the given list of strings using lambda and filter function.\n",
    "['python', 'php', 'aba', 'radar', 'level']"
   ]
  },
  {
   "cell_type": "code",
   "execution_count": 13,
   "id": "95adbf93-62b5-461b-8800-e29646681b45",
   "metadata": {},
   "outputs": [],
   "source": [
    "str1=['python', 'php', 'aba', 'radar', 'level']"
   ]
  },
  {
   "cell_type": "code",
   "execution_count": 14,
   "id": "8848fd18-24ce-476e-bd50-e1ba476997e6",
   "metadata": {},
   "outputs": [
    {
     "data": {
      "text/plain": [
       "['php', 'aba', 'radar', 'level']"
      ]
     },
     "execution_count": 14,
     "metadata": {},
     "output_type": "execute_result"
    }
   ],
   "source": [
    "list(filter(lambda x : x==x[::-1],str1))"
   ]
  }
 ],
 "metadata": {
  "kernelspec": {
   "display_name": "Python 3 (ipykernel)",
   "language": "python",
   "name": "python3"
  },
  "language_info": {
   "codemirror_mode": {
    "name": "ipython",
    "version": 3
   },
   "file_extension": ".py",
   "mimetype": "text/x-python",
   "name": "python",
   "nbconvert_exporter": "python",
   "pygments_lexer": "ipython3",
   "version": "3.10.8"
  }
 },
 "nbformat": 4,
 "nbformat_minor": 5
}
