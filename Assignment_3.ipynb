{
 "cells": [
  {
   "cell_type": "markdown",
   "id": "dd0f8266-ee19-4d29-8f66-fd1726763463",
   "metadata": {},
   "source": [
    "### Assignment 3"
   ]
  },
  {
   "cell_type": "markdown",
   "id": "bf123ef5-8e8d-4a92-9e03-71cc52581e60",
   "metadata": {},
   "source": [
    "##### Q1. Which keyword is used to create a function? Create a function to return a list of odd numbers in the  range of 1 to 25."
   ]
  },
  {
   "cell_type": "code",
   "execution_count": 8,
   "id": "9b6cf100-c45f-46d2-9035-c8a94aaa73e2",
   "metadata": {},
   "outputs": [],
   "source": [
    "## def is the key word used to create a function in python.\n",
    "\n",
    "\n",
    "## Functiont to create list of odd number in range(1-25)"
   ]
  },
  {
   "cell_type": "code",
   "execution_count": 9,
   "id": "c0af8ec5-8576-444c-98ec-f7968b83b498",
   "metadata": {},
   "outputs": [],
   "source": [
    "# Example 1 \n",
    "\n",
    "def odd_numb_list():\n",
    "    \"\"\"function to return a list of odd numbers in the range of 1 to 25.\"\"\"\n",
    "    list_odd_number=[]\n",
    "    for i in range(1,25):\n",
    "        if i%2!=0:\n",
    "            list_odd_number.append(i)\n",
    "    return list_odd_number\n",
    "    "
   ]
  },
  {
   "cell_type": "code",
   "execution_count": 10,
   "id": "e0fa868f-0f87-486c-8eed-e0a92ae12691",
   "metadata": {},
   "outputs": [
    {
     "data": {
      "text/plain": [
       "[1, 3, 5, 7, 9, 11, 13, 15, 17, 19, 21, 23]"
      ]
     },
     "execution_count": 10,
     "metadata": {},
     "output_type": "execute_result"
    }
   ],
   "source": [
    "odd_numb_list()"
   ]
  },
  {
   "cell_type": "code",
   "execution_count": 11,
   "id": "a143dd45-ff66-4ee9-96ff-59997e21f267",
   "metadata": {},
   "outputs": [],
   "source": [
    "## Example 2\n",
    "\n",
    "def odd_numb_list(a,b):\n",
    "    \"\"\"function to return a list of odd numbers in the range given by user.\"\"\"\n",
    "    list_odd_number=[]\n",
    "    for i in range(a,b):\n",
    "        if i%2!=0:\n",
    "            list_odd_number.append(i)\n",
    "    return list_odd_number"
   ]
  },
  {
   "cell_type": "code",
   "execution_count": 12,
   "id": "81b7bc65-b462-47b2-bb7e-c7e5a2adbb19",
   "metadata": {},
   "outputs": [
    {
     "data": {
      "text/plain": [
       "[1, 3, 5, 7, 9, 11, 13, 15, 17, 19, 21, 23]"
      ]
     },
     "execution_count": 12,
     "metadata": {},
     "output_type": "execute_result"
    }
   ],
   "source": [
    "odd_numb_list(1,25)"
   ]
  },
  {
   "cell_type": "code",
   "execution_count": null,
   "id": "58a3df82-acf1-4302-9d6b-4f64ab3566f6",
   "metadata": {},
   "outputs": [],
   "source": []
  },
  {
   "cell_type": "markdown",
   "id": "4cf367e9-7f40-4dbd-962a-2cc5e43ad4f9",
   "metadata": {},
   "source": [
    "##### Q2. Why *args and **kwargs is used in some functions? Create a function each for *args and **kwargs to demonstrate their use."
   ]
  },
  {
   "cell_type": "markdown",
   "id": "7a33ccbd-6e97-4a30-a790-49b88311560f",
   "metadata": {},
   "source": [
    "Answer : *args and **kwargs are used as an arguments of a function when i am not sure about the number of arguments to pass in the functions."
   ]
  },
  {
   "cell_type": "code",
   "execution_count": 13,
   "id": "c29bf448-21a9-420b-aa1c-f5f98ea4b12d",
   "metadata": {},
   "outputs": [],
   "source": [
    "## Example *args\n",
    "## Function to perform addition of n numbers, where n is the input given by the user."
   ]
  },
  {
   "cell_type": "code",
   "execution_count": 14,
   "id": "26caa109-f931-42f8-bddc-9378c8701c2a",
   "metadata": {},
   "outputs": [],
   "source": [
    "def add_func(*args):\n",
    "    sum=0\n",
    "    for i in args:\n",
    "        sum=sum+i\n",
    "    return sum"
   ]
  },
  {
   "cell_type": "code",
   "execution_count": 15,
   "id": "14de019e-327a-4363-afff-5422128d54be",
   "metadata": {},
   "outputs": [
    {
     "data": {
      "text/plain": [
       "30"
      ]
     },
     "execution_count": 15,
     "metadata": {},
     "output_type": "execute_result"
    }
   ],
   "source": [
    "add_func(10,20) ## I gave 2 number/arguments for my function to perform addition"
   ]
  },
  {
   "cell_type": "code",
   "execution_count": 16,
   "id": "5a73c8b7-bf79-47b7-90fa-8ac3ac9422c1",
   "metadata": {},
   "outputs": [
    {
     "data": {
      "text/plain": [
       "60"
      ]
     },
     "execution_count": 16,
     "metadata": {},
     "output_type": "execute_result"
    }
   ],
   "source": [
    "add_func(10,20,30) ## I gave 3 number/arguments for my function to perform addition"
   ]
  },
  {
   "cell_type": "code",
   "execution_count": 17,
   "id": "d5a47777-cc8d-472b-b6bd-c518498d7b4e",
   "metadata": {},
   "outputs": [
    {
     "data": {
      "text/plain": [
       "550"
      ]
     },
     "execution_count": 17,
     "metadata": {},
     "output_type": "execute_result"
    }
   ],
   "source": [
    "add_func(10,20,30,40,50,60,70,80,90,100) ## I gave 10 number/arguments for my function to perform addition"
   ]
  },
  {
   "cell_type": "code",
   "execution_count": 19,
   "id": "769b93f0-ee69-4fb1-9871-c8b0a038fa57",
   "metadata": {},
   "outputs": [
    {
     "data": {
      "text/plain": [
       "10"
      ]
     },
     "execution_count": 19,
     "metadata": {},
     "output_type": "execute_result"
    }
   ],
   "source": [
    "add_func(10) ## I just gave 1 number/argument for my function to perform addition"
   ]
  },
  {
   "cell_type": "code",
   "execution_count": 20,
   "id": "7aa41154-a4b5-4715-847a-def599c85c90",
   "metadata": {},
   "outputs": [],
   "source": [
    "## Example **kwargs\n",
    "## it allows us to pass the variable length of keyword arguments to the function.\n",
    "## The arguments are passed as a dictionary \n",
    "## Function to perform addition of n numbers, where n is the input given by the user."
   ]
  },
  {
   "cell_type": "code",
   "execution_count": 21,
   "id": "a491fac9-eaa3-430b-9edd-0936d779460f",
   "metadata": {},
   "outputs": [],
   "source": [
    "## Function to perform Addition of n numbers, where n is the input given by the user."
   ]
  },
  {
   "cell_type": "code",
   "execution_count": 22,
   "id": "ee30eec0-20cf-4242-928a-b0e8c8ba06df",
   "metadata": {},
   "outputs": [],
   "source": [
    "def add_func(**kargs):\n",
    "    result=0\n",
    "    for i in kargs.values(): ## Since the data is stored in the form of dictionary, we need to check the values of the dict using .values()\n",
    "        result=result+i\n",
    "    return result"
   ]
  },
  {
   "cell_type": "code",
   "execution_count": 23,
   "id": "e65c156e-a124-432c-8407-00b876e6deb2",
   "metadata": {},
   "outputs": [
    {
     "data": {
      "text/plain": [
       "60"
      ]
     },
     "execution_count": 23,
     "metadata": {},
     "output_type": "execute_result"
    }
   ],
   "source": [
    "add_func(a=10,b=20,c=30)"
   ]
  },
  {
   "cell_type": "code",
   "execution_count": 24,
   "id": "3e7f4481-896e-43eb-9a34-394c55eb6d13",
   "metadata": {},
   "outputs": [
    {
     "data": {
      "text/plain": [
       "1160"
      ]
     },
     "execution_count": 24,
     "metadata": {},
     "output_type": "execute_result"
    }
   ],
   "source": [
    "add_func(a=10,b=20,c=30,d=100,f=1,g=999)"
   ]
  },
  {
   "cell_type": "code",
   "execution_count": 25,
   "id": "d23de717-565b-4593-b03b-8669ee092fa5",
   "metadata": {},
   "outputs": [
    {
     "data": {
      "text/plain": [
       "1"
      ]
     },
     "execution_count": 25,
     "metadata": {},
     "output_type": "execute_result"
    }
   ],
   "source": [
    "add_func(a=1)"
   ]
  },
  {
   "cell_type": "markdown",
   "id": "79959245-555c-44e6-b1c0-e05964598aea",
   "metadata": {},
   "source": [
    "#### Q3. What is an iterator in python? Name the method used to initialise the iterator object and the method  used for iteration. Use these methods to print the first five elements of the given list [2, 4, 6, 8, 10, 12, 14,16, 18, 20]."
   ]
  },
  {
   "cell_type": "markdown",
   "id": "1bcdc827-b040-4477-9780-7104aa056912",
   "metadata": {},
   "source": [
    "Answer : An iterator is an object that allows you to iterate over collections of data, such as lists, tuples, dictionaries, and sets.\n",
    "\n",
    "iter() --> is the method used to initialise the the iterator object.    \n",
    "\n",
    "next() --> is the method used for iteration."
   ]
  },
  {
   "cell_type": "code",
   "execution_count": 26,
   "id": "51132255-ef1a-4c2b-a937-4fae83ce4bc1",
   "metadata": {},
   "outputs": [],
   "source": [
    "l1=[2, 4, 6, 8, 10, 12, 14,16, 18, 20]\n",
    "\n",
    "l1_iter = iter(l1)"
   ]
  },
  {
   "cell_type": "code",
   "execution_count": 27,
   "id": "119f83d5-7829-4549-a948-1f68e8f3516e",
   "metadata": {},
   "outputs": [
    {
     "name": "stdout",
     "output_type": "stream",
     "text": [
      "2 4 6 8 10 "
     ]
    }
   ],
   "source": [
    "for i in range(5):\n",
    "    n=next(l1_iter)\n",
    "    print(n,end=\" \")    "
   ]
  },
  {
   "cell_type": "code",
   "execution_count": null,
   "id": "58b36463-a260-4b76-bbfe-e595d40a5713",
   "metadata": {},
   "outputs": [],
   "source": []
  },
  {
   "cell_type": "markdown",
   "id": "792cb4d5-68fb-4f01-8869-14e5baf5949e",
   "metadata": {},
   "source": [
    "##### Q4. What is a generator function in python? Why yield keyword is used? Give an example of a generator function."
   ]
  },
  {
   "cell_type": "markdown",
   "id": "20b8defd-d232-4067-a29f-4965ee6b70be",
   "metadata": {},
   "source": [
    "Answer : \n",
    "    Returns an iterator that produces a sequence of values when iterated over. \n",
    "    Generators are useful when we want to produce a large sequence of values, \n",
    "    but we dont want to store all of them in memory at once.\n",
    "    but whenever Generator needs to generate a value, it does so with the yield keyword."
   ]
  },
  {
   "cell_type": "code",
   "execution_count": 28,
   "id": "1eb5b8cd-ad1e-4d04-9f52-11e715bbf69d",
   "metadata": {},
   "outputs": [],
   "source": [
    "# Example of Generator Function --- \n",
    "## fibanacci numbers\n",
    "\n",
    "def test_fib():\n",
    "    a,b=0,1\n",
    "    while True:\n",
    "        yield a\n",
    "        a,b = b, a+b\n",
    "        "
   ]
  },
  {
   "cell_type": "code",
   "execution_count": 29,
   "id": "cae9aad4-2167-47c4-8ccc-3164ef272ee3",
   "metadata": {},
   "outputs": [
    {
     "data": {
      "text/plain": [
       "generator"
      ]
     },
     "execution_count": 29,
     "metadata": {},
     "output_type": "execute_result"
    }
   ],
   "source": [
    "fib = test_fib()\n",
    "type(fib) ## its of type generator"
   ]
  },
  {
   "cell_type": "code",
   "execution_count": 30,
   "id": "ab29c541-7265-4d07-9337-ce0283202d11",
   "metadata": {},
   "outputs": [
    {
     "name": "stdout",
     "output_type": "stream",
     "text": [
      "0\n",
      "1\n",
      "1\n",
      "2\n",
      "3\n"
     ]
    }
   ],
   "source": [
    "for i  in range(5):\n",
    "    print(next(fib))\n",
    "    \n",
    "## when running once it gave me fibonacci series of 5 numbers --> "
   ]
  },
  {
   "cell_type": "code",
   "execution_count": 31,
   "id": "a2650b08-82c0-406a-8a9d-240c86a7ce0c",
   "metadata": {},
   "outputs": [
    {
     "name": "stdout",
     "output_type": "stream",
     "text": [
      "5\n",
      "8\n",
      "13\n",
      "21\n",
      "34\n"
     ]
    }
   ],
   "source": [
    "for i  in range(5):\n",
    "    print(next(fib)) ## if we run, again, it will give us the next set of 5 fibonacci series"
   ]
  },
  {
   "cell_type": "code",
   "execution_count": 32,
   "id": "effdd024-9251-4eed-b63c-d4dd343b74a3",
   "metadata": {},
   "outputs": [
    {
     "name": "stdout",
     "output_type": "stream",
     "text": [
      "55\n",
      "89\n",
      "144\n",
      "233\n",
      "377\n",
      "610\n",
      "987\n",
      "1597\n",
      "2584\n",
      "4181\n"
     ]
    }
   ],
   "source": [
    "for i  in range(10):\n",
    "    print(next(fib)) ## if we run, again, it will give us the next set of 10 fibonacci series"
   ]
  },
  {
   "cell_type": "code",
   "execution_count": null,
   "id": "8cb39706-4fd1-440c-a843-3edfbd1c9e80",
   "metadata": {},
   "outputs": [],
   "source": []
  },
  {
   "cell_type": "markdown",
   "id": "2382bd45-4908-4d81-973a-968dc5612aa5",
   "metadata": {},
   "source": [
    "#### Q5. Create a generator function for prime numbers less than 1000. Use the next() method to print the first 20 prime numbers."
   ]
  },
  {
   "cell_type": "code",
   "execution_count": 34,
   "id": "26aae4d3-c6bd-475c-8d96-3e1f48764123",
   "metadata": {},
   "outputs": [],
   "source": [
    "def prime_numbs():\n",
    "    for i in range (1,1001):  \n",
    "        if i > 1:  \n",
    "            for j in range (2, i):  \n",
    "                if (i % j) == 0:  \n",
    "                    break  \n",
    "            else:\n",
    "                yield i"
   ]
  },
  {
   "cell_type": "code",
   "execution_count": 35,
   "id": "3a82537d-6664-46bc-9af9-b230c7e1d054",
   "metadata": {},
   "outputs": [],
   "source": [
    "prime_no = prime_numbs()"
   ]
  },
  {
   "cell_type": "code",
   "execution_count": 36,
   "id": "845f73a9-3ba4-4e58-8792-caf2c447680d",
   "metadata": {},
   "outputs": [
    {
     "name": "stdout",
     "output_type": "stream",
     "text": [
      "2  3  5  7  11  13  17  19  23  29  31  37  41  43  47  53  59  61  67  71  "
     ]
    }
   ],
   "source": [
    "for i  in range(20):\n",
    "    print(next(prime_no),end=\"  \")"
   ]
  },
  {
   "cell_type": "code",
   "execution_count": null,
   "id": "81af8b92-25a1-4659-8be2-4bb57459d9ba",
   "metadata": {},
   "outputs": [],
   "source": []
  },
  {
   "cell_type": "markdown",
   "id": "6b92497f-2a16-4b19-bf59-6acd3fe60a9a",
   "metadata": {},
   "source": [
    "##### Q6. Write a python program to print the first 10 Fibonacci numbers using a while loop."
   ]
  },
  {
   "cell_type": "code",
   "execution_count": 37,
   "id": "7bcbd97a-1b09-446a-98a6-ac99f11fa5dc",
   "metadata": {},
   "outputs": [],
   "source": [
    "def test_fib():\n",
    "    a,b=0,1\n",
    "    while True:\n",
    "        yield a\n",
    "        a,b = b, a+b\n",
    "        "
   ]
  },
  {
   "cell_type": "code",
   "execution_count": 38,
   "id": "53f542fb-b166-47c6-9295-a133897f73d6",
   "metadata": {},
   "outputs": [
    {
     "name": "stdout",
     "output_type": "stream",
     "text": [
      "0  1  1  2  3  5  8  13  21  34  "
     ]
    }
   ],
   "source": [
    "fib = test_fib()\n",
    "for i  in range(10):\n",
    "    print(next(fib),end=\"  \")\n",
    "    "
   ]
  },
  {
   "cell_type": "code",
   "execution_count": null,
   "id": "42fa46b4-3f0f-4710-bf78-1ee06e7d0766",
   "metadata": {},
   "outputs": [],
   "source": []
  },
  {
   "cell_type": "markdown",
   "id": "5de41b6c-8636-4a11-aae3-a60c0238bd0f",
   "metadata": {},
   "source": [
    "#### Q7. Write a List Comprehension to iterate through the given string: ‘pwskills’. Expected output: ['p', 'w', 's', 'k', 'i', 'l', 'l', 's']"
   ]
  },
  {
   "cell_type": "code",
   "execution_count": 39,
   "id": "30d04bd0-e720-43c5-b283-73181069d399",
   "metadata": {},
   "outputs": [],
   "source": [
    "string_1 = 'pwskills'"
   ]
  },
  {
   "cell_type": "code",
   "execution_count": 40,
   "id": "1724cdaf-7f54-4974-92c2-90a8165f5c3a",
   "metadata": {},
   "outputs": [
    {
     "data": {
      "text/plain": [
       "['p', 'w', 's', 'k', 'i', 'l', 'l', 's']"
      ]
     },
     "execution_count": 40,
     "metadata": {},
     "output_type": "execute_result"
    }
   ],
   "source": [
    "list(map(lambda x: x ,string_1))"
   ]
  },
  {
   "cell_type": "code",
   "execution_count": null,
   "id": "4adb811e-8435-4aa4-a079-0eebac7a55b9",
   "metadata": {},
   "outputs": [],
   "source": []
  },
  {
   "cell_type": "markdown",
   "id": "1bb640b9-d317-4f5f-9d62-c356c6ab8c28",
   "metadata": {},
   "source": [
    "#### Q8. Write a python program to check whether a given number is Palindrome or not using a while loop."
   ]
  },
  {
   "cell_type": "code",
   "execution_count": 41,
   "id": "e1229e4a-b4cc-4472-ac1c-15d739013984",
   "metadata": {},
   "outputs": [
    {
     "name": "stdin",
     "output_type": "stream",
     "text": [
      "Enter the Number 1001\n"
     ]
    },
    {
     "name": "stdout",
     "output_type": "stream",
     "text": [
      "Its a palindrome\n"
     ]
    }
   ],
   "source": [
    "## code to check a number palindrome or not\n",
    "numb = int(input(\"Enter the Number\"))\n",
    "numb_2 = str(numb)[::-1]\n",
    "while True:\n",
    "    if int(numb_2) == numb:\n",
    "        print(\"Its a palindrome\")\n",
    "        break\n",
    "    else:\n",
    "        print(\"Its not a palindrome\")\n",
    "        break"
   ]
  },
  {
   "cell_type": "code",
   "execution_count": 42,
   "id": "91d95e3e-fd4a-4cb9-b1a6-89934f4bcbc9",
   "metadata": {},
   "outputs": [],
   "source": [
    "### Function to check a number palindrome or not\n",
    "def palindrome_y_or_n(numb):\n",
    "    \"\"\" Function to check if a Given Number is Palindrome or not\"\"\"\n",
    "    numb_2 = str(numb)[::-1]\n",
    "    if int(numb_2) == numb:\n",
    "        print(\"Its a palindrome\")\n",
    "    else:\n",
    "        print(\"Its not a palindrome\")"
   ]
  },
  {
   "cell_type": "code",
   "execution_count": 43,
   "id": "8583bf5b-245e-45ea-9e16-f4600f4b0cd8",
   "metadata": {},
   "outputs": [
    {
     "name": "stdout",
     "output_type": "stream",
     "text": [
      "Its a palindrome\n"
     ]
    }
   ],
   "source": [
    "palindrome_y_or_n(16461)"
   ]
  },
  {
   "cell_type": "code",
   "execution_count": 44,
   "id": "667efd8e-b699-4b22-b202-5c69c935d07e",
   "metadata": {},
   "outputs": [
    {
     "name": "stdout",
     "output_type": "stream",
     "text": [
      "Its not a palindrome\n"
     ]
    }
   ],
   "source": [
    "palindrome_y_or_n(509)"
   ]
  },
  {
   "cell_type": "code",
   "execution_count": null,
   "id": "4d5ad4d2-f7d1-412e-88f7-46117ec4aba0",
   "metadata": {},
   "outputs": [],
   "source": []
  },
  {
   "cell_type": "markdown",
   "id": "016fbcb1-5f40-44df-bed7-40dda27a26ce",
   "metadata": {},
   "source": [
    "##### Q9. Write a code to print odd numbers from 1 to 100 using list comprehension.\n",
    "Note: Use a list comprehension to create a list from 1 to 100 and use another List comprehension to filter\n",
    "out odd numbers."
   ]
  },
  {
   "cell_type": "code",
   "execution_count": 45,
   "id": "b8ce1495-f119-49ce-ba35-33c7d6e7ab22",
   "metadata": {},
   "outputs": [],
   "source": [
    "l1 =  [i for i in range(1,101)]  ## created a list l1 with 1 to 100 numbers in the list"
   ]
  },
  {
   "cell_type": "code",
   "execution_count": 46,
   "id": "dfad8aec-c226-4700-927c-4cb770ae7b99",
   "metadata": {},
   "outputs": [
    {
     "name": "stdout",
     "output_type": "stream",
     "text": [
      "[1, 3, 5, 7, 9, 11, 13, 15, 17, 19, 21, 23, 25, 27, 29, 31, 33, 35, 37, 39, 41, 43, 45, 47, 49, 51, 53, 55, 57, 59, 61, 63, 65, 67, 69, 71, 73, 75, 77, 79, 81, 83, 85, 87, 89, 91, 93, 95, 97, 99]\n"
     ]
    }
   ],
   "source": [
    "l3 = list(filter(lambda x : x%2!=0,l1))  ## extracting only odd numbers into list l3.\n",
    "print(l3)"
   ]
  },
  {
   "cell_type": "code",
   "execution_count": null,
   "id": "12f8db99-7b04-4556-9835-47aa4550a1e9",
   "metadata": {},
   "outputs": [],
   "source": []
  }
 ],
 "metadata": {
  "kernelspec": {
   "display_name": "Python 3 (ipykernel)",
   "language": "python",
   "name": "python3"
  },
  "language_info": {
   "codemirror_mode": {
    "name": "ipython",
    "version": 3
   },
   "file_extension": ".py",
   "mimetype": "text/x-python",
   "name": "python",
   "nbconvert_exporter": "python",
   "pygments_lexer": "ipython3",
   "version": "3.10.8"
  }
 },
 "nbformat": 4,
 "nbformat_minor": 5
}
