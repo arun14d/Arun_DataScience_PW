{
 "cells": [
  {
   "cell_type": "markdown",
   "id": "92464101-7184-44a7-8865-d0d198a62808",
   "metadata": {},
   "source": [
    "#### Assignment 1"
   ]
  },
  {
   "cell_type": "markdown",
   "id": "6570139d-a254-4769-a947-28376abc6517",
   "metadata": {},
   "source": [
    "##### Q1. What is Exception in Python? Write the Difference between Exceptions and Syntax errors?\n"
   ]
  },
  {
   "cell_type": "markdown",
   "id": "bcda68c1-e95c-40fa-8bfe-6fe1e647a8c5",
   "metadata": {},
   "source": [
    "#### Exception:-\n",
    "\n",
    "1. An exception is an event, which occurs during the execution of a program that disrupts the normal flow of the program's instructions. \n",
    "3. In general, when a Python script encounters a situation that it cannot cope with, it raises an exception. \n",
    "4. An exception is a Python object that represents an error.\n",
    "5. When a Python script raises an exception, it must either handle the exception immediately otherwise it terminates and quits.\n"
   ]
  },
  {
   "cell_type": "markdown",
   "id": "094d02f7-34dd-416b-83cc-405ec877f834",
   "metadata": {
    "jp-MarkdownHeadingCollapsed": true,
    "tags": []
   },
   "source": [
    "#### Syntax Errors:-\n",
    "\n",
    "1. Syntax errors, also known as parsing errors. \n",
    "2. When the proper syntax of the Python is not followed then a syntax error is thrown.\n",
    "3. For example, when we write a wrong syntax for print -->  print(\"my name is Arun) --> this throws an syntax error as i have missed a double qoute."
   ]
  },
  {
   "cell_type": "markdown",
   "id": "fc412072-82ac-4eb1-93f4-0b0013316e2e",
   "metadata": {},
   "source": [
    "#### Exception :-\n",
    "\n",
    "1. When in the runtime an error that occurs after passing the syntax test is called exception or logical type. \n",
    "2. An exception is an event, which occurs during the execution of a program that disrupts the normal flow of the program's instructions. \n",
    "3. In general, when a Python script encounters a situation that it cannot cope with, it raises an exception. \n",
    "4. An exception is a Python object that represents an error.\n",
    "5. When a Python script raises an exception, it must either handle the exception immediately otherwise it terminates and quits.\n",
    "6. For example, when we divide any number by zero then the ZeroDivisionError exception is raised, or when we import a module that does not exist then ImportError is raised.\n"
   ]
  },
  {
   "cell_type": "code",
   "execution_count": 1,
   "id": "25542d44-6da3-4b1a-bfeb-98d3893438e7",
   "metadata": {},
   "outputs": [
    {
     "ename": "SyntaxError",
     "evalue": "unterminated string literal (detected at line 3) (2251717412.py, line 3)",
     "output_type": "error",
     "traceback": [
      "\u001b[0;36m  Cell \u001b[0;32mIn[1], line 3\u001b[0;36m\u001b[0m\n\u001b[0;31m    print(\"My Name is Arun)\u001b[0m\n\u001b[0m          ^\u001b[0m\n\u001b[0;31mSyntaxError\u001b[0m\u001b[0;31m:\u001b[0m unterminated string literal (detected at line 3)\n"
     ]
    }
   ],
   "source": [
    "# Example:1  of syntax error:-\n",
    "\n",
    "print(\"My Name is Arun)"
   ]
  },
  {
   "cell_type": "code",
   "execution_count": 2,
   "id": "86ed3c9a-f12f-4ca9-930f-e738359bb772",
   "metadata": {},
   "outputs": [
    {
     "ename": "SyntaxError",
     "evalue": "expected ':' (1575076224.py, line 2)",
     "output_type": "error",
     "traceback": [
      "\u001b[0;36m  Cell \u001b[0;32mIn[2], line 2\u001b[0;36m\u001b[0m\n\u001b[0;31m    def test_function_1()\u001b[0m\n\u001b[0m                         ^\u001b[0m\n\u001b[0;31mSyntaxError\u001b[0m\u001b[0;31m:\u001b[0m expected ':'\n"
     ]
    }
   ],
   "source": [
    "# Example:2  of syntax error:-\n",
    "def test_function_1()\n",
    "    print(\"This is my first function\")"
   ]
  },
  {
   "cell_type": "code",
   "execution_count": null,
   "id": "6655f676-8d40-449f-83cf-50a6888aa5fd",
   "metadata": {},
   "outputs": [],
   "source": []
  },
  {
   "cell_type": "code",
   "execution_count": 3,
   "id": "fe4dcdf5-ce28-46bc-abed-9139ad81f7d9",
   "metadata": {},
   "outputs": [
    {
     "ename": "ZeroDivisionError",
     "evalue": "division by zero",
     "output_type": "error",
     "traceback": [
      "\u001b[0;31m---------------------------------------------------------------------------\u001b[0m",
      "\u001b[0;31mZeroDivisionError\u001b[0m                         Traceback (most recent call last)",
      "Cell \u001b[0;32mIn[3], line 4\u001b[0m\n\u001b[1;32m      1\u001b[0m \u001b[38;5;66;03m## Example 1 - Exception --> ZeroDivisionError\u001b[39;00m\n\u001b[1;32m      3\u001b[0m a \u001b[38;5;241m=\u001b[39m \u001b[38;5;241m10\u001b[39m\n\u001b[0;32m----> 4\u001b[0m \u001b[38;5;28mprint\u001b[39m(b \u001b[38;5;241m=\u001b[39m \u001b[43ma\u001b[49m\u001b[38;5;241;43m/\u001b[39;49m\u001b[38;5;241;43m0\u001b[39;49m)\n",
      "\u001b[0;31mZeroDivisionError\u001b[0m: division by zero"
     ]
    }
   ],
   "source": [
    "## Example 1 - Exception --> ZeroDivisionError\n",
    "\n",
    "a = 10\n",
    "print(b = a/0)"
   ]
  },
  {
   "cell_type": "code",
   "execution_count": 4,
   "id": "62c26a79-0288-4e26-b15d-4540224160a5",
   "metadata": {},
   "outputs": [
    {
     "ename": "ModuleNotFoundError",
     "evalue": "No module named 'Arun_Virat'",
     "output_type": "error",
     "traceback": [
      "\u001b[0;31m---------------------------------------------------------------------------\u001b[0m",
      "\u001b[0;31mModuleNotFoundError\u001b[0m                       Traceback (most recent call last)",
      "Cell \u001b[0;32mIn[4], line 3\u001b[0m\n\u001b[1;32m      1\u001b[0m \u001b[38;5;66;03m## Example 2 - Exception --> ModuleNotFoundError\u001b[39;00m\n\u001b[0;32m----> 3\u001b[0m \u001b[38;5;28;01mimport\u001b[39;00m \u001b[38;5;21;01mArun_Virat\u001b[39;00m\n",
      "\u001b[0;31mModuleNotFoundError\u001b[0m: No module named 'Arun_Virat'"
     ]
    }
   ],
   "source": [
    "## Example 2 - Exception --> ModuleNotFoundError\n",
    "\n",
    "import Arun_Virat"
   ]
  },
  {
   "cell_type": "code",
   "execution_count": 5,
   "id": "d4cfb915-9840-4d5b-8a70-dd524ee612f4",
   "metadata": {},
   "outputs": [
    {
     "ename": "FileNotFoundError",
     "evalue": "[Errno 2] No such file or directory: 'Test_doc1.txt'",
     "output_type": "error",
     "traceback": [
      "\u001b[0;31m---------------------------------------------------------------------------\u001b[0m",
      "\u001b[0;31mFileNotFoundError\u001b[0m                         Traceback (most recent call last)",
      "Cell \u001b[0;32mIn[5], line 3\u001b[0m\n\u001b[1;32m      1\u001b[0m \u001b[38;5;66;03m## Example 3 - Exception -->FileNotFoundError\u001b[39;00m\n\u001b[0;32m----> 3\u001b[0m f \u001b[38;5;241m=\u001b[39m \u001b[38;5;28;43mopen\u001b[39;49m\u001b[43m(\u001b[49m\u001b[38;5;124;43m'\u001b[39;49m\u001b[38;5;124;43mTest_doc1.txt\u001b[39;49m\u001b[38;5;124;43m'\u001b[39;49m\u001b[43m,\u001b[49m\u001b[38;5;124;43m'\u001b[39;49m\u001b[38;5;124;43mr\u001b[39;49m\u001b[38;5;124;43m'\u001b[39;49m\u001b[43m)\u001b[49m\n",
      "File \u001b[0;32m/opt/conda/lib/python3.10/site-packages/IPython/core/interactiveshell.py:282\u001b[0m, in \u001b[0;36m_modified_open\u001b[0;34m(file, *args, **kwargs)\u001b[0m\n\u001b[1;32m    275\u001b[0m \u001b[38;5;28;01mif\u001b[39;00m file \u001b[38;5;129;01min\u001b[39;00m {\u001b[38;5;241m0\u001b[39m, \u001b[38;5;241m1\u001b[39m, \u001b[38;5;241m2\u001b[39m}:\n\u001b[1;32m    276\u001b[0m     \u001b[38;5;28;01mraise\u001b[39;00m \u001b[38;5;167;01mValueError\u001b[39;00m(\n\u001b[1;32m    277\u001b[0m         \u001b[38;5;124mf\u001b[39m\u001b[38;5;124m\"\u001b[39m\u001b[38;5;124mIPython won\u001b[39m\u001b[38;5;124m'\u001b[39m\u001b[38;5;124mt let you open fd=\u001b[39m\u001b[38;5;132;01m{\u001b[39;00mfile\u001b[38;5;132;01m}\u001b[39;00m\u001b[38;5;124m by default \u001b[39m\u001b[38;5;124m\"\u001b[39m\n\u001b[1;32m    278\u001b[0m         \u001b[38;5;124m\"\u001b[39m\u001b[38;5;124mas it is likely to crash IPython. If you know what you are doing, \u001b[39m\u001b[38;5;124m\"\u001b[39m\n\u001b[1;32m    279\u001b[0m         \u001b[38;5;124m\"\u001b[39m\u001b[38;5;124myou can use builtins\u001b[39m\u001b[38;5;124m'\u001b[39m\u001b[38;5;124m open.\u001b[39m\u001b[38;5;124m\"\u001b[39m\n\u001b[1;32m    280\u001b[0m     )\n\u001b[0;32m--> 282\u001b[0m \u001b[38;5;28;01mreturn\u001b[39;00m \u001b[43mio_open\u001b[49m\u001b[43m(\u001b[49m\u001b[43mfile\u001b[49m\u001b[43m,\u001b[49m\u001b[43m \u001b[49m\u001b[38;5;241;43m*\u001b[39;49m\u001b[43margs\u001b[49m\u001b[43m,\u001b[49m\u001b[43m \u001b[49m\u001b[38;5;241;43m*\u001b[39;49m\u001b[38;5;241;43m*\u001b[39;49m\u001b[43mkwargs\u001b[49m\u001b[43m)\u001b[49m\n",
      "\u001b[0;31mFileNotFoundError\u001b[0m: [Errno 2] No such file or directory: 'Test_doc1.txt'"
     ]
    }
   ],
   "source": [
    "## Example 3 - Exception -->FileNotFoundError\n",
    "\n",
    "f = open('Test_doc1.txt','r')"
   ]
  },
  {
   "cell_type": "code",
   "execution_count": null,
   "id": "64de0b37-c2be-42f7-bcbe-698eeb4c68e1",
   "metadata": {},
   "outputs": [],
   "source": []
  },
  {
   "cell_type": "markdown",
   "id": "3267e668-a718-4d75-83cb-cd5a819ead5f",
   "metadata": {},
   "source": [
    "#### Q2. What happens when an exception is not handled? Explain with an example?\n"
   ]
  },
  {
   "cell_type": "markdown",
   "id": "a63c184b-d48b-4c44-8486-2934eebd110f",
   "metadata": {},
   "source": [
    "If the Exception is not handled, when an error occurs then that wil lead the program to terminate. \n",
    "\n",
    "\n",
    "Errors interrupt the flow of the program at the point where they appear, so any further code post the exception stops executing. \n"
   ]
  },
  {
   "cell_type": "code",
   "execution_count": 6,
   "id": "d808d02e-a4c1-49a8-8801-6c66572106f6",
   "metadata": {},
   "outputs": [],
   "source": [
    "## Example 1 \n",
    "##Lets try to read the contents of the file using a method/fucntion.\n",
    "## we give file name as input\n",
    "\n",
    "def file_read_func(file_name):\n",
    "    f = open(file_name,'r')\n",
    "    file_contents = f.read()\n",
    "    for i in file_contents:\n",
    "        print(i)\n",
    "    \n",
    "    a=10\n",
    "    b=20\n",
    "    c=a+b\n",
    "    print(\"\\nThe addition of {a} and {b} is {c}: \\n\".format(a=a,b=b,c=c))\n",
    "    \n",
    "    print(\"My Function completed successfully\")"
   ]
  },
  {
   "cell_type": "code",
   "execution_count": 7,
   "id": "746250c2-8c59-4465-b725-ed1ceb77709c",
   "metadata": {},
   "outputs": [
    {
     "name": "stdout",
     "output_type": "stream",
     "text": [
      "H\n",
      "e\n",
      "l\n",
      "l\n",
      "o\n",
      " \n",
      "W\n",
      "o\n",
      "r\n",
      "l\n",
      "d\n",
      "\n",
      "The addition of 10 and 20 is 30: \n",
      "\n",
      "My Function completed successfully\n"
     ]
    }
   ],
   "source": [
    "file_read_func(\"sample1.txt\") ## we had the file sample1.txt, hence no error.\n",
    "                              ## Since there was no error, all the code insode the fucntion got completed successfully."
   ]
  },
  {
   "cell_type": "code",
   "execution_count": 8,
   "id": "604aef45-c03e-4feb-b405-19f99d53b68a",
   "metadata": {},
   "outputs": [
    {
     "ename": "FileNotFoundError",
     "evalue": "[Errno 2] No such file or directory: 'sample11.txt'",
     "output_type": "error",
     "traceback": [
      "\u001b[0;31m---------------------------------------------------------------------------\u001b[0m",
      "\u001b[0;31mFileNotFoundError\u001b[0m                         Traceback (most recent call last)",
      "Cell \u001b[0;32mIn[8], line 1\u001b[0m\n\u001b[0;32m----> 1\u001b[0m \u001b[43mfile_read_func\u001b[49m\u001b[43m(\u001b[49m\u001b[38;5;124;43m\"\u001b[39;49m\u001b[38;5;124;43msample11.txt\u001b[39;49m\u001b[38;5;124;43m\"\u001b[39;49m\u001b[43m)\u001b[49m \u001b[38;5;66;03m## Now if we look for a file that is not existing.\u001b[39;00m\n\u001b[1;32m      3\u001b[0m \u001b[38;5;66;03m## it throwed me an exception - FileNotFoundError                         \u001b[39;00m\n\u001b[1;32m      4\u001b[0m \u001b[38;5;66;03m## Beacuse of this exception, any code after the exception is not executed.\u001b[39;00m\n\u001b[1;32m      5\u001b[0m \u001b[38;5;66;03m## Thats the draw back of not handling exception\u001b[39;00m\n",
      "Cell \u001b[0;32mIn[6], line 6\u001b[0m, in \u001b[0;36mfile_read_func\u001b[0;34m(file_name)\u001b[0m\n\u001b[1;32m      5\u001b[0m \u001b[38;5;28;01mdef\u001b[39;00m \u001b[38;5;21mfile_read_func\u001b[39m(file_name):\n\u001b[0;32m----> 6\u001b[0m     f \u001b[38;5;241m=\u001b[39m \u001b[38;5;28;43mopen\u001b[39;49m\u001b[43m(\u001b[49m\u001b[43mfile_name\u001b[49m\u001b[43m,\u001b[49m\u001b[38;5;124;43m'\u001b[39;49m\u001b[38;5;124;43mr\u001b[39;49m\u001b[38;5;124;43m'\u001b[39;49m\u001b[43m)\u001b[49m\n\u001b[1;32m      7\u001b[0m     file_contents \u001b[38;5;241m=\u001b[39m f\u001b[38;5;241m.\u001b[39mread()\n\u001b[1;32m      8\u001b[0m     \u001b[38;5;28;01mfor\u001b[39;00m i \u001b[38;5;129;01min\u001b[39;00m file_contents:\n",
      "File \u001b[0;32m/opt/conda/lib/python3.10/site-packages/IPython/core/interactiveshell.py:282\u001b[0m, in \u001b[0;36m_modified_open\u001b[0;34m(file, *args, **kwargs)\u001b[0m\n\u001b[1;32m    275\u001b[0m \u001b[38;5;28;01mif\u001b[39;00m file \u001b[38;5;129;01min\u001b[39;00m {\u001b[38;5;241m0\u001b[39m, \u001b[38;5;241m1\u001b[39m, \u001b[38;5;241m2\u001b[39m}:\n\u001b[1;32m    276\u001b[0m     \u001b[38;5;28;01mraise\u001b[39;00m \u001b[38;5;167;01mValueError\u001b[39;00m(\n\u001b[1;32m    277\u001b[0m         \u001b[38;5;124mf\u001b[39m\u001b[38;5;124m\"\u001b[39m\u001b[38;5;124mIPython won\u001b[39m\u001b[38;5;124m'\u001b[39m\u001b[38;5;124mt let you open fd=\u001b[39m\u001b[38;5;132;01m{\u001b[39;00mfile\u001b[38;5;132;01m}\u001b[39;00m\u001b[38;5;124m by default \u001b[39m\u001b[38;5;124m\"\u001b[39m\n\u001b[1;32m    278\u001b[0m         \u001b[38;5;124m\"\u001b[39m\u001b[38;5;124mas it is likely to crash IPython. If you know what you are doing, \u001b[39m\u001b[38;5;124m\"\u001b[39m\n\u001b[1;32m    279\u001b[0m         \u001b[38;5;124m\"\u001b[39m\u001b[38;5;124myou can use builtins\u001b[39m\u001b[38;5;124m'\u001b[39m\u001b[38;5;124m open.\u001b[39m\u001b[38;5;124m\"\u001b[39m\n\u001b[1;32m    280\u001b[0m     )\n\u001b[0;32m--> 282\u001b[0m \u001b[38;5;28;01mreturn\u001b[39;00m \u001b[43mio_open\u001b[49m\u001b[43m(\u001b[49m\u001b[43mfile\u001b[49m\u001b[43m,\u001b[49m\u001b[43m \u001b[49m\u001b[38;5;241;43m*\u001b[39;49m\u001b[43margs\u001b[49m\u001b[43m,\u001b[49m\u001b[43m \u001b[49m\u001b[38;5;241;43m*\u001b[39;49m\u001b[38;5;241;43m*\u001b[39;49m\u001b[43mkwargs\u001b[49m\u001b[43m)\u001b[49m\n",
      "\u001b[0;31mFileNotFoundError\u001b[0m: [Errno 2] No such file or directory: 'sample11.txt'"
     ]
    }
   ],
   "source": [
    "file_read_func(\"sample11.txt\") ## Now if we look for a file that is not existing.\n",
    "\n",
    "## it throwed me an exception - FileNotFoundError                         \n",
    "## Beacuse of this exception, any code after the exception is not executed.\n",
    "## Thats the draw back of not handling exception"
   ]
  },
  {
   "cell_type": "code",
   "execution_count": null,
   "id": "5214a921-5e59-4fb0-8a46-7cfbb0c32f00",
   "metadata": {},
   "outputs": [],
   "source": []
  },
  {
   "cell_type": "markdown",
   "id": "6dc98613-ed14-40ff-99d1-ab3cc5980f6e",
   "metadata": {},
   "source": [
    "#### Q3. Which Python statements are used to catch and handle exceptions? Expalin with an example."
   ]
  },
  {
   "cell_type": "markdown",
   "id": "422e7980-909a-47c7-86a5-c753ba56e2f1",
   "metadata": {},
   "source": [
    "Try Block - Is used to catch an exception\n",
    "\n",
    "Except Block is used to handle the exception"
   ]
  },
  {
   "cell_type": "code",
   "execution_count": 9,
   "id": "56d65a41-729c-4b2a-916d-ed13fe47b317",
   "metadata": {},
   "outputs": [],
   "source": [
    "# Example"
   ]
  },
  {
   "cell_type": "code",
   "execution_count": 10,
   "id": "17a704ee-4189-40c9-9eb5-72e8c56e86d5",
   "metadata": {},
   "outputs": [],
   "source": [
    "def file_check(file_name):\n",
    "    try:    # is the reserved keyword used to catch an exception\n",
    "        print(\"------------------------------------------\")\n",
    "        print(\"Inside the TRY Block...!!!\")\n",
    "        f = open(file_name,'r')\n",
    "        file1 = f.read()\n",
    "        for i in file1:\n",
    "            print(i)\n",
    "        print(\"END of TRY Block... !!!\")\n",
    "        print(\"------------------------------------------\")\n",
    "\n",
    "    except FileNotFoundError as e:\n",
    "        print(\"Inside the EXCEPT BLOCK, as there was code issue in TRY block\")\n",
    "        print(\"The TRY block code failed due to : \",e)\n",
    "\n",
    "    except Exception as e:\n",
    "        print(\"Inside the EXCEPT BLOCK...!!!\")\n",
    "        print(\"The TRY block code failed due to : \",e)\n",
    "\n",
    "    else :\n",
    "        print(\"Inside the ELSE Block...!!!\")\n",
    "        f.close()\n",
    "        print(\"Else Block will be executed only if TRY block is completed successfully.\")\n",
    "        print(\"Completed Successfully..!!\")\n"
   ]
  },
  {
   "cell_type": "code",
   "execution_count": 11,
   "id": "86d0e33d-acc7-440f-8964-076c805a1050",
   "metadata": {},
   "outputs": [
    {
     "name": "stdout",
     "output_type": "stream",
     "text": [
      "------------------------------------------\n",
      "Inside the TRY Block...!!!\n",
      "H\n",
      "e\n",
      "l\n",
      "l\n",
      "o\n",
      " \n",
      "W\n",
      "o\n",
      "r\n",
      "l\n",
      "d\n",
      "END of TRY Block... !!!\n",
      "------------------------------------------\n",
      "Inside the ELSE Block...!!!\n",
      "Else Block will be executed only if TRY block is completed successfully.\n",
      "Completed Successfully..!!\n"
     ]
    }
   ],
   "source": [
    "file_check('sample1.txt')  \n",
    "## Since the file we are trying to accessing is available, the TRY block is completed successfully\n",
    "## Also, the exception block didnt get executed, as there were no exception encountered.\n",
    "## else block will get executed only if the TRY block is completed successfully."
   ]
  },
  {
   "cell_type": "code",
   "execution_count": 12,
   "id": "7af56e2f-db58-483a-8e5d-7a5d8865a46c",
   "metadata": {},
   "outputs": [
    {
     "name": "stdout",
     "output_type": "stream",
     "text": [
      "------------------------------------------\n",
      "Inside the TRY Block...!!!\n",
      "Inside the EXCEPT BLOCK, as there was code issue in TRY block\n",
      "The TRY block code failed due to :  [Errno 2] No such file or directory: 'test1.llog'\n"
     ]
    }
   ],
   "source": [
    "# Example 2  -- When trying to access the file that is not present\n",
    "\n",
    "file_check('test1.llog')\n",
    "\n",
    "## Since the file we are trying to accessing is not available, the TRY block encountered an exception.\n",
    "## In Exception block, since first we defined - FileNotFoundError, the super class Exception will not be called.\n",
    "## else block will not execute as there was an error encountered in  TRY block "
   ]
  },
  {
   "cell_type": "code",
   "execution_count": null,
   "id": "6ff564e7-2dd0-4918-9d71-cd59a66e9b36",
   "metadata": {},
   "outputs": [],
   "source": []
  },
  {
   "cell_type": "markdown",
   "id": "e3e2153c-b68f-4c75-b132-d438940fefee",
   "metadata": {},
   "source": [
    "#### Q4 .Explain with an example: \n",
    "\n",
    "    1. Try and else\n",
    "    2. Finally\n",
    "    3. raise"
   ]
  },
  {
   "cell_type": "code",
   "execution_count": 13,
   "id": "b678cf45-cb7e-4f5b-b3d5-0ba1c650ccfe",
   "metadata": {},
   "outputs": [
    {
     "name": "stdout",
     "output_type": "stream",
     "text": [
      "There is some issue at code :: [Errno 2] No such file or directory: 'test.txt'\n"
     ]
    }
   ],
   "source": [
    "### 1. Try and Else\n",
    "\n",
    "## Example 1 \n",
    "try :\n",
    "    f = open('test.txt','r')  ## test.txt is a file, that is not in my working directory/\n",
    "    \n",
    "except FileNotFoundError as e:\n",
    "    print(\"There is some issue at code ::\",e)\n",
    "\n",
    "else:   \n",
    "    f.close()\n",
    "    print(\"This block will be executed, only if Try block completes successfully\")\n",
    "    \n",
    "## In TRY block, we are trying to access/open the file 'test.txt' in read only mode.\n",
    "## Since the file is not present, its throwing an FileNotFoundError class exception.\n",
    "## The ELSE block will not be excuted, as there is an issue in TRY block."
   ]
  },
  {
   "cell_type": "code",
   "execution_count": 14,
   "id": "df07fffc-81f0-4ab0-9437-bda9362f1ff5",
   "metadata": {},
   "outputs": [
    {
     "name": "stdout",
     "output_type": "stream",
     "text": [
      "H\n",
      "e\n",
      "l\n",
      "l\n",
      "o\n",
      " \n",
      "W\n",
      "o\n",
      "r\n",
      "l\n",
      "d\n",
      "Else block will be executed, only if Try block completes successfully\n"
     ]
    }
   ],
   "source": [
    "## Example 2\n",
    "try :\n",
    "    f = open('sample1.txt','r')    ## sample1.txt is a file, that is already present in my working directory\n",
    "    data = f.read()\n",
    "    for i in data:\n",
    "        print(i)\n",
    "\n",
    "except FileNotFoundError as e:\n",
    "    print(\"There is some issue in the code ::\",e)\n",
    "\n",
    "else:   \n",
    "    f.close()\n",
    "    print(\"Else block will be executed, only if Try block completes successfully\")\n",
    "    \n",
    "## In TRY block, we are trying to access/read the file 'sample1.txt' in read only mode.\n",
    "## Since the file is  present, its not throwing an exception.\n",
    "## The ELSE block will  be excuted, as TRY block is executed successfully"
   ]
  },
  {
   "cell_type": "markdown",
   "id": "e1e16a00-dbad-439d-8ff5-d5bcf8d5fb2e",
   "metadata": {},
   "source": [
    "2. Finally "
   ]
  },
  {
   "cell_type": "code",
   "execution_count": 15,
   "id": "e2eb8651-35d3-463e-b68b-6764dedf5f06",
   "metadata": {},
   "outputs": [
    {
     "name": "stdout",
     "output_type": "stream",
     "text": [
      "Try block has some code issues\n",
      "Since there is an error in Try Block, hence executing Except block\n",
      "Error :  not writable\n",
      "\n",
      "Welcome to the Finally Block\n",
      "Codes that needs to be executed at any cost, we need to place it here.\n",
      "Even if Try block fails, finally block will always execute\n"
     ]
    }
   ],
   "source": [
    "## EXample with Finally\n",
    "\n",
    "try :\n",
    "    f = open('test1.txt','r')\n",
    "    f.write(\"This is my messgae\")\n",
    "    \n",
    "except Exception as e:\n",
    "    print(\"Try block has some code issues\")\n",
    "    print(\"Since there is an error in Try Block, hence executing Except block\")\n",
    "    print(\"Error : \",e)\n",
    "\n",
    "else:   \n",
    "    f.close()\n",
    "    print(\"Try block completed successfully\")\n",
    "    print(\"This block will execute itself, only if try block will run without any issues\")\n",
    "    \n",
    "finally:\n",
    "    print(\"\\nWelcome to the Finally Block\")\n",
    "    print(\"Codes that needs to be executed at any cost, we need to place it here.\")\n",
    "    print(\"Even if Try block fails, finally block will always execute\")\n",
    "    \n",
    "## We can see that the mode of file is 'r', but we are trying to write the data into the file - test1.txt\n",
    "## we have enconcountered an exception saying \" not writable\"\n",
    "## That means that file is only a read only mode, we cant write ant data into it. \n",
    "\n",
    "## So here the else block is not executed, as the TRY blocked encountered an excption\n",
    "\n",
    "## But the FINALLY block will execute at any cost, even if there is exception or not in try block."
   ]
  },
  {
   "cell_type": "markdown",
   "id": "9ae1c2cf-932e-4921-bda5-62b0aa3fbdc0",
   "metadata": {},
   "source": [
    "##### 3.Raise"
   ]
  },
  {
   "cell_type": "code",
   "execution_count": 16,
   "id": "382a4fda-1a8f-4db3-b32c-9c8961148045",
   "metadata": {},
   "outputs": [],
   "source": [
    "## An example for performing addition, Subtraction, Multiplication & Division of only POSITIVE NUMBERS,\n",
    "## Throw an exception if a negative number is given as an input"
   ]
  },
  {
   "cell_type": "code",
   "execution_count": 17,
   "id": "a2f841ef-afa7-4e16-bbd8-8544489b77c9",
   "metadata": {},
   "outputs": [],
   "source": [
    "class check_if_positive_num(Exception):  ## inherting the properties of Exception class\n",
    "    def __init__(self,msg):\n",
    "        self.msg = msg"
   ]
  },
  {
   "cell_type": "code",
   "execution_count": 18,
   "id": "bfcbdf96-b7b8-420e-bb31-f51180d9b3fb",
   "metadata": {},
   "outputs": [],
   "source": [
    "def check_if_positive_number(a,b): ## create a user define fucntion to validate the the input numbers to be + and raise an exception\n",
    "    if a>0 and b>0:\n",
    "        print(\"Valid Numbers\")\n",
    "        if  i == 1 :\n",
    "            print(\"Result : \",a+b)\n",
    "        elif  i == 2:\n",
    "            print(\"Result : \",a-b)\n",
    "        elif  i == 3:\n",
    "            print(\"Result : \",a*b)\n",
    "        elif  i == 4:\n",
    "            print(\"Result : \",a/b)\n",
    "    else:\n",
    "        raise check_if_positive_num(\"Numbers should be positive\")\n",
    "        "
   ]
  },
  {
   "cell_type": "code",
   "execution_count": 19,
   "id": "e4fa6944-0cc9-46a2-8a2d-225bf2251560",
   "metadata": {},
   "outputs": [
    {
     "name": "stdin",
     "output_type": "stream",
     "text": [
      "Input: 1 for Addition, 2 for Subtraction, 3 for Multiplication, 4 for Division :   1\n",
      "Enter the first Number 10\n",
      "Enter the Second Number 322\n"
     ]
    },
    {
     "name": "stdout",
     "output_type": "stream",
     "text": [
      "Valid Numbers\n",
      "Result :  332\n"
     ]
    }
   ],
   "source": [
    "## An example for performing addition, Subtraction, Multiplication & Division of only POSITIVE NUMBERS\n",
    "try :\n",
    "    i = int(input(\"Input: 1 for Addition, 2 for Subtraction, 3 for Multiplication, 4 for Division :  \"))\n",
    "    a = int(input(\"Enter the first Number\"))\n",
    "    b = int(input(\"Enter the Second Number\"))\n",
    "    check_if_positive_number(a,b)\n",
    "        \n",
    "except check_if_positive_num as e:\n",
    "    print(e)"
   ]
  },
  {
   "cell_type": "code",
   "execution_count": 20,
   "id": "e404f53d-bd33-4aa4-b714-df0bca09b17d",
   "metadata": {},
   "outputs": [
    {
     "name": "stdin",
     "output_type": "stream",
     "text": [
      "Input: 1 for Addition, 2 for Subtraction, 3 for Multiplication, 4 for Division :   1\n",
      "Enter the first Number -10\n",
      "Enter the Second Number -3939\n"
     ]
    },
    {
     "name": "stdout",
     "output_type": "stream",
     "text": [
      "Numbers should be positive\n"
     ]
    }
   ],
   "source": [
    "## An example for performing addition, Subtraction, Multiplication & Division of only POSITIVE NUMBERS\n",
    "\n",
    "## When we enter  negative numbers, it throws an exception saying \"NUmbers should be Positive\n",
    "\n",
    "try :\n",
    "    i = int(input(\"Input: 1 for Addition, 2 for Subtraction, 3 for Multiplication, 4 for Division :  \"))\n",
    "    a = int(input(\"Enter the first Number\"))\n",
    "    b = int(input(\"Enter the Second Number\"))\n",
    "    check_if_positive_number(a,b)\n",
    "        \n",
    "except check_if_positive_num as e:\n",
    "    print(e)"
   ]
  },
  {
   "cell_type": "code",
   "execution_count": null,
   "id": "cbe88891-10bf-46df-b6ee-a4fae392ae9c",
   "metadata": {},
   "outputs": [],
   "source": []
  },
  {
   "cell_type": "markdown",
   "id": "1034958d-f1fc-4c3d-bfd6-b4d090a6a7b5",
   "metadata": {},
   "source": [
    "#### Q5. What are custom exception? Why do we need custom exceptions? Explain with an example?"
   ]
  },
  {
   "cell_type": "markdown",
   "id": "b351e9df-4ce1-44f8-8f76-12e53cf8b649",
   "metadata": {},
   "source": [
    "##### We can define custom exceptions by creating a new class that is derived from the built-in Exception class.\n",
    "\n",
    "##### We can give our own conditions to check, and throw exception if the condition fails to satisfy\n",
    "\n",
    "\n",
    "1. Sometimes based on project requirement, we would need to create our own exceptions and raise explicitly for corresponding scenarios. Such types of exceptions are called custom Exceptions\n",
    "\n",
    "2. To create a User-defined Exception, we need to create a class directly or indirectly derived from the built-in Exception class.\n",
    "\n",
    "3. User-defined exceptions are created to force certain constraints on the values of the variables. \n",
    "\n",
    "4. We can raise(throw) these exceptions using the raise keyword. These exceptions can be caught in the try-except block, just like common exceptions.\n",
    "\n",
    "5. We can also use Standard Exception classes for implementation where the error doesn't seem to fall into any particular category."
   ]
  },
  {
   "cell_type": "code",
   "execution_count": null,
   "id": "ef77b919-62cd-439e-81de-eda7e89e849d",
   "metadata": {},
   "outputs": [],
   "source": []
  },
  {
   "cell_type": "code",
   "execution_count": 21,
   "id": "cc5ca388-d728-4d2a-a353-51fc1c6edbe5",
   "metadata": {},
   "outputs": [],
   "source": [
    "## Creating Exception Clas\n",
    "class validateage(Exception):  ## inherting the properties of Exception calss\n",
    "    def __init__(self,msg):\n",
    "        self.msg = msg"
   ]
  },
  {
   "cell_type": "code",
   "execution_count": 22,
   "id": "c189f185-b08a-4eac-ac2a-9e5de77d241b",
   "metadata": {},
   "outputs": [],
   "source": [
    "## Raising User-defined Exception\n",
    "\n",
    "def validate_age(age):      ## create a user define fucntion to validate the age and raise an exception\n",
    "    if age<0:\n",
    "        raise validateage(\"Voter's Age can't be negative.!!!\")\n",
    "    elif age>= 0 and age <18:\n",
    "        raise validateage(\"The citizen is not eligble for voting...!!!!\")\n",
    "    elif age>= 18 and age <120:\n",
    "        raise validateage(\"Kudos, You are eligible for voting..!!! Please do vote\")\n",
    "    else:\n",
    "        print(\"Invalid Age entered\")"
   ]
  },
  {
   "cell_type": "code",
   "execution_count": 23,
   "id": "df2feb49-b4f4-424f-b465-f20e047fc0ff",
   "metadata": {},
   "outputs": [
    {
     "name": "stdin",
     "output_type": "stream",
     "text": [
      "Enter the age 33\n"
     ]
    },
    {
     "name": "stdout",
     "output_type": "stream",
     "text": [
      "Kudos, You are eligible for voting..!!! Please do vote\n"
     ]
    }
   ],
   "source": [
    "try :\n",
    "    age = int(input(\"Enter the age\"))\n",
    "    validate_age(age)  ## placing the suspicious code in try block\n",
    "    \n",
    "except validateage as e:\n",
    "    print(e)"
   ]
  },
  {
   "cell_type": "code",
   "execution_count": null,
   "id": "d6597fec-9aee-44cd-a9e0-14435f24c930",
   "metadata": {},
   "outputs": [],
   "source": []
  },
  {
   "cell_type": "code",
   "execution_count": 24,
   "id": "62236347-1085-4cb5-b95f-bcf5f9903ee4",
   "metadata": {},
   "outputs": [
    {
     "name": "stdin",
     "output_type": "stream",
     "text": [
      "Enter the age -19\n"
     ]
    },
    {
     "name": "stdout",
     "output_type": "stream",
     "text": [
      "Voter's Age can't be negative.!!!\n"
     ]
    }
   ],
   "source": [
    "try :\n",
    "    age = int(input(\"Enter the age\"))\n",
    "    validate_age(age)  ## placing the suspicious code in try block\n",
    "    \n",
    "except validateage as e:\n",
    "    print(e)"
   ]
  },
  {
   "cell_type": "code",
   "execution_count": null,
   "id": "584f86bf-1848-4e44-a294-2f681a82b98e",
   "metadata": {},
   "outputs": [],
   "source": []
  },
  {
   "cell_type": "code",
   "execution_count": 25,
   "id": "4ba340e2-6f94-471d-aca0-f559c0896f90",
   "metadata": {},
   "outputs": [
    {
     "name": "stdin",
     "output_type": "stream",
     "text": [
      "Enter the age 15\n"
     ]
    },
    {
     "name": "stdout",
     "output_type": "stream",
     "text": [
      "The citizen is not eligble for voting...!!!!\n"
     ]
    }
   ],
   "source": [
    "try :\n",
    "    age = int(input(\"Enter the age\"))\n",
    "    validate_age(age)  ## placing the suspicious code in try block\n",
    "    \n",
    "except validateage as e:\n",
    "    print(e)"
   ]
  },
  {
   "cell_type": "code",
   "execution_count": null,
   "id": "e508db8b-4e6a-4ea7-a9c1-d7d7c08cc407",
   "metadata": {},
   "outputs": [],
   "source": []
  },
  {
   "cell_type": "code",
   "execution_count": 26,
   "id": "8a4102d3-afbd-48ca-9396-9353c82d665c",
   "metadata": {},
   "outputs": [
    {
     "name": "stdin",
     "output_type": "stream",
     "text": [
      "Enter the age 33\n"
     ]
    },
    {
     "name": "stdout",
     "output_type": "stream",
     "text": [
      "Kudos, You are eligible for voting..!!! Please do vote\n"
     ]
    }
   ],
   "source": [
    "try :\n",
    "    age = int(input(\"Enter the age\"))\n",
    "    validate_age(age)  ## placing the suspicious code in try block\n",
    "    \n",
    "except validateage as e:\n",
    "    print(e)"
   ]
  },
  {
   "cell_type": "code",
   "execution_count": null,
   "id": "a746e474-2e84-4134-9ff1-5af80b7f09ab",
   "metadata": {},
   "outputs": [],
   "source": []
  },
  {
   "cell_type": "code",
   "execution_count": 27,
   "id": "53c88482-c8c1-4d8c-8c22-9e5311b631b7",
   "metadata": {},
   "outputs": [
    {
     "name": "stdin",
     "output_type": "stream",
     "text": [
      "Enter the age 150\n"
     ]
    },
    {
     "name": "stdout",
     "output_type": "stream",
     "text": [
      "Invalid Age entered\n"
     ]
    }
   ],
   "source": [
    "try :\n",
    "    age = int(input(\"Enter the age\"))\n",
    "    validate_age(age)  ## placing the suspicious code in try block\n",
    "    \n",
    "except validateage as e:\n",
    "    print(e)"
   ]
  },
  {
   "cell_type": "code",
   "execution_count": null,
   "id": "2b9fd3d4-d328-4c28-8a9f-168978e3b0cd",
   "metadata": {},
   "outputs": [],
   "source": []
  },
  {
   "cell_type": "markdown",
   "id": "e608ec23-90bb-413a-8cd5-fbf5744790bc",
   "metadata": {},
   "source": [
    "#### Q6. Create custom exception class, Use this class to handle exception\n"
   ]
  },
  {
   "cell_type": "code",
   "execution_count": null,
   "id": "0b15ad8e-90ce-45ac-b8bf-7ef2663ff896",
   "metadata": {},
   "outputs": [],
   "source": []
  },
  {
   "cell_type": "code",
   "execution_count": 32,
   "id": "2ab8ec5d-40b1-4ea8-924b-47929481a218",
   "metadata": {},
   "outputs": [],
   "source": [
    "class check_string_length(Exception):  ## inherting the properties of Exception class\n",
    "    def __init__(self,msg):\n",
    "        self.msg = msg"
   ]
  },
  {
   "cell_type": "code",
   "execution_count": 33,
   "id": "d6ef5f17-7ad7-4da3-ab70-fe475996a347",
   "metadata": {},
   "outputs": [],
   "source": [
    "## create a user define fucntion to validate the the length of input string is 10 characters in length, if its less or more than\n",
    "## 10 characters, then throw an exception\n",
    "\n",
    "def check_string_len(str1): \n",
    "    if len(str1) == 10:\n",
    "        print(\"Valid String\")\n",
    "        print(\"The entered String is of length 10.\")\n",
    "    else:\n",
    "        raise check_string_length(\"The entered string length is not equal to 10 characters\")\n",
    "        "
   ]
  },
  {
   "cell_type": "code",
   "execution_count": 34,
   "id": "911294c1-5bf6-4341-84bb-e340fe3d447f",
   "metadata": {},
   "outputs": [
    {
     "name": "stdin",
     "output_type": "stream",
     "text": [
      "Enter the String to check its length:   ABC\n"
     ]
    },
    {
     "name": "stdout",
     "output_type": "stream",
     "text": [
      "\n",
      "Entered String is ABC and its length is : 3 \n",
      "\n",
      "The entered string length is not equal to 10 characters\n"
     ]
    }
   ],
   "source": [
    "## An example to throw an exception if the length of a input string is not equal to 10 characters\n",
    "\n",
    "try :\n",
    "    input_str = input(\"Enter the String to check its length:  \")\n",
    "    print(\"\\nEntered String is {input_str} and its length is : {b} \\n\".format(input_str=input_str,b = len(input_str)))\n",
    "    check_string_len(input_str)\n",
    "except check_string_length as e:\n",
    "    print(e)\n",
    "    \n",
    "## Since the input is ABC, the length is 3, hence throw an exception."
   ]
  },
  {
   "cell_type": "code",
   "execution_count": null,
   "id": "6af4f1f9-957c-4d2c-899d-301623d3fa4b",
   "metadata": {},
   "outputs": [],
   "source": []
  },
  {
   "cell_type": "code",
   "execution_count": 35,
   "id": "986fd6ec-3ed8-4b56-a88f-f31b2702553f",
   "metadata": {},
   "outputs": [
    {
     "name": "stdin",
     "output_type": "stream",
     "text": [
      "Enter the String to check its length:   ABCDEFGHIJ\n"
     ]
    },
    {
     "name": "stdout",
     "output_type": "stream",
     "text": [
      "\n",
      "Entered String is ABCDEFGHIJ and its length is : 10 \n",
      "\n",
      "Valid String\n",
      "The entered String is of length 10.\n"
     ]
    }
   ],
   "source": [
    "## An example to throw an exception if the length of a input string is not equal to 10 characters\n",
    "\n",
    "try :\n",
    "    input_str = input(\"Enter the String to check its length:  \")\n",
    "    print(\"\\nEntered String is {input_str} and its length is : {b} \\n\".format(input_str=input_str,b = len(input_str)))\n",
    "    check_string_len(input_str)\n",
    "except check_string_length as e:\n",
    "    print(e)\n",
    "    \n",
    "## Since the input is ABCDEFGHIJ, the length is 10, it doesn't throw an exception."
   ]
  },
  {
   "cell_type": "code",
   "execution_count": null,
   "id": "042caf36-366b-4f31-8914-e9a35e1c97c8",
   "metadata": {},
   "outputs": [],
   "source": []
  }
 ],
 "metadata": {
  "kernelspec": {
   "display_name": "Python 3 (ipykernel)",
   "language": "python",
   "name": "python3"
  },
  "language_info": {
   "codemirror_mode": {
    "name": "ipython",
    "version": 3
   },
   "file_extension": ".py",
   "mimetype": "text/x-python",
   "name": "python",
   "nbconvert_exporter": "python",
   "pygments_lexer": "ipython3",
   "version": "3.10.8"
  }
 },
 "nbformat": 4,
 "nbformat_minor": 5
}
