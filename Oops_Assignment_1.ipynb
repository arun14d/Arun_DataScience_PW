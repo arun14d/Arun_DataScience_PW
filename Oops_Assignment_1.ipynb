{
 "cells": [
  {
   "cell_type": "markdown",
   "id": "1b28e94c-ab71-42c0-9f21-03591e5653b7",
   "metadata": {},
   "source": [
    "# OOPS Assignment 1"
   ]
  },
  {
   "cell_type": "markdown",
   "id": "9f1af2c7-976b-48ec-b485-b53a92e3fc0a",
   "metadata": {},
   "source": [
    "### Q1. Explain Class and Object with respect to Object-Oriented Programming. Give a suitable example."
   ]
  },
  {
   "cell_type": "markdown",
   "id": "7ef57ba7-106b-4170-923a-5d29da2a89fa",
   "metadata": {},
   "source": [
    "Answer : \n",
    "Class:\n",
    "1. Class is just classification of Real world Entity.    \n",
    "2. Or Class is a blueprint of real world entity.\n",
    "3. Class is a blueprint or template from which objects are created.\n",
    "    \n",
    "Object:\n",
    "1. Object is an instance of a class. Class is a group of similar objects."
   ]
  },
  {
   "cell_type": "code",
   "execution_count": 1,
   "id": "c60f8724-4ef3-4897-922b-3f4d2d35fcac",
   "metadata": {},
   "outputs": [],
   "source": [
    "class student_db:        ## class the resevrve key word, student_db is the user defined class name\n",
    "    ## class can have multiple functions within, here student_details() is a function\n",
    "    ## __init__(self,) --> is the constructor used to add the values to the class\n",
    "    \n",
    "    def __init__(self,name, age, email_id, phone_no, city, degree, percentage):  # self is a pointer used\n",
    "        self.name = name      # self is used to access the variables within the class\n",
    "        self.age = age\n",
    "        self.email_id = email_id\n",
    "        self.phone_no = phone_no\n",
    "        self.city = city\n",
    "        self.degree = degree\n",
    "        self.percentage = percentage\n",
    "    \n",
    "    def display_student_details(self):  ## second fucntion to display the student details\n",
    "        return self.name, self.age, self.email_id,self.phone_no,self.city,self.degree,self.percentage"
   ]
  },
  {
   "cell_type": "code",
   "execution_count": 2,
   "id": "02b53033-d204-4d24-904d-444a435f5844",
   "metadata": {},
   "outputs": [],
   "source": [
    "sdt1 = student_db('Arun Kumar J',32,'arunkj.mpp@gmail.com',8886757506,'Bangalore','BE - CSE',69)\n",
    "\n",
    "## sdt1 is an object of class - student_db\n",
    "## Since we have used constructor __init__() in the above class with 7 variables, hence when object is created, we need to give all the 7 parameters"
   ]
  },
  {
   "cell_type": "code",
   "execution_count": 3,
   "id": "233e101f-a574-4cdb-8e61-c75d718f35f5",
   "metadata": {},
   "outputs": [
    {
     "data": {
      "text/plain": [
       "('Arun Kumar J',\n",
       " 32,\n",
       " 'arunkj.mpp@gmail.com',\n",
       " 8886757506,\n",
       " 'Bangalore',\n",
       " 'BE - CSE',\n",
       " 69)"
      ]
     },
     "execution_count": 3,
     "metadata": {},
     "output_type": "execute_result"
    }
   ],
   "source": [
    "## accessing the functions & varibles of class outside the class.\n",
    "\n",
    "## 1. Accessing the display_student_details() outside class\n",
    "##  The output of the function is tuple type\n",
    "sdt1.display_student_details()"
   ]
  },
  {
   "cell_type": "code",
   "execution_count": 4,
   "id": "92cff48b-276f-4431-b7b5-8495dee11fcf",
   "metadata": {},
   "outputs": [
    {
     "data": {
      "text/plain": [
       "'Arun Kumar J'"
      ]
     },
     "execution_count": 4,
     "metadata": {},
     "output_type": "execute_result"
    }
   ],
   "source": [
    "## 2. Accessing the name variable outside class\n",
    "sdt1.name"
   ]
  },
  {
   "cell_type": "code",
   "execution_count": 5,
   "id": "bfe6c950-1c06-4a30-a727-378782cf709d",
   "metadata": {},
   "outputs": [
    {
     "data": {
      "text/plain": [
       "8886757506"
      ]
     },
     "execution_count": 5,
     "metadata": {},
     "output_type": "execute_result"
    }
   ],
   "source": [
    "## 2. Accessing the phone number variable outside class\n",
    "sdt1.phone_no"
   ]
  },
  {
   "cell_type": "code",
   "execution_count": null,
   "id": "52494216-c0d9-40df-818d-12657a25b70a",
   "metadata": {},
   "outputs": [],
   "source": []
  },
  {
   "cell_type": "markdown",
   "id": "36a5e8bf-7376-4551-92dc-9c1b9ab99917",
   "metadata": {},
   "source": [
    "### Q2. Name the four pillars of OOPs."
   ]
  },
  {
   "cell_type": "markdown",
   "id": "c11f1dc5-58d4-4643-a8db-d6658efe7be1",
   "metadata": {},
   "source": [
    "The 4 pillars of OOPS are \n",
    "1. Polymorphism\n",
    "2. Encapsulation\n",
    "3. Inheritance\n",
    "4. Abstraction"
   ]
  },
  {
   "cell_type": "markdown",
   "id": "cfbc8a87-17e4-4e13-825b-2da70b02740d",
   "metadata": {},
   "source": [
    "##### 1. POLYMORPHISM - \n",
    "The word polymorphism means having many forms. \n",
    "\n",
    "In programming, polymorphism means the same function name is used for different types."
   ]
  },
  {
   "cell_type": "code",
   "execution_count": 6,
   "id": "acb111aa-64e6-4599-8e26-9c52d8d1d490",
   "metadata": {},
   "outputs": [],
   "source": [
    "## POLYMORPHISM EXAMPLE\n",
    "class cat:\n",
    "    def __init__(self,name,age):\n",
    "        self.name = name\n",
    "        self.age = age\n",
    "        \n",
    "    def info(self):\n",
    "        print(f\"I am a cat. My name is {self.name}, and my age is {self.age}\")\n",
    "    \n",
    "    def sound(self):\n",
    "        print(\"MEOW...MEOW....MEOW...\")\n",
    "        \n",
    "        \n",
    "## cat is a class having info() & sound() as its fucntions."
   ]
  },
  {
   "cell_type": "code",
   "execution_count": 7,
   "id": "8f93e349-e064-4fce-ab27-c9d9f2fb43cf",
   "metadata": {},
   "outputs": [],
   "source": [
    "class dog:\n",
    "    def __init__(self,name,age):\n",
    "        self.name = name\n",
    "        self.age = age\n",
    "        \n",
    "    def info(self):\n",
    "        print(f\"I am a dog. My name is {self.name}, and my age is {self.age}\")\n",
    "    \n",
    "    def sound(self):\n",
    "        print(\"Uffff...Uffff....Uffff...\")\n",
    "        \n",
    "## dog is also a class having info() & sound() as its fucntions."
   ]
  },
  {
   "cell_type": "code",
   "execution_count": 8,
   "id": "04ebaed3-bfd5-48cc-9395-6ee1eb65e5fd",
   "metadata": {},
   "outputs": [],
   "source": [
    "cat1 = cat(\"Katrina\",5)\n",
    "dog1 = dog(\"Tommy\",10)\n",
    "\n",
    "## creating a cat1 object of class cat\n",
    "## creating a dog1 object of class dog"
   ]
  },
  {
   "cell_type": "code",
   "execution_count": 9,
   "id": "9eecaf11-3ca3-4a68-a8c0-ac1ad8172fb9",
   "metadata": {},
   "outputs": [],
   "source": [
    "class_obj = [cat1,dog1]"
   ]
  },
  {
   "cell_type": "code",
   "execution_count": 10,
   "id": "5f3045e6-6cbf-4c13-b630-09f5e8ed4aed",
   "metadata": {},
   "outputs": [
    {
     "name": "stdout",
     "output_type": "stream",
     "text": [
      "I am a cat. My name is Katrina, and my age is 5\n",
      "\n",
      "\n",
      "MEOW...MEOW....MEOW...\n",
      "\n",
      "\n",
      "I am a dog. My name is Tommy, and my age is 10\n",
      "\n",
      "\n",
      "Uffff...Uffff....Uffff...\n",
      "\n",
      "\n"
     ]
    }
   ],
   "source": [
    "## we are trying to access the fucntions of both the classes\n",
    "for i in class_obj:\n",
    "    i.info()\n",
    "    print(\"\\n\")\n",
    "    i.sound()\n",
    "    print(\"\\n\")"
   ]
  },
  {
   "cell_type": "code",
   "execution_count": null,
   "id": "2763784c-92f9-401b-8b61-8e9136bee628",
   "metadata": {},
   "outputs": [],
   "source": []
  },
  {
   "cell_type": "markdown",
   "id": "69a41be2-e43a-4291-98ee-4f840ec460e3",
   "metadata": {},
   "source": [
    "##### 2. ENCAPSULATION - \n",
    "Encapsulation is one of the key features of object-oriented programming. Encapsulation refers to the bundling of attributes and methods inside a single class.\n",
    "\n",
    "It prevents outer classes from accessing and changing attributes and methods of a class. This also helps to achieve data hiding.\n",
    "\n",
    "In Python, we denote private attributes using underscore as the prefix i.e single _ or double __. For example,"
   ]
  },
  {
   "cell_type": "code",
   "execution_count": 11,
   "id": "fe2939d4-f806-4744-b4a7-820b9270592b",
   "metadata": {},
   "outputs": [],
   "source": [
    "class car :\n",
    "    def __init__(self, year, make, model,speed):\n",
    "        self.__year = year      #### when we use this, we will not see any pop-ups methods/variables --> its private function variable \n",
    "        self.__make = make\n",
    "        self.__model = model\n",
    "        self.__speed = 0\n",
    "        \n",
    "    def set_speed(self,speed):\n",
    "        self.__speed = 0 if speed < 0 else speed\n",
    "        \n",
    "    def display_details(self):\n",
    "        return self.__year, self.__make, self.__model,self.__speed"
   ]
  },
  {
   "cell_type": "code",
   "execution_count": 12,
   "id": "8c028e63-39f9-4e5c-8da6-b3818d93b328",
   "metadata": {},
   "outputs": [],
   "source": [
    "car1 = car(2023,\"AUDI\",\"Q4\",120)"
   ]
  },
  {
   "cell_type": "code",
   "execution_count": 13,
   "id": "1bfde7ce-f463-4cd8-a45a-6c30943ec6cb",
   "metadata": {},
   "outputs": [],
   "source": [
    "car1.set_speed(10) ## user cannot directly access the variable speed, but infact is trying to update the speed value via function."
   ]
  },
  {
   "cell_type": "code",
   "execution_count": 14,
   "id": "eb2748dd-0241-44a5-b005-1fc7b39303b8",
   "metadata": {},
   "outputs": [
    {
     "data": {
      "text/plain": [
       "(2023, 'AUDI', 'Q4', 10)"
      ]
     },
     "execution_count": 14,
     "metadata": {},
     "output_type": "execute_result"
    }
   ],
   "source": [
    "car1.display_details()"
   ]
  },
  {
   "cell_type": "code",
   "execution_count": 15,
   "id": "17d3a058-02ac-4bbe-b6c6-32f573f3f30a",
   "metadata": {},
   "outputs": [
    {
     "ename": "AttributeError",
     "evalue": "'car' object has no attribute 'year'",
     "output_type": "error",
     "traceback": [
      "\u001b[0;31m---------------------------------------------------------------------------\u001b[0m",
      "\u001b[0;31mAttributeError\u001b[0m                            Traceback (most recent call last)",
      "Cell \u001b[0;32mIn[15], line 2\u001b[0m\n\u001b[1;32m      1\u001b[0m \u001b[38;5;66;03m## we can see the variable year - of the class car, - its basically its not accessible outside class.Hence the below error.\u001b[39;00m\n\u001b[0;32m----> 2\u001b[0m \u001b[43mcar1\u001b[49m\u001b[38;5;241;43m.\u001b[39;49m\u001b[43myear\u001b[49m\n",
      "\u001b[0;31mAttributeError\u001b[0m: 'car' object has no attribute 'year'"
     ]
    }
   ],
   "source": [
    "## we can see the variable year - of the class car, - its basically its not accessible outside class.Hence the below error.\n",
    "car1.year"
   ]
  },
  {
   "cell_type": "code",
   "execution_count": 16,
   "id": "be0a93c0-84fc-490a-a33e-28a4f314f824",
   "metadata": {},
   "outputs": [
    {
     "data": {
      "text/plain": [
       "'AUDI'"
      ]
     },
     "execution_count": 16,
     "metadata": {},
     "output_type": "execute_result"
    }
   ],
   "source": [
    "car1._car__make   ## we need to use _classname__variablenames to access the varibles."
   ]
  },
  {
   "cell_type": "code",
   "execution_count": 17,
   "id": "7da68509-d928-41df-a2c9-7c020ffc67c3",
   "metadata": {},
   "outputs": [
    {
     "data": {
      "text/plain": [
       "2023"
      ]
     },
     "execution_count": 17,
     "metadata": {},
     "output_type": "execute_result"
    }
   ],
   "source": [
    "car1._car__year"
   ]
  },
  {
   "cell_type": "markdown",
   "id": "ee69b5e6-37d3-4d80-8e38-c4a2a12fb723",
   "metadata": {},
   "source": []
  },
  {
   "cell_type": "markdown",
   "id": "6d0aef14-a019-4124-90e6-4e6f1fa638a6",
   "metadata": {},
   "source": [
    "##### 2. INHERITANCE - \n",
    "Inheritance allows us to create a new class from an existing class.\n",
    "\n",
    "The new class that is created is known as subclass (child or derived class) and the existing class from which the child class is derived is known as superclass (parent or base class).\n",
    "\n",
    "#### Uses of Inheritance\n",
    "1. Since a child class can inherit all the functionalities of the parent's class, this allows code reusability.\n",
    "2. Once a functionality is developed, we can simply inherit it.\n",
    "3. We can also add our own functionalities in the child class, we can inherit only the useful functionalities and define other required features."
   ]
  },
  {
   "cell_type": "code",
   "execution_count": 18,
   "id": "29bc4e38-6f38-4f1f-ad9d-831ba6b808fa",
   "metadata": {},
   "outputs": [],
   "source": [
    "## Multi-Level Inheritance"
   ]
  },
  {
   "cell_type": "code",
   "execution_count": 19,
   "id": "02c7640c-8fb3-4a46-9c8c-dbdee904c3b3",
   "metadata": {},
   "outputs": [],
   "source": [
    "## class_add --> parent class, where we perform only addiiton operations.\n",
    "class class_add:\n",
    "    def __init__(self,a,b):\n",
    "        self.a = a\n",
    "        self.b = b\n",
    "\n",
    "    def display_addition_result(self):\n",
    "        return self.a+self.b"
   ]
  },
  {
   "cell_type": "code",
   "execution_count": 20,
   "id": "2101edcf-acd4-495c-b546-490b33b065e7",
   "metadata": {},
   "outputs": [],
   "source": [
    "## class_sub is a child class of class_add.\n",
    "## class_sub -- inherits the properties of class_add\n",
    "class class_sub(class_add):\n",
    "    def __init__(self,a,b):\n",
    "        self.a = a\n",
    "        self.b = b\n",
    "\n",
    "    def display_subtraction_result(self):\n",
    "        return self.a-self.b"
   ]
  },
  {
   "cell_type": "code",
   "execution_count": 21,
   "id": "50f3678d-2dc2-466c-9b1f-f6dd497e8f0a",
   "metadata": {},
   "outputs": [],
   "source": [
    "## class_div is child_sub, which has all the properties of class_add & class_sub.\n",
    "class class_div(class_sub):\n",
    "    def __init__(self,a,b):\n",
    "        self.a = a\n",
    "        self.b = b\n",
    "\n",
    "    def display_division_result(self):\n",
    "        return self.a/self.b"
   ]
  },
  {
   "cell_type": "code",
   "execution_count": 22,
   "id": "45a74e76-b33c-4b40-97fb-58ac944788cf",
   "metadata": {},
   "outputs": [],
   "source": [
    "c1_add = class_add(100,20)    \n",
    "c2_sub = class_sub(100,20)   \n",
    "c3_div = class_div(100,20)"
   ]
  },
  {
   "cell_type": "code",
   "execution_count": 23,
   "id": "75d21b61-41dd-4650-a9ea-812968035a46",
   "metadata": {},
   "outputs": [
    {
     "data": {
      "text/plain": [
       "120"
      ]
     },
     "execution_count": 23,
     "metadata": {},
     "output_type": "execute_result"
    }
   ],
   "source": [
    "c1_add.display_addition_result()\n",
    "\n",
    "## c1_add - object of class_add and has one function - display_addition_result() as its properties\n"
   ]
  },
  {
   "cell_type": "code",
   "execution_count": 24,
   "id": "4d469821-2469-41fd-a307-22d4f20e8d28",
   "metadata": {},
   "outputs": [
    {
     "data": {
      "text/plain": [
       "80"
      ]
     },
     "execution_count": 24,
     "metadata": {},
     "output_type": "execute_result"
    }
   ],
   "source": [
    "c2_sub.display_subtraction_result()  ## --> base property of the class_sub"
   ]
  },
  {
   "cell_type": "code",
   "execution_count": 25,
   "id": "3b941895-6cd4-422e-91f3-657ff3a55bef",
   "metadata": {},
   "outputs": [
    {
     "data": {
      "text/plain": [
       "120"
      ]
     },
     "execution_count": 25,
     "metadata": {},
     "output_type": "execute_result"
    }
   ],
   "source": [
    "## c3_sdiv - object of class_div and has all 3 function of display_addition_result() & display_subtraction_result & display_division_result as its properties\n",
    "\n",
    "c3_div.display_addition_result()   ## inherted from class_sub, and this fucntion is inherted from class_add by class_sub."
   ]
  },
  {
   "cell_type": "code",
   "execution_count": 26,
   "id": "d74abcd7-8a87-4538-91f0-47b81cb95e65",
   "metadata": {},
   "outputs": [
    {
     "data": {
      "text/plain": [
       "80"
      ]
     },
     "execution_count": 26,
     "metadata": {},
     "output_type": "execute_result"
    }
   ],
   "source": [
    "c3_div.display_subtraction_result() ## inherted from class_sub\n"
   ]
  },
  {
   "cell_type": "code",
   "execution_count": 27,
   "id": "3b039f34-e5e3-4766-959c-a90cd16f9b77",
   "metadata": {},
   "outputs": [
    {
     "data": {
      "text/plain": [
       "5.0"
      ]
     },
     "execution_count": 27,
     "metadata": {},
     "output_type": "execute_result"
    }
   ],
   "source": [
    "c3_div.display_division_result() ## --> base property of the class_div"
   ]
  },
  {
   "cell_type": "code",
   "execution_count": null,
   "id": "3eac8234-0720-400f-bef8-54b4c43f7a33",
   "metadata": {},
   "outputs": [],
   "source": []
  },
  {
   "cell_type": "markdown",
   "id": "7ca6e659-e20c-45ca-9275-b85fbfc9202a",
   "metadata": {},
   "source": [
    "#### Multiple Inheritance"
   ]
  },
  {
   "cell_type": "code",
   "execution_count": 28,
   "id": "483a41b7-978e-416c-8619-9ce5f442867b",
   "metadata": {},
   "outputs": [],
   "source": [
    "## class_1 --> parent class, where we perform addiiton  & subtraction operations.\n",
    "class class_1:\n",
    "    def __init__(self,a,b):\n",
    "        self.a = a\n",
    "        self.b = b\n",
    "\n",
    "    def display_addition_result(self):\n",
    "        return self.a+self.b\n",
    "    \n",
    "    def display_subtraction_result(self):\n",
    "        return self.a-self.b"
   ]
  },
  {
   "cell_type": "code",
   "execution_count": 29,
   "id": "44ba4ed6-a98f-4dcd-a267-d03a12eeaf3a",
   "metadata": {},
   "outputs": [],
   "source": [
    "## class_2--> parent class, where we perform only division operations.\n",
    "class class_2:\n",
    "    def __init__(self,a,b):\n",
    "        self.a = a\n",
    "        self.b = b\n",
    "\n",
    "    def display_division_result(self):\n",
    "        return self.a/self.b"
   ]
  },
  {
   "cell_type": "code",
   "execution_count": 30,
   "id": "8ee63ee7-eacc-4d4d-9649-7987c64d01e2",
   "metadata": {},
   "outputs": [],
   "source": [
    "## we will try to inherit the properties of class_1 & class_2 to class_3\n",
    "## class_3--> child class of class_1 & class_2, where it will inherit the properties from class_1, class-2.\n",
    "## also will have its owne property - to perform multiplication operations.\n",
    "\n",
    "class class_3(class_1,class_2):\n",
    "    def __init__(self,a,b):\n",
    "        self.a = a\n",
    "        self.b = b\n",
    "    \n",
    "    def display_multiplication_result(self):\n",
    "        return self.a*self.b"
   ]
  },
  {
   "cell_type": "code",
   "execution_count": 31,
   "id": "54369ff1-42c2-41fc-a3d1-7f82c15060ab",
   "metadata": {},
   "outputs": [],
   "source": [
    "c1 = class_1(100,20)\n",
    "c2 = class_2(100,20)\n",
    "c3 = class_3(100,20)"
   ]
  },
  {
   "cell_type": "code",
   "execution_count": 32,
   "id": "c2f85d04-0149-4000-9be6-d0c3edc6da73",
   "metadata": {},
   "outputs": [
    {
     "data": {
      "text/plain": [
       "120"
      ]
     },
     "execution_count": 32,
     "metadata": {},
     "output_type": "execute_result"
    }
   ],
   "source": [
    "## object c1 of class_1 - has 2 fucntions - addition & subtractions\n",
    "\n",
    "c1.display_addition_result()"
   ]
  },
  {
   "cell_type": "code",
   "execution_count": 33,
   "id": "ec02865b-e02a-43f7-959b-d418df1f0ab2",
   "metadata": {},
   "outputs": [
    {
     "data": {
      "text/plain": [
       "80"
      ]
     },
     "execution_count": 33,
     "metadata": {},
     "output_type": "execute_result"
    }
   ],
   "source": [
    "c1.display_subtraction_result()"
   ]
  },
  {
   "cell_type": "code",
   "execution_count": 34,
   "id": "607e6821-e6ea-4258-aa9c-baf4984d9633",
   "metadata": {},
   "outputs": [
    {
     "data": {
      "text/plain": [
       "5.0"
      ]
     },
     "execution_count": 34,
     "metadata": {},
     "output_type": "execute_result"
    }
   ],
   "source": [
    "## object c2 of class_2 - has only 1 fucntions - division\n",
    "c2.display_division_result()"
   ]
  },
  {
   "cell_type": "code",
   "execution_count": 35,
   "id": "05ef9b41-a4a7-4d53-b4d3-ca5f8eb23d18",
   "metadata": {},
   "outputs": [
    {
     "data": {
      "text/plain": [
       "120"
      ]
     },
     "execution_count": 35,
     "metadata": {},
     "output_type": "execute_result"
    }
   ],
   "source": [
    "## object c3 of class_3 - has all the 4 fucntions - addition, subtraction & division --> Inherited properties\n",
    "## Division fucntion --> its own function.\n",
    "c3.display_addition_result()"
   ]
  },
  {
   "cell_type": "code",
   "execution_count": 36,
   "id": "76fa01f0-c402-49da-8630-917a303f26a7",
   "metadata": {},
   "outputs": [
    {
     "data": {
      "text/plain": [
       "80"
      ]
     },
     "execution_count": 36,
     "metadata": {},
     "output_type": "execute_result"
    }
   ],
   "source": [
    "c3.display_subtraction_result()"
   ]
  },
  {
   "cell_type": "code",
   "execution_count": 37,
   "id": "6379ad8b-8387-41c1-bbd4-1176972212bf",
   "metadata": {},
   "outputs": [
    {
     "data": {
      "text/plain": [
       "5.0"
      ]
     },
     "execution_count": 37,
     "metadata": {},
     "output_type": "execute_result"
    }
   ],
   "source": [
    "c3.display_division_result()"
   ]
  },
  {
   "cell_type": "code",
   "execution_count": 38,
   "id": "f1654189-4722-441f-b6c7-168b3518e2ab",
   "metadata": {},
   "outputs": [
    {
     "data": {
      "text/plain": [
       "2000"
      ]
     },
     "execution_count": 38,
     "metadata": {},
     "output_type": "execute_result"
    }
   ],
   "source": [
    "c3.display_multiplication_result()"
   ]
  },
  {
   "cell_type": "code",
   "execution_count": null,
   "id": "5083b4ed-cb10-4b0b-9c45-7bb82f0fda51",
   "metadata": {},
   "outputs": [],
   "source": []
  },
  {
   "cell_type": "markdown",
   "id": "32cb82f5-d475-43e9-ad13-6a1fa8eb6979",
   "metadata": {},
   "source": [
    "##### 2. ABSTRACTION - \n",
    "Abstraction is used to hide the internal functionality of the function from the users. \n",
    "The users only interact with the basic implementation of the function, but inner working is hidden. \n",
    "\n",
    "A class that consists of one or more abstract method is called the abstract class. Abstract methods do not contain their implementation. \n",
    "Abstract class can be inherited by the subclass and abstract method gets its definition in the subclass. \n",
    "Abstraction classes are meant to be the blueprint of the other class. An abstract class can be useful when we are designing large functions. \n",
    "An abstract class is also helpful to provide the standard interface for different implementations of components.\n",
    "Python provides the abc module to use the abstraction in the Python program. Let's \n",
    "\n",
    "#### Uses of Inheritance\n",
    "1. Abstraction is used to hide the irrelevant data/class in order to reduce the complexity. It also enhances the application efficiency.."
   ]
  },
  {
   "cell_type": "code",
   "execution_count": 39,
   "id": "606fda10-cae8-4776-a963-e12f506724ec",
   "metadata": {},
   "outputs": [],
   "source": [
    "import abc  ## abc module has the abstractmethod\n",
    "\n",
    "class pwskills: ## pwskills is the abstract class which has fucntions, but the fucntions functinality is not defined. Its just the blueprint\n",
    "    \n",
    "    @abc.abstractmethod\n",
    "    def stud_det(self):\n",
    "        pass\n",
    "    \n",
    "    @abc.abstractmethod\n",
    "    def stud_assignmt(self):\n",
    "        pass\n",
    "    \n",
    "    @abc.abstractmethod\n",
    "    def stud_marks(self):\n",
    "        pass"
   ]
  },
  {
   "cell_type": "code",
   "execution_count": 40,
   "id": "f5881da5-25e7-41f9-9751-0d69163a617e",
   "metadata": {},
   "outputs": [],
   "source": [
    "class datascience(pwskills):  ## datascience class inherist the data of absrtact class - pwskills\n",
    "    def stud_det(self):\n",
    "        return \"It will try to return details of DS master\"\n",
    "    \n",
    "    def stud_assignmt(self):\n",
    "        return \"It will try to return assignment of DS Master\""
   ]
  },
  {
   "cell_type": "code",
   "execution_count": 41,
   "id": "b6b0feab-f22e-4193-b8e7-23d07bf08922",
   "metadata": {},
   "outputs": [],
   "source": [
    "class webdev(pwskills): ## webdev class inherist the data of absrtact class - pwskills\n",
    "    def stud_det(self):\n",
    "        return \"It will try to return details of web Deb\"\n",
    "    \n",
    "    def stud_assignmt(self):\n",
    "        return \"It will try to return assignment of web dev\"\n",
    "    \n",
    "    def stud_marks(self):\n",
    "        return \"It will return marks of web dev class\"\n",
    "    "
   ]
  },
  {
   "cell_type": "code",
   "execution_count": 42,
   "id": "41d2bb06-da06-4089-9a2d-d2289ea5c1da",
   "metadata": {},
   "outputs": [],
   "source": [
    "ds = datascience()\n",
    "wd = webdev()"
   ]
  },
  {
   "cell_type": "code",
   "execution_count": 43,
   "id": "e8edfe9e-82b3-4318-98ae-a47890ec573c",
   "metadata": {},
   "outputs": [
    {
     "data": {
      "text/plain": [
       "'It will try to return details of DS master'"
      ]
     },
     "execution_count": 43,
     "metadata": {},
     "output_type": "execute_result"
    }
   ],
   "source": [
    "ds.stud_det()"
   ]
  },
  {
   "cell_type": "code",
   "execution_count": 44,
   "id": "98d5012e-3627-4400-8c61-6ba0ddb6b466",
   "metadata": {},
   "outputs": [
    {
     "data": {
      "text/plain": [
       "'It will return marks of web dev class'"
      ]
     },
     "execution_count": 44,
     "metadata": {},
     "output_type": "execute_result"
    }
   ],
   "source": [
    "wd.stud_marks()"
   ]
  },
  {
   "cell_type": "code",
   "execution_count": null,
   "id": "aeddb93f-a1a7-4133-b179-3d04b610cf8b",
   "metadata": {},
   "outputs": [],
   "source": []
  },
  {
   "cell_type": "markdown",
   "id": "d1ea7e0c-0b48-44d6-97ca-346e89c36520",
   "metadata": {},
   "source": [
    "### Q3. Explain why the __init__() function is used. Give a suitable example."
   ]
  },
  {
   "cell_type": "markdown",
   "id": "ed393aaf-3d51-420a-902f-aa4fe7f99af8",
   "metadata": {},
   "source": [
    "__init__() - All classes have a function called __init__(), which is always executed when the class is being initiated.\n",
    "\n",
    "we use the __init__() function to assign values to object properties, or other operations that are necessary to do when the object is being created.\n",
    "\n",
    "The __init__() function is called automatically every time the class is being used to create a new object."
   ]
  },
  {
   "cell_type": "code",
   "execution_count": 45,
   "id": "8e537c7b-0bc0-4a15-ae50-2cfacb7e05e5",
   "metadata": {},
   "outputs": [],
   "source": [
    "class Person:      ## class person \n",
    "    def __init__(self, name, age):  ## we are using __init__() to assign values to the variables name & age\n",
    "        self.name = name\n",
    "        self.age = age\n",
    "        \n",
    "        \n",
    "    def display_details(self):\n",
    "        return self.name, self.age"
   ]
  },
  {
   "cell_type": "code",
   "execution_count": 46,
   "id": "6510fa17-4363-43e1-8e4d-a2fa9c54eac3",
   "metadata": {},
   "outputs": [],
   "source": [
    "p1 = Person(\"Arun Kumar J\",32)\n",
    "p2 = Person(\"Virat Kohli\",34)\n",
    "p3 = Person(\"RCB\",16)\n",
    "\n",
    "## p1,p2,p3 are objects of class Person\n",
    "###  Ex - p1 = Person(\"Arun Kumar J\",32) here when this statement is executed, \n",
    "        ## 1. The values of name & age are passed as parameter to __init__() constructor\n",
    "        ## 2. Then the values are assigned to the variables - name and age\n",
    "        ## 3. Then the details are associated with the class person."
   ]
  },
  {
   "cell_type": "code",
   "execution_count": 47,
   "id": "aa915b17-2f20-4c5b-acec-ad1367d538b7",
   "metadata": {},
   "outputs": [
    {
     "data": {
      "text/plain": [
       "('Arun Kumar J', 32)"
      ]
     },
     "execution_count": 47,
     "metadata": {},
     "output_type": "execute_result"
    }
   ],
   "source": [
    "p1.display_details()  ## accessing the details of p1 object outside the class"
   ]
  },
  {
   "cell_type": "code",
   "execution_count": 48,
   "id": "90296800-de29-4987-91c9-9e0516b9ef72",
   "metadata": {},
   "outputs": [
    {
     "data": {
      "text/plain": [
       "('Virat Kohli', 34)"
      ]
     },
     "execution_count": 48,
     "metadata": {},
     "output_type": "execute_result"
    }
   ],
   "source": [
    "p2.display_details()  ## accessing the details of p2 object outside the class"
   ]
  },
  {
   "cell_type": "code",
   "execution_count": null,
   "id": "4d8008f5-2127-4f27-aae9-e8714c719a48",
   "metadata": {},
   "outputs": [],
   "source": []
  },
  {
   "cell_type": "markdown",
   "id": "612faccf-b5ce-4408-a439-99db3d335450",
   "metadata": {},
   "source": [
    "### Q4. Why self is used in OOPs?"
   ]
  },
  {
   "cell_type": "markdown",
   "id": "ccb9d26b-3f8a-4383-b9d5-81fb8d55f52c",
   "metadata": {},
   "source": [
    "The self variable is used to represent the instance of the class which is often used in object-oriented programming. \n",
    "\n",
    "It works as a reference to the object.\n",
    "\n",
    "Python uses the self parameter to refer to instance attributes and methods of the class.\n",
    "\n",
    "The self parameter is a reference to the current instance of the class, and is used to access variables that belongs to the class.\n",
    "\n",
    "It does not have to be named self , you can call it whatever you like, but it has to be the first parameter of any function in the class:"
   ]
  },
  {
   "cell_type": "code",
   "execution_count": 50,
   "id": "35ceab68-b38d-4bee-80da-61a235b0bbf1",
   "metadata": {},
   "outputs": [],
   "source": [
    "## class with the use of self keyword\n",
    "class person:\n",
    "    def __init__(self,name,age):\n",
    "        self.name = name\n",
    "        self.age = age\n",
    "        \n",
    "    def display_details(self):\n",
    "        return self.name,self.age"
   ]
  },
  {
   "cell_type": "code",
   "execution_count": 51,
   "id": "15922b54-3074-499f-8543-ffcdc3deeae6",
   "metadata": {},
   "outputs": [],
   "source": [
    "## class with the use of person_details in place of self keyword\n",
    "\n",
    "class person1:\n",
    "    def __init__(person_details,name,age):\n",
    "        person_details.name = name\n",
    "        person_details.age = age\n",
    "        \n",
    "    def display_details(person_details):\n",
    "        return person_details.name,person_details.age"
   ]
  },
  {
   "cell_type": "code",
   "execution_count": 52,
   "id": "85034e58-5997-4963-bd5d-adc505a7597d",
   "metadata": {},
   "outputs": [],
   "source": [
    "p = person(\"Arun Kumar J\",32)\n",
    "\n",
    "## p is an object of class person"
   ]
  },
  {
   "cell_type": "code",
   "execution_count": 53,
   "id": "a695157d-da90-4a0d-ac95-1fae3528b9b3",
   "metadata": {},
   "outputs": [],
   "source": [
    "## p1 is an object of class person1\n",
    "p1 = person1(\"Virat Kohli\",34)"
   ]
  },
  {
   "cell_type": "code",
   "execution_count": 54,
   "id": "5e1ef324-079c-40ba-86d2-0e01fa44fd45",
   "metadata": {},
   "outputs": [
    {
     "data": {
      "text/plain": [
       "('Arun Kumar J', 32)"
      ]
     },
     "execution_count": 54,
     "metadata": {},
     "output_type": "execute_result"
    }
   ],
   "source": [
    "p.display_details()"
   ]
  },
  {
   "cell_type": "code",
   "execution_count": 55,
   "id": "76a7187c-a5da-4766-bc92-a25f74bcd25c",
   "metadata": {},
   "outputs": [
    {
     "data": {
      "text/plain": [
       "('Virat Kohli', 34)"
      ]
     },
     "execution_count": 55,
     "metadata": {},
     "output_type": "execute_result"
    }
   ],
   "source": [
    "p1.display_details()"
   ]
  },
  {
   "cell_type": "code",
   "execution_count": null,
   "id": "839fc7e4-d0d1-47b1-82cc-9f05d56ec295",
   "metadata": {},
   "outputs": [],
   "source": []
  },
  {
   "cell_type": "markdown",
   "id": "18240ba5-c83a-414c-bfae-2b50db3e5202",
   "metadata": {},
   "source": [
    "### Q5. What is inheritance? Give an example for each type of inheritance."
   ]
  },
  {
   "cell_type": "markdown",
   "id": "ad85ecb0-a19b-485f-bc4c-905aedc3e1b3",
   "metadata": {},
   "source": [
    "Inheritance allows us to define a class that inherits all the methods and properties from another class.\n",
    "\n",
    "Parent class is the class being inherited from, also called base class.\n",
    "\n",
    "Child class is the class that inherits from another class, also called derived class.\n",
    "\n",
    "There are 5 types of Inheritance - \n",
    "\n",
    "1. Single inheritance\n",
    "2. Multiple inheritances\n",
    "3. Multilevel inheritance\n",
    "4. Hierarchical inheritance\n",
    "5. Hybrid inheritance"
   ]
  },
  {
   "cell_type": "markdown",
   "id": "6765fa03-092c-4e07-8faf-8e8596a60a61",
   "metadata": {},
   "source": [
    "Single inheritance\n",
    "\n",
    "1. When child class is derived from only one parent class. This is called single inheritance. "
   ]
  },
  {
   "cell_type": "code",
   "execution_count": 56,
   "id": "e2ec7e34-6aae-419d-b72f-a67d38c8a097",
   "metadata": {},
   "outputs": [],
   "source": [
    "## SINGLE INHERITANCE\n",
    "## class_add --> parent class, where we perform only addiiton operations.\n",
    "class class_add:\n",
    "    def __init__(self,a,b):\n",
    "        self.a = a\n",
    "        self.b = b\n",
    "\n",
    "    def display_addition_result(self):\n",
    "        return self.a+self.b"
   ]
  },
  {
   "cell_type": "code",
   "execution_count": 3,
   "id": "4aa06f67-9a18-49de-a670-23923020e4ff",
   "metadata": {},
   "outputs": [],
   "source": [
    "## class_sub is a child class of class_add.\n",
    "## class_sub -- inherits the properties of class_add\n",
    "class class_sub(class_add):\n",
    "    def __init__(self,a,b):\n",
    "        self.a = a\n",
    "        self.b = b\n",
    "\n",
    "    def display_subtraction_result(self):\n",
    "        return self.a-self.b"
   ]
  },
  {
   "cell_type": "code",
   "execution_count": 11,
   "id": "0579e4fe-212e-4230-afa8-027cb013b1f6",
   "metadata": {},
   "outputs": [],
   "source": [
    "c1_add = class_add(200,20)    \n",
    "c2_sub = class_sub(200,20)  "
   ]
  },
  {
   "cell_type": "code",
   "execution_count": 12,
   "id": "af3e6f91-a5c8-4af4-8d6b-717694f1e1ac",
   "metadata": {},
   "outputs": [
    {
     "data": {
      "text/plain": [
       "220"
      ]
     },
     "execution_count": 12,
     "metadata": {},
     "output_type": "execute_result"
    }
   ],
   "source": [
    "c1_add.display_addition_result()"
   ]
  },
  {
   "cell_type": "code",
   "execution_count": 13,
   "id": "49d58b9d-08c1-4b92-abde-10690eb0a293",
   "metadata": {},
   "outputs": [
    {
     "data": {
      "text/plain": [
       "220"
      ]
     },
     "execution_count": 13,
     "metadata": {},
     "output_type": "execute_result"
    }
   ],
   "source": [
    "c2_sub.display_addition_result()  ## child class is able to access parent class method"
   ]
  },
  {
   "cell_type": "code",
   "execution_count": 14,
   "id": "a2de92b8-fb7a-4630-821c-3854583e86cd",
   "metadata": {},
   "outputs": [
    {
     "data": {
      "text/plain": [
       "180"
      ]
     },
     "execution_count": 14,
     "metadata": {},
     "output_type": "execute_result"
    }
   ],
   "source": [
    "c2_sub.display_subtraction_result() ### child class is able to access its own methods as well"
   ]
  },
  {
   "cell_type": "code",
   "execution_count": null,
   "id": "1734d294-bd9f-435b-b66c-3de2a73c65bc",
   "metadata": {},
   "outputs": [],
   "source": []
  },
  {
   "cell_type": "markdown",
   "id": "add96927-9e3a-4a99-b2d1-d53c208ce80a",
   "metadata": {},
   "source": [
    "##### Multi-Level Inheritance\n",
    "\n",
    "1. In multilevel inheritance, we have one parent class and child class that is derived or inherited from that parent class.\n",
    "2. We have a grand-child class that is derived from the child class."
   ]
  },
  {
   "cell_type": "code",
   "execution_count": 56,
   "id": "05e96c05-ce96-4a8d-bd5b-ee0b5ff9ac0c",
   "metadata": {},
   "outputs": [],
   "source": [
    "## class_add --> parent class, where we perform only addiiton operations.\n",
    "class class_add:\n",
    "    def __init__(self,a,b):\n",
    "        self.a = a\n",
    "        self.b = b\n",
    "\n",
    "    def display_addition_result(self):\n",
    "        return self.a+self.b"
   ]
  },
  {
   "cell_type": "code",
   "execution_count": 57,
   "id": "f6386514-8b61-48f5-8361-8fab348e5123",
   "metadata": {},
   "outputs": [],
   "source": [
    "## class_sub is a child class of class_add.\n",
    "## class_sub -- inherits the properties of class_add\n",
    "class class_sub(class_add):\n",
    "    def __init__(self,a,b):\n",
    "        self.a = a\n",
    "        self.b = b\n",
    "\n",
    "    def display_subtraction_result(self):\n",
    "        return self.a-self.b"
   ]
  },
  {
   "cell_type": "code",
   "execution_count": 58,
   "id": "a2afbfb3-1d13-4a16-ab5e-5730788f062d",
   "metadata": {},
   "outputs": [],
   "source": [
    "## class_div is child_sub, which has all the properties of class_add & class_sub.\n",
    "class class_div(class_sub):\n",
    "    def __init__(self,a,b):\n",
    "        self.a = a\n",
    "        self.b = b\n",
    "\n",
    "    def display_division_result(self):\n",
    "        return self.a/self.b"
   ]
  },
  {
   "cell_type": "code",
   "execution_count": 59,
   "id": "4f532795-3e3e-47e1-8c2b-7dc240b61c6f",
   "metadata": {},
   "outputs": [],
   "source": [
    "c1_add = class_add(100,20)    \n",
    "c2_sub = class_sub(100,20)   \n",
    "c3_div = class_div(100,20)"
   ]
  },
  {
   "cell_type": "code",
   "execution_count": 60,
   "id": "c1e5c482-d767-4b22-8712-51b845b51e0b",
   "metadata": {},
   "outputs": [
    {
     "data": {
      "text/plain": [
       "120"
      ]
     },
     "execution_count": 60,
     "metadata": {},
     "output_type": "execute_result"
    }
   ],
   "source": [
    "c1_add.display_addition_result()\n",
    "\n",
    "## c1_add - object of class_add and has one function - display_addition_result() as its properties\n"
   ]
  },
  {
   "cell_type": "code",
   "execution_count": 61,
   "id": "1146a22b-0e92-4027-98fe-d7310d0ede06",
   "metadata": {},
   "outputs": [
    {
     "data": {
      "text/plain": [
       "120"
      ]
     },
     "execution_count": 61,
     "metadata": {},
     "output_type": "execute_result"
    }
   ],
   "source": [
    "## c2_sub - object of class_sub and has both function - display_addition_result() & display_subtraction_result as its properties\n",
    "\n",
    "c2_sub.display_addition_result()  ## --> Inherited property"
   ]
  },
  {
   "cell_type": "code",
   "execution_count": 62,
   "id": "ba351d6b-aac0-4a5b-a85c-4c883c13b85a",
   "metadata": {},
   "outputs": [
    {
     "data": {
      "text/plain": [
       "80"
      ]
     },
     "execution_count": 62,
     "metadata": {},
     "output_type": "execute_result"
    }
   ],
   "source": [
    "c2_sub.display_subtraction_result()  ## --> base property of the class_sub"
   ]
  },
  {
   "cell_type": "code",
   "execution_count": 63,
   "id": "fa04881c-ef05-4132-8028-d6109bbbb588",
   "metadata": {},
   "outputs": [
    {
     "data": {
      "text/plain": [
       "120"
      ]
     },
     "execution_count": 63,
     "metadata": {},
     "output_type": "execute_result"
    }
   ],
   "source": [
    "## c3_sdiv - object of class_div and has all 3 function of display_addition_result() & display_subtraction_result & display_division_result as its properties\n",
    "\n",
    "c3_div.display_addition_result()   ## inherted from class_sub, and this fucntion is inherted from class_add by class_sub."
   ]
  },
  {
   "cell_type": "code",
   "execution_count": 64,
   "id": "37aa0b40-d8c4-4bfc-ab67-24bbce054318",
   "metadata": {},
   "outputs": [
    {
     "data": {
      "text/plain": [
       "80"
      ]
     },
     "execution_count": 64,
     "metadata": {},
     "output_type": "execute_result"
    }
   ],
   "source": [
    "c3_div.display_subtraction_result() ## inherted from class_sub\n"
   ]
  },
  {
   "cell_type": "code",
   "execution_count": 65,
   "id": "d17bb0dd-f716-4008-adb6-b8b44e73acc8",
   "metadata": {},
   "outputs": [
    {
     "data": {
      "text/plain": [
       "5.0"
      ]
     },
     "execution_count": 65,
     "metadata": {},
     "output_type": "execute_result"
    }
   ],
   "source": [
    "c3_div.display_division_result() ## --> base property of the class_div"
   ]
  },
  {
   "cell_type": "code",
   "execution_count": null,
   "id": "474d08dc-5864-425c-9b3c-1257868eb73a",
   "metadata": {},
   "outputs": [],
   "source": []
  },
  {
   "cell_type": "markdown",
   "id": "9d55a898-ae97-4662-81f8-43b276f6434c",
   "metadata": {},
   "source": [
    "#### Multiple Inheritance\n",
    "\n",
    "1. When child class is derived or inherited from more than one parent class. This is called multiple inheritance. \n",
    "2. In multiple inheritance, we have two parent classes/base classes and one child class that inherits both parent classes properties."
   ]
  },
  {
   "cell_type": "code",
   "execution_count": 66,
   "id": "724a19ed-6d2f-4517-b3a0-8b92d5cd2040",
   "metadata": {},
   "outputs": [],
   "source": [
    "## class_1 --> parent class, where we perform addiiton  & subtraction operations.\n",
    "class class_1:\n",
    "    def __init__(self,a,b):\n",
    "        self.a = a\n",
    "        self.b = b\n",
    "\n",
    "    def display_addition_result(self):\n",
    "        return self.a+self.b\n",
    "    \n",
    "    def display_subtraction_result(self):\n",
    "        return self.a-self.b"
   ]
  },
  {
   "cell_type": "code",
   "execution_count": 67,
   "id": "0663240f-9749-4da5-96f4-2fcf085f40b9",
   "metadata": {},
   "outputs": [],
   "source": [
    "## class_2--> parent class, where we perform only division operations.\n",
    "class class_2:\n",
    "    def __init__(self,a,b):\n",
    "        self.a = a\n",
    "        self.b = b\n",
    "\n",
    "    def display_division_result(self):\n",
    "        return self.a/self.b"
   ]
  },
  {
   "cell_type": "code",
   "execution_count": 68,
   "id": "af0647df-2a8d-4420-867c-bd89320e6113",
   "metadata": {},
   "outputs": [],
   "source": [
    "## we will try to inherit the properties of class_1 & class_2 to class_3\n",
    "## class_3--> child class of class_1 & class_2, where it will inherit the properties from class_1, class-2.\n",
    "## also will have its owne property - to perform multiplication operations.\n",
    "\n",
    "class class_3(class_1,class_2):\n",
    "    def __init__(self,a,b):\n",
    "        self.a = a\n",
    "        self.b = b\n",
    "    \n",
    "    def display_multiplication_result(self):\n",
    "        return self.a*self.b"
   ]
  },
  {
   "cell_type": "code",
   "execution_count": 69,
   "id": "207069c7-2f27-4b41-bcd1-7b4b3b7e013a",
   "metadata": {},
   "outputs": [],
   "source": [
    "c1 = class_1(100,20)\n",
    "c2 = class_2(100,20)\n",
    "c3 = class_3(100,20)"
   ]
  },
  {
   "cell_type": "code",
   "execution_count": 70,
   "id": "7f0d71d3-c175-439f-bd36-2da233d077e9",
   "metadata": {},
   "outputs": [
    {
     "data": {
      "text/plain": [
       "120"
      ]
     },
     "execution_count": 70,
     "metadata": {},
     "output_type": "execute_result"
    }
   ],
   "source": [
    "## object c1 of class_1 - has 2 fucntions - addition & subtractions\n",
    "\n",
    "c1.display_addition_result()"
   ]
  },
  {
   "cell_type": "code",
   "execution_count": 71,
   "id": "10316a78-973e-49ef-9060-55c5f1f19e4f",
   "metadata": {},
   "outputs": [
    {
     "data": {
      "text/plain": [
       "80"
      ]
     },
     "execution_count": 71,
     "metadata": {},
     "output_type": "execute_result"
    }
   ],
   "source": [
    "c1.display_subtraction_result()"
   ]
  },
  {
   "cell_type": "code",
   "execution_count": 72,
   "id": "a247a355-727b-4f8b-abc7-62c5ae09451b",
   "metadata": {},
   "outputs": [
    {
     "data": {
      "text/plain": [
       "5.0"
      ]
     },
     "execution_count": 72,
     "metadata": {},
     "output_type": "execute_result"
    }
   ],
   "source": [
    "## object c2 of class_2 - has only 1 fucntions - division\n",
    "c2.display_division_result()"
   ]
  },
  {
   "cell_type": "code",
   "execution_count": 73,
   "id": "3849d483-745f-4911-84da-33f591040bdf",
   "metadata": {},
   "outputs": [
    {
     "data": {
      "text/plain": [
       "120"
      ]
     },
     "execution_count": 73,
     "metadata": {},
     "output_type": "execute_result"
    }
   ],
   "source": [
    "## object c3 of class_3 - has all the 4 fucntions - addition, subtraction & division --> Inherited properties\n",
    "## Division fucntion --> its own function.\n",
    "c3.display_addition_result()"
   ]
  },
  {
   "cell_type": "code",
   "execution_count": 74,
   "id": "ae718edd-7ad0-4471-9641-5919f0d8c23f",
   "metadata": {},
   "outputs": [
    {
     "data": {
      "text/plain": [
       "80"
      ]
     },
     "execution_count": 74,
     "metadata": {},
     "output_type": "execute_result"
    }
   ],
   "source": [
    "c3.display_subtraction_result()"
   ]
  },
  {
   "cell_type": "code",
   "execution_count": 75,
   "id": "160b4eb4-d7d4-488b-b270-3807fc631cd0",
   "metadata": {},
   "outputs": [
    {
     "data": {
      "text/plain": [
       "5.0"
      ]
     },
     "execution_count": 75,
     "metadata": {},
     "output_type": "execute_result"
    }
   ],
   "source": [
    "c3.display_division_result()"
   ]
  },
  {
   "cell_type": "code",
   "execution_count": 76,
   "id": "090e13ca-2065-4dc6-9b1e-15a659c7ada5",
   "metadata": {},
   "outputs": [
    {
     "data": {
      "text/plain": [
       "2000"
      ]
     },
     "execution_count": 76,
     "metadata": {},
     "output_type": "execute_result"
    }
   ],
   "source": [
    "c3.display_multiplication_result()"
   ]
  },
  {
   "cell_type": "code",
   "execution_count": null,
   "id": "6acee4ae-521f-4e8c-9746-642c47bbe634",
   "metadata": {},
   "outputs": [],
   "source": []
  },
  {
   "cell_type": "markdown",
   "id": "4d3efc23-0919-4cbd-9c03-24f298af0317",
   "metadata": {},
   "source": [
    "#### 4. Hierarchical inheritance:\n",
    "\n",
    "1. When we derive or inherit more than one child class from one(same) parent class. Then this type of inheritance is called hierarchical inheritance."
   ]
  },
  {
   "cell_type": "code",
   "execution_count": 15,
   "id": "21c49ab1-6873-4dc4-b5b2-f4c4192dea24",
   "metadata": {},
   "outputs": [],
   "source": [
    "## class_1_calculator --> parent classperform all +, - , *, / operations.\n",
    "class class_1_calculator:\n",
    "    def __init__(self,a,b):\n",
    "        self.a = a\n",
    "        self.b = b\n",
    "\n",
    "    def display_addition_result(self):\n",
    "        return self.a+self.b\n",
    "    \n",
    "    def display_subtraction_result(self):\n",
    "        return self.a-self.b\n",
    "    \n",
    "    def display_division_result(self):\n",
    "        return self.a/self.b\n",
    "    \n",
    "    def display_mulitplication_result(self):\n",
    "        return self.a*self.b"
   ]
  },
  {
   "cell_type": "code",
   "execution_count": 16,
   "id": "a0d15dd3-e74c-44a7-9b65-eb49e76c38c4",
   "metadata": {},
   "outputs": [],
   "source": [
    "class class_child_1(class_1_calculator):  ## child class  1 inheriting all the methods from parents class\n",
    "    pass"
   ]
  },
  {
   "cell_type": "code",
   "execution_count": 17,
   "id": "999dd564-64f9-4461-8f0f-5d679403b993",
   "metadata": {},
   "outputs": [],
   "source": [
    "class class_child_2(class_1_calculator):  ## child class2  inheriting all the methods from parents class\n",
    "    pass"
   ]
  },
  {
   "cell_type": "code",
   "execution_count": 22,
   "id": "ec0e3136-d717-4c60-bd80-9783f80c80c2",
   "metadata": {},
   "outputs": [],
   "source": [
    "obj1 = class_1_calculator(200,10)\n",
    "obj2 = class_child_1(200,10)\n",
    "obj3 = class_child_2(200,10)"
   ]
  },
  {
   "cell_type": "code",
   "execution_count": 23,
   "id": "12ae7dc2-8855-4b3f-991e-d3504a3fdc25",
   "metadata": {},
   "outputs": [
    {
     "data": {
      "text/plain": [
       "20.0"
      ]
     },
     "execution_count": 23,
     "metadata": {},
     "output_type": "execute_result"
    }
   ],
   "source": [
    "## lets try to access display_division_result() usuing class_child_1\n",
    "obj2.display_division_result()"
   ]
  },
  {
   "cell_type": "code",
   "execution_count": 25,
   "id": "490ef06c-f78c-4637-a718-fa560794d2ae",
   "metadata": {},
   "outputs": [
    {
     "data": {
      "text/plain": [
       "190"
      ]
     },
     "execution_count": 25,
     "metadata": {},
     "output_type": "execute_result"
    }
   ],
   "source": [
    "## lets try to access display_subtraction_result() usuing class_child_3\n",
    "obj3.display_subtraction_result()"
   ]
  },
  {
   "cell_type": "code",
   "execution_count": null,
   "id": "d6431789-820b-40fd-b42e-f69e76042847",
   "metadata": {},
   "outputs": [],
   "source": []
  },
  {
   "cell_type": "markdown",
   "id": "d0cd4071-3b0f-4252-b5ce-e75ca957723b",
   "metadata": {},
   "source": [
    "\n",
    "#### Hybrid Inheritance:\n",
    "\n",
    "1. Hybrid inheritance satisfies more than one form of inheritance ie. It may be consists of all types of inheritance t"
   ]
  },
  {
   "cell_type": "code",
   "execution_count": 26,
   "id": "6860f03d-92ef-44cf-ab54-bb960714097f",
   "metadata": {},
   "outputs": [],
   "source": [
    "## class_1_calculator --> parent classperform all +, -  operations.\n",
    "class class_1_calculator:\n",
    "    def __init__(self,a,b):\n",
    "        self.a = a\n",
    "        self.b = b\n",
    "\n",
    "    def display_addition_result(self):\n",
    "        return self.a+self.b\n",
    "    \n",
    "    def display_subtraction_result(self):\n",
    "        return self.a-self.b"
   ]
  },
  {
   "cell_type": "code",
   "execution_count": 27,
   "id": "bc494431-1dc5-4e1a-8c77-19fb03576333",
   "metadata": {},
   "outputs": [],
   "source": [
    "## class_2_calculator --> parent classperform all  *, / operations.\n",
    "class class_2_calculator:\n",
    "    def __init__(self,a,b):\n",
    "        self.a = a\n",
    "        self.b = b\n",
    "\n",
    "    def display_division_result(self):\n",
    "        return self.a/self.b\n",
    "    \n",
    "    def display_mulitplication_result(self):\n",
    "        return self.a*self.b"
   ]
  },
  {
   "cell_type": "code",
   "execution_count": 33,
   "id": "b7d82382-c5d9-4ac3-b73f-6f8884a2ccc4",
   "metadata": {},
   "outputs": [],
   "source": [
    "class class_3_modulus(class_2_calculator):  ## class_3_modulus is inheriting the properties of class_2_calculator\n",
    "    def __init__(self,a,b):\n",
    "        self.a = a\n",
    "        self.b = b\n",
    "\n",
    "    def display_modulus_result(self):\n",
    "        return self.a%self.b\n",
    "    "
   ]
  },
  {
   "cell_type": "code",
   "execution_count": 36,
   "id": "0b00f644-db85-4f4b-98a4-752f14e91797",
   "metadata": {},
   "outputs": [],
   "source": [
    "## now i will create a class 4, where i will have all +,-,/,* & % functionality in it."
   ]
  },
  {
   "cell_type": "code",
   "execution_count": 37,
   "id": "ecc0fbba-8e98-442a-b4fe-c49bb32e2b65",
   "metadata": {},
   "outputs": [],
   "source": [
    "class class_4_final(class_1_calculator,class_3_modulus):  ## class_4_final is inheriting the properties of class_1_calculator, \n",
    "    pass                                                   ## class_3_modulus - inherited properties as well  as its own properties                 \n",
    "    "
   ]
  },
  {
   "cell_type": "code",
   "execution_count": 38,
   "id": "1640a406-3a83-421c-a379-414a0e4c26db",
   "metadata": {},
   "outputs": [],
   "source": [
    "class_4_obj = class_4_final(200,10)"
   ]
  },
  {
   "cell_type": "code",
   "execution_count": 39,
   "id": "6310cf3a-99d6-4425-8e2e-9185601b4476",
   "metadata": {},
   "outputs": [
    {
     "data": {
      "text/plain": [
       "210"
      ]
     },
     "execution_count": 39,
     "metadata": {},
     "output_type": "execute_result"
    }
   ],
   "source": [
    "class_4_obj.display_addition_result()    # class_4_obj has all the methods from class 1,2,3"
   ]
  },
  {
   "cell_type": "code",
   "execution_count": 40,
   "id": "0dcb7e36-9f2b-45c2-922c-0027df1c8af5",
   "metadata": {},
   "outputs": [
    {
     "data": {
      "text/plain": [
       "20.0"
      ]
     },
     "execution_count": 40,
     "metadata": {},
     "output_type": "execute_result"
    }
   ],
   "source": [
    "class_4_obj.display_division_result()"
   ]
  },
  {
   "cell_type": "code",
   "execution_count": 41,
   "id": "6ff8ab53-2aeb-4fd6-863a-436aa8593a81",
   "metadata": {},
   "outputs": [
    {
     "data": {
      "text/plain": [
       "0"
      ]
     },
     "execution_count": 41,
     "metadata": {},
     "output_type": "execute_result"
    }
   ],
   "source": [
    "class_4_obj.display_modulus_result()"
   ]
  },
  {
   "cell_type": "code",
   "execution_count": 42,
   "id": "a72f5c60-69c1-4cbb-8f46-1172dd28b4fa",
   "metadata": {},
   "outputs": [
    {
     "data": {
      "text/plain": [
       "2000"
      ]
     },
     "execution_count": 42,
     "metadata": {},
     "output_type": "execute_result"
    }
   ],
   "source": [
    "class_4_obj.display_mulitplication_result()"
   ]
  },
  {
   "cell_type": "code",
   "execution_count": 43,
   "id": "a6e5c375-e8fb-494f-a201-e23405f3d0d1",
   "metadata": {},
   "outputs": [
    {
     "data": {
      "text/plain": [
       "190"
      ]
     },
     "execution_count": 43,
     "metadata": {},
     "output_type": "execute_result"
    }
   ],
   "source": [
    "class_4_obj.display_subtraction_result()"
   ]
  },
  {
   "cell_type": "code",
   "execution_count": null,
   "id": "8fc083f1-f8fc-4d2e-ba2b-d1449ed4a7fc",
   "metadata": {},
   "outputs": [],
   "source": []
  }
 ],
 "metadata": {
  "kernelspec": {
   "display_name": "Python 3 (ipykernel)",
   "language": "python",
   "name": "python3"
  },
  "language_info": {
   "codemirror_mode": {
    "name": "ipython",
    "version": 3
   },
   "file_extension": ".py",
   "mimetype": "text/x-python",
   "name": "python",
   "nbconvert_exporter": "python",
   "pygments_lexer": "ipython3",
   "version": "3.10.8"
  }
 },
 "nbformat": 4,
 "nbformat_minor": 5
}
