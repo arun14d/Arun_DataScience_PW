{
 "cells": [
  {
   "cell_type": "markdown",
   "id": "8c51c557-5638-4cc5-9621-e189e724a7b1",
   "metadata": {},
   "source": [
    "### WEB API Assignment "
   ]
  },
  {
   "cell_type": "markdown",
   "id": "c304e318-f8be-4a14-abf7-cef1b3e3c089",
   "metadata": {},
   "source": [
    "----------------------"
   ]
  },
  {
   "cell_type": "markdown",
   "id": "e8d3a7d0-ab2f-4192-aeb8-b84cc798842b",
   "metadata": {},
   "source": [
    "#### Q1. What is an API? Give an example, where an API is used in real life.\n",
    "\n",
    "\n",
    "\n"
   ]
  },
  {
   "cell_type": "markdown",
   "id": "4105e7bb-43c0-441f-8c8b-6eafd9f94299",
   "metadata": {},
   "source": [
    "API stands for application programming interface, which is a set of definitions and protocols for building and integrating application software.\n",
    "\n",
    "1. In the context of APIs, the word Application refers to any software with a distinct function. \n",
    "2. Interface can be thought of as a contract of service between two applications. \n",
    "3. This contract defines how the two communicate with each other using requests and responses."
   ]
  },
  {
   "cell_type": "markdown",
   "id": "60f03593-4850-4c6a-8875-5355e7d63ec1",
   "metadata": {},
   "source": [
    "**Paying with Google Pay**\n",
    "\n",
    "Example:- My account is with ICICI Bank account and i try to use Gpay for transaction of 1000 rs to my friend Suresh.\n",
    "\n",
    "There is API between Google pay and ICICI mobile bank.\n",
    "\n",
    "Whenever i login to Gpay and try to send money, at the backend lot of operations happens between gpay and the bank side server.\n",
    "\n",
    "Like if the account exists, validation of the account, and check balance, and if all successful, it will initiate a transaction and transfer of money if there is balance.\n"
   ]
  },
  {
   "cell_type": "markdown",
   "id": "9e72d18f-855c-43ef-961f-a7a8303cd9cc",
   "metadata": {},
   "source": [
    "-------------------------"
   ]
  },
  {
   "cell_type": "markdown",
   "id": "71ae6b7b-9581-43eb-b513-8273d64c8f81",
   "metadata": {},
   "source": [
    "#### Q2. Give advantages and disadvantages of using API."
   ]
  },
  {
   "cell_type": "markdown",
   "id": "5b6fd64d-3a0c-444a-9997-fd0833c35116",
   "metadata": {},
   "source": [
    "**Advantages**\n",
    "\n",
    "API offers several advantages with the main one being speed. Requests and responses are exchanged within seconds as opposed to minutes, or in some instances even hours. Other advantages include:\n",
    "\n",
    " \n",
    "\n",
    "1. Automation - When using an API managed by computers, less human effort is required and workflows can be easily updated to become faster and more productive.\n",
    "2. Developer efficiency and innovation - APIs empower developers to be more productive by reusing code in complex but repetitive processes. They don’t need to start from scratch as the API specifies how to assemble software components in a program.\n",
    "3. Improved value proposition - By using APIs made available by companies such as Amazon, Salesforce, or Twitter, an application can integrate those services into their own systems to make themselves more attractive to customers.\n",
    "\n",
    "**Disadvantages**\n",
    "\n",
    "The disadvantages of application programming interfaces include:\n",
    "\n",
    " \n",
    "\n",
    "1. Implementing and providing API capabilities can be costly in terms of development times, ongoing maintenance requirements, and providing support.\n",
    "2. Scaling API requires extensive programming knowledge and the learning curve can fairly steep when understanding how to extend the capabilities of your API framework.\n",
    "3. Security can be a concern as APIs add another potential attack layer to programs/websites.\n",
    "4. Poor integration means that an API can be vulnerable to attacks, yet data breaches or losses have huge ramifications when it comes to the finances and reputation of a company. \n",
    "\n"
   ]
  },
  {
   "cell_type": "markdown",
   "id": "9398b56c-68d5-4682-9cf3-2f797e4be663",
   "metadata": {},
   "source": [
    "----------------------------------------------"
   ]
  },
  {
   "cell_type": "markdown",
   "id": "604a842d-8660-46a3-abc5-a41656d107aa",
   "metadata": {},
   "source": [
    "#### Q3. What is a Web API? Differentiate between API and Web API."
   ]
  },
  {
   "cell_type": "markdown",
   "id": "8e5b1490-4395-410a-9427-44c79b3f0924",
   "metadata": {},
   "source": [
    "1. Web API is an API as the name suggests, it can be accessed over the web using the HTTP protocol. \n",
    "2. It is a framework that helps you to create and develop HTTP based RESTFUL services. \n",
    "3. The web API can be developed by using different technologies such as java, ASP.NET, etc. \n",
    "4. Web API is used in either a web server or a web browser. Basically Web API is a web development concept.\n",
    "5. It is limited to Web Application’s client-side and also it does not include a web server or web browser details."
   ]
  },
  {
   "cell_type": "markdown",
   "id": "81fc6015-9869-4399-88e8-99be2eb09632",
   "metadata": {},
   "source": [
    "|Diff B/W | API | WEB API|\n",
    "|---|---|---|\n",
    "|1. | An API acts as an interface between two different applications so that they can communicate with each other | Web service facilitates interaction between two machines over a network |\n",
    "|2. | An API is a method by which the third-party vendors can write programs that interface easily with other programs | A Web service is designed to have an interface that is depicted in a machine-processable format usually specified in Web Service Description Language (WSDL).|\n",
    "|3. | API doesn’t always need to be web based. | A Web service is merely an API wrapped in HTTP. |\n",
    "|4. | An API consists of a complete set of rules and specifications for a software program to follow in order to facilitate interaction. | A Web service might not contain a complete set of specifications and sometimes might not be able to perform all the tasks that may be possible from a complete API. |\n"
   ]
  },
  {
   "cell_type": "markdown",
   "id": "04c6a07c-6b95-46d2-82f4-7ca734ef6aff",
   "metadata": {},
   "source": [
    "---------"
   ]
  },
  {
   "cell_type": "markdown",
   "id": "1865d74e-0de2-4bdf-99b9-5429c408afa3",
   "metadata": {},
   "source": [
    "#### Q4. Explain REST and SOAP Architecture. Mention shortcomings of SOAP."
   ]
  },
  {
   "cell_type": "markdown",
   "id": "ad21d14c-89b1-4549-b309-6ac8234d2142",
   "metadata": {},
   "source": [
    "##### **REST**\n",
    "\n",
    "1. REST stands for REpresentational State Transfer. It is an architectural style that provides standards between computer systems on a web service. \n",
    "\n",
    "2. It is a set of constraints used to create a lightweight, scalable, and maintainable web service that facilitates easy communication. \n",
    "\n",
    "3. It is a set of constraints used to create a lightweight, scalable and maintainable web service that makes easy communication with each other. All web services are based on the REST; hence it is called a RESTful service. \n",
    "\n",
    "4. The purpose of developing a RESTful web service is to make the web service more effective.\n",
    "\n",
    "5. HTTP Protocol based protocol\n",
    "    1. Considering REST we usually think of HTTP-based applications\n",
    "    2. The HTTP method describes the action that the client wants to perform on the resource. There are four basic, most used methods: GET, POST, PUT, and DELETE. \n",
    "    3. GET is used to read the resource.\n",
    "    4. POST is used to transfer data to the server.\n",
    "    5. PUT is similar to POST. Although, it differs significantly. It’s used to update the existing resource. It overrides the whole resource with transferred data. \n",
    "    6. The HTTP response comes with the response code\n",
    "    \n",
    "\n",
    "2. REST is know for  simple & scalabilty in upscaling based on the resources.\n",
    "\n",
    "3. REST is Flexible"
   ]
  },
  {
   "cell_type": "markdown",
   "id": "6cb5c495-29d9-4ca8-97e3-a81416d421c3",
   "metadata": {},
   "source": [
    "##### **SOAP**\n",
    "\n",
    "1. SOAP stands for Simple Object Access Protocol is a network platform used in a web service to exchange or communicate data between two different machines on a network.\n",
    "\n",
    "2. It uses the XML format of data to transfer messages over the HTTP protocol.\n",
    "\n",
    "\n",
    "1. XML based protocol, and uses WSDL - web service description langauge \n",
    "\n",
    "2. Also supports TCP, HTTP, SMTP protocols.\n",
    "\n"
   ]
  },
  {
   "cell_type": "markdown",
   "id": "5be955a2-999f-4a37-af28-dee9fc82a8db",
   "metadata": {},
   "source": [
    "**Disadvantages**\n",
    "\n",
    "1. Highly complex - \n",
    "    1. In comparison to Rest, SOAP is significantly more complex. \n",
    "    2. It's also less flexible. This might present a challenge for developers that are not highly skilled. \n",
    "    3. The extensive processing required may also slow down performance.\n",
    "\n",
    "2. No variety of data formats - \n",
    "    1. SOAP is also extremely limited in its support of data formats. The formats supported by Rest include HTML, JSON, YAML, XML and others. Meanwhile, SOAP only supports XML.\n",
    "\n",
    "3. API calls are not cached -\n",
    "    1. The process where a request is sent after an API is set up with the correct endpoints is referred to as an API call.\n",
    "    2. The process results in the information being transferred, processed and feedback being provided. It's not possible for SOAP API calls to be cached.\n",
    "\n",
    "4. Uses more bandwidth -\n",
    "    1. SOAP is generally slower in comparison to Rest and it also uses more bandwidth given its very complex nature.\n",
    "    2. It’s another limiting factor in the efficacy of this technology for certain projects.\n"
   ]
  },
  {
   "cell_type": "markdown",
   "id": "e3abbbf0-8803-4f16-a28b-c76510f1ecd1",
   "metadata": {},
   "source": [
    "----------------------"
   ]
  },
  {
   "cell_type": "markdown",
   "id": "319df01c-d484-47e1-b568-01303c219c8d",
   "metadata": {},
   "source": [
    "#### Q5. Differentiate between REST and SOAP."
   ]
  },
  {
   "cell_type": "markdown",
   "id": "37e5c209-4525-41de-94c8-810292dc7736",
   "metadata": {},
   "source": [
    "|Diff B/W | SOAP Web Service | REST Web Service |\n",
    "|---|---|---|\n",
    "|1. | It stands for Simple Object Access Protocol.\t| It stands for REpresentational State Transfer.|\n",
    "|2. |It is XML based messaging protocol.\t| It is not a protocol. It is an architectural style for distributed hypermedia system.|\n",
    "|3. |It needs more bandwidth and resources for better web performance.\t|REST requires less bandwidth and resources as compared to SOAP.|\n",
    "|4. |SOAP enforces XML as a message format.\t| It is not specifically applied that the message format must be XML or JSON, etc.|\n",
    "|5. |It has not great performance as compared to REST.|\tIt has better performance as compared to SOAP, less CPU intensive, lesser code, etc.|\n",
    "|6. |SOAP defines its security.|\tREST inherits security measures from the underlying transport.|\n",
    "|7. |It does not support error handling.\t|It has built-in error handling.|\n",
    "|8. |SOAP is a heavyweight XML protocol that requires more coding to send a message.|\tIt is a lightweight, scalable and maintainable.|\n",
    "|9. |It cannot be cached.|\tIt can be cached.|\n",
    "|10. |SOAP messages are wrapped in an envelope and sent to any transport mechanism such as SMTP, FTP, HTTP or any protocol.|\tIt relies on the HTTP protocol for communication between two machines.|"
   ]
  },
  {
   "cell_type": "markdown",
   "id": "886ac293-235d-413d-bf1b-07460f85e095",
   "metadata": {},
   "source": [
    "-----------------"
   ]
  }
 ],
 "metadata": {
  "kernelspec": {
   "display_name": "Python 3 (ipykernel)",
   "language": "python",
   "name": "python3"
  },
  "language_info": {
   "codemirror_mode": {
    "name": "ipython",
    "version": 3
   },
   "file_extension": ".py",
   "mimetype": "text/x-python",
   "name": "python",
   "nbconvert_exporter": "python",
   "pygments_lexer": "ipython3",
   "version": "3.10.8"
  }
 },
 "nbformat": 4,
 "nbformat_minor": 5
}
