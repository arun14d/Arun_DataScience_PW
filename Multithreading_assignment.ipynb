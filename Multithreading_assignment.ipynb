{
 "cells": [
  {
   "cell_type": "markdown",
   "id": "459cb920-3731-47fb-9748-5641642c4c38",
   "metadata": {},
   "source": [
    "\n",
    "# Multithreading Assignment"
   ]
  },
  {
   "cell_type": "markdown",
   "id": "e011cc7e-03ab-4cc6-8f50-74c81b264a9a",
   "metadata": {},
   "source": [
    "#### Q1). What is multithreading in python? why is it used? Name the module used to handle threads in python"
   ]
  },
  {
   "cell_type": "markdown",
   "id": "79f6215b-77c9-434b-881c-b5c514af44a2",
   "metadata": {},
   "source": [
    "#### Multi-Threading\n",
    "----------------\n",
    "\n",
    "Multithreading is a threading technique in Python programming to run multiple threads concurrently by rapidly switching between threads with a CPU help (called context switching). \n",
    "\n",
    "Besides, it allows sharing of its data space with the main threads inside a process that share information and communication with other threads easier than individual processes. \n",
    "\n",
    "Multithreading aims to perform multiple tasks simultaneously, which increases performance, speed and improves the rendering of the application.\n",
    "\n",
    "\n",
    "#### Benefits of Multithreading in Python\n",
    "-------------------------------------\n",
    "\n",
    "Following are the benefits to create a multithreaded application in Python, as follows:\n",
    "\n",
    "1. It ensures effective utilization of computer system resources.\n",
    "2. Multithreaded applications are more responsive.\n",
    "3. It shares resources and its state with sub-threads (child) which makes it more economical.\n",
    "4. It makes the multiprocessor architecture more effective due to similarity.\n",
    "5. It saves time by executing multiple threads at the same time.\n",
    "6. The system does not require too much memory to store multiple threads.\n",
    "\n",
    "\n",
    "#### When to use Multithreading in Python?\n",
    "-------------------------------------\n",
    "\n",
    "1. It is a very useful technique for time-saving \n",
    "2. and improving the performance of an application.\n",
    "3. Multithreading allows the programmer to divide application tasks into sub-tasks and simultaneously run them in a program. \n",
    "4. It allows threads to communicate and share resources such as files, data, and memory to the same processor. \n",
    "5. Furthermore, it increases the user's responsiveness to continue running a program even if a part of the application is the length or blocked.\n",
    "\n",
    "\n",
    "\n",
    "import threading  ---> module used to handle threads in python"
   ]
  },
  {
   "cell_type": "markdown",
   "id": "1c42c457-2534-4ed4-8c4d-8615cc177342",
   "metadata": {},
   "source": [
    "------------------------------------------\n"
   ]
  },
  {
   "cell_type": "markdown",
   "id": "e3b9ea31-f232-4596-9052-f62d4a15849f",
   "metadata": {},
   "source": [
    "#### Q2) Why threading module used? Write the use of the following functions\n",
    "1. activeCount\n",
    "2. currentThread\n",
    "3. enumerate"
   ]
  },
  {
   "cell_type": "markdown",
   "id": "a59aa0be-5087-428b-92d7-d7cffc79a597",
   "metadata": {},
   "source": [
    "Python threading allows us to have different parts of our program to run concurrently and can simplify our design.\n",
    "\n",
    "This module provides the following functions for managing threads\n",
    "\n",
    "The threading module exposes all the methods of the thread module and provides some additional methods\n",
    "\n",
    "\n",
    "1. **activeCount()** − Returns the number of thread objects that are active.\n",
    "\n",
    "2. **currentThread()** − Returns the number of thread objects in the caller's thread control. \n",
    "                              If the caller's thread of control was not created through the threading module(for example the main thread), then a dummy thread                               object with limited functionality is returned.\n",
    "\n",
    "3. **enumerate()** − Returns a list of all thread objects that are currently active.\n",
    "                           The list includes daemonic threads(when the program quits, all the daemon threads associated with it are killed automatically),                                dummy thread objects created by the current thread, and the main thread.\n",
    "                           Terminated threads and threads that have not yet been started are not present in this list."
   ]
  },
  {
   "cell_type": "markdown",
   "id": "996414c1-6b5c-435f-b888-d2832ca4a8bc",
   "metadata": {},
   "source": [
    "#####  **activeCount()** − Returns the number of thread objects that are active."
   ]
  },
  {
   "cell_type": "code",
   "execution_count": 28,
   "id": "71a6b373-a993-4a52-9eb3-462eb9dda1eb",
   "metadata": {},
   "outputs": [
    {
     "name": "stdout",
     "output_type": "stream",
     "text": [
      "Thread-3: Number of active threads: 11\n",
      "Thread 3 Value: 30\n",
      "\n",
      "Thread-1: Number of active threads: 10\n",
      "Thread 1 Value: 10\n",
      "\n",
      "Thread-2: Number of active threads: 9\n",
      "Thread 2 Value: 20\n",
      "\n"
     ]
    }
   ],
   "source": [
    "# Python program to explain the use of \n",
    "# active_count()  method in the Threading Module\n",
    "\n",
    "import time\n",
    "import threading\n",
    "\n",
    "def thread_1(i):\n",
    "    time.sleep(5)\n",
    "    print(\"Thread-1: Number of active threads:\", threading.active_count())\n",
    "    print('Thread 1 Value:', i)  \n",
    "    print()\n",
    "\n",
    "def thread_2(i):\n",
    "    time.sleep(10)\n",
    "    print(\"Thread-2: Number of active threads:\", threading.active_count())\n",
    "    print('Thread 2 Value:', i)  \n",
    "    print()\n",
    "    \n",
    "def thread_3(i):\n",
    "    time.sleep(4)\n",
    "    print(\"Thread-3: Number of active threads:\", threading.active_count())\n",
    "    print('Thread 3 Value:', i)  \n",
    "    print()\n",
    "    \n",
    "\n",
    "# Creating sample threads \n",
    "thread1 = threading.Thread(target=thread_1, args=(10,))\n",
    "thread2 = threading.Thread(target=thread_2, args=(20,))\n",
    "thread3 = threading.Thread(target=thread_3, args=(30,))\n",
    "\n",
    "# Starting the threads\n",
    "thread1.start()\n",
    "thread2.start()\n",
    "thread3.start()\n",
    "\n"
   ]
  },
  {
   "cell_type": "markdown",
   "id": "472bc4f6-0b2b-4005-af10-653992624b6a",
   "metadata": {},
   "source": [
    "##### currentThread() − Returns the number of thread objects in the caller's thread control. If the caller's thread of control was not created through the threading module(for example the main thread), then a dummy thread object with limited functionality is returned."
   ]
  },
  {
   "cell_type": "code",
   "execution_count": 29,
   "id": "cb767e4d-91c6-443d-9ae3-db46f3030e16",
   "metadata": {},
   "outputs": [
    {
     "name": "stdout",
     "output_type": "stream",
     "text": [
      "Active current thread right now: <Thread(Thread-53 (thread_3), started 140332461180480)>\n",
      "Value by Thread 3: 30\n",
      "\n",
      "Active current thread right now: <Thread(Thread-51 (thread_1), started 140332452787776)>\n",
      "Value by Thread 1: 10\n",
      "\n",
      "Active current thread right now: <Thread(Thread-52 (thread_2), started 140332444395072)>\n",
      "Value by Thread 2: 20\n",
      "\n"
     ]
    }
   ],
   "source": [
    "# Python program to explain the use of  current_thread()  method in the Threading Module\n",
    "\n",
    "def thread_1(i):\n",
    "    time.sleep(5)\n",
    "    print(\"Active current thread right now:\", (threading.current_thread()))\n",
    "    print('Value by Thread 1:', i)\n",
    "    print()\n",
    "\n",
    "def thread_2(i):\n",
    "    time.sleep(10)\n",
    "    print(\"Active current thread right now:\", (threading.current_thread()))\n",
    "    print('Value by Thread 2:', i)\n",
    "    print()\n",
    "    \n",
    "def thread_3(i):\n",
    "    time.sleep(4)\n",
    "    print(\"Active current thread right now:\", threading.current_thread())\n",
    "    print('Value by Thread 3:', i)\n",
    "    print()\n",
    "    \n",
    "\n",
    "# Creating sample threads \n",
    "thread1 = threading.Thread(target=thread_1, args=(10,))\n",
    "thread2 = threading.Thread(target=thread_2, args=(20,))\n",
    "thread3 = threading.Thread(target=thread_3, args=(30,))\n",
    "\n",
    "# Starting the threads\n",
    "thread1.start()\n",
    "thread2.start()\n",
    "thread3.start()"
   ]
  },
  {
   "cell_type": "markdown",
   "id": "bcf60602-8f43-4916-aabd-92f307f78b1d",
   "metadata": {},
   "source": [
    "##### enumerate() − Returns a list of all thread objects that are currently active"
   ]
  },
  {
   "cell_type": "code",
   "execution_count": 27,
   "id": "1004910a-9b91-4f4b-b44d-007428a42ecd",
   "metadata": {},
   "outputs": [
    {
     "name": "stdout",
     "output_type": "stream",
     "text": [
      "Threads alive when thread_3 executes\n",
      "<_MainThread(MainThread, started 140333177972544)>\n",
      "<Thread(IOPub, started daemon 140333107443264)>\n",
      "<Heartbeat(Heartbeat, started daemon 140333099050560)>\n",
      "<Thread(Thread-3 (_watch_pipe_fd), started daemon 140332872226368)>\n",
      "<Thread(Thread-4 (_watch_pipe_fd), started daemon 140332863833664)>\n",
      "<ControlThread(Control, started daemon 140332855440960)>\n",
      "<HistorySavingThread(IPythonHistorySavingThread, started 140332847048256)>\n",
      "<ParentPollerUnix(Thread-2, started daemon 140332837606976)>\n",
      "<Thread(Thread-45 (thread_1), started 140332452787776)>\n",
      "<Thread(Thread-46 (thread_2), started 140332444395072)>\n",
      "<Thread(Thread-47 (thread_3), started 140332461180480)>\n",
      "\n",
      "Threads alive when thread_1 executes:\n",
      "<_MainThread(MainThread, started 140333177972544)>\n",
      "<Thread(IOPub, started daemon 140333107443264)>\n",
      "<Heartbeat(Heartbeat, started daemon 140333099050560)>\n",
      "<Thread(Thread-3 (_watch_pipe_fd), started daemon 140332872226368)>\n",
      "<Thread(Thread-4 (_watch_pipe_fd), started daemon 140332863833664)>\n",
      "<ControlThread(Control, started daemon 140332855440960)>\n",
      "<HistorySavingThread(IPythonHistorySavingThread, started 140332847048256)>\n",
      "<ParentPollerUnix(Thread-2, started daemon 140332837606976)>\n",
      "<Thread(Thread-45 (thread_1), started 140332452787776)>\n",
      "<Thread(Thread-46 (thread_2), started 140332444395072)>\n",
      "\n",
      "Threads alive when thread_2 executes\n",
      "<_MainThread(MainThread, started 140333177972544)>\n",
      "<Thread(IOPub, started daemon 140333107443264)>\n",
      "<Heartbeat(Heartbeat, started daemon 140333099050560)>\n",
      "<Thread(Thread-3 (_watch_pipe_fd), started daemon 140332872226368)>\n",
      "<Thread(Thread-4 (_watch_pipe_fd), started daemon 140332863833664)>\n",
      "<ControlThread(Control, started daemon 140332855440960)>\n",
      "<HistorySavingThread(IPythonHistorySavingThread, started 140332847048256)>\n",
      "<ParentPollerUnix(Thread-2, started daemon 140332837606976)>\n",
      "<Thread(Thread-46 (thread_2), started 140332444395072)>\n",
      "\n"
     ]
    }
   ],
   "source": [
    "# Python program to explain the use of # enumerate()  method in the Threading Module\n",
    "\n",
    "def thread_1(i):\n",
    "    time.sleep(5)\n",
    "    print(\"Threads alive when thread_1 executes:\")\n",
    "    print(*threading.enumerate(), sep = \"\\n\")\n",
    "        \n",
    "    print()\n",
    "\n",
    "def thread_2(i):\n",
    "    time.sleep(10)\n",
    "    print(\"Threads alive when thread_2 executes\")\n",
    "    print(*threading.enumerate(), sep = \"\\n\")\n",
    "    print()\n",
    "    \n",
    "def thread_3(i):\n",
    "    time.sleep(4)\n",
    "    print(\"Threads alive when thread_3 executes\")\n",
    "    print(*threading.enumerate(), sep = \"\\n\")\n",
    "    print()\n",
    "    \n",
    "# Creating sample threads \n",
    "thread1 = threading.Thread(target=thread_1, args=(10,))\n",
    "thread2 = threading.Thread(target=thread_2, args=(20,))\n",
    "thread3 = threading.Thread(target=thread_3, args=(30,))\n",
    "\n",
    "# Starting the threads\n",
    "thread1.start()\n",
    "thread2.start()\n",
    "thread3.start()\n"
   ]
  },
  {
   "cell_type": "markdown",
   "id": "791982d6-3ab6-4c2a-8973-929d473c71ee",
   "metadata": {},
   "source": [
    "----------------------------------------------------------"
   ]
  },
  {
   "cell_type": "markdown",
   "id": "31e652fd-bbfa-4954-99f9-e0bfa4354dc7",
   "metadata": {},
   "source": [
    "#### Q3. Explain the following functions\n",
    "\n",
    "1. run()\n",
    "2. start()\n",
    "3. join()\n",
    "4. isAlive()"
   ]
  },
  {
   "cell_type": "markdown",
   "id": "8b2e48c7-d886-4613-9846-e54c905574b7",
   "metadata": {},
   "source": [
    "\n",
    "The threading module has the Thread class that implements threading. The methods provided by the Thread class are as follows −\n",
    "\n",
    "1. **run()** - \n",
    "\n",
    "    1. The run() method is the entry point for a thread.\n",
    "    2. The .run() method executes any target function belonging to a given thread object that is now active. \n",
    "    3. It normally executes in the background after the .start() method is invoked.\n",
    "    \n",
    "    \n",
    "    \n",
    "2. **start()** - \n",
    "\n",
    "    1. The start() method starts a thread by calling the run method. \n",
    "    2. This method is an inbuilt method of the Thread class of the threading module, it is used to start a thread's activity. \n",
    "    3. This method calls the run() method internally which then executes the target method. \n",
    "    4. This method must be called at most one time for one thread.\n",
    "\n",
    "\n",
    "3. **join()** - \n",
    "\n",
    "    1. A thread can be joined in Python by calling the Thread.join() method.\n",
    "    2. This has the effect of blocking the current thread until the target thread that has been joined has terminated.\n",
    "    3. The target thread that is being joined may terminate for a number of reasons, such as:\n",
    "        1. Finishes executing it’s target function.\n",
    "        2. Finishes executing it’s run() method if it extends the Thread class.\n",
    "        3. Raised an error or exception.\n",
    "    4. Once the target thread has finished, the join() method will return and the current thread can continue to execute.\n",
    "    5. The join() method requires that you have a threading.Thread instance for the thread you wish to join.\n",
    "\n",
    "\n",
    "4. **isAlive()** - \n",
    "\n",
    "    1. The isAlive() method checks whether a thread is still executing.\n",
    "    2. Method returns True if the thread is still running and False , otherwise"
   ]
  },
  {
   "cell_type": "markdown",
   "id": "6fe6e8a4-6aad-4fd1-ae4e-ed7ee6e870cd",
   "metadata": {},
   "source": [
    "\n",
    "#### **1. run() -**\n",
    "\n",
    "1. The run() method is the entry point for a thread.\n",
    "2. The .run() method executes any target function belonging to a given thread object that is now active.\n",
    "3. It normally executes in the background after the .start() method is invoked."
   ]
  },
  {
   "cell_type": "code",
   "execution_count": 30,
   "id": "4772322f-eefb-40d8-8c0d-4d54166e2fb0",
   "metadata": {},
   "outputs": [
    {
     "name": "stdout",
     "output_type": "stream",
     "text": [
      "Value by Thread 1: 1\n",
      "Value by Thread 2: 2\n",
      "Value by Thread 3: 3\n"
     ]
    }
   ],
   "source": [
    "def thread_1(i):\n",
    "    print('Value by Thread 1:', i)\n",
    "\n",
    "def thread_2(i):\n",
    "    print('Value by Thread 2:', i)\n",
    "\n",
    "def thread_3(i):\n",
    "    print('Value by Thread 3:', i)    \n",
    "\n",
    "    \n",
    "# Creating three sample threads \n",
    "thread1 = threading.Thread(target=thread_1, args=(1,))\n",
    "thread2 = threading.Thread(target=thread_2, args=(2,))\n",
    "thread3 = threading.Thread(target=thread_3, args=(3,))\n",
    "\n",
    "# Running three thread object using the run() function\n",
    "thread1.run()\n",
    "thread2.run()\n",
    "thread3.run()"
   ]
  },
  {
   "cell_type": "code",
   "execution_count": null,
   "id": "41dd4658-1fdf-4ddf-879f-26ae69991384",
   "metadata": {},
   "outputs": [],
   "source": []
  },
  {
   "cell_type": "markdown",
   "id": "c950acb6-073f-473a-8bc5-ba832effd00b",
   "metadata": {},
   "source": [
    "##### **start() -**\n",
    "\n",
    "1. The start() method starts a thread by calling the run method.\n",
    "2. This method is an inbuilt method of the Thread class of the threading module, it is used to start a thread's activity.\n",
    "3. This method calls the run() method internally which then executes the target method.\n",
    "4. This method must be called at most one time for one thread."
   ]
  },
  {
   "cell_type": "code",
   "execution_count": 32,
   "id": "644ecc44-d63b-41a7-a0fd-722245cb5709",
   "metadata": {},
   "outputs": [
    {
     "name": "stdout",
     "output_type": "stream",
     "text": [
      "Value by Thread 1: 1\n",
      "Value by Thread 2: 2\n",
      "Value by Thread 3: 3\n"
     ]
    }
   ],
   "source": [
    "def thread_1(i):\n",
    "    print('Value by Thread 1:', i)\n",
    "\n",
    "def thread_2(i):\n",
    "    print('Value by Thread 2:', i)\n",
    "\n",
    "def thread_3(i):\n",
    "    print('Value by Thread 3:', i)    \n",
    "    \n",
    "# Creating three sample threads \n",
    "thread1 = threading.Thread(target=thread_1, args=(1,))\n",
    "thread2 = threading.Thread(target=thread_2, args=(2,))\n",
    "thread3 = threading.Thread(target=thread_3, args=(3,))\n",
    "\n",
    "# Running three thread object using the run() function\n",
    "thread1.start()\n",
    "thread2.start()\n",
    "thread3.start()"
   ]
  },
  {
   "cell_type": "code",
   "execution_count": null,
   "id": "b4959323-59d1-438b-82e0-9c1356a46405",
   "metadata": {},
   "outputs": [],
   "source": []
  },
  {
   "cell_type": "markdown",
   "id": "a1fb6578-46dc-4191-997b-91c7fe55cd8b",
   "metadata": {},
   "source": [
    "##### **join()** - \n",
    "\n",
    "    1. A thread can be joined in Python by calling the Thread.join() method.\n",
    "    2. This has the effect of blocking the current thread until the target thread that has been joined has terminated.\n",
    "    3. The target thread that is being joined may terminate for a number of reasons, such as:\n",
    "        1. Finishes executing it’s target function.\n",
    "        2. Finishes executing it’s run() method if it extends the Thread class.\n",
    "        3. Raised an error or exception.\n",
    "    4. Once the target thread has finished, the join() method will return and the current thread can continue to execute.\n",
    "    5. The join() method requires that you have a threading.Thread instance for the thread you wish to join."
   ]
  },
  {
   "cell_type": "code",
   "execution_count": 33,
   "id": "20ededdb-d37c-418e-ab40-06570c46113a",
   "metadata": {},
   "outputs": [
    {
     "name": "stdout",
     "output_type": "stream",
     "text": [
      "Value by Thread 1: 1\n",
      "Value by Thread 2: 2\n",
      "Value by Thread 3: 3\n",
      "\n",
      "Value by Thread 3: 3\n",
      "Value by Thread 1: 1\n",
      "Value by Thread 2: 2\n"
     ]
    }
   ],
   "source": [
    "def thread_1(i):\n",
    "    time.sleep(2)\n",
    "    print('Value by Thread 1:', i)\n",
    "\n",
    "def thread_2(i):\n",
    "    time.sleep(5)\n",
    "    print('Value by Thread 2:', i)\n",
    "\n",
    "def thread_3(i):\n",
    "    print('Value by Thread 3:', i)    \n",
    "\n",
    "    \n",
    "# Creating three sample threads \n",
    "thread1 = threading.Thread(target=thread_1, args=(1,))\n",
    "thread2 = threading.Thread(target=thread_2, args=(2,))\n",
    "thread3 = threading.Thread(target=thread_3, args=(3,))\n",
    "\n",
    "# Running three thread object\n",
    "thread1.start()\n",
    "thread1.join()\n",
    "thread2.start()\n",
    "thread2.join()\n",
    "thread3.start()\n",
    "thread3.join()\n",
    "\n",
    "print()\n",
    "# Creating another 3 threads\n",
    "thread4 = threading.Thread(target=thread_1, args=(1,))\n",
    "thread5 = threading.Thread(target=thread_2, args=(2,))\n",
    "thread6 = threading.Thread(target=thread_3, args=(3,))\n",
    "\n",
    "thread4.start()\n",
    "thread5.start()\n",
    "thread6.start()\n",
    "thread4.join()\n",
    "thread5.join()\n",
    "thread6.join()\n",
    "\n",
    "##In the initial three Thread objects, we first created a thread and waited for it to execute and \n",
    "##then joined to the main thread. So they are printed in the same order as called."
   ]
  },
  {
   "cell_type": "code",
   "execution_count": null,
   "id": "77600be1-f211-4699-8488-b0bb94d155b4",
   "metadata": {},
   "outputs": [],
   "source": []
  },
  {
   "cell_type": "markdown",
   "id": "90a96aa9-49e5-49b3-88c2-4c14eae27259",
   "metadata": {},
   "source": [
    "##### isAlive() -\n",
    "\n",
    "1. The isAlive() method checks whether a thread is still executing.\n",
    "2. Method returns True if the thread is still running and False , otherwise"
   ]
  },
  {
   "cell_type": "code",
   "execution_count": 35,
   "id": "85735ead-f60d-4796-95f6-f2ba31b4f2bd",
   "metadata": {},
   "outputs": [
    {
     "name": "stdout",
     "output_type": "stream",
     "text": [
      "Is thread1 alive: False\n",
      "Is thread2 alive: False\n",
      "\n",
      "Value by Thread 2: 2\n",
      "Is thread1 alive: True\n",
      "Is thread2 alive: False\n",
      "Value by Thread 1: 1\n"
     ]
    }
   ],
   "source": [
    "def thread_1(i):\n",
    "    time.sleep(10)\n",
    "    print('Value by Thread 1:', i)\n",
    "\n",
    "def thread_2(i):\n",
    "    print('Value by Thread 2:', i)\n",
    "    \n",
    "# Creating three sample threads \n",
    "thread1 = threading.Thread(target=thread_1, args=(1,))\n",
    "thread2 = threading.Thread(target=thread_2, args=(2,))\n",
    "\n",
    "# Before calling the start(), both threads are not alive\n",
    "print(\"Is thread1 alive:\", thread1.is_alive())   ## returns FALSE as its not active/alive, as its not started\n",
    "print(\"Is thread2 alive:\", thread2.is_alive())  ## returns FALSE as its not active/alive, as its not started\n",
    "print()\n",
    "\n",
    "thread1.start()\n",
    "thread2.start()\n",
    "\n",
    "# Since thread11 is on sleep for 5 seconds, it is alive\n",
    "# while thread 2 is executed instantly\n",
    "\n",
    "print(\"Is thread1 alive:\", thread1.is_alive())\n",
    "print(\"Is thread2 alive:\", thread2.is_alive())"
   ]
  },
  {
   "cell_type": "code",
   "execution_count": null,
   "id": "d3103b19-e740-438b-9fc4-63bd63f932f2",
   "metadata": {},
   "outputs": [],
   "source": []
  },
  {
   "cell_type": "markdown",
   "id": "ea5320c5-8e15-4326-b1cc-0ac740be5bd4",
   "metadata": {},
   "source": [
    "-----------------------------------"
   ]
  },
  {
   "cell_type": "markdown",
   "id": "7f398ed3-d1c6-4c1b-bab4-78a69f0e4a2f",
   "metadata": {},
   "source": [
    "#### Q4. Write a python program to create two threads. Thread one must print the list of squares and thread two must print the list of cubes"
   ]
  },
  {
   "cell_type": "code",
   "execution_count": 3,
   "id": "4c897fbf-c5b8-410c-bdc7-df746ac13b3e",
   "metadata": {},
   "outputs": [],
   "source": [
    "import threading"
   ]
  },
  {
   "cell_type": "code",
   "execution_count": 4,
   "id": "aba2a3a3-c5a5-402e-8ee8-40828fd9ad32",
   "metadata": {},
   "outputs": [],
   "source": [
    "def square_list(a):\n",
    "    sq_l = []\n",
    "    for i in a:\n",
    "        sq_l.append(i**2)\n",
    "    print(\"The Output is the square of the input List : \",sq_l)\n",
    "    print(\"The Thread 1 is completed\")\n",
    "    \n",
    "def cube_list(a):\n",
    "    cq_l = []\n",
    "    for i in a:\n",
    "        cq_l.append(i**3)\n",
    "    print(\"The Output is the cube of the input List : \",cq_l)\n",
    "    print(\"The Thread 2 is completed\")\n",
    "        "
   ]
  },
  {
   "cell_type": "code",
   "execution_count": 6,
   "id": "2f27d322-459f-411d-a290-479e75cdd9aa",
   "metadata": {},
   "outputs": [],
   "source": [
    "list_input = [1,2,3,4,5,6,7,8,9,10]  # input string"
   ]
  },
  {
   "cell_type": "code",
   "execution_count": 11,
   "id": "d12b24f9-388d-4074-bcaa-9746257d1985",
   "metadata": {},
   "outputs": [],
   "source": [
    "## creating threads\n",
    "\n",
    "thread1 =threading.Thread(target= square_list, args =(list_input,)) \n",
    "thread2 =threading.Thread(target= cube_list, args =(list_input,))"
   ]
  },
  {
   "cell_type": "code",
   "execution_count": 12,
   "id": "d9ae76bd-0d19-47b7-9523-bda160a08031",
   "metadata": {},
   "outputs": [],
   "source": [
    "thread_list = [thread1,thread2]"
   ]
  },
  {
   "cell_type": "code",
   "execution_count": 13,
   "id": "9b6f46b9-989a-4e22-9ffa-98f4415bb3e0",
   "metadata": {},
   "outputs": [
    {
     "name": "stdout",
     "output_type": "stream",
     "text": [
      "The Output is the square of the input List :  [1, 4, 9, 16, 25, 36, 49, 64, 81, 100]\n",
      "The Thread 1 is completed\n",
      "The Output is the cube of the input List :  [1, 8, 27, 64, 125, 216, 343, 512, 729, 1000]\n",
      "The Thread 2 is completed\n"
     ]
    }
   ],
   "source": [
    "## for loop to start the thread\n",
    "for t in thread_list:\n",
    "    t.start()"
   ]
  },
  {
   "cell_type": "markdown",
   "id": "770082dd-0292-4b1e-8a87-e6c20256eb91",
   "metadata": {},
   "source": [
    "-----------------------------"
   ]
  },
  {
   "cell_type": "markdown",
   "id": "cea7d27e-ad58-4919-bb99-5bf26b423765",
   "metadata": {},
   "source": [
    "#### Q5. State advantages and disadvantages of multithreading "
   ]
  },
  {
   "cell_type": "markdown",
   "id": "868f47ea-0a18-457b-8ad5-f92e00afe850",
   "metadata": {},
   "source": [
    "**Advantages:**\n",
    "------------------\n",
    "\n",
    "**Improved performance:** Multithreading can help increase the overall performance of an application, especially on systems with multiple processors or cores. It allows multiple tasks to run concurrently, utilizing the available CPU resources more efficiently.\n",
    "\n",
    "**Responsiveness:** In a single-threaded environment, if a long-running task blocks the main thread, the entire application becomes unresponsive. Multithreading can prevent this issue by running such tasks in separate threads, ensuring the application remains responsive.\n",
    "\n",
    "**Better resource utilization:** Multithreading allows better utilization of system resources by keeping the CPU busy while waiting for I/O operations or other tasks to complete.\n",
    "\n",
    "**Simplified modeling:** Some problems can be more naturally modeled using multiple threads. This makes the program easier to design, understand, and maintain.\n",
    "\n",
    "**Parallelism:** Multithreading enables parallelism, which can lead to significant performance improvements in applications that can be divided into smaller, independent tasks.\n",
    "\n",
    "**Disadvantages:**\n",
    "-------------------\n",
    "\n",
    "**Complexity:** Multithreading adds complexity to the program, making it more difficult to design, implement, and debug. Developers need to be aware of synchronization, deadlocks, race conditions, and other concurrency-related issues.\n",
    "\n",
    "**Synchronization overhead:** To avoid data corruption and maintain consistency, developers must synchronize access to shared resources, which can result in additional overhead and reduced performance.\n",
    "\n",
    "**Context switching:** Context switching between threads consumes CPU time and resources, which can lead to performance degradation if not managed efficiently.\n",
    "\n",
    "**Hard to predict behavior:** Due to the concurrent nature of multithreading, the behavior of the program can be hard to predict and reproduce, especially when it comes to debugging.\n",
    "\n",
    "**Limited by hardware:** The performance benefits of multithreading are limited by the number of available cores or processors in the system. In some cases, excessive use of threads can lead to performance degradation instead of improvement."
   ]
  },
  {
   "cell_type": "markdown",
   "id": "12e1b3ca-2d2f-40d7-a258-f67218422b8b",
   "metadata": {},
   "source": [
    "-----------------------------"
   ]
  },
  {
   "cell_type": "markdown",
   "id": "91fe95da-0612-4e9b-b8ff-87a4d9f22dff",
   "metadata": {},
   "source": [
    "#### Q6. Explain deadlocks and race conditions."
   ]
  },
  {
   "cell_type": "markdown",
   "id": "78402578-ca39-41b0-837a-082025896b45",
   "metadata": {},
   "source": []
  },
  {
   "cell_type": "markdown",
   "id": "15bcf851-5ba4-48a4-9ab9-fd77e1c1795a",
   "metadata": {},
   "source": [
    "##### **Race condition:**\n",
    "\n",
    "When two or more threads(here programs) try to access or use some shared resource at the same time(concurrently); to make changes to it, a condition occurs, i.e., race condition."
   ]
  },
  {
   "cell_type": "code",
   "execution_count": 36,
   "id": "f2636eda-5b43-41df-ab0c-3dcfd2944601",
   "metadata": {},
   "outputs": [
    {
     "name": "stdout",
     "output_type": "stream",
     "text": [
      "Thread-70 (increment) increments x by 5, x: 15\n",
      "Thread-71 (increment) increments x by 10, x: 20\n",
      "The final value of x is 20\n"
     ]
    }
   ],
   "source": [
    "## A variable x = 10 , is acting like a shared resource for threads t1 and t2.\n",
    "\n",
    "x = 10\n",
    " \n",
    "def increment(increment_by):\n",
    "    global x   # decclaring the variable as global\n",
    " \n",
    "    local_counter = x\n",
    "    local_counter += increment_by\n",
    " \n",
    "    time.sleep(1)\n",
    " \n",
    "    x = local_counter\n",
    "    print(f'{threading.current_thread().name} increments x by {increment_by}, x: {x}')\n",
    " \n",
    "\n",
    "    ## creating threads\n",
    "## Two threads t1 and t2 are created using the threading module, with target function pointing to increment.\n",
    "## t1 and t2 will try to modify the value of x in the increment function with 5 and 10 of increment as specified in args tuple.\n",
    "\n",
    "t1 = threading.Thread(target=increment, args=(5,))\n",
    "t2 = threading.Thread(target=increment, args=(10,))\n",
    " \n",
    "# starting the threads\n",
    "## start will intitiate the threads while join will wait for them to finish the execution as they will sleep for 1 sec in the increment function.\n",
    "\n",
    "t1.start()\n",
    "t2.start()\n",
    " \n",
    "# waiting for the threads to complete\n",
    "t1.join()\n",
    "t2.join()\n",
    " \n",
    "print(f'The final value of x is {x}')"
   ]
  },
  {
   "cell_type": "code",
   "execution_count": null,
   "id": "930fe7e1-c960-49a5-bbce-e27a010e272d",
   "metadata": {},
   "outputs": [],
   "source": []
  },
  {
   "cell_type": "markdown",
   "id": "2b061b24-92e0-4cbd-a3a2-7198197b3acc",
   "metadata": {},
   "source": [
    "##### **Deadlock**\n",
    "\n",
    "1. Deadlock is a concurrency failure mode where a thread or threads wait for a condition that never occurs. The result is that the deadlock threads are unable to progress and the program is stuck or frozen and must be terminated forcefully.\n",
    "\n",
    "2. The program cannot continue to run because the lock of a thread is not released in time. It refers to a phenomenon in which two or more processes or threads are waiting for each other due to competition for resources during the execution process. \n",
    "\n",
    "3. If there is no external force, they will not be able to advance. At this time, the system is said to be in a deadlock state or the system has a deadlock, and these processes that are always waiting for each other are called deadlock processes."
   ]
  },
  {
   "cell_type": "code",
   "execution_count": null,
   "id": "f9c1e885-ad95-49eb-a2da-f772140f601d",
   "metadata": {},
   "outputs": [],
   "source": []
  },
  {
   "cell_type": "code",
   "execution_count": 38,
   "id": "bd1853db-dbc4-4bf5-82d3-3befa70c9250",
   "metadata": {},
   "outputs": [
    {
     "name": "stdout",
     "output_type": "stream",
     "text": [
      "Thread A is starting...\n",
      "Thread A waiting to acquire lock A.\n",
      "Thread A has acquired lock A, performing some calculation...\n",
      "Thread B is starting...\n",
      "Thread B waiting to acquire lock B.\n",
      "Thread B has acquired lock B, performing some calculation...\n",
      "Thread A waiting to acquire lock B.\n",
      "Thread B waiting to acquire lock A.\n"
     ]
    },
    {
     "ename": "KeyboardInterrupt",
     "evalue": "",
     "output_type": "error",
     "traceback": [
      "\u001b[0;31m---------------------------------------------------------------------------\u001b[0m",
      "\u001b[0;31mKeyboardInterrupt\u001b[0m                         Traceback (most recent call last)",
      "Cell \u001b[0;32mIn[38], line 39\u001b[0m\n\u001b[1;32m     37\u001b[0m thread1\u001b[38;5;241m.\u001b[39mstart()\n\u001b[1;32m     38\u001b[0m thread2\u001b[38;5;241m.\u001b[39mstart()\n\u001b[0;32m---> 39\u001b[0m \u001b[43mthread1\u001b[49m\u001b[38;5;241;43m.\u001b[39;49m\u001b[43mjoin\u001b[49m\u001b[43m(\u001b[49m\u001b[43m)\u001b[49m\n\u001b[1;32m     40\u001b[0m thread2\u001b[38;5;241m.\u001b[39mjoin()\n\u001b[1;32m     42\u001b[0m \u001b[38;5;28mprint\u001b[39m(\u001b[38;5;124m'\u001b[39m\u001b[38;5;124mFinished.\u001b[39m\u001b[38;5;124m'\u001b[39m)\n",
      "File \u001b[0;32m/opt/conda/lib/python3.10/threading.py:1096\u001b[0m, in \u001b[0;36mThread.join\u001b[0;34m(self, timeout)\u001b[0m\n\u001b[1;32m   1093\u001b[0m     \u001b[38;5;28;01mraise\u001b[39;00m \u001b[38;5;167;01mRuntimeError\u001b[39;00m(\u001b[38;5;124m\"\u001b[39m\u001b[38;5;124mcannot join current thread\u001b[39m\u001b[38;5;124m\"\u001b[39m)\n\u001b[1;32m   1095\u001b[0m \u001b[38;5;28;01mif\u001b[39;00m timeout \u001b[38;5;129;01mis\u001b[39;00m \u001b[38;5;28;01mNone\u001b[39;00m:\n\u001b[0;32m-> 1096\u001b[0m     \u001b[38;5;28;43mself\u001b[39;49m\u001b[38;5;241;43m.\u001b[39;49m\u001b[43m_wait_for_tstate_lock\u001b[49m\u001b[43m(\u001b[49m\u001b[43m)\u001b[49m\n\u001b[1;32m   1097\u001b[0m \u001b[38;5;28;01melse\u001b[39;00m:\n\u001b[1;32m   1098\u001b[0m     \u001b[38;5;66;03m# the behavior of a negative timeout isn't documented, but\u001b[39;00m\n\u001b[1;32m   1099\u001b[0m     \u001b[38;5;66;03m# historically .join(timeout=x) for x<0 has acted as if timeout=0\u001b[39;00m\n\u001b[1;32m   1100\u001b[0m     \u001b[38;5;28mself\u001b[39m\u001b[38;5;241m.\u001b[39m_wait_for_tstate_lock(timeout\u001b[38;5;241m=\u001b[39m\u001b[38;5;28mmax\u001b[39m(timeout, \u001b[38;5;241m0\u001b[39m))\n",
      "File \u001b[0;32m/opt/conda/lib/python3.10/threading.py:1116\u001b[0m, in \u001b[0;36mThread._wait_for_tstate_lock\u001b[0;34m(self, block, timeout)\u001b[0m\n\u001b[1;32m   1113\u001b[0m     \u001b[38;5;28;01mreturn\u001b[39;00m\n\u001b[1;32m   1115\u001b[0m \u001b[38;5;28;01mtry\u001b[39;00m:\n\u001b[0;32m-> 1116\u001b[0m     \u001b[38;5;28;01mif\u001b[39;00m \u001b[43mlock\u001b[49m\u001b[38;5;241;43m.\u001b[39;49m\u001b[43macquire\u001b[49m\u001b[43m(\u001b[49m\u001b[43mblock\u001b[49m\u001b[43m,\u001b[49m\u001b[43m \u001b[49m\u001b[43mtimeout\u001b[49m\u001b[43m)\u001b[49m:\n\u001b[1;32m   1117\u001b[0m         lock\u001b[38;5;241m.\u001b[39mrelease()\n\u001b[1;32m   1118\u001b[0m         \u001b[38;5;28mself\u001b[39m\u001b[38;5;241m.\u001b[39m_stop()\n",
      "\u001b[0;31mKeyboardInterrupt\u001b[0m: "
     ]
    }
   ],
   "source": [
    "\n",
    " def thread_a():\n",
    "    print('Thread A is starting...') \n",
    "    print('Thread A waiting to acquire lock A.')\n",
    "    lock_a.acquire()\n",
    "    print('Thread A has acquired lock A, performing some calculation...')\n",
    "    time.sleep(2)\n",
    "    print('Thread A waiting to acquire lock B.')\n",
    "    lock_b.acquire()\n",
    "    print('Thread A has acquired lock B, performing some calculation...')\n",
    "    time.sleep(2)\n",
    "    print('Thread A releasing both locks.')\n",
    "    lock_a.release()\n",
    "    lock_b.release()\n",
    "    \n",
    "def thread_b():\n",
    "    print('Thread B is starting...')\n",
    "    print('Thread B waiting to acquire lock B.')\n",
    "    lock_b.acquire()\n",
    "    print('Thread B has acquired lock B, performing some calculation...')\n",
    "    time.sleep(5)\n",
    "    print('Thread B waiting to acquire lock A.')\n",
    "    lock_a.acquire()\n",
    "    print('Thread B has acquired lock A, performing some calculation...')\n",
    "    time.sleep(5)\n",
    "    print('Thread B releasing both locks.')\n",
    "    lock_b.release()\n",
    "    lock_a.release()\n",
    "    \n",
    "lock_a = threading.Lock()\n",
    "lock_b = threading.Lock()\n",
    "\n",
    "## creating 2 sample threads\n",
    "thread1 = threading.Thread(target=thread_a)\n",
    "thread2 = threading.Thread(target=thread_b)\n",
    "\n",
    "## STARTING the threads\n",
    "thread1.start()\n",
    "thread2.start()\n",
    "thread1.join()\n",
    "thread2.join()\n",
    "\n",
    "print('Finished.')"
   ]
  },
  {
   "cell_type": "code",
   "execution_count": 39,
   "id": "d20bb36e-dbf1-444d-9360-0b1cca27ba04",
   "metadata": {},
   "outputs": [],
   "source": [
    "### The above program is hung/deadlock state, where Thread A is waiting to acquire Lock B, and \n",
    "##Thread B is waiting for the acquire of lock A.\n",
    "##Now both the thread go in to waiting state for other lock to acquire.\n",
    "\n",
    "\n",
    "## SO finally i had to interupt the kernel from the exection of the program.\n"
   ]
  },
  {
   "cell_type": "code",
   "execution_count": null,
   "id": "bcea7d36-47f8-4c41-81a2-bc8853ac7694",
   "metadata": {},
   "outputs": [],
   "source": []
  }
 ],
 "metadata": {
  "kernelspec": {
   "display_name": "Python 3 (ipykernel)",
   "language": "python",
   "name": "python3"
  },
  "language_info": {
   "codemirror_mode": {
    "name": "ipython",
    "version": 3
   },
   "file_extension": ".py",
   "mimetype": "text/x-python",
   "name": "python",
   "nbconvert_exporter": "python",
   "pygments_lexer": "ipython3",
   "version": "3.10.8"
  }
 },
 "nbformat": 4,
 "nbformat_minor": 5
}
