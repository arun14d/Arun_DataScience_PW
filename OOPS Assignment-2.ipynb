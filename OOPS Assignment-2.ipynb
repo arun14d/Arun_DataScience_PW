{
 "cells": [
  {
   "cell_type": "markdown",
   "id": "fddf7740-a4fe-473a-95b7-6b10f6dcc12a",
   "metadata": {},
   "source": [
    "# OOPS Assignment-2"
   ]
  },
  {
   "cell_type": "markdown",
   "id": "4120ae0e-88c8-4a69-afc9-0b2bc4d60215",
   "metadata": {},
   "source": [
    "-----------------------------------------------------------------------------------------"
   ]
  },
  {
   "cell_type": "markdown",
   "id": "6f171bd8-47aa-4f11-9bb7-e6fe218221b5",
   "metadata": {},
   "source": [
    "#### Q1. What is Abstraction in OOps? Explain with an example."
   ]
  },
  {
   "cell_type": "markdown",
   "id": "59294e1a-0604-41ef-ab04-b3d875a5dfb8",
   "metadata": {},
   "source": [
    "ABSTRACTION -\n",
    "Abstraction is used to hide the internal functionality of the function from the users. The users only interact with the basic implementation of the function, but inner working is hidden.\n",
    "\n",
    "A class that consists of one or more abstract method is called the abstract class. Abstract methods do not contain their implementation. Abstract class can be inherited by the subclass and abstract method gets its definition in the subclass. Abstraction classes are meant to be the blueprint of the other class. An abstract class can be useful when we are designing large functions. An abstract class is also helpful to provide the standard interface for different implementations of components. Python provides the abc module to use the abstraction in the Python program. Let's\n",
    "\n",
    "Uses of\n",
    "Abstraction is used to hide the irrelevant data/class in order to reduce the complexity. It also enhances the application efficiency.."
   ]
  },
  {
   "cell_type": "code",
   "execution_count": 23,
   "id": "d106ca5e-d0cf-4fe1-87de-fbf2aab59bcc",
   "metadata": {},
   "outputs": [],
   "source": [
    "import abc  ## abc module has the abstractmethod\n",
    "\n",
    "class pwskills: ## pwskills is the abstract class which has fucntions, but the fucntions functinality is not defined. Its just the blueprint\n",
    "    \n",
    "    @abc.abstractmethod\n",
    "    def stud_det(self):\n",
    "        pass\n",
    "    \n",
    "    @abc.abstractmethod\n",
    "    def stud_assignmt(self):\n",
    "        pass\n",
    "    \n",
    "    @abc.abstractmethod\n",
    "    def stud_marks(self):\n",
    "        pass"
   ]
  },
  {
   "cell_type": "code",
   "execution_count": 2,
   "id": "9525c8aa-9458-453f-bb95-cfe4e9d348ac",
   "metadata": {},
   "outputs": [],
   "source": [
    "class datascience(pwskills):  ## datascience class inherist the data of absrtact class - pwskills\n",
    "    def stud_det(self):\n",
    "        return \"It will try to return details of DS master\"\n",
    "    \n",
    "    def stud_assignmt(self):\n",
    "        return \"It will try to return assignment of DS Master\""
   ]
  },
  {
   "cell_type": "code",
   "execution_count": 3,
   "id": "c77bdf5f-078a-4dd3-a63b-c2d529395f87",
   "metadata": {},
   "outputs": [],
   "source": [
    "class webdev(pwskills): ## webdev class inherist the data of absrtact class - pwskills\n",
    "    def stud_det(self):\n",
    "        return \"It will try to return details of web Deb\"\n",
    "    \n",
    "    def stud_assignmt(self):\n",
    "        return \"It will try to return assignment of web dev\"\n",
    "    \n",
    "    def stud_marks(self):\n",
    "        return \"It will return marks of web dev class\"\n",
    "    "
   ]
  },
  {
   "cell_type": "code",
   "execution_count": 4,
   "id": "0a309237-5548-476e-8259-b05d4d36492c",
   "metadata": {},
   "outputs": [],
   "source": [
    "ds = datascience()\n",
    "wd = webdev()"
   ]
  },
  {
   "cell_type": "code",
   "execution_count": 5,
   "id": "f0ab3a6d-c7ca-44cc-8bdd-ebe4ec524456",
   "metadata": {},
   "outputs": [
    {
     "data": {
      "text/plain": [
       "'It will try to return details of DS master'"
      ]
     },
     "execution_count": 5,
     "metadata": {},
     "output_type": "execute_result"
    }
   ],
   "source": [
    "ds.stud_det()"
   ]
  },
  {
   "cell_type": "code",
   "execution_count": 6,
   "id": "6d12ae46-9782-4d05-80f1-83c0a1713250",
   "metadata": {},
   "outputs": [
    {
     "data": {
      "text/plain": [
       "'It will return marks of web dev class'"
      ]
     },
     "execution_count": 6,
     "metadata": {},
     "output_type": "execute_result"
    }
   ],
   "source": [
    "wd.stud_marks()"
   ]
  },
  {
   "cell_type": "markdown",
   "id": "2641231a-dbfb-493b-9f56-83203bccad81",
   "metadata": {},
   "source": [
    "-------------------------------------------"
   ]
  },
  {
   "cell_type": "markdown",
   "id": "0f643d1f-0272-43f5-a2ef-4fbab42bf877",
   "metadata": {},
   "source": [
    "#### Q2. Differentiate between Abstraction and Encapsulation. Explain with an example."
   ]
  },
  {
   "cell_type": "markdown",
   "id": "2fabb9e0-a364-4d54-a772-7c470fd28bab",
   "metadata": {},
   "source": [
    "1. **Encapsulation** is one of the key features of object-oriented programming. Encapsulation refers to the bundling of attributes and methods inside a single class.\n",
    "\n",
    "2. It prevents outer classes from accessing and changing attributes and methods of a class. This also helps to achieve data hiding.\n",
    "\n",
    "3. Encapsulation is combining all the attributes and the methods that the class needs under one umbrella which is the class itself.\n",
    "\n",
    "4. For encapsulation, you use public methods and data that is determined as private."
   ]
  },
  {
   "cell_type": "code",
   "execution_count": 1,
   "id": "76ad33b1-349e-490c-8e0c-b7c5f51864a5",
   "metadata": {},
   "outputs": [],
   "source": [
    "class car :\n",
    "    def __init__(self, year, make, model,speed):\n",
    "        self.__year = year      #### when we use this, we will not see any pop-ups methods/variables --> its private function variable \n",
    "        self.__make = make\n",
    "        self.__model = model\n",
    "        self.__speed = 0\n",
    "        \n",
    "    def set_speed(self,speed):\n",
    "        self.__speed = 0 if speed < 0 else speed\n",
    "        \n",
    "    def display_details(self):\n",
    "        return self.__year, self.__make, self.__model,self.__speed"
   ]
  },
  {
   "cell_type": "code",
   "execution_count": 2,
   "id": "ccd39503-ada7-4273-bbb2-a4812a5f3fe8",
   "metadata": {},
   "outputs": [],
   "source": [
    "car1 = car(2023,\"AUDI\",\"Q4\",120)"
   ]
  },
  {
   "cell_type": "code",
   "execution_count": 3,
   "id": "a80f6db9-be7a-4eb8-90a2-7a066cafbcb2",
   "metadata": {},
   "outputs": [],
   "source": [
    "car1.set_speed(10) ## user cannot directly access the variable speed, but infact is trying to update the speed value via function."
   ]
  },
  {
   "cell_type": "code",
   "execution_count": 4,
   "id": "8e1d7ce5-a92f-4a7b-9c42-81a971b71625",
   "metadata": {},
   "outputs": [
    {
     "data": {
      "text/plain": [
       "(2023, 'AUDI', 'Q4', 10)"
      ]
     },
     "execution_count": 4,
     "metadata": {},
     "output_type": "execute_result"
    }
   ],
   "source": [
    "car1.display_details()\n"
   ]
  },
  {
   "cell_type": "code",
   "execution_count": 6,
   "id": "ecba8ebf-83f0-4f55-bcba-de85ccadc19d",
   "metadata": {},
   "outputs": [
    {
     "ename": "AttributeError",
     "evalue": "'car' object has no attribute 'year'",
     "output_type": "error",
     "traceback": [
      "\u001b[0;31m---------------------------------------------------------------------------\u001b[0m",
      "\u001b[0;31mAttributeError\u001b[0m                            Traceback (most recent call last)",
      "Cell \u001b[0;32mIn[6], line 2\u001b[0m\n\u001b[1;32m      1\u001b[0m \u001b[38;5;66;03m## we can see the variable year - of the class car, - its basically its not accessible outside class.Hence the below error.\u001b[39;00m\n\u001b[0;32m----> 2\u001b[0m \u001b[43mcar1\u001b[49m\u001b[38;5;241;43m.\u001b[39;49m\u001b[43myear\u001b[49m\n",
      "\u001b[0;31mAttributeError\u001b[0m: 'car' object has no attribute 'year'"
     ]
    }
   ],
   "source": [
    "## we can see the variable year - of the class car, - its basically its not accessible outside class.Hence the below error.\n",
    "car1.year"
   ]
  },
  {
   "cell_type": "code",
   "execution_count": 7,
   "id": "901d7fad-22fe-4f8b-8c66-5261498c1893",
   "metadata": {},
   "outputs": [
    {
     "data": {
      "text/plain": [
       "'AUDI'"
      ]
     },
     "execution_count": 7,
     "metadata": {},
     "output_type": "execute_result"
    }
   ],
   "source": [
    "car1._car__make   ## we need to use _classname__variablenames to access the varibles."
   ]
  },
  {
   "cell_type": "code",
   "execution_count": 9,
   "id": "928f68dc-ecb5-43e1-b9db-6e13f61faaa5",
   "metadata": {},
   "outputs": [
    {
     "data": {
      "text/plain": [
       "2023"
      ]
     },
     "execution_count": 9,
     "metadata": {},
     "output_type": "execute_result"
    }
   ],
   "source": [
    "car1._car__year   ## we need to use _classname__variablenames to access the varibles."
   ]
  },
  {
   "cell_type": "code",
   "execution_count": 10,
   "id": "fc3d0fea-ff25-4b86-96db-3c44048fe3d4",
   "metadata": {},
   "outputs": [],
   "source": [
    "## as part of Encapsulation, we are making the variable/attribute not accessible for updating for \n",
    "## the outside world."
   ]
  },
  {
   "cell_type": "markdown",
   "id": "1e0d6f0c-c0b0-4dcd-b573-31950e7c28de",
   "metadata": {},
   "source": [
    "1. **Abstraction** is hiding away the implementation details from the external user. \n",
    "\n",
    "2. Abstraction makes your code easy to be shared because when you want to share your code with other people, you have to tell them only about the tools that they care about.\n",
    "\n",
    "3. Abstraction is used to make code simpler.\n",
    "\n",
    "4. For abstraction, abstract classes and interfaces are used."
   ]
  },
  {
   "cell_type": "code",
   "execution_count": 18,
   "id": "cd3c20f4-a5e0-4922-af06-f17f4df0bc9c",
   "metadata": {},
   "outputs": [
    {
     "name": "stdout",
     "output_type": "stream",
     "text": [
      "\n",
      "    1.Display Book\n",
      "    2.Borrow Book\n",
      "    3.Return Book\n",
      "\n"
     ]
    },
    {
     "name": "stdin",
     "output_type": "stream",
     "text": [
      "Enter Your Choice :  1\n"
     ]
    },
    {
     "name": "stdout",
     "output_type": "stream",
     "text": [
      "Available Books\n",
      "Python-1\n",
      "Python-2\n",
      "DataScience\n",
      "Java\n",
      "Statistics\n",
      "OOPS\n",
      "WebDev\n",
      "\n",
      "    1.Display Book\n",
      "    2.Borrow Book\n",
      "    3.Return Book\n",
      "\n"
     ]
    },
    {
     "name": "stdin",
     "output_type": "stream",
     "text": [
      "Enter Your Choice :  2\n",
      "Enter Book Name To Borrow :  Java\n"
     ]
    },
    {
     "name": "stdout",
     "output_type": "stream",
     "text": [
      "Get Your Book Now. You have requested for book : Java\n"
     ]
    }
   ],
   "source": [
    "# Abstraction and Encapsulation in Python\n",
    " \n",
    "class Library:\n",
    "   \n",
    "    ## This method is called when an object of the class is created. It initializes the books attribute with the passed books list.\n",
    "    def __init__(self, books):\n",
    "        self.books = books\n",
    "\n",
    "    ## This method prints the available books list.\n",
    "    def list_books(self):\n",
    "        print(\"Available Books\")\n",
    "        for book in self.books:\n",
    "            print(book)\n",
    "\n",
    "   ##This method takes a book name as an argument and removes it from the books list if it is present, o\n",
    "    def borrow_book(self, borrow_book):\n",
    "        if borrow_book in self.books:\n",
    "            print(\"Get Your Book Now. You have requested for book :\",borrow_book)\n",
    "            self.books.remove(borrow_book)\n",
    "        else:\n",
    "            print(\"Book not Available\")\n",
    "            \n",
    "    ## This method takes a book name as an argument and adds it back to the books list.\n",
    "    def receive_book(self, receive_book):\n",
    "        print(\"Thanks for returning the book : \",receive_book)\n",
    "        self.books.append(receive_book)\n",
    "        \n",
    "## the list of books the library contains.\n",
    "books = ['Python-1', 'Python-2', 'DataScience', 'Java', 'Statistics','OOPS','WebDev']\n",
    "\n",
    "## created an object of the \"Library\" class, passing the list of books as an argument.\n",
    "Lib_obj = Library(books) \n",
    "\n",
    "## The display meesage to the user to interact with the code\n",
    "display_message  = \"\"\"\n",
    "    1.Display Book\n",
    "    2.Borrow Book\n",
    "    3.Return Book\n",
    "\"\"\"\n",
    "\n",
    "\n",
    "# A menu-driven interface is then created using a while loop, which provides the user with three options:\n",
    "## the user is prompted to enter their choice, and the corresponding method of the Lib_obj object is called based on the entered choice\n",
    "\n",
    "while True:\n",
    "    print(display_message)\n",
    "    user_input = int(input(\"Enter Your Choice : \"))\n",
    "    if user_input == 1:\n",
    "        Lib_obj.list_books()\n",
    "    elif user_input == 2:\n",
    "        book = input(\"Enter Book Name To Borrow : \")\n",
    "        Lib_obj.borrow_book(book)\n",
    "        break\n",
    "    elif user_input == 3:\n",
    "        book = input(\"Enter Book Name To Return : \")\n",
    "        Lib_obj.receive_book(book)\n",
    "        break\n",
    "    else:\n",
    "        print(\"Thank You come again\")\n",
    "        quit()"
   ]
  },
  {
   "cell_type": "code",
   "execution_count": 22,
   "id": "b56dfc2a-9971-4072-82ae-3c9b6aa591d5",
   "metadata": {},
   "outputs": [],
   "source": [
    "## from the above example. \n",
    "\n",
    "## the user gets an interactive menu --> to check the list of books in the library. \n",
    "## and either to borrow or Return the book the library as well.\n",
    "\n",
    "## As part of the Encapulation concept ---> The user need not to worry about all the coding that is involved.\n",
    "## the only thing he needs to know is how to run the program, and interacte with the menu. \n",
    "## he would have to click 1, to know all the books in library,\n",
    "## 2 - to borrow a book and 3 to return the book.\n",
    "\n",
    "\n",
    "## As part of the Abstraction concept, the end user need to access to code, \n",
    "## hiding away the implementation details from the external user which makes your code easy to be shared with other developers.\n",
    "## Abstract classes give us a standard way of developing our code even if you have multiple developers working on a project."
   ]
  },
  {
   "cell_type": "markdown",
   "id": "6ecc2a31-f17b-44cf-95f7-c98676499cd8",
   "metadata": {},
   "source": [
    "--------------------------------------------------------"
   ]
  },
  {
   "cell_type": "markdown",
   "id": "5798c309-c7e1-4fb7-a8ec-6de2b545b667",
   "metadata": {},
   "source": [
    "#### Q3. What is abc module in python? Why is it used?"
   ]
  },
  {
   "cell_type": "markdown",
   "id": "3958823b-958a-4f50-92aa-bb65df16b700",
   "metadata": {},
   "source": [
    "1. This module provides the infrastructure for defining abstract base classes (ABCs) in Python.\n",
    "\n",
    "2. The ABC class from the abc module can be used to create an abstract class. \n",
    "\n",
    "3. ABC is a helper class that has ABCMeta as its metaclass, and we can also define abstract classes by passing the metaclass keyword and using ABCMet\n",
    "\n",
    "4. Abstract classes may not be instantiated, and its abstract methods must be implemented by its subclasses.\n",
    "\n"
   ]
  },
  {
   "cell_type": "code",
   "execution_count": 21,
   "id": "120c9f0f-672e-43eb-9efc-c520ec32b475",
   "metadata": {},
   "outputs": [],
   "source": [
    "import abc\n",
    "\n",
    "## this is how its imported."
   ]
  },
  {
   "cell_type": "markdown",
   "id": "36aefa11-abc6-4f24-a47f-22349cb98641",
   "metadata": {},
   "source": [
    "-------------------------------------------------------------------"
   ]
  },
  {
   "cell_type": "markdown",
   "id": "1f87bf5c-4bd9-423b-b64a-56c99e8dd75a",
   "metadata": {},
   "source": [
    "#### Q4. How can we achieve data abstraction?"
   ]
  },
  {
   "cell_type": "markdown",
   "id": "1db9f054-3a12-4ca1-99ec-2b54cea8566f",
   "metadata": {},
   "source": [
    "1. Data Abstraction in Python can be achieved through creating abstract classes and inheriting them later"
   ]
  },
  {
   "cell_type": "markdown",
   "id": "66e29e21-8245-4938-ae43-7f7c6ea057b0",
   "metadata": {},
   "source": [
    "2. **Abstract Class:** The classes that cannot be instantiated. This means that we cannot create objects of an abstract class and these are only meant to be inherited. Then an object of the derived class is used to access the features of the base class.\n",
    " Here base class would be the abstract class"
   ]
  },
  {
   "cell_type": "markdown",
   "id": "48e69e8d-c948-4411-a596-50f9f56de065",
   "metadata": {},
   "source": [
    "3. Abstract class just serves as a template for other classes by defining a list of methods that the classes must implement. To use such a class, we must derive them keeping in mind that we would either be using or overriding the features specified in that class."
   ]
  },
  {
   "cell_type": "code",
   "execution_count": 33,
   "id": "c4288e79-ce06-4426-92c8-2a37a7295d37",
   "metadata": {},
   "outputs": [],
   "source": [
    "import abc  ## abc module has the abstractmethod, we need to import this to create a abstract class\n",
    "\n",
    "class fruits: ## fruits is the abstract class which has fucntions, but the fucntions functinality is not defined. Its just the blueprint\n",
    "    \n",
    "    @abc.abstractmethod   ## an abstract method called fruit_color\n",
    "    def fruit_color(self):\n",
    "        pass\n",
    "    \n",
    "    @abc.abstractmethod  ## an abstract method called fruit_price\n",
    "    def fruit_price(self):\n",
    "        pass\n",
    "    \n",
    "    \n",
    "    ## Lets create 2 other classes - Apple & Mango, which inherits the properties of the abstract class - fruits\n",
    "    \n",
    "class Mango(fruits):  ## Mango class inherits the data of absrtact class - fruits\n",
    "    \n",
    "    def fruit_color(self):\n",
    "        # here we are using the same method of the abstarct class and defining our own method\n",
    "        return \"I am Mango, and I am Yellow in Color\" \n",
    "    \n",
    "    def fruit_price(self):\n",
    "        # here we are using the same method of the abstarct class and defining our own method\n",
    "        return \"I am 100/kg\"\n",
    "    \n",
    "class Apple(fruits): ## apple class inherist the data of absrtact class - fruits\n",
    "    \n",
    "    def fruit_color(self):\n",
    "        # here we are using the same method of the abstarct class and defining our own method\n",
    "        return \"I am Apple, and i am Red in color\"\n",
    "    \n",
    "    # here we are using the same method of the abstarct class and defining our own method\n",
    "    def fruit_price(self):\n",
    "        return \"200/kg\"\n",
    "    \n",
    "   "
   ]
  },
  {
   "cell_type": "code",
   "execution_count": 28,
   "id": "bb6b86c2-f1d9-4e6d-804e-e6b16d9e8ef4",
   "metadata": {},
   "outputs": [],
   "source": [
    "# creating the oject of Mango & Apple class\n",
    "\n",
    "Mango_obj = Mango()\n",
    "Apple_obj = Apple()"
   ]
  },
  {
   "cell_type": "code",
   "execution_count": 29,
   "id": "bc938ecf-43c7-4a26-9c15-2aec4af29108",
   "metadata": {},
   "outputs": [
    {
     "data": {
      "text/plain": [
       "'I am Mango, and I am Yellow in Color'"
      ]
     },
     "execution_count": 29,
     "metadata": {},
     "output_type": "execute_result"
    }
   ],
   "source": [
    "Mango_obj.fruit_color()"
   ]
  },
  {
   "cell_type": "code",
   "execution_count": 30,
   "id": "95f777c0-4f06-4e02-91f6-59feb09a7678",
   "metadata": {},
   "outputs": [
    {
     "data": {
      "text/plain": [
       "'I am 100/kg'"
      ]
     },
     "execution_count": 30,
     "metadata": {},
     "output_type": "execute_result"
    }
   ],
   "source": [
    "Mango_obj.fruit_price()"
   ]
  },
  {
   "cell_type": "code",
   "execution_count": 31,
   "id": "228ebc6e-b007-4376-a7f3-84fade1aeef1",
   "metadata": {},
   "outputs": [
    {
     "data": {
      "text/plain": [
       "'I am Apple, and i am Red in color'"
      ]
     },
     "execution_count": 31,
     "metadata": {},
     "output_type": "execute_result"
    }
   ],
   "source": [
    "Apple_obj.fruit_color()"
   ]
  },
  {
   "cell_type": "code",
   "execution_count": 32,
   "id": "27b1056f-8803-4197-acd5-e01edcda98da",
   "metadata": {},
   "outputs": [
    {
     "data": {
      "text/plain": [
       "'200/kg'"
      ]
     },
     "execution_count": 32,
     "metadata": {},
     "output_type": "execute_result"
    }
   ],
   "source": [
    "Apple_obj.fruit_price()"
   ]
  },
  {
   "cell_type": "markdown",
   "id": "95170da1-1d43-464d-9623-6143a77d2d8b",
   "metadata": {},
   "source": [
    "-----------------------------------------------------------------------------"
   ]
  },
  {
   "cell_type": "markdown",
   "id": "2230ee67-4df7-46b9-b28a-c014eb64d5e0",
   "metadata": {},
   "source": [
    "#### Q5. Can we create an instance of an abstract class? Explain your answer."
   ]
  },
  {
   "cell_type": "markdown",
   "id": "7a158813-cd71-40f2-92f4-6840aebda7f5",
   "metadata": {},
   "source": [
    "No, We cannot create an instance of an abstract class.\n",
    "\n",
    "1. An Abstract class is a template that enforces a common interface and forces classes that inherit from it to implement a set of methods and properties.\n",
    "\n",
    "\n",
    "2. Because by definition, abstract classes are just a blueprint of class. It only contains the abstract methods. \n",
    "This methods, only has structure and doesnt have body definition\n",
    "\n"
   ]
  },
  {
   "cell_type": "markdown",
   "id": "60964485-4734-428d-96bd-306f9cf7bec2",
   "metadata": {},
   "source": [
    "-----------------------------------------------------------------"
   ]
  }
 ],
 "metadata": {
  "kernelspec": {
   "display_name": "Python 3 (ipykernel)",
   "language": "python",
   "name": "python3"
  },
  "language_info": {
   "codemirror_mode": {
    "name": "ipython",
    "version": 3
   },
   "file_extension": ".py",
   "mimetype": "text/x-python",
   "name": "python",
   "nbconvert_exporter": "python",
   "pygments_lexer": "ipython3",
   "version": "3.10.8"
  }
 },
 "nbformat": 4,
 "nbformat_minor": 5
}
