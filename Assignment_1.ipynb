{
 "cells": [
  {
   "cell_type": "markdown",
   "id": "b7a3a570-7a11-4e42-9747-fece733f6f86",
   "metadata": {},
   "source": [
    "Assignment 1"
   ]
  },
  {
   "cell_type": "markdown",
   "id": "b320e09e-ef38-4ac3-9692-689691b5b3b2",
   "metadata": {},
   "source": [
    "Q1. Create one variable containing following type of data:"
   ]
  },
  {
   "cell_type": "code",
   "execution_count": 1,
   "id": "d7aeb0b0-ad16-408f-964d-e982f5e1288e",
   "metadata": {},
   "outputs": [
    {
     "data": {
      "text/plain": [
       "'Arun Kumar J'"
      ]
     },
     "execution_count": 1,
     "metadata": {},
     "output_type": "execute_result"
    }
   ],
   "source": [
    "# String\n",
    "\n",
    "a=\"Arun Kumar J\"\n",
    "a"
   ]
  },
  {
   "cell_type": "code",
   "execution_count": 2,
   "id": "0b3c7394-a89b-40e6-bfc2-4f72ae677c6c",
   "metadata": {},
   "outputs": [
    {
     "data": {
      "text/plain": [
       "str"
      ]
     },
     "execution_count": 2,
     "metadata": {},
     "output_type": "execute_result"
    }
   ],
   "source": [
    "type(a)"
   ]
  },
  {
   "cell_type": "code",
   "execution_count": 3,
   "id": "25a85492-c64b-4b5a-9dec-aa32d8f9e3b0",
   "metadata": {},
   "outputs": [],
   "source": [
    "# List "
   ]
  },
  {
   "cell_type": "code",
   "execution_count": 4,
   "id": "9a7a480a-5bde-42fd-bc34-80c430ad832a",
   "metadata": {},
   "outputs": [
    {
     "data": {
      "text/plain": [
       "[2, 444, 5677, 34.32222, 'Arun', 'Virat', True]"
      ]
     },
     "execution_count": 4,
     "metadata": {},
     "output_type": "execute_result"
    }
   ],
   "source": [
    "b=[2,444,5677,34.32222,\"Arun\",\"Virat\",True]\n",
    "b"
   ]
  },
  {
   "cell_type": "code",
   "execution_count": 5,
   "id": "ba22b1aa-c13d-4e3c-85ac-d9d79df321e8",
   "metadata": {},
   "outputs": [
    {
     "data": {
      "text/plain": [
       "list"
      ]
     },
     "execution_count": 5,
     "metadata": {},
     "output_type": "execute_result"
    }
   ],
   "source": [
    "type(b)"
   ]
  },
  {
   "cell_type": "code",
   "execution_count": 6,
   "id": "9ab040db-4d36-4706-8c8c-b110a34535e6",
   "metadata": {},
   "outputs": [],
   "source": [
    "#Float"
   ]
  },
  {
   "cell_type": "code",
   "execution_count": 7,
   "id": "9143ace0-be0a-4d89-8ef2-2d9b17a68d04",
   "metadata": {},
   "outputs": [
    {
     "data": {
      "text/plain": [
       "1222.222"
      ]
     },
     "execution_count": 7,
     "metadata": {},
     "output_type": "execute_result"
    }
   ],
   "source": [
    "c=1222.222\n",
    "c"
   ]
  },
  {
   "cell_type": "code",
   "execution_count": 8,
   "id": "0478a5dc-59c9-48f4-80e5-d95265143661",
   "metadata": {},
   "outputs": [
    {
     "data": {
      "text/plain": [
       "float"
      ]
     },
     "execution_count": 8,
     "metadata": {},
     "output_type": "execute_result"
    }
   ],
   "source": [
    "type(c)"
   ]
  },
  {
   "cell_type": "code",
   "execution_count": 9,
   "id": "e3cdaf9a-fe44-4b61-aadd-6d778c98222d",
   "metadata": {},
   "outputs": [],
   "source": [
    "# Tuple"
   ]
  },
  {
   "cell_type": "code",
   "execution_count": 10,
   "id": "bd58ee5f-31a2-46db-acb9-33f8361f51a6",
   "metadata": {},
   "outputs": [
    {
     "data": {
      "text/plain": [
       "(1, 2, 3, 44, 'arun')"
      ]
     },
     "execution_count": 10,
     "metadata": {},
     "output_type": "execute_result"
    }
   ],
   "source": [
    "d=(1,2,3,44,\"arun\")\n",
    "d"
   ]
  },
  {
   "cell_type": "code",
   "execution_count": 11,
   "id": "a7ad3f4d-80c3-438d-a2f0-71ffa23e6250",
   "metadata": {},
   "outputs": [
    {
     "data": {
      "text/plain": [
       "tuple"
      ]
     },
     "execution_count": 11,
     "metadata": {},
     "output_type": "execute_result"
    }
   ],
   "source": [
    "type(d)"
   ]
  },
  {
   "cell_type": "code",
   "execution_count": 12,
   "id": "11847ae3-5036-4881-8cd7-7cb6d8fa5989",
   "metadata": {},
   "outputs": [
    {
     "data": {
      "text/plain": [
       "(1, 2, 3, 44, 'arun')"
      ]
     },
     "execution_count": 12,
     "metadata": {},
     "output_type": "execute_result"
    }
   ],
   "source": [
    "d"
   ]
  },
  {
   "cell_type": "markdown",
   "id": "d66030f6-fb41-4e1e-9ab1-44f722b94dc7",
   "metadata": {},
   "source": [
    "Q2. Given are some following variables containing data:"
   ]
  },
  {
   "cell_type": "code",
   "execution_count": 13,
   "id": "61ae38c8-0958-4706-87e0-dcee7b112215",
   "metadata": {},
   "outputs": [],
   "source": [
    "#(i) var1 = ‘ ‘\n",
    "\n",
    "var1 = ' '   # Will ve stored as String"
   ]
  },
  {
   "cell_type": "code",
   "execution_count": 14,
   "id": "49c59728-429a-4e1c-8cb7-04a7a31dfe04",
   "metadata": {},
   "outputs": [
    {
     "data": {
      "text/plain": [
       "str"
      ]
     },
     "execution_count": 14,
     "metadata": {},
     "output_type": "execute_result"
    }
   ],
   "source": [
    "type(var1)"
   ]
  },
  {
   "cell_type": "code",
   "execution_count": 15,
   "id": "82e279af-f3b7-4aa8-a77c-7f7c4ebe3782",
   "metadata": {},
   "outputs": [
    {
     "data": {
      "text/plain": [
       "str"
      ]
     },
     "execution_count": 15,
     "metadata": {},
     "output_type": "execute_result"
    }
   ],
   "source": [
    "# (ii) var2 = '[ DS , ML , Python]’  --> STRING\n",
    "\n",
    "var2 = '[ DS , ML , Python]'\n",
    "type(var2)"
   ]
  },
  {
   "cell_type": "code",
   "execution_count": 16,
   "id": "9d06fb08-fe5e-4bb7-bd70-e662dff8125c",
   "metadata": {},
   "outputs": [
    {
     "data": {
      "text/plain": [
       "list"
      ]
     },
     "execution_count": 16,
     "metadata": {},
     "output_type": "execute_result"
    }
   ],
   "source": [
    "# (iii) var3 = [ ‘DS’ , ’ML’ , ‘Python’ ] ---> LIST\n",
    "\n",
    "var3 = [ 'DS' , 'ML' , 'Python' ]\n",
    "type(var3)"
   ]
  },
  {
   "cell_type": "code",
   "execution_count": 17,
   "id": "2ec05614-3286-4c4e-9f9d-a8e6bcc70b88",
   "metadata": {},
   "outputs": [
    {
     "data": {
      "text/plain": [
       "int"
      ]
     },
     "execution_count": 17,
     "metadata": {},
     "output_type": "execute_result"
    }
   ],
   "source": [
    "# (iv) var4 = 1 ----> INTEGER\n",
    "var4 = 1\n",
    "type(var4)"
   ]
  },
  {
   "cell_type": "markdown",
   "id": "e5c383b0-0b9b-4c49-a553-111ad85e6486",
   "metadata": {},
   "source": [
    "Q3. Explain the use of the following operators using an example:"
   ]
  },
  {
   "cell_type": "code",
   "execution_count": 18,
   "id": "de699851-d47a-45f2-a010-ee46f3c19a2c",
   "metadata": {},
   "outputs": [
    {
     "data": {
      "text/plain": [
       "3.3333333333333335"
      ]
     },
     "execution_count": 18,
     "metadata": {},
     "output_type": "execute_result"
    }
   ],
   "source": [
    "# (i) /\n",
    "# / is a division operator, it divides the numerator by denominator\n",
    "\n",
    "10/3\n"
   ]
  },
  {
   "cell_type": "code",
   "execution_count": 19,
   "id": "3483a0f8-c356-4850-8785-f18d0db0336b",
   "metadata": {},
   "outputs": [
    {
     "name": "stdout",
     "output_type": "stream",
     "text": [
      "20.0\n"
     ]
    }
   ],
   "source": [
    "a=100\n",
    "b=5\n",
    "c=a/b\n",
    "print(c)  "
   ]
  },
  {
   "cell_type": "code",
   "execution_count": 20,
   "id": "a8a7f1be-a223-41f2-97b2-18c8eb72dca4",
   "metadata": {},
   "outputs": [
    {
     "name": "stdout",
     "output_type": "stream",
     "text": [
      "0\n",
      "2\n",
      "1\n",
      "1\n"
     ]
    }
   ],
   "source": [
    "# (ii) %\n",
    "# % - Modulus operator, gives the remainder after dividing the first number by second number\n",
    "# if the first number is smaller than the second number, then it will return the first number as the output.\n",
    "\n",
    "a=100\n",
    "b=5\n",
    "c=7\n",
    "d=1\n",
    "\n",
    "print(a%b)  # 100%5 = remainder is 0\n",
    "print(a%c)  # 100%7 = remainder is 2\n",
    "print(d%a)  # 1%100 = Since first number is smaller than 2nd number, so the output will be 1\n",
    "print(d%b)  # 1%5 = Since first number is smaller than 2nd number, so the output will be 1\n"
   ]
  },
  {
   "cell_type": "code",
   "execution_count": 21,
   "id": "19e14a97-b142-4c56-98eb-35687df090f5",
   "metadata": {},
   "outputs": [
    {
     "name": "stdout",
     "output_type": "stream",
     "text": [
      "20\n",
      "14\n"
     ]
    }
   ],
   "source": [
    "## (iii) //\n",
    "\n",
    "a=100\n",
    "b=5\n",
    "\n",
    "print(a//b)  # 100//5 = 20\n",
    "print(a//c)  # 100//7 = 14.286 // But it returns the nearest whole number as output that is 14\n"
   ]
  },
  {
   "cell_type": "code",
   "execution_count": 22,
   "id": "b4637ea1-c5bb-4ccb-aca7-aedfee733ffa",
   "metadata": {},
   "outputs": [
    {
     "data": {
      "text/plain": [
       "32"
      ]
     },
     "execution_count": 22,
     "metadata": {},
     "output_type": "execute_result"
    }
   ],
   "source": [
    "# (iv) **\n",
    "# Returns the Exponential value of a number\n",
    "# if a=2 - NUmber, b= power value ---> 2 to the power of 5\n",
    "a=2\n",
    "b=5\n",
    "a**b\n",
    "\n"
   ]
  },
  {
   "cell_type": "markdown",
   "id": "de009bf9-00bd-4b28-a7b3-fc186d185097",
   "metadata": {},
   "source": [
    "Q4. Create a list of length 10 of your choice containing multiple types of data. Using for loop print the\n",
    "element and its data type."
   ]
  },
  {
   "cell_type": "code",
   "execution_count": 23,
   "id": "64048029-570b-4597-9af9-b67fbe2052a7",
   "metadata": {},
   "outputs": [],
   "source": [
    "List1=[33,432,12.232,.0443,\"Arun\",\"Kumar\",5j+7,True,122,False]"
   ]
  },
  {
   "cell_type": "code",
   "execution_count": 24,
   "id": "06d7f254-d9ec-40b8-b233-ffbd1282600c",
   "metadata": {},
   "outputs": [
    {
     "data": {
      "text/plain": [
       "10"
      ]
     },
     "execution_count": 24,
     "metadata": {},
     "output_type": "execute_result"
    }
   ],
   "source": [
    "len(List1)\n",
    "# Length of the list is 10"
   ]
  },
  {
   "cell_type": "code",
   "execution_count": 25,
   "id": "f37ee583-2661-4eb6-991f-880649ef4eba",
   "metadata": {},
   "outputs": [
    {
     "name": "stdout",
     "output_type": "stream",
     "text": [
      "The data type of the element 33 is  <class 'int'>\n",
      "The data type of the element 432 is  <class 'int'>\n",
      "The data type of the element 12.232 is  <class 'float'>\n",
      "The data type of the element 0.0443 is  <class 'float'>\n",
      "The data type of the element Arun is  <class 'str'>\n",
      "The data type of the element Kumar is  <class 'str'>\n",
      "The data type of the element (7+5j) is  <class 'complex'>\n",
      "The data type of the element True is  <class 'bool'>\n",
      "The data type of the element 122 is  <class 'int'>\n",
      "The data type of the element False is  <class 'bool'>\n"
     ]
    }
   ],
   "source": [
    "for i in List1:\n",
    "    print(\"The data type of the element\", i,\"is \",type(i))"
   ]
  },
  {
   "cell_type": "markdown",
   "id": "c985e655-5808-48bf-b05f-27388ea66d58",
   "metadata": {},
   "source": [
    "Q5. Using a while loop, verify if the number A is purely divisible by number B and if so then how many\n",
    "times it can be divisible."
   ]
  },
  {
   "cell_type": "code",
   "execution_count": 27,
   "id": "9187c9ec-f31f-4b32-a66a-302e82bd4d7b",
   "metadata": {},
   "outputs": [
    {
     "name": "stdin",
     "output_type": "stream",
     "text": [
      " 100\n",
      " 50\n"
     ]
    },
    {
     "name": "stdout",
     "output_type": "stream",
     "text": [
      "The number 100 is perfectly divisble by the number 50\n",
      "The number 100 can be divided 2 times by the number 50\n"
     ]
    }
   ],
   "source": [
    "count=0\n",
    "a=int(input())\n",
    "b=int(input())\n",
    "while a%b==0:\n",
    "    count=count+1\n",
    "    c=a/b\n",
    "    break\n",
    "if count>0:\n",
    "    print(\"The number\",a,\"is perfectly divisble by the number\",b)\n",
    "    print(\"The number\",a,\"can be divided\",int(c),\"times by the number\",b)\n",
    "else:\n",
    "    print(\"The number\",a,\"is not perfectly divisble by number\",b)"
   ]
  },
  {
   "cell_type": "markdown",
   "id": "a17867b2-6086-48f7-aabc-d62c1045c86f",
   "metadata": {},
   "source": [
    "Q6. Create a list containing 25 int type data. Using for loop and if-else condition print if the element is\n",
    "divisible by 3 or not."
   ]
  },
  {
   "cell_type": "code",
   "execution_count": 28,
   "id": "e50cfdac-1c6b-455f-b202-3c2acbbed1f2",
   "metadata": {},
   "outputs": [
    {
     "name": "stdout",
     "output_type": "stream",
     "text": [
      "12  is divisble by 3\n",
      "13  is not divisible by 3\n",
      "14  is not divisible by 3\n",
      "15  is divisble by 3\n",
      "16  is not divisible by 3\n",
      "17  is not divisible by 3\n",
      "18  is divisble by 3\n",
      "19  is not divisible by 3\n",
      "20  is not divisible by 3\n",
      "21  is divisble by 3\n",
      "22  is not divisible by 3\n",
      "23  is not divisible by 3\n",
      "24  is divisble by 3\n",
      "25  is not divisible by 3\n",
      "26  is not divisible by 3\n",
      "27  is divisble by 3\n",
      "28  is not divisible by 3\n",
      "29  is not divisible by 3\n",
      "30  is divisble by 3\n",
      "31  is not divisible by 3\n",
      "32  is not divisible by 3\n",
      "33  is divisble by 3\n",
      "34  is not divisible by 3\n",
      "35  is not divisible by 3\n",
      "36  is divisble by 3\n",
      "For loop completed successfully\n"
     ]
    }
   ],
   "source": [
    "list_25 = list(range(12,37))\n",
    "for i in list_25:\n",
    "    if i%3==0:\n",
    "        print(i,\" is divisble by 3\")\n",
    "    else:\n",
    "        print(i,\" is not divisible by 3\")\n",
    "print(\"For loop completed successfully\")"
   ]
  },
  {
   "cell_type": "markdown",
   "id": "6a3675e4-825b-4b42-b123-83679729d8e9",
   "metadata": {},
   "source": [
    "Q7. What do you understand about mutable and immutable data types? Give examples for both showing\n",
    "this property."
   ]
  },
  {
   "cell_type": "markdown",
   "id": "532cafbb-e809-41fd-94ad-2132d76149e6",
   "metadata": {},
   "source": [
    "Immutable objects --  can be defined as objects that do not change their values over time.\n",
    "                        Ex - Int, float\n",
    "\n",
    "Mutable objects --  we can change the value of objects. Ex List"
   ]
  },
  {
   "cell_type": "code",
   "execution_count": 29,
   "id": "4346c020-7860-4ae7-aeec-61000ca68229",
   "metadata": {},
   "outputs": [
    {
     "data": {
      "text/plain": [
       "[10, 11, 12, 13, 14, 15, 16, 17, 18, 19]"
      ]
     },
     "execution_count": 29,
     "metadata": {},
     "output_type": "execute_result"
    }
   ],
   "source": [
    "# Mutable Objects\n",
    "\n",
    "l1=list(range(10,20))\n",
    "l1\n"
   ]
  },
  {
   "cell_type": "code",
   "execution_count": 30,
   "id": "722b68f1-56e6-4d79-b335-3db24dfac5a8",
   "metadata": {},
   "outputs": [
    {
     "data": {
      "text/plain": [
       "[10, 11, 12, 13, 14, 'Arun', 16, 17, 18, 19]"
      ]
     },
     "execution_count": 30,
     "metadata": {},
     "output_type": "execute_result"
    }
   ],
   "source": [
    "# We can see that the above list has all integer datatype.\n",
    "# Now let me try to change the value 15 to String. \n",
    "# the index of 15 is --> 5\n",
    "l1[5]=\"Arun\"\n",
    "l1"
   ]
  },
  {
   "cell_type": "code",
   "execution_count": 31,
   "id": "a275b402-f374-4f67-a0d4-37b369b538ac",
   "metadata": {},
   "outputs": [],
   "source": [
    "# we can see that the l1 list has been modified and a new element is added the place of 15.`"
   ]
  },
  {
   "cell_type": "code",
   "execution_count": 32,
   "id": "188fb9d5-4b24-4574-93bf-c033371fe1bd",
   "metadata": {},
   "outputs": [
    {
     "data": {
      "text/plain": [
       "'Arun Kumar'"
      ]
     },
     "execution_count": 32,
     "metadata": {},
     "output_type": "execute_result"
    }
   ],
   "source": [
    "# Immutable Objects Example\n",
    "str1=\"Arun Kumar\"\n",
    "str1\n",
    "\n",
    "# str1 holds the value my name --> \"Arun Kumar\"\n",
    "# now if i try to change it, it will throw me an error."
   ]
  },
  {
   "cell_type": "code",
   "execution_count": 33,
   "id": "2504232a-e380-4c0f-b3a2-a4c9dbe8877e",
   "metadata": {},
   "outputs": [
    {
     "ename": "TypeError",
     "evalue": "'str' object does not support item assignment",
     "output_type": "error",
     "traceback": [
      "\u001b[0;31m---------------------------------------------------------------------------\u001b[0m",
      "\u001b[0;31mTypeError\u001b[0m                                 Traceback (most recent call last)",
      "Cell \u001b[0;32mIn[33], line 2\u001b[0m\n\u001b[1;32m      1\u001b[0m \u001b[38;5;66;03m# let me try to change the value of \"K\" in kumar to \"Z\"\u001b[39;00m\n\u001b[0;32m----> 2\u001b[0m \u001b[43mstr1\u001b[49m\u001b[43m[\u001b[49m\u001b[38;5;241;43m5\u001b[39;49m\u001b[43m]\u001b[49m\u001b[38;5;241m=\u001b[39m\u001b[38;5;124m'\u001b[39m\u001b[38;5;124mZ\u001b[39m\u001b[38;5;124m'\u001b[39m\n\u001b[1;32m      4\u001b[0m \u001b[38;5;66;03m# Throws me an error saying \"object does not support item assignment\"\u001b[39;00m\n",
      "\u001b[0;31mTypeError\u001b[0m: 'str' object does not support item assignment"
     ]
    }
   ],
   "source": [
    "# let me try to change the value of \"K\" in kumar to \"Z\"\n",
    "str1[5]='Z'\n",
    "\n",
    "# Throws me an error saying \"object does not support item assignment\""
   ]
  }
 ],
 "metadata": {
  "kernelspec": {
   "display_name": "Python 3 (ipykernel)",
   "language": "python",
   "name": "python3"
  },
  "language_info": {
   "codemirror_mode": {
    "name": "ipython",
    "version": 3
   },
   "file_extension": ".py",
   "mimetype": "text/x-python",
   "name": "python",
   "nbconvert_exporter": "python",
   "pygments_lexer": "ipython3",
   "version": "3.10.8"
  }
 },
 "nbformat": 4,
 "nbformat_minor": 5
}
