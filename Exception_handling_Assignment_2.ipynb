{
 "cells": [
  {
   "cell_type": "markdown",
   "id": "c137814c-0b46-4d18-97cc-cd83dd395d8e",
   "metadata": {},
   "source": [
    "## Exception Handling Assignment -2"
   ]
  },
  {
   "cell_type": "code",
   "execution_count": null,
   "id": "d54f16ab-f24d-48ca-a3d8-3702fdb43cea",
   "metadata": {},
   "outputs": [],
   "source": []
  },
  {
   "cell_type": "markdown",
   "id": "d1592d60-2823-42a1-8f99-cfe190fb3e04",
   "metadata": {},
   "source": [
    "#### Q1. Explain why we have to use the Exception class while creating a Custom Exception."
   ]
  },
  {
   "cell_type": "markdown",
   "id": "11410638-544c-4b86-8a27-60dee47a7d85",
   "metadata": {},
   "source": [
    "The custom exception is a user-defined exception that is created by the user to handle specific error scenarios in a code. This can be done by creating our own  custom exception by subclassing the built-in Exception class or any of its subclasses.\n",
    "\n",
    "\n",
    "1. If we have to create our own Exception, we would have to inherit the Exception class inside our own custom exception class.\n",
    "2. Doing this, we will have all the properties of the Super Class - Exception.\n",
    "3. By doing that, we can use all the types of exception that comes under Super Class - Exception class, and  handle the exception print the message in our own requirement.\n",
    "\n"
   ]
  },
  {
   "cell_type": "code",
   "execution_count": null,
   "id": "2eb132d8-644e-466d-92fe-5b48b01abbe4",
   "metadata": {},
   "outputs": [],
   "source": []
  },
  {
   "cell_type": "markdown",
   "id": "c6df547e-458f-474c-9ac9-a2dc25f8addb",
   "metadata": {},
   "source": [
    "#### Q2. Write a python program to print Python Exception Hierarchy."
   ]
  },
  {
   "cell_type": "code",
   "execution_count": null,
   "id": "0434adc7-afd5-4b8d-99f7-6305961e3f2a",
   "metadata": {},
   "outputs": [],
   "source": []
  },
  {
   "cell_type": "code",
   "execution_count": 1,
   "id": "125600aa-a22a-4b2a-be16-8ec42c126d8c",
   "metadata": {},
   "outputs": [
    {
     "name": "stdout",
     "output_type": "stream",
     "text": [
      " BaseException\n",
      "--- Exception\n",
      "------ TypeError\n",
      "--------- FloatOperation\n",
      "--------- MultipartConversionError\n",
      "------ StopAsyncIteration\n",
      "------ StopIteration\n",
      "------ ImportError\n",
      "--------- ModuleNotFoundError\n",
      "--------- ZipImportError\n",
      "------ OSError\n",
      "--------- ConnectionError\n",
      "------------ BrokenPipeError\n",
      "------------ ConnectionAbortedError\n",
      "------------ ConnectionRefusedError\n",
      "------------ ConnectionResetError\n",
      "--------------- RemoteDisconnected\n",
      "--------- BlockingIOError\n",
      "--------- ChildProcessError\n",
      "--------- FileExistsError\n",
      "--------- FileNotFoundError\n",
      "--------- IsADirectoryError\n",
      "--------- NotADirectoryError\n",
      "--------- InterruptedError\n",
      "------------ InterruptedSystemCall\n",
      "--------- PermissionError\n",
      "--------- ProcessLookupError\n",
      "--------- TimeoutError\n",
      "--------- UnsupportedOperation\n",
      "--------- itimer_error\n",
      "--------- herror\n",
      "--------- gaierror\n",
      "--------- SSLError\n",
      "------------ SSLCertVerificationError\n",
      "------------ SSLZeroReturnError\n",
      "------------ SSLWantWriteError\n",
      "------------ SSLWantReadError\n",
      "------------ SSLSyscallError\n",
      "------------ SSLEOFError\n",
      "--------- Error\n",
      "------------ SameFileError\n",
      "--------- SpecialFileError\n",
      "--------- ExecError\n",
      "--------- ReadError\n",
      "--------- URLError\n",
      "------------ HTTPError\n",
      "------------ ContentTooShortError\n",
      "--------- BadGzipFile\n",
      "------ EOFError\n",
      "--------- IncompleteReadError\n",
      "------ RuntimeError\n",
      "--------- RecursionError\n",
      "--------- NotImplementedError\n",
      "------------ ZMQVersionError\n",
      "------------ StdinNotImplementedError\n",
      "--------- _DeadlockError\n",
      "--------- BrokenBarrierError\n",
      "--------- BrokenExecutor\n",
      "------------ BrokenThreadPool\n",
      "--------- SendfileNotAvailableError\n",
      "--------- ExtractionError\n",
      "--------- VariableError\n",
      "------ NameError\n",
      "--------- UnboundLocalError\n",
      "------ AttributeError\n",
      "--------- FrozenInstanceError\n",
      "------ SyntaxError\n",
      "--------- IndentationError\n",
      "------------ TabError\n",
      "------ LookupError\n",
      "--------- IndexError\n",
      "--------- KeyError\n",
      "------------ NoSuchKernel\n",
      "------------ UnknownBackend\n",
      "--------- CodecRegistryError\n",
      "------ ValueError\n",
      "--------- UnicodeError\n",
      "------------ UnicodeEncodeError\n",
      "------------ UnicodeDecodeError\n",
      "------------ UnicodeTranslateError\n",
      "--------- UnsupportedOperation\n",
      "--------- JSONDecodeError\n",
      "--------- SSLCertVerificationError\n",
      "--------- Error\n",
      "--------- UnsupportedDigestmodError\n",
      "--------- IllegalMonthError\n",
      "--------- IllegalWeekdayError\n",
      "--------- ParserError\n",
      "--------- ClassNotFound\n",
      "--------- ClipboardEmpty\n",
      "--------- MessageDefect\n",
      "------------ NoBoundaryInMultipartDefect\n",
      "------------ StartBoundaryNotFoundDefect\n",
      "------------ CloseBoundaryNotFoundDefect\n",
      "------------ FirstHeaderLineIsContinuationDefect\n",
      "------------ MisplacedEnvelopeHeaderDefect\n",
      "------------ MissingHeaderBodySeparatorDefect\n",
      "------------ MultipartInvariantViolationDefect\n",
      "------------ InvalidMultipartContentTransferEncodingDefect\n",
      "------------ UndecodableBytesDefect\n",
      "------------ InvalidBase64PaddingDefect\n",
      "------------ InvalidBase64CharactersDefect\n",
      "------------ InvalidBase64LengthDefect\n",
      "------------ HeaderDefect\n",
      "--------------- InvalidHeaderDefect\n",
      "--------------- HeaderMissingRequiredValue\n",
      "--------------- NonPrintableDefect\n",
      "--------------- ObsoleteHeaderDefect\n",
      "--------------- NonASCIILocalPartDefect\n",
      "--------------- InvalidDateDefect\n",
      "--------- MacroToEdit\n",
      "--------- InvalidFileException\n",
      "--------- UnequalIterablesError\n",
      "--------- InvalidVersion\n",
      "--------- _InvalidELFFileHeader\n",
      "--------- InvalidWheelFilename\n",
      "--------- InvalidSdistFilename\n",
      "--------- InvalidSpecifier\n",
      "--------- InvalidMarker\n",
      "--------- UndefinedComparison\n",
      "--------- UndefinedEnvironmentName\n",
      "--------- InvalidRequirement\n",
      "------------ RequirementParseError\n",
      "--------- InvalidVersion\n",
      "------ AssertionError\n",
      "------ ArithmeticError\n",
      "--------- FloatingPointError\n",
      "--------- OverflowError\n",
      "--------- ZeroDivisionError\n",
      "------------ DivisionByZero\n",
      "------------ DivisionUndefined\n",
      "--------- DecimalException\n",
      "------------ Clamped\n",
      "------------ Rounded\n",
      "--------------- Underflow\n",
      "--------------- Overflow\n",
      "------------ Inexact\n",
      "--------------- Underflow\n",
      "--------------- Overflow\n",
      "------------ Subnormal\n",
      "--------------- Underflow\n",
      "------------ DivisionByZero\n",
      "------------ FloatOperation\n",
      "------------ InvalidOperation\n",
      "--------------- ConversionSyntax\n",
      "--------------- DivisionImpossible\n",
      "--------------- DivisionUndefined\n",
      "--------------- InvalidContext\n",
      "------ SystemError\n",
      "--------- CodecRegistryError\n",
      "------ ReferenceError\n",
      "------ MemoryError\n",
      "------ BufferError\n",
      "------ Warning\n",
      "--------- UserWarning\n",
      "------------ GetPassWarning\n",
      "------------ FormatterWarning\n",
      "--------- EncodingWarning\n",
      "--------- DeprecationWarning\n",
      "------------ ProvisionalWarning\n",
      "--------- PendingDeprecationWarning\n",
      "--------- SyntaxWarning\n",
      "--------- RuntimeWarning\n",
      "------------ ProactorSelectorThreadWarning\n",
      "------------ UnknownTimezoneWarning\n",
      "------------ PEP440Warning\n",
      "--------- FutureWarning\n",
      "------------ ProvisionalCompleterWarning\n",
      "--------- ImportWarning\n",
      "--------- UnicodeWarning\n",
      "--------- BytesWarning\n",
      "--------- ResourceWarning\n",
      "--------- DeprecatedTzFormatWarning\n",
      "--------- PkgResourcesDeprecationWarning\n",
      "------ _OptionError\n",
      "------ _Error\n",
      "------ error\n",
      "------ Verbose\n",
      "------ Error\n",
      "------ SubprocessError\n",
      "--------- CalledProcessError\n",
      "--------- TimeoutExpired\n",
      "------ TokenError\n",
      "------ StopTokenizing\n",
      "------ ClassFoundException\n",
      "------ EndOfBlock\n",
      "------ TraitError\n",
      "------ Error\n",
      "------ Error\n",
      "--------- CancelledError\n",
      "--------- TimeoutError\n",
      "--------- InvalidStateError\n",
      "------ _GiveupOnSendfile\n",
      "------ error\n",
      "------ Incomplete\n",
      "------ TimeoutError\n",
      "------ InvalidStateError\n",
      "------ LimitOverrunError\n",
      "------ QueueEmpty\n",
      "------ QueueFull\n",
      "------ Empty\n",
      "------ Full\n",
      "------ ArgumentError\n",
      "------ ZMQBaseError\n",
      "--------- ZMQError\n",
      "------------ ContextTerminated\n",
      "------------ Again\n",
      "------------ InterruptedSystemCall\n",
      "--------- ZMQBindError\n",
      "--------- NotDone\n",
      "------ PickleError\n",
      "--------- PicklingError\n",
      "--------- UnpicklingError\n",
      "------ _Stop\n",
      "------ ArgumentError\n",
      "------ ArgumentTypeError\n",
      "------ ConfigError\n",
      "--------- ConfigLoaderError\n",
      "------------ ArgumentError\n",
      "--------- ConfigFileNotFound\n",
      "------ ConfigurableError\n",
      "--------- MultipleInstanceError\n",
      "------ ApplicationError\n",
      "------ error\n",
      "------ TimeoutError\n",
      "------ error\n",
      "------ ReturnValueIgnoredError\n",
      "------ KeyReuseError\n",
      "------ UnknownKeyError\n",
      "------ LeakedCallbackError\n",
      "------ BadYieldError\n",
      "------ ReturnValueIgnoredError\n",
      "------ Return\n",
      "------ InvalidPortNumber\n",
      "------ error\n",
      "------ LZMAError\n",
      "------ RegistryError\n",
      "------ _GiveupOnFastCopy\n",
      "------ Error\n",
      "--------- NoSectionError\n",
      "--------- DuplicateSectionError\n",
      "--------- DuplicateOptionError\n",
      "--------- NoOptionError\n",
      "--------- InterpolationError\n",
      "------------ InterpolationMissingOptionError\n",
      "------------ InterpolationSyntaxError\n",
      "------------ InterpolationDepthError\n",
      "--------- ParsingError\n",
      "------------ MissingSectionHeaderError\n",
      "------ NoIPAddresses\n",
      "------ BadZipFile\n",
      "------ LargeZipFile\n",
      "------ BadEntryPoint\n",
      "------ NoSuchEntryPoint\n",
      "------ DuplicateKernelError\n",
      "------ ErrorDuringImport\n",
      "------ NotOneValueFound\n",
      "------ CannotEval\n",
      "------ OptionError\n",
      "------ BdbQuit\n",
      "------ Restart\n",
      "------ ExceptionPexpect\n",
      "--------- EOF\n",
      "--------- TIMEOUT\n",
      "------ PtyProcessError\n",
      "------ FindCmdError\n",
      "------ HomeDirError\n",
      "------ ProfileDirError\n",
      "------ IPythonCoreError\n",
      "--------- TryNext\n",
      "--------- UsageError\n",
      "--------- StdinNotImplementedError\n",
      "------ InputRejected\n",
      "------ GetoptError\n",
      "------ ErrorToken\n",
      "------ PrefilterError\n",
      "------ AliasError\n",
      "--------- InvalidAliasError\n",
      "------ Error\n",
      "--------- InterfaceError\n",
      "--------- DatabaseError\n",
      "------------ InternalError\n",
      "------------ OperationalError\n",
      "------------ ProgrammingError\n",
      "------------ IntegrityError\n",
      "------------ DataError\n",
      "------------ NotSupportedError\n",
      "------ Warning\n",
      "------ SpaceInInput\n",
      "------ DOMException\n",
      "--------- IndexSizeErr\n",
      "--------- DomstringSizeErr\n",
      "--------- HierarchyRequestErr\n",
      "--------- WrongDocumentErr\n",
      "--------- InvalidCharacterErr\n",
      "--------- NoDataAllowedErr\n",
      "--------- NoModificationAllowedErr\n",
      "--------- NotFoundErr\n",
      "--------- NotSupportedErr\n",
      "--------- InuseAttributeErr\n",
      "--------- InvalidStateErr\n",
      "--------- SyntaxErr\n",
      "--------- InvalidModificationErr\n",
      "--------- NamespaceErr\n",
      "--------- InvalidAccessErr\n",
      "--------- ValidationErr\n",
      "------ ValidationError\n",
      "------ EditReadOnlyBuffer\n",
      "------ _Retry\n",
      "------ InvalidLayoutError\n",
      "------ HeightIsUnknownError\n",
      "------ ParserSyntaxError\n",
      "------ InternalParseError\n",
      "------ _PositionUpdatingFinished\n",
      "------ SimpleGetItemNotFound\n",
      "------ UncaughtAttributeError\n",
      "------ HasNoContext\n",
      "------ ParamIssue\n",
      "------ _JediError\n",
      "--------- InternalError\n",
      "--------- WrongVersion\n",
      "--------- RefactoringError\n",
      "------ OnErrorLeaf\n",
      "------ InvalidPythonEnvironment\n",
      "------ MessageError\n",
      "--------- MessageParseError\n",
      "------------ HeaderParseError\n",
      "------------ BoundaryError\n",
      "--------- MultipartConversionError\n",
      "--------- CharsetError\n",
      "------ Error\n",
      "------ HTTPException\n",
      "--------- NotConnected\n",
      "--------- InvalidURL\n",
      "--------- UnknownProtocol\n",
      "--------- UnknownTransferEncoding\n",
      "--------- UnimplementedFileMode\n",
      "--------- IncompleteRead\n",
      "--------- ImproperConnectionState\n",
      "------------ CannotSendRequest\n",
      "------------ CannotSendHeader\n",
      "------------ ResponseNotReady\n",
      "--------- BadStatusLine\n",
      "------------ RemoteDisconnected\n",
      "--------- LineTooLong\n",
      "------ InteractivelyDefined\n",
      "------ KillEmbedded\n",
      "------ Error\n",
      "--------- NoSuchProcess\n",
      "------------ ZombieProcess\n",
      "--------- AccessDenied\n",
      "--------- TimeoutExpired\n",
      "------ _Ipv6UnsupportedError\n",
      "------ QueueEmpty\n",
      "------ QueueFull\n",
      "------ DebuggerInitializationError\n",
      "------ ExpatError\n",
      "------ Error\n",
      "--------- ProtocolError\n",
      "--------- ResponseError\n",
      "--------- Fault\n",
      "------ ParseBaseException\n",
      "--------- ParseException\n",
      "--------- ParseFatalException\n",
      "------------ ParseSyntaxException\n",
      "------ RecursiveGrammarException\n",
      "------ ResolutionError\n",
      "--------- VersionConflict\n",
      "------------ ContextualVersionConflict\n",
      "--------- DistributionNotFound\n",
      "--------- UnknownExtra\n",
      "------ _Error\n",
      "------ UnableToResolveVariableException\n",
      "------ InvalidTypeInArgsException\n",
      "--- GeneratorExit\n",
      "--- SystemExit\n",
      "--- KeyboardInterrupt\n",
      "--- CancelledError\n",
      "--- AbortThread\n"
     ]
    }
   ],
   "source": [
    "# import inspect module\n",
    "import inspect\n",
    "\n",
    "# our treeClass function\n",
    "def treeClass(cls, a = 0):\n",
    "    print ('-'*a , cls.__name__)\n",
    "\n",
    "# iterating through subclasses\n",
    "    for i in cls.__subclasses__():\n",
    "        treeClass(i, a + 3)\n",
    "\n",
    "#building a tree hierarchy \n",
    "inspect.getclasstree(inspect.getmro(BaseException))\n",
    "treeClass(BaseException)"
   ]
  },
  {
   "cell_type": "code",
   "execution_count": null,
   "id": "14c2e173-60ee-4249-ad08-01bbd2ac395c",
   "metadata": {},
   "outputs": [],
   "source": []
  },
  {
   "cell_type": "markdown",
   "id": "92918c15-394d-4a4d-a899-7a0a963be104",
   "metadata": {},
   "source": [
    "#### Q3. What errors are defined in the ArithmeticError class? Explain any two with an example."
   ]
  },
  {
   "cell_type": "markdown",
   "id": "6c82b45a-3128-411c-b770-9af019f81499",
   "metadata": {},
   "source": [
    "1. AirthematicError --> Simply an error that occurs during numeric calculations/mathematical calculations\n",
    "2. Under AirthematicError , we have more classifications they are below:-\n",
    "\n",
    "ArithmeticError\n",
    "\n",
    "    1. FloatingPointError\n",
    "    2. OverflowError\n",
    "    3. ZeroDivisionError\n",
    "        a. DivisionByZero\n",
    "        b. DivisionUndefined\n",
    "    4. DecimalException\n",
    "        a. Clamped\n",
    "        b. Rounded\n",
    "            i. Underflow\n",
    "            ii. Overflow\n",
    "        c. Inexact\n",
    "            i.  Underflow\n",
    "            ii. Overflow\n",
    "        d. Subnormal\n",
    "            i. Underflow\n",
    "        e. DivisionByZero\n",
    "        f. FloatOperation\n",
    "        g. InvalidOperation\n",
    "            i.   ConversionSyntax\n",
    "            ii.  DivisionImpossible\n",
    "            iii. DivisionUndefined\n",
    "            iv.  InvalidContext"
   ]
  },
  {
   "cell_type": "code",
   "execution_count": 2,
   "id": "d99c1ea0-aeef-4349-89e6-c29da05addc3",
   "metadata": {},
   "outputs": [
    {
     "ename": "ZeroDivisionError",
     "evalue": "division by zero",
     "output_type": "error",
     "traceback": [
      "\u001b[0;31m---------------------------------------------------------------------------\u001b[0m",
      "\u001b[0;31mZeroDivisionError\u001b[0m                         Traceback (most recent call last)",
      "Cell \u001b[0;32mIn[2], line 5\u001b[0m\n\u001b[1;32m      1\u001b[0m \u001b[38;5;66;03m# Examples \u001b[39;00m\n\u001b[1;32m      2\u001b[0m \u001b[38;5;66;03m## ZeroDivisionError\u001b[39;00m\n\u001b[1;32m      4\u001b[0m a\u001b[38;5;241m=\u001b[39m\u001b[38;5;241m10\u001b[39m\n\u001b[0;32m----> 5\u001b[0m \u001b[43ma\u001b[49m\u001b[38;5;241;43m/\u001b[39;49m\u001b[38;5;241;43m0\u001b[39;49m\n",
      "\u001b[0;31mZeroDivisionError\u001b[0m: division by zero"
     ]
    }
   ],
   "source": [
    "# Examples \n",
    "## ZeroDivisionError\n",
    "\n",
    "a=10\n",
    "a/0"
   ]
  },
  {
   "cell_type": "code",
   "execution_count": 3,
   "id": "0e3465d8-adc3-483b-a5f2-60a6fd3d90ca",
   "metadata": {},
   "outputs": [
    {
     "name": "stdout",
     "output_type": "stream",
     "text": [
      "0 3.0\n",
      "1 9.0\n",
      "2 81.0\n",
      "3 6561.0\n",
      "4 43046721.0\n",
      "5 1853020188851841.0\n",
      "6 3.4336838202925124e+30\n",
      "7 1.1790184577738583e+61\n",
      "8 1.3900845237714473e+122\n",
      "9 1.9323349832288915e+244\n"
     ]
    },
    {
     "ename": "OverflowError",
     "evalue": "(34, 'Numerical result out of range')",
     "output_type": "error",
     "traceback": [
      "\u001b[0;31m---------------------------------------------------------------------------\u001b[0m",
      "\u001b[0;31mOverflowError\u001b[0m                             Traceback (most recent call last)",
      "Cell \u001b[0;32mIn[3], line 7\u001b[0m\n\u001b[1;32m      5\u001b[0m \u001b[38;5;28;01mfor\u001b[39;00m i \u001b[38;5;129;01min\u001b[39;00m \u001b[38;5;28mrange\u001b[39m(\u001b[38;5;241m100\u001b[39m):\n\u001b[1;32m      6\u001b[0m     \u001b[38;5;28mprint\u001b[39m(i, f)\n\u001b[0;32m----> 7\u001b[0m     f \u001b[38;5;241m=\u001b[39m \u001b[43mf\u001b[49m\u001b[43m \u001b[49m\u001b[38;5;241;43m*\u001b[39;49m\u001b[38;5;241;43m*\u001b[39;49m\u001b[43m \u001b[49m\u001b[38;5;241;43m2\u001b[39;49m\n\u001b[1;32m      9\u001b[0m \u001b[38;5;66;03m# OverflowError occurs when any operations like arithmetic operations or any other variable storing any value above \u001b[39;00m\n\u001b[1;32m     10\u001b[0m \u001b[38;5;66;03m# its limit then there occurs an overflow of values that will exceed it's specified or already defined limit\u001b[39;00m\n",
      "\u001b[0;31mOverflowError\u001b[0m: (34, 'Numerical result out of range')"
     ]
    }
   ],
   "source": [
    "## Example 2\n",
    "i=1\n",
    "f = 3.0**i\n",
    "\n",
    "for i in range(100):\n",
    "    print(i, f)\n",
    "    f = f ** 2\n",
    "\n",
    "# OverflowError occurs when any operations like arithmetic operations or any other variable storing any value above \n",
    "# its limit then there occurs an overflow of values that will exceed it's specified or already defined limit"
   ]
  },
  {
   "cell_type": "code",
   "execution_count": null,
   "id": "9f489192-c50e-495f-a8c1-2f16f9ab6387",
   "metadata": {},
   "outputs": [],
   "source": []
  },
  {
   "cell_type": "code",
   "execution_count": 4,
   "id": "6c29b03a-e971-4bfe-9159-a351e0e182b3",
   "metadata": {},
   "outputs": [
    {
     "ename": "ZeroDivisionError",
     "evalue": "float division by zero",
     "output_type": "error",
     "traceback": [
      "\u001b[0;31m---------------------------------------------------------------------------\u001b[0m",
      "\u001b[0;31mZeroDivisionError\u001b[0m                         Traceback (most recent call last)",
      "Cell \u001b[0;32mIn[4], line 5\u001b[0m\n\u001b[1;32m      1\u001b[0m \u001b[38;5;66;03m# Examples \u001b[39;00m\n\u001b[1;32m      2\u001b[0m \u001b[38;5;66;03m## ZeroDivisionError\u001b[39;00m\n\u001b[1;32m      4\u001b[0m a \u001b[38;5;241m=\u001b[39m \u001b[38;5;28mround\u001b[39m(\u001b[38;5;241m10.000122\u001b[39m,\u001b[38;5;241m4\u001b[39m)\n\u001b[0;32m----> 5\u001b[0m \u001b[43ma\u001b[49m\u001b[38;5;241;43m/\u001b[39;49m\u001b[38;5;241;43m0\u001b[39;49m\n",
      "\u001b[0;31mZeroDivisionError\u001b[0m: float division by zero"
     ]
    }
   ],
   "source": [
    "# Examples \n",
    "## ZeroDivisionError\n",
    "\n",
    "a = round(10.000122,4)\n",
    "a/0"
   ]
  },
  {
   "cell_type": "code",
   "execution_count": 5,
   "id": "c505935a-e38a-47aa-a014-9c79c57bfda8",
   "metadata": {},
   "outputs": [],
   "source": [
    "from decimal import Decimal"
   ]
  },
  {
   "cell_type": "code",
   "execution_count": 6,
   "id": "5642376e-3bad-45b4-9430-22cc947f5cdf",
   "metadata": {},
   "outputs": [
    {
     "ename": "InvalidOperation",
     "evalue": "[<class 'decimal.ConversionSyntax'>]",
     "output_type": "error",
     "traceback": [
      "\u001b[0;31m---------------------------------------------------------------------------\u001b[0m",
      "\u001b[0;31mInvalidOperation\u001b[0m                          Traceback (most recent call last)",
      "Cell \u001b[0;32mIn[6], line 2\u001b[0m\n\u001b[1;32m      1\u001b[0m \u001b[38;5;66;03m## When trying convert a string to decimal we get --> InvalidOperation error\u001b[39;00m\n\u001b[0;32m----> 2\u001b[0m \u001b[43mDecimal\u001b[49m\u001b[43m(\u001b[49m\u001b[38;5;124;43m\"\u001b[39;49m\u001b[38;5;124;43mArun\u001b[39;49m\u001b[38;5;124;43m\"\u001b[39;49m\u001b[43m)\u001b[49m\n",
      "\u001b[0;31mInvalidOperation\u001b[0m: [<class 'decimal.ConversionSyntax'>]"
     ]
    }
   ],
   "source": [
    "## When trying convert a string to decimal we get --> InvalidOperation error\n",
    "Decimal(\"Arun\")"
   ]
  },
  {
   "cell_type": "code",
   "execution_count": null,
   "id": "982a6422-b92c-43a7-b35d-6a8076121629",
   "metadata": {},
   "outputs": [],
   "source": []
  },
  {
   "cell_type": "markdown",
   "id": "18f59b3d-6881-417a-8055-3d687d2d4900",
   "metadata": {},
   "source": [
    "#### Q4. Why LookupError class is used? Explain with an example KeyError and IndexError."
   ]
  },
  {
   "cell_type": "markdown",
   "id": "8069f5dd-85f7-47e1-b61e-fc2d97d85457",
   "metadata": {},
   "source": [
    "1. LookupError Exception is the Base class for errors raised when something can’t be found. \n",
    "\n",
    "2. The base class for the exceptions that are raised when a key or index used on a mapping or sequence is invalid: IndexError, KeyError.\n",
    "\n",
    "3. An IndexError is raised when a sequence reference is out of range.\n",
    "\n",
    "4. We can use LookupError exception class to handle both IndexError and KeyError exception classes.\n",
    "\n",
    "5. An exception that occurs when an attempt is made to access an item in a dictionary that does not exist. The key used to access the item is not found in the dictionary, which leads to the KeyError"
   ]
  },
  {
   "cell_type": "code",
   "execution_count": 7,
   "id": "1c482b71-9c44-4cbd-b8b4-6852d21ed5e8",
   "metadata": {},
   "outputs": [],
   "source": [
    "# Example 1\n",
    "\n",
    "str1 = \"Arun Kumar J\""
   ]
  },
  {
   "cell_type": "code",
   "execution_count": 8,
   "id": "a1f0b0ac-c7da-4773-bcaa-dd8623fb2f43",
   "metadata": {},
   "outputs": [
    {
     "data": {
      "text/plain": [
       "'r'"
      ]
     },
     "execution_count": 8,
     "metadata": {},
     "output_type": "execute_result"
    }
   ],
   "source": [
    "# i am trying to access the index values of the variable str1.\n",
    "\n",
    "str1[1]  # since r is present at 1st index, its giving me the value"
   ]
  },
  {
   "cell_type": "code",
   "execution_count": 9,
   "id": "ac6a20d1-9cf4-40db-9158-5ed9b578ad5a",
   "metadata": {},
   "outputs": [
    {
     "ename": "IndexError",
     "evalue": "string index out of range",
     "output_type": "error",
     "traceback": [
      "\u001b[0;31m---------------------------------------------------------------------------\u001b[0m",
      "\u001b[0;31mIndexError\u001b[0m                                Traceback (most recent call last)",
      "Cell \u001b[0;32mIn[9], line 2\u001b[0m\n\u001b[1;32m      1\u001b[0m \u001b[38;5;66;03m## IndexError: string index out of range   --> Cause i am trying to access the index which is not there \u001b[39;00m\n\u001b[0;32m----> 2\u001b[0m \u001b[43mstr1\u001b[49m\u001b[43m[\u001b[49m\u001b[38;5;241;43m20\u001b[39;49m\u001b[43m]\u001b[49m\n",
      "\u001b[0;31mIndexError\u001b[0m: string index out of range"
     ]
    }
   ],
   "source": [
    "## IndexError: string index out of range   --> Cause i am trying to access the index which is not there \n",
    "str1[20]"
   ]
  },
  {
   "cell_type": "code",
   "execution_count": 10,
   "id": "3580f7ba-5ee0-4591-8a9b-03b9d5258d3c",
   "metadata": {},
   "outputs": [
    {
     "ename": "IndexError",
     "evalue": "list index out of range",
     "output_type": "error",
     "traceback": [
      "\u001b[0;31m---------------------------------------------------------------------------\u001b[0m",
      "\u001b[0;31mIndexError\u001b[0m                                Traceback (most recent call last)",
      "Cell \u001b[0;32mIn[10], line 5\u001b[0m\n\u001b[1;32m      1\u001b[0m \u001b[38;5;66;03m## Example 2 --> IndexError: list index out of range, the list has no 100th index\u001b[39;00m\n\u001b[1;32m      3\u001b[0m l \u001b[38;5;241m=\u001b[39m [\u001b[38;5;241m1\u001b[39m,\u001b[38;5;241m2\u001b[39m,\u001b[38;5;241m3\u001b[39m,\u001b[38;5;241m4\u001b[39m,\u001b[38;5;241m5\u001b[39m,\u001b[38;5;241m6\u001b[39m,\u001b[38;5;241m7\u001b[39m,\u001b[38;5;241m8\u001b[39m,\u001b[38;5;241m9\u001b[39m,\u001b[38;5;241m10\u001b[39m]\n\u001b[0;32m----> 5\u001b[0m \u001b[43ml\u001b[49m\u001b[43m[\u001b[49m\u001b[38;5;241;43m100\u001b[39;49m\u001b[43m]\u001b[49m\n",
      "\u001b[0;31mIndexError\u001b[0m: list index out of range"
     ]
    }
   ],
   "source": [
    "## Example 2 --> IndexError: list index out of range, the list has no 100th index\n",
    "\n",
    "l = [1,2,3,4,5,6,7,8,9,10]\n",
    "\n",
    "l[100]"
   ]
  },
  {
   "cell_type": "code",
   "execution_count": 11,
   "id": "c3e9fd9e-d205-4c14-ae70-dd4a50bd993d",
   "metadata": {},
   "outputs": [
    {
     "data": {
      "text/plain": [
       "('Arun Kumar', 'Virat Kohli', 'INDIA', 'RCB')"
      ]
     },
     "execution_count": 11,
     "metadata": {},
     "output_type": "execute_result"
    }
   ],
   "source": [
    "## Example 3 \n",
    "\n",
    "t = (\"Arun Kumar\",\"Virat Kohli\",\"INDIA\",\"RCB\")\n",
    "t[::]"
   ]
  },
  {
   "cell_type": "code",
   "execution_count": 12,
   "id": "99b51549-29bf-450e-9f7d-7cd99bf674ea",
   "metadata": {},
   "outputs": [
    {
     "ename": "IndexError",
     "evalue": "tuple index out of range",
     "output_type": "error",
     "traceback": [
      "\u001b[0;31m---------------------------------------------------------------------------\u001b[0m",
      "\u001b[0;31mIndexError\u001b[0m                                Traceback (most recent call last)",
      "Cell \u001b[0;32mIn[12], line 1\u001b[0m\n\u001b[0;32m----> 1\u001b[0m \u001b[43mt\u001b[49m\u001b[43m[\u001b[49m\u001b[38;5;241;43m23\u001b[39;49m\u001b[43m]\u001b[49m\n\u001b[1;32m      3\u001b[0m \u001b[38;5;66;03m## When trying access the index 23  of tuple, it throws me tuple index out of of range\u001b[39;00m\n",
      "\u001b[0;31mIndexError\u001b[0m: tuple index out of range"
     ]
    }
   ],
   "source": [
    "t[23]\n",
    "\n",
    "## When trying access the index 23  of tuple, it throws me tuple index out of of range"
   ]
  },
  {
   "cell_type": "code",
   "execution_count": null,
   "id": "17bd8fe2-3fe4-489f-8cd5-4eed7612eac7",
   "metadata": {},
   "outputs": [],
   "source": []
  },
  {
   "cell_type": "code",
   "execution_count": 13,
   "id": "3fe3d854-f03f-42ee-855f-c6ea59bc2a28",
   "metadata": {},
   "outputs": [
    {
     "data": {
      "text/plain": [
       "{'Key1': 'Arun Kumar J', 'Key2': 'Virat Kohli', 'Key3': 'INDIA', 'Key4': 'RCB'}"
      ]
     },
     "execution_count": 13,
     "metadata": {},
     "output_type": "execute_result"
    }
   ],
   "source": [
    "# Example 4\n",
    "\n",
    "dict1 = { \"Key1\" : \"Arun Kumar J\",\n",
    "        \"Key2\" : \"Virat Kohli\",\n",
    "        \"Key3\" : \"INDIA\",\n",
    "        \"Key4\" : \"RCB\"\n",
    "        }\n",
    "\n",
    "dict1"
   ]
  },
  {
   "cell_type": "code",
   "execution_count": 14,
   "id": "0d8445bc-037d-40c5-a6ad-9e0f19bf7de5",
   "metadata": {},
   "outputs": [
    {
     "ename": "KeyError",
     "evalue": "'Key10'",
     "output_type": "error",
     "traceback": [
      "\u001b[0;31m---------------------------------------------------------------------------\u001b[0m",
      "\u001b[0;31mKeyError\u001b[0m                                  Traceback (most recent call last)",
      "Cell \u001b[0;32mIn[14], line 5\u001b[0m\n\u001b[1;32m      1\u001b[0m \u001b[38;5;66;03m### When trying to access the Key10, which is not present in the dictionary we created,\u001b[39;00m\n\u001b[1;32m      2\u001b[0m \u001b[38;5;66;03m## it gives us KeyError\u001b[39;00m\n\u001b[1;32m      3\u001b[0m \u001b[38;5;66;03m## Dictionaries, Pandas Series, and DataFrames can trigger this error.\u001b[39;00m\n\u001b[0;32m----> 5\u001b[0m \u001b[43mdict1\u001b[49m\u001b[43m[\u001b[49m\u001b[38;5;124;43m'\u001b[39;49m\u001b[38;5;124;43mKey10\u001b[39;49m\u001b[38;5;124;43m'\u001b[39;49m\u001b[43m]\u001b[49m\n",
      "\u001b[0;31mKeyError\u001b[0m: 'Key10'"
     ]
    }
   ],
   "source": [
    "### When trying to access the Key10, which is not present in the dictionary we created,\n",
    "## it gives us KeyError\n",
    "## Dictionaries, Pandas Series, and DataFrames can trigger this error.\n",
    "\n",
    "dict1['Key10']"
   ]
  },
  {
   "cell_type": "code",
   "execution_count": null,
   "id": "af958450-c13d-4a99-8222-ef31e29734aa",
   "metadata": {},
   "outputs": [],
   "source": []
  },
  {
   "cell_type": "markdown",
   "id": "300ec8d5-a847-427d-b81e-42c5dbfdd9d8",
   "metadata": {},
   "source": [
    "#### Q5. Explain ImportError. What is ModuleNotFoundError?"
   ]
  },
  {
   "cell_type": "markdown",
   "id": "3095d752-9574-470b-a102-b83ca20c2bd7",
   "metadata": {},
   "source": [
    "1. ImportError occurs when the Python program tries to import module which does not exist in the private table. \n",
    "\n",
    "2. This exception can be avoided using exception handling using try and except blocks.\n",
    "\n",
    "3. There are two conditions when the ImportError will be raised. They are\n",
    "\n",
    "    a. If the module does not exist.\n",
    "    \n",
    "    b. If we are trying to import submodule from the module"
   ]
  },
  {
   "cell_type": "code",
   "execution_count": 15,
   "id": "2ef6112e-a210-43cf-82c0-37e461bc2ae1",
   "metadata": {},
   "outputs": [],
   "source": [
    "import io  ## since the io are the system related modules/packages, and its already installed during the intallation of the \n",
    "           ## python software. Hence it got successfully imported. "
   ]
  },
  {
   "cell_type": "code",
   "execution_count": 16,
   "id": "91a50946-dd4d-473e-a37f-0fa744a08805",
   "metadata": {},
   "outputs": [
    {
     "ename": "ModuleNotFoundError",
     "evalue": "No module named 'numpyy'",
     "output_type": "error",
     "traceback": [
      "\u001b[0;31m---------------------------------------------------------------------------\u001b[0m",
      "\u001b[0;31mModuleNotFoundError\u001b[0m                       Traceback (most recent call last)",
      "Cell \u001b[0;32mIn[16], line 1\u001b[0m\n\u001b[0;32m----> 1\u001b[0m \u001b[38;5;28;01mimport\u001b[39;00m \u001b[38;5;21;01mnumpyy\u001b[39;00m  \u001b[38;5;66;03m## Maybe i spelled a module incorrectly, Hence the error\u001b[39;00m\n",
      "\u001b[0;31mModuleNotFoundError\u001b[0m: No module named 'numpyy'"
     ]
    }
   ],
   "source": [
    "import numpyy  ## Maybe i spelled a module incorrectly, Hence the error"
   ]
  },
  {
   "cell_type": "code",
   "execution_count": 17,
   "id": "ff04b91c-2a8b-42c7-b101-b380c44a5f84",
   "metadata": {},
   "outputs": [
    {
     "ename": "ModuleNotFoundError",
     "evalue": "No module named 'arun'",
     "output_type": "error",
     "traceback": [
      "\u001b[0;31m---------------------------------------------------------------------------\u001b[0m",
      "\u001b[0;31mModuleNotFoundError\u001b[0m                       Traceback (most recent call last)",
      "Cell \u001b[0;32mIn[17], line 1\u001b[0m\n\u001b[0;32m----> 1\u001b[0m \u001b[38;5;28;01mimport\u001b[39;00m \u001b[38;5;21;01marun\u001b[39;00m \u001b[38;5;66;03m## Maybe i do not have the module installed in your computer/Python software.\u001b[39;00m\n",
      "\u001b[0;31mModuleNotFoundError\u001b[0m: No module named 'arun'"
     ]
    }
   ],
   "source": [
    "import arun ## Maybe i do not have the module installed in your computer/Python software."
   ]
  },
  {
   "cell_type": "code",
   "execution_count": null,
   "id": "c0dbb0fb-0dfc-45b0-90b0-4c9283018f34",
   "metadata": {},
   "outputs": [],
   "source": []
  },
  {
   "cell_type": "markdown",
   "id": "00e97bbf-c5e5-4cca-a22b-121696d87806",
   "metadata": {},
   "source": [
    "Here are a few reasons why a module may not be found:\n",
    "\n",
    "1. Maybe i do not have the module installed in your computer/Python software.\n",
    "\n",
    "2. Maybe i  spelled a module incorrectly \n",
    "\n",
    "3. Maybe i gave incorrect casing for a module"
   ]
  },
  {
   "cell_type": "code",
   "execution_count": null,
   "id": "b9f91e9a-d1b6-4a5e-97b4-79b73d3b6b44",
   "metadata": {},
   "outputs": [],
   "source": []
  },
  {
   "cell_type": "markdown",
   "id": "a99198ab-9c9f-4d09-961d-373dc55889bd",
   "metadata": {},
   "source": [
    "#### Q6. List down some best practices for exception handling in python."
   ]
  },
  {
   "cell_type": "markdown",
   "id": "611b3f31-59dd-4cfb-8dd3-afdeaf887405",
   "metadata": {},
   "source": [
    "\n",
    "1. Always use a specific exception class instead of using the super Exception class"
   ]
  },
  {
   "cell_type": "code",
   "execution_count": 18,
   "id": "67131e07-083e-4cf8-bb99-7e78386ac96a",
   "metadata": {},
   "outputs": [
    {
     "name": "stdout",
     "output_type": "stream",
     "text": [
      "division by zero\n"
     ]
    }
   ],
   "source": [
    "# bad Practice\n",
    "try :\n",
    "    a = 10\n",
    "    a/0\n",
    "    \n",
    "except Exception as e:\n",
    "    print(e)"
   ]
  },
  {
   "cell_type": "code",
   "execution_count": 19,
   "id": "f86110a2-dc9e-4b95-bac7-abb54d526c9c",
   "metadata": {},
   "outputs": [
    {
     "name": "stdout",
     "output_type": "stream",
     "text": [
      "division by zero\n"
     ]
    }
   ],
   "source": [
    "# Best Practice 1\n",
    "\n",
    "try :\n",
    "    a = 10\n",
    "    a/0\n",
    "    \n",
    "except ZeroDivisionError as e:   ## using the specific exceptions in except block to cathc the exception \n",
    "    print(e)"
   ]
  },
  {
   "cell_type": "markdown",
   "id": "54f988d1-dc4c-4f40-9422-520113edd4b0",
   "metadata": {},
   "source": [
    "2. Always print a valid exception message, so it will be easier to undertsand the issue better."
   ]
  },
  {
   "cell_type": "code",
   "execution_count": 20,
   "id": "bec6dbd9-14f3-41c4-b0a2-f0a3d69581e2",
   "metadata": {},
   "outputs": [
    {
     "name": "stdout",
     "output_type": "stream",
     "text": [
      "You are getting this error, because you are trying to divide the number by 0.\n",
      "Error Message :  division by zero\n"
     ]
    }
   ],
   "source": [
    "# Good Practice 2 - Always print a valid exception message,\n",
    "\n",
    "try :\n",
    "    a = 10\n",
    "    a/0\n",
    "    \n",
    "except ZeroDivisionError as e:   ## using the specific exceptions in except block to cathc the exception \n",
    "    print(\"You are getting this error, because you are trying to divide the number by 0.\\nError Message : \",e)"
   ]
  },
  {
   "cell_type": "markdown",
   "id": "b8f68611-2377-46ee-af79-b02dd82bb57c",
   "metadata": {},
   "source": [
    "3. Always try to log all the errors we receive. Do not use print statement much. As print statemnet is only specific to console.\n",
    "    Always a best practice to log all the issues faced."
   ]
  },
  {
   "cell_type": "code",
   "execution_count": 21,
   "id": "403f3241-551d-4ba3-8f91-9fc0c8932921",
   "metadata": {},
   "outputs": [],
   "source": [
    "# Good Practice 3 - Always log the error messages\n",
    "\n",
    "import logging\n",
    "logging.basicConfig(filename='error.log', level=logging.ERROR)\n",
    "\n",
    "try :\n",
    "    a=10\n",
    "    a/0\n",
    "except ZeroDivisionError as e:\n",
    "    logging.error(f\"You are getting this error, because you are trying to divide the number by 0.\\nError Message : {e}\".format(e=e))\n"
   ]
  },
  {
   "cell_type": "code",
   "execution_count": 22,
   "id": "732b9b59-724e-4544-be60-94ea1116dacc",
   "metadata": {},
   "outputs": [
    {
     "name": "stdout",
     "output_type": "stream",
     "text": [
      "ERROR:root:You are getting this error, because you are trying to divide the number by 0.\n",
      "Error Message : division by zero\n",
      "ERROR:root:You are getting this error, because you are trying to divide the number by 0.\n",
      "Error Message : division by zero\n",
      "ERROR:root:You are getting this error, because you are trying to divide the number by 0.\n",
      "Error Message : division by zero\n",
      "ERROR:Comm:No such comm target registered: jupyter.widget.control\n",
      "ERROR:root:You are getting this error, because you are trying to divide the number by 0.\n",
      "Error Message : division by zero\n",
      "\n"
     ]
    }
   ],
   "source": [
    "## confirming if the file has the error message captured.\n",
    "\n",
    "with open('error.log','r') as f:\n",
    "    error_data = f.read()\n",
    "    print(error_data)"
   ]
  },
  {
   "cell_type": "markdown",
   "id": "9961fcb4-3da5-41af-b8e6-6682f8973b48",
   "metadata": {},
   "source": [
    "4. Always avoid to write muliptle unncessary Exception Handling in execpt block."
   ]
  },
  {
   "cell_type": "code",
   "execution_count": 23,
   "id": "f463e5ea-6d1f-4c92-b84e-f9ac9d4106ca",
   "metadata": {},
   "outputs": [],
   "source": [
    "# Good Practice 3 - Always avoid writing multiple unnecessary Exception\n",
    "\n",
    "## here we know, the exception which we might come across is only - ZeroDivisionError, so avoid writing\n",
    "## other than ZeroDivisionError exception.\n",
    "\n",
    "logging.basicConfig(filename='error.log', level=logging.ERROR)\n",
    "\n",
    "try :\n",
    "    a=10\n",
    "    a/0\n",
    "except ZeroDivisionError as e:\n",
    "    logging.error(f\"You are getting this error, because you are trying to divide the number by 0.\\nError Message : {e}\".format(e=e))\n"
   ]
  },
  {
   "cell_type": "code",
   "execution_count": 24,
   "id": "a3abb9c3-f0c4-4939-928c-d03b84fd9d37",
   "metadata": {},
   "outputs": [],
   "source": [
    "### Bad pracrice\n",
    "\n",
    "## Avoid using the unncessary exceptions to hadnle  - FileNotFoundError & AttributeError in this example.\n",
    "## so we better use only ZeroDivisionError, as we know tats the only exception we need to handle.\n",
    "\n",
    "logging.basicConfig(filename='error.log', level=logging.ERROR)\n",
    "\n",
    "try :\n",
    "    a=10\n",
    "    a/0\n",
    "\n",
    "except FileNotFoundError as e:\n",
    "    logging.error(f\"You are getting this error, because you are trying to access a file that is not present.\\nError Message : {e}\".format(e=e))\n",
    "\n",
    "except AttributeError as e:\n",
    "    logging.error(f\"This is an attribute error.\\nError Message : {e}\".format(e=e))\n",
    "    \n",
    "except ZeroDivisionError as e:\n",
    "    logging.error(f\"You are getting this error, because you are trying to divide the number by 0.\\nError Message : {e}\".format(e=e))"
   ]
  },
  {
   "cell_type": "code",
   "execution_count": 25,
   "id": "b66b79db-0996-4e82-b543-9df126d69287",
   "metadata": {},
   "outputs": [
    {
     "name": "stdout",
     "output_type": "stream",
     "text": [
      "ERROR:root:You are getting this error, because you are trying to divide the number by 0.\n",
      "Error Message : division by zero\n",
      "ERROR:root:You are getting this error, because you are trying to divide the number by 0.\n",
      "Error Message : division by zero\n",
      "ERROR:root:You are getting this error, because you are trying to divide the number by 0.\n",
      "Error Message : division by zero\n",
      "ERROR:Comm:No such comm target registered: jupyter.widget.control\n",
      "ERROR:root:You are getting this error, because you are trying to divide the number by 0.\n",
      "Error Message : division by zero\n",
      "ERROR:root:You are getting this error, because you are trying to divide the number by 0.\n",
      "Error Message : division by zero\n",
      "ERROR:root:You are getting this error, because you are trying to divide the number by 0.\n",
      "Error Message : division by zero\n",
      "\n"
     ]
    }
   ],
   "source": [
    "with open('error.log','r') as f:\n",
    "    error_data = f.read()\n",
    "    print(error_data)"
   ]
  },
  {
   "cell_type": "markdown",
   "id": "379087ac-c56e-4729-9821-633e5b8c69e9",
   "metadata": {},
   "source": [
    "5. Always try to prepare a proper documentation, Avoid creating anything which might cause any future developer.\n",
    "   proper documentation  with proper valid meaningful description of the errors  And proper documentation of packages, class, objects, methods etc is very important"
   ]
  },
  {
   "cell_type": "markdown",
   "id": "ffe1d894-56ee-4577-9f39-3e35ea7c5b95",
   "metadata": {},
   "source": [
    "6. Clean up of all the resources. Never try to over utilize resources"
   ]
  },
  {
   "cell_type": "code",
   "execution_count": 26,
   "id": "88fe592a-dd47-444f-a74b-637cbea60723",
   "metadata": {},
   "outputs": [],
   "source": [
    "## Best Practice 6 - Always try to clean up used resources.\n",
    "\n",
    "## here  we have opened a file, and needs to be closed. so avoid usage of unneceessary memory\n",
    "\n",
    "try : \n",
    "    \n",
    "    with open(\"test.txt\",'w') as f:\n",
    "        f.write(\"HI, Good Morning...!!!\")\n",
    "        \n",
    "except FileNotFoundError as e:\n",
    "    logging.error(\"This file is not founc...\",e)\n",
    "\n",
    "finally:\n",
    "    f.close()"
   ]
  },
  {
   "cell_type": "code",
   "execution_count": null,
   "id": "10e89e0c-1496-49c9-814b-f6d2ecbd6989",
   "metadata": {},
   "outputs": [],
   "source": []
  }
 ],
 "metadata": {
  "kernelspec": {
   "display_name": "Python 3 (ipykernel)",
   "language": "python",
   "name": "python3"
  },
  "language_info": {
   "codemirror_mode": {
    "name": "ipython",
    "version": 3
   },
   "file_extension": ".py",
   "mimetype": "text/x-python",
   "name": "python",
   "nbconvert_exporter": "python",
   "pygments_lexer": "ipython3",
   "version": "3.10.8"
  }
 },
 "nbformat": 4,
 "nbformat_minor": 5
}
