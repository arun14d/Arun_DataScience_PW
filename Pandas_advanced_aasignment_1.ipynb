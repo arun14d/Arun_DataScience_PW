{
 "cells": [
  {
   "cell_type": "markdown",
   "id": "68229dbb-2049-41b6-9fdc-2eb5ad8e9983",
   "metadata": {},
   "source": [
    "### PANDAS advanced Assignment -1\n",
    "------"
   ]
  },
  {
   "cell_type": "markdown",
   "id": "4a0d39b3-755b-4786-98ea-47d3a07068e1",
   "metadata": {},
   "source": [
    "#### Q1. List any five functions of the pandas library with execution."
   ]
  },
  {
   "cell_type": "code",
   "execution_count": 11,
   "id": "1fc4e9b6-6719-4252-8970-dfa162d538f7",
   "metadata": {},
   "outputs": [],
   "source": [
    "import pandas as pd"
   ]
  },
  {
   "cell_type": "code",
   "execution_count": 12,
   "id": "6a99f61d-1203-45a9-a918-143651bf58a8",
   "metadata": {},
   "outputs": [],
   "source": [
    "## 1. pd.read_csv('file_name') -- Used to read the data fron csv file\n",
    "## lets take an example, by importing an cdv file.\n",
    "\n",
    "df_1 = pd.read_csv('services.csv')\n",
    "\n"
   ]
  },
  {
   "cell_type": "code",
   "execution_count": 13,
   "id": "7391ba46-a7ff-4105-bdaa-3125efd2449f",
   "metadata": {},
   "outputs": [
    {
     "data": {
      "text/html": [
       "<div>\n",
       "<style scoped>\n",
       "    .dataframe tbody tr th:only-of-type {\n",
       "        vertical-align: middle;\n",
       "    }\n",
       "\n",
       "    .dataframe tbody tr th {\n",
       "        vertical-align: top;\n",
       "    }\n",
       "\n",
       "    .dataframe thead th {\n",
       "        text-align: right;\n",
       "    }\n",
       "</style>\n",
       "<table border=\"1\" class=\"dataframe\">\n",
       "  <thead>\n",
       "    <tr style=\"text-align: right;\">\n",
       "      <th></th>\n",
       "      <th>id</th>\n",
       "      <th>location_id</th>\n",
       "      <th>program_id</th>\n",
       "      <th>accepted_payments</th>\n",
       "      <th>alternate_name</th>\n",
       "      <th>application_process</th>\n",
       "      <th>audience</th>\n",
       "      <th>description</th>\n",
       "      <th>eligibility</th>\n",
       "      <th>email</th>\n",
       "      <th>...</th>\n",
       "      <th>interpretation_services</th>\n",
       "      <th>keywords</th>\n",
       "      <th>languages</th>\n",
       "      <th>name</th>\n",
       "      <th>required_documents</th>\n",
       "      <th>service_areas</th>\n",
       "      <th>status</th>\n",
       "      <th>wait_time</th>\n",
       "      <th>website</th>\n",
       "      <th>taxonomy_ids</th>\n",
       "    </tr>\n",
       "  </thead>\n",
       "  <tbody>\n",
       "    <tr>\n",
       "      <th>0</th>\n",
       "      <td>1</td>\n",
       "      <td>1</td>\n",
       "      <td>NaN</td>\n",
       "      <td>NaN</td>\n",
       "      <td>NaN</td>\n",
       "      <td>Walk in or apply by phone.</td>\n",
       "      <td>Older adults age 55 or over, ethnic minorities...</td>\n",
       "      <td>A walk-in center for older adults that provide...</td>\n",
       "      <td>Age 55 or over for most programs, age 60 or ov...</td>\n",
       "      <td>NaN</td>\n",
       "      <td>...</td>\n",
       "      <td>NaN</td>\n",
       "      <td>ADULT PROTECTION AND CARE SERVICES, Meal Sites...</td>\n",
       "      <td>NaN</td>\n",
       "      <td>Fair Oaks Adult Activity Center</td>\n",
       "      <td>NaN</td>\n",
       "      <td>Colma</td>\n",
       "      <td>active</td>\n",
       "      <td>No wait.</td>\n",
       "      <td>NaN</td>\n",
       "      <td>NaN</td>\n",
       "    </tr>\n",
       "    <tr>\n",
       "      <th>1</th>\n",
       "      <td>2</td>\n",
       "      <td>2</td>\n",
       "      <td>NaN</td>\n",
       "      <td>NaN</td>\n",
       "      <td>NaN</td>\n",
       "      <td>Apply by phone for an appointment.</td>\n",
       "      <td>Residents of San Mateo County age 55 or over</td>\n",
       "      <td>Provides training and job placement to eligibl...</td>\n",
       "      <td>Age 55 or over, county resident and willing an...</td>\n",
       "      <td>NaN</td>\n",
       "      <td>...</td>\n",
       "      <td>NaN</td>\n",
       "      <td>EMPLOYMENT/TRAINING SERVICES, Job Development,...</td>\n",
       "      <td>NaN</td>\n",
       "      <td>Second Career Employment Program</td>\n",
       "      <td>NaN</td>\n",
       "      <td>San Mateo County</td>\n",
       "      <td>active</td>\n",
       "      <td>Varies.</td>\n",
       "      <td>NaN</td>\n",
       "      <td>NaN</td>\n",
       "    </tr>\n",
       "  </tbody>\n",
       "</table>\n",
       "<p>2 rows × 22 columns</p>\n",
       "</div>"
      ],
      "text/plain": [
       "   id  location_id  program_id accepted_payments alternate_name  \\\n",
       "0   1            1         NaN               NaN            NaN   \n",
       "1   2            2         NaN               NaN            NaN   \n",
       "\n",
       "                  application_process  \\\n",
       "0          Walk in or apply by phone.   \n",
       "1  Apply by phone for an appointment.   \n",
       "\n",
       "                                            audience  \\\n",
       "0  Older adults age 55 or over, ethnic minorities...   \n",
       "1       Residents of San Mateo County age 55 or over   \n",
       "\n",
       "                                         description  \\\n",
       "0  A walk-in center for older adults that provide...   \n",
       "1  Provides training and job placement to eligibl...   \n",
       "\n",
       "                                         eligibility email  ...  \\\n",
       "0  Age 55 or over for most programs, age 60 or ov...   NaN  ...   \n",
       "1  Age 55 or over, county resident and willing an...   NaN  ...   \n",
       "\n",
       "  interpretation_services                                           keywords  \\\n",
       "0                     NaN  ADULT PROTECTION AND CARE SERVICES, Meal Sites...   \n",
       "1                     NaN  EMPLOYMENT/TRAINING SERVICES, Job Development,...   \n",
       "\n",
       "  languages                              name required_documents  \\\n",
       "0       NaN   Fair Oaks Adult Activity Center                NaN   \n",
       "1       NaN  Second Career Employment Program                NaN   \n",
       "\n",
       "      service_areas  status wait_time website taxonomy_ids  \n",
       "0             Colma  active  No wait.     NaN          NaN  \n",
       "1  San Mateo County  active   Varies.     NaN          NaN  \n",
       "\n",
       "[2 rows x 22 columns]"
      ]
     },
     "execution_count": 13,
     "metadata": {},
     "output_type": "execute_result"
    }
   ],
   "source": [
    "## list down the top 2 rows in the dataFrame\n",
    "df_1.head(2)"
   ]
  },
  {
   "cell_type": "code",
   "execution_count": 14,
   "id": "c78cc71c-1ae1-4a9a-baf2-93beabb11f76",
   "metadata": {},
   "outputs": [
    {
     "data": {
      "text/html": [
       "<div>\n",
       "<style scoped>\n",
       "    .dataframe tbody tr th:only-of-type {\n",
       "        vertical-align: middle;\n",
       "    }\n",
       "\n",
       "    .dataframe tbody tr th {\n",
       "        vertical-align: top;\n",
       "    }\n",
       "\n",
       "    .dataframe thead th {\n",
       "        text-align: right;\n",
       "    }\n",
       "</style>\n",
       "<table border=\"1\" class=\"dataframe\">\n",
       "  <thead>\n",
       "    <tr style=\"text-align: right;\">\n",
       "      <th></th>\n",
       "      <th>id</th>\n",
       "      <th>location_id</th>\n",
       "      <th>program_id</th>\n",
       "      <th>accepted_payments</th>\n",
       "      <th>alternate_name</th>\n",
       "      <th>application_process</th>\n",
       "      <th>audience</th>\n",
       "      <th>description</th>\n",
       "      <th>eligibility</th>\n",
       "      <th>email</th>\n",
       "      <th>...</th>\n",
       "      <th>interpretation_services</th>\n",
       "      <th>keywords</th>\n",
       "      <th>languages</th>\n",
       "      <th>name</th>\n",
       "      <th>required_documents</th>\n",
       "      <th>service_areas</th>\n",
       "      <th>status</th>\n",
       "      <th>wait_time</th>\n",
       "      <th>website</th>\n",
       "      <th>taxonomy_ids</th>\n",
       "    </tr>\n",
       "  </thead>\n",
       "  <tbody>\n",
       "    <tr>\n",
       "      <th>21</th>\n",
       "      <td>22</td>\n",
       "      <td>22</td>\n",
       "      <td>NaN</td>\n",
       "      <td>Cash, Check, Credit Card</td>\n",
       "      <td>Fotos para pasaportes</td>\n",
       "      <td>Walk in or apply by phone or mail</td>\n",
       "      <td>Profit and nonprofit businesses, the public, m...</td>\n",
       "      <td>[NOTE THIS IS NOT A REAL SERVICE--THIS IS FOR ...</td>\n",
       "      <td>None</td>\n",
       "      <td>passports@example.org</td>\n",
       "      <td>...</td>\n",
       "      <td>We offer 3-way interpretation services over th...</td>\n",
       "      <td>Salud, Medicina</td>\n",
       "      <td>Spanish</td>\n",
       "      <td>Passport Photos</td>\n",
       "      <td>Government-issued picture identification</td>\n",
       "      <td>Alameda County, San Mateo County</td>\n",
       "      <td>active</td>\n",
       "      <td>No wait to 2 weeks.</td>\n",
       "      <td>http://www.example.com</td>\n",
       "      <td>105, 108, 108-05, 108-05-01, 111, 111-05</td>\n",
       "    </tr>\n",
       "    <tr>\n",
       "      <th>22</th>\n",
       "      <td>23</td>\n",
       "      <td>22</td>\n",
       "      <td>NaN</td>\n",
       "      <td>NaN</td>\n",
       "      <td>NaN</td>\n",
       "      <td>Walk in or apply by phone or mail</td>\n",
       "      <td>Second service and nonprofit businesses, the p...</td>\n",
       "      <td>[NOTE THIS IS NOT A REAL ORGANIZATION--THIS IS...</td>\n",
       "      <td>None</td>\n",
       "      <td>NaN</td>\n",
       "      <td>...</td>\n",
       "      <td>NaN</td>\n",
       "      <td>Ruby on Rails/Postgres/Redis, testing, wic</td>\n",
       "      <td>NaN</td>\n",
       "      <td>Example Service Name</td>\n",
       "      <td>NaN</td>\n",
       "      <td>San Mateo County, Alameda County</td>\n",
       "      <td>active</td>\n",
       "      <td>No wait to 2 weeks</td>\n",
       "      <td>http://www.example.com</td>\n",
       "      <td>NaN</td>\n",
       "    </tr>\n",
       "  </tbody>\n",
       "</table>\n",
       "<p>2 rows × 22 columns</p>\n",
       "</div>"
      ],
      "text/plain": [
       "    id  location_id  program_id         accepted_payments  \\\n",
       "21  22           22         NaN  Cash, Check, Credit Card   \n",
       "22  23           22         NaN                       NaN   \n",
       "\n",
       "           alternate_name                application_process  \\\n",
       "21  Fotos para pasaportes  Walk in or apply by phone or mail   \n",
       "22                    NaN  Walk in or apply by phone or mail   \n",
       "\n",
       "                                             audience  \\\n",
       "21  Profit and nonprofit businesses, the public, m...   \n",
       "22  Second service and nonprofit businesses, the p...   \n",
       "\n",
       "                                          description eligibility  \\\n",
       "21  [NOTE THIS IS NOT A REAL SERVICE--THIS IS FOR ...        None   \n",
       "22  [NOTE THIS IS NOT A REAL ORGANIZATION--THIS IS...        None   \n",
       "\n",
       "                    email  ...  \\\n",
       "21  passports@example.org  ...   \n",
       "22                    NaN  ...   \n",
       "\n",
       "                              interpretation_services  \\\n",
       "21  We offer 3-way interpretation services over th...   \n",
       "22                                                NaN   \n",
       "\n",
       "                                      keywords languages  \\\n",
       "21                             Salud, Medicina   Spanish   \n",
       "22  Ruby on Rails/Postgres/Redis, testing, wic       NaN   \n",
       "\n",
       "                    name                        required_documents  \\\n",
       "21       Passport Photos  Government-issued picture identification   \n",
       "22  Example Service Name                                       NaN   \n",
       "\n",
       "                       service_areas  status            wait_time  \\\n",
       "21  Alameda County, San Mateo County  active  No wait to 2 weeks.   \n",
       "22  San Mateo County, Alameda County  active   No wait to 2 weeks   \n",
       "\n",
       "                   website                              taxonomy_ids  \n",
       "21  http://www.example.com  105, 108, 108-05, 108-05-01, 111, 111-05  \n",
       "22  http://www.example.com                                       NaN  \n",
       "\n",
       "[2 rows x 22 columns]"
      ]
     },
     "execution_count": 14,
     "metadata": {},
     "output_type": "execute_result"
    }
   ],
   "source": [
    "## list down the last 2 rows in the dataFrame\n",
    "df_1.tail(2)"
   ]
  },
  {
   "cell_type": "code",
   "execution_count": 15,
   "id": "93bc72c3-5ecd-48fe-a9d2-0d5f0fb8d6e3",
   "metadata": {},
   "outputs": [],
   "source": [
    "## fillna function used to fill the NaN values with desired values.\n",
    "\n",
    "df_1.fillna('Arun',inplace=True)\n"
   ]
  },
  {
   "cell_type": "code",
   "execution_count": 16,
   "id": "41a06447-1b3c-4099-8c44-ca35db56694b",
   "metadata": {},
   "outputs": [
    {
     "data": {
      "text/html": [
       "<div>\n",
       "<style scoped>\n",
       "    .dataframe tbody tr th:only-of-type {\n",
       "        vertical-align: middle;\n",
       "    }\n",
       "\n",
       "    .dataframe tbody tr th {\n",
       "        vertical-align: top;\n",
       "    }\n",
       "\n",
       "    .dataframe thead th {\n",
       "        text-align: right;\n",
       "    }\n",
       "</style>\n",
       "<table border=\"1\" class=\"dataframe\">\n",
       "  <thead>\n",
       "    <tr style=\"text-align: right;\">\n",
       "      <th></th>\n",
       "      <th>id</th>\n",
       "      <th>location_id</th>\n",
       "      <th>program_id</th>\n",
       "      <th>accepted_payments</th>\n",
       "      <th>alternate_name</th>\n",
       "      <th>application_process</th>\n",
       "      <th>audience</th>\n",
       "      <th>description</th>\n",
       "      <th>eligibility</th>\n",
       "      <th>email</th>\n",
       "      <th>...</th>\n",
       "      <th>interpretation_services</th>\n",
       "      <th>keywords</th>\n",
       "      <th>languages</th>\n",
       "      <th>name</th>\n",
       "      <th>required_documents</th>\n",
       "      <th>service_areas</th>\n",
       "      <th>status</th>\n",
       "      <th>wait_time</th>\n",
       "      <th>website</th>\n",
       "      <th>taxonomy_ids</th>\n",
       "    </tr>\n",
       "  </thead>\n",
       "  <tbody>\n",
       "    <tr>\n",
       "      <th>0</th>\n",
       "      <td>1</td>\n",
       "      <td>1</td>\n",
       "      <td>Arun</td>\n",
       "      <td>Arun</td>\n",
       "      <td>Arun</td>\n",
       "      <td>Walk in or apply by phone.</td>\n",
       "      <td>Older adults age 55 or over, ethnic minorities...</td>\n",
       "      <td>A walk-in center for older adults that provide...</td>\n",
       "      <td>Age 55 or over for most programs, age 60 or ov...</td>\n",
       "      <td>Arun</td>\n",
       "      <td>...</td>\n",
       "      <td>Arun</td>\n",
       "      <td>ADULT PROTECTION AND CARE SERVICES, Meal Sites...</td>\n",
       "      <td>Arun</td>\n",
       "      <td>Fair Oaks Adult Activity Center</td>\n",
       "      <td>Arun</td>\n",
       "      <td>Colma</td>\n",
       "      <td>active</td>\n",
       "      <td>No wait.</td>\n",
       "      <td>Arun</td>\n",
       "      <td>Arun</td>\n",
       "    </tr>\n",
       "    <tr>\n",
       "      <th>1</th>\n",
       "      <td>2</td>\n",
       "      <td>2</td>\n",
       "      <td>Arun</td>\n",
       "      <td>Arun</td>\n",
       "      <td>Arun</td>\n",
       "      <td>Apply by phone for an appointment.</td>\n",
       "      <td>Residents of San Mateo County age 55 or over</td>\n",
       "      <td>Provides training and job placement to eligibl...</td>\n",
       "      <td>Age 55 or over, county resident and willing an...</td>\n",
       "      <td>Arun</td>\n",
       "      <td>...</td>\n",
       "      <td>Arun</td>\n",
       "      <td>EMPLOYMENT/TRAINING SERVICES, Job Development,...</td>\n",
       "      <td>Arun</td>\n",
       "      <td>Second Career Employment Program</td>\n",
       "      <td>Arun</td>\n",
       "      <td>San Mateo County</td>\n",
       "      <td>active</td>\n",
       "      <td>Varies.</td>\n",
       "      <td>Arun</td>\n",
       "      <td>Arun</td>\n",
       "    </tr>\n",
       "  </tbody>\n",
       "</table>\n",
       "<p>2 rows × 22 columns</p>\n",
       "</div>"
      ],
      "text/plain": [
       "   id  location_id program_id accepted_payments alternate_name  \\\n",
       "0   1            1       Arun              Arun           Arun   \n",
       "1   2            2       Arun              Arun           Arun   \n",
       "\n",
       "                  application_process  \\\n",
       "0          Walk in or apply by phone.   \n",
       "1  Apply by phone for an appointment.   \n",
       "\n",
       "                                            audience  \\\n",
       "0  Older adults age 55 or over, ethnic minorities...   \n",
       "1       Residents of San Mateo County age 55 or over   \n",
       "\n",
       "                                         description  \\\n",
       "0  A walk-in center for older adults that provide...   \n",
       "1  Provides training and job placement to eligibl...   \n",
       "\n",
       "                                         eligibility email  ...  \\\n",
       "0  Age 55 or over for most programs, age 60 or ov...  Arun  ...   \n",
       "1  Age 55 or over, county resident and willing an...  Arun  ...   \n",
       "\n",
       "  interpretation_services                                           keywords  \\\n",
       "0                    Arun  ADULT PROTECTION AND CARE SERVICES, Meal Sites...   \n",
       "1                    Arun  EMPLOYMENT/TRAINING SERVICES, Job Development,...   \n",
       "\n",
       "  languages                              name required_documents  \\\n",
       "0      Arun   Fair Oaks Adult Activity Center               Arun   \n",
       "1      Arun  Second Career Employment Program               Arun   \n",
       "\n",
       "      service_areas  status wait_time website taxonomy_ids  \n",
       "0             Colma  active  No wait.    Arun         Arun  \n",
       "1  San Mateo County  active   Varies.    Arun         Arun  \n",
       "\n",
       "[2 rows x 22 columns]"
      ]
     },
     "execution_count": 16,
     "metadata": {},
     "output_type": "execute_result"
    }
   ],
   "source": [
    "df_1.head(2)\n",
    "\n",
    "## if you see now all the Nan Values are replaced by name Arun."
   ]
  },
  {
   "cell_type": "code",
   "execution_count": 17,
   "id": "77b913bd-24b6-4f00-aa68-9a49f38c283a",
   "metadata": {},
   "outputs": [
    {
     "data": {
      "text/plain": [
       "Index(['id', 'location_id', 'program_id', 'accepted_payments',\n",
       "       'alternate_name', 'application_process', 'audience', 'description',\n",
       "       'eligibility', 'email', 'fees', 'funding_sources',\n",
       "       'interpretation_services', 'keywords', 'languages', 'name',\n",
       "       'required_documents', 'service_areas', 'status', 'wait_time', 'website',\n",
       "       'taxonomy_ids'],\n",
       "      dtype='object')"
      ]
     },
     "execution_count": 17,
     "metadata": {},
     "output_type": "execute_result"
    }
   ],
   "source": [
    "## Lists the columns \n",
    "df_1.columns"
   ]
  },
  {
   "cell_type": "code",
   "execution_count": 18,
   "id": "f26d83d3-a1ee-4ac4-8b16-21220ed3706c",
   "metadata": {},
   "outputs": [],
   "source": [
    "## let me delete all this columns except for column email.\n",
    "df_1.drop(['id', 'location_id', 'program_id', 'accepted_payments',\n",
    "       'alternate_name', 'application_process', 'audience', 'description',\n",
    "       'eligibility', 'fees', 'funding_sources',\n",
    "       'interpretation_services', 'keywords', 'languages', 'name',\n",
    "       'required_documents', 'service_areas', 'status', 'wait_time', 'website','taxonomy_ids'],axis=1,inplace=True)"
   ]
  },
  {
   "cell_type": "code",
   "execution_count": 19,
   "id": "2df9e651-c889-4525-8ca5-790d9e65a34d",
   "metadata": {},
   "outputs": [
    {
     "data": {
      "text/plain": [
       "Index(['email'], dtype='object')"
      ]
     },
     "execution_count": 19,
     "metadata": {},
     "output_type": "execute_result"
    }
   ],
   "source": [
    "df_1.columns\n",
    "# now if we see that all the columns are deleted except for one - Email.\n",
    "## drop() takes parameters in the form of LIST []."
   ]
  },
  {
   "cell_type": "code",
   "execution_count": 20,
   "id": "b7ee8ebb-1c10-4453-a5be-f9abb86d9e25",
   "metadata": {},
   "outputs": [
    {
     "data": {
      "text/html": [
       "<div>\n",
       "<style scoped>\n",
       "    .dataframe tbody tr th:only-of-type {\n",
       "        vertical-align: middle;\n",
       "    }\n",
       "\n",
       "    .dataframe tbody tr th {\n",
       "        vertical-align: top;\n",
       "    }\n",
       "\n",
       "    .dataframe thead th {\n",
       "        text-align: right;\n",
       "    }\n",
       "</style>\n",
       "<table border=\"1\" class=\"dataframe\">\n",
       "  <thead>\n",
       "    <tr style=\"text-align: right;\">\n",
       "      <th></th>\n",
       "      <th>id</th>\n",
       "      <th>location_id</th>\n",
       "      <th>program_id</th>\n",
       "    </tr>\n",
       "  </thead>\n",
       "  <tbody>\n",
       "    <tr>\n",
       "      <th>count</th>\n",
       "      <td>23.00000</td>\n",
       "      <td>23.000000</td>\n",
       "      <td>0.0</td>\n",
       "    </tr>\n",
       "    <tr>\n",
       "      <th>mean</th>\n",
       "      <td>12.00000</td>\n",
       "      <td>11.956522</td>\n",
       "      <td>NaN</td>\n",
       "    </tr>\n",
       "    <tr>\n",
       "      <th>std</th>\n",
       "      <td>6.78233</td>\n",
       "      <td>6.711444</td>\n",
       "      <td>NaN</td>\n",
       "    </tr>\n",
       "    <tr>\n",
       "      <th>min</th>\n",
       "      <td>1.00000</td>\n",
       "      <td>1.000000</td>\n",
       "      <td>NaN</td>\n",
       "    </tr>\n",
       "    <tr>\n",
       "      <th>25%</th>\n",
       "      <td>6.50000</td>\n",
       "      <td>6.500000</td>\n",
       "      <td>NaN</td>\n",
       "    </tr>\n",
       "    <tr>\n",
       "      <th>50%</th>\n",
       "      <td>12.00000</td>\n",
       "      <td>12.000000</td>\n",
       "      <td>NaN</td>\n",
       "    </tr>\n",
       "    <tr>\n",
       "      <th>75%</th>\n",
       "      <td>17.50000</td>\n",
       "      <td>17.500000</td>\n",
       "      <td>NaN</td>\n",
       "    </tr>\n",
       "    <tr>\n",
       "      <th>max</th>\n",
       "      <td>23.00000</td>\n",
       "      <td>22.000000</td>\n",
       "      <td>NaN</td>\n",
       "    </tr>\n",
       "  </tbody>\n",
       "</table>\n",
       "</div>"
      ],
      "text/plain": [
       "             id  location_id  program_id\n",
       "count  23.00000    23.000000         0.0\n",
       "mean   12.00000    11.956522         NaN\n",
       "std     6.78233     6.711444         NaN\n",
       "min     1.00000     1.000000         NaN\n",
       "25%     6.50000     6.500000         NaN\n",
       "50%    12.00000    12.000000         NaN\n",
       "75%    17.50000    17.500000         NaN\n",
       "max    23.00000    22.000000         NaN"
      ]
     },
     "execution_count": 20,
     "metadata": {},
     "output_type": "execute_result"
    }
   ],
   "source": [
    "df_1 = pd.read_csv('services.csv')  ## creating the dataframe again as we have dropped most of the columns\n",
    "\n",
    "## describe() - This function provides a summary of the statistical distribution of the data in a DataFrame.\n",
    "\n",
    "df_1.describe()\n",
    "\n",
    "\n",
    "## it gives the statistical distribution of the Numerical columns of the dataframe.\n",
    "## like count --> count of each records for that particular column\n",
    "## mean/min/max --> mean/min/max of each records for that particular column\n",
    "## 25th,50th and 75th Percentile as well"
   ]
  },
  {
   "cell_type": "code",
   "execution_count": 21,
   "id": "64ffadfb-ba5e-41ee-a1fb-dd99d20cd66f",
   "metadata": {},
   "outputs": [
    {
     "data": {
      "text/plain": [
       "id                           int64\n",
       "location_id                  int64\n",
       "program_id                 float64\n",
       "accepted_payments           object\n",
       "alternate_name              object\n",
       "application_process         object\n",
       "audience                    object\n",
       "description                 object\n",
       "eligibility                 object\n",
       "email                       object\n",
       "fees                        object\n",
       "funding_sources             object\n",
       "interpretation_services     object\n",
       "keywords                    object\n",
       "languages                   object\n",
       "name                        object\n",
       "required_documents          object\n",
       "service_areas               object\n",
       "status                      object\n",
       "wait_time                   object\n",
       "website                     object\n",
       "taxonomy_ids                object\n",
       "dtype: object"
      ]
     },
     "execution_count": 21,
     "metadata": {},
     "output_type": "execute_result"
    }
   ],
   "source": [
    "df_1.dtypes ## to know the datatypes of the column in the dataframe"
   ]
  },
  {
   "cell_type": "code",
   "execution_count": 22,
   "id": "577c73c4-2734-447e-b5f1-6524a2ef50c9",
   "metadata": {},
   "outputs": [
    {
     "data": {
      "text/plain": [
       "['active', 'active', 'active', 'active', 'active', ..., 'active', 'defunct', 'inactive', 'active', 'active']\n",
       "Length: 23\n",
       "Categories (3, object): ['active', 'defunct', 'inactive']"
      ]
     },
     "execution_count": 22,
     "metadata": {},
     "output_type": "execute_result"
    }
   ],
   "source": [
    "pd.Categorical(df_1['status'])\n",
    "## give the categories/unique details in the column - Status"
   ]
  },
  {
   "cell_type": "code",
   "execution_count": 23,
   "id": "c4585bc4-80d5-49d7-a5b3-9fa6fe353d3e",
   "metadata": {},
   "outputs": [
    {
     "data": {
      "text/plain": [
       "<bound method Series.unique of 0     $2.50 suggested donation for lunch for age 60 ...\n",
       "1     None. Donations requested of clients who can a...\n",
       "2                                                 None.\n",
       "3     Vary according to income ($5-$90). Cash, check...\n",
       "4         $60 application fee. Cash or checks accepted.\n",
       "5     $55 per year membership dues. Classes have fee...\n",
       "6     $85 per day. Vary according to income for thos...\n",
       "7     Suggested donation of $4.25 per meal for senio...\n",
       "8                                                 None.\n",
       "9                                                 None.\n",
       "10                                                None.\n",
       "11                                                None.\n",
       "12                                                None.\n",
       "13                                                None.\n",
       "14                                                None.\n",
       "15    None for emergency services. Vary for after sc...\n",
       "16                                                None.\n",
       "17                                                None.\n",
       "18                                                None.\n",
       "19                                                  NaN\n",
       "20                                                  NaN\n",
       "21    None, except for permits and photocopying. Cas...\n",
       "22    None, except for permits and photocopying. Cas...\n",
       "Name: fees, dtype: object>"
      ]
     },
     "execution_count": 23,
     "metadata": {},
     "output_type": "execute_result"
    }
   ],
   "source": [
    "df_1['fees'].unique\n",
    "\n",
    "# used to get the unique values from the column."
   ]
  },
  {
   "cell_type": "markdown",
   "id": "43aab91f-ea08-4a19-8c91-290797d26f18",
   "metadata": {},
   "source": [
    "--------------------"
   ]
  },
  {
   "cell_type": "markdown",
   "id": "428a774c-c61a-49a1-9ae1-8123f742e24c",
   "metadata": {},
   "source": [
    "#### Q2. Given a Pandas DataFrame df with columns 'A', 'B', and 'C', write a Python function to re-index the  DataFrame with a new index that starts from 1 and increments by 2 for each row."
   ]
  },
  {
   "cell_type": "code",
   "execution_count": 24,
   "id": "a4d5d56b-832a-4a1c-ad25-3fa63b60769b",
   "metadata": {},
   "outputs": [
    {
     "data": {
      "text/html": [
       "<div>\n",
       "<style scoped>\n",
       "    .dataframe tbody tr th:only-of-type {\n",
       "        vertical-align: middle;\n",
       "    }\n",
       "\n",
       "    .dataframe tbody tr th {\n",
       "        vertical-align: top;\n",
       "    }\n",
       "\n",
       "    .dataframe thead th {\n",
       "        text-align: right;\n",
       "    }\n",
       "</style>\n",
       "<table border=\"1\" class=\"dataframe\">\n",
       "  <thead>\n",
       "    <tr style=\"text-align: right;\">\n",
       "      <th></th>\n",
       "      <th>A</th>\n",
       "      <th>B</th>\n",
       "      <th>C</th>\n",
       "    </tr>\n",
       "  </thead>\n",
       "  <tbody>\n",
       "    <tr>\n",
       "      <th>0</th>\n",
       "      <td>10</td>\n",
       "      <td>1</td>\n",
       "      <td>Arun</td>\n",
       "    </tr>\n",
       "    <tr>\n",
       "      <th>1</th>\n",
       "      <td>20</td>\n",
       "      <td>2</td>\n",
       "      <td>Kumar</td>\n",
       "    </tr>\n",
       "    <tr>\n",
       "      <th>2</th>\n",
       "      <td>30</td>\n",
       "      <td>3</td>\n",
       "      <td>Virat</td>\n",
       "    </tr>\n",
       "    <tr>\n",
       "      <th>3</th>\n",
       "      <td>40</td>\n",
       "      <td>4</td>\n",
       "      <td>Kohli</td>\n",
       "    </tr>\n",
       "    <tr>\n",
       "      <th>4</th>\n",
       "      <td>50</td>\n",
       "      <td>5</td>\n",
       "      <td>INDIA</td>\n",
       "    </tr>\n",
       "  </tbody>\n",
       "</table>\n",
       "</div>"
      ],
      "text/plain": [
       "    A  B      C\n",
       "0  10  1   Arun\n",
       "1  20  2  Kumar\n",
       "2  30  3  Virat\n",
       "3  40  4  Kohli\n",
       "4  50  5  INDIA"
      ]
     },
     "execution_count": 24,
     "metadata": {},
     "output_type": "execute_result"
    }
   ],
   "source": [
    "df_2 = pd.DataFrame({ 'A' : [10,20,30,40,50], 'B' : [1,2,3,4,5], 'C' : ['Arun','Kumar','Virat','Kohli','INDIA']})\n",
    "df_2\n",
    "\n",
    "## DataFrame with the index starting from 0."
   ]
  },
  {
   "cell_type": "code",
   "execution_count": 25,
   "id": "042e54a8-4cf3-4846-9c85-bb6ab3f7db48",
   "metadata": {},
   "outputs": [
    {
     "name": "stdout",
     "output_type": "stream",
     "text": [
      "    A  B      C\n",
      "1  10  1   Arun\n",
      "3  20  2  Kumar\n",
      "5  30  3  Virat\n",
      "7  40  4  Kohli\n",
      "9  50  5  INDIA\n"
     ]
    }
   ],
   "source": [
    "## The below fucntion will re-index the dataframe from 1 and incrementing by 2.\n",
    "def new_index(df_2):\n",
    "    df_2.index = list(range(1,len(df_2)*2,2))\n",
    "    return df_2\n",
    "\n",
    "if __name__ == \"__main__\":\n",
    "    df_2 = pd.DataFrame({ 'A' : [10,20,30,40,50], 'B' : [1,2,3,4,5], 'C' : ['Arun','Kumar','Virat','Kohli','INDIA']})\n",
    "    df_2 = new_index(df_2)\n",
    "    print(df_2)"
   ]
  },
  {
   "cell_type": "markdown",
   "id": "e374a3ac-5253-4055-b09e-6e6af1260833",
   "metadata": {},
   "source": [
    "-----------"
   ]
  },
  {
   "cell_type": "markdown",
   "id": "a8eeafe6-5f60-4904-a8c8-1ed801665b2e",
   "metadata": {},
   "source": [
    "#### Q3. You have a Pandas DataFrame df with a column named 'Values'. Write a Python function that iterates over the DataFrame and calculates the sum of the first three values in the 'Values' column. The function should print the sum to the console. For example, if the 'Values' column of df contains the values [10, 20, 30, 40, 50], your function should calculate and print the sum of the first three values, which is 60."
   ]
  },
  {
   "cell_type": "code",
   "execution_count": 26,
   "id": "e2bcd212-cdb6-42e5-b8d9-865354ebebc0",
   "metadata": {},
   "outputs": [
    {
     "name": "stdout",
     "output_type": "stream",
     "text": [
      "60\n"
     ]
    }
   ],
   "source": [
    "\n",
    "def sum_of_elements(df_3):\n",
    "    sum_ = df_3[0:3].sum().values[0]\n",
    "    return sum_\n",
    "\n",
    "if __name__ == \"__main__\":\n",
    "    df_3 = pd.DataFrame([10, 20, 30, 40, 50])\n",
    "    sum_ = sum_of_elements(df_3)\n",
    "    print(sum_)"
   ]
  },
  {
   "cell_type": "markdown",
   "id": "944874af-1ba8-4d50-9c27-00711f5ac16d",
   "metadata": {},
   "source": [
    "---------------"
   ]
  },
  {
   "cell_type": "markdown",
   "id": "9e3b7eb3-e0f8-44f3-a33a-4f6197a25906",
   "metadata": {},
   "source": [
    "#### Q4. Given a Pandas DataFrame df with a column 'Text', write a Python function to create a new column 'Word_Count' that contains the number of words in each row of the 'Text' column."
   ]
  },
  {
   "cell_type": "code",
   "execution_count": 27,
   "id": "33f1e371-a10b-4352-bd45-7ca8796fa3dc",
   "metadata": {},
   "outputs": [
    {
     "name": "stdout",
     "output_type": "stream",
     "text": [
      "          Text  Word_Count\n",
      "0   Arun Kumar          10\n",
      "1  Virat Kohli          11\n",
      "2        INDIA           5\n",
      "3          RCB           3\n"
     ]
    }
   ],
   "source": [
    "def create_new_column(df_4):\n",
    "    df_4['Word_Count'] = df_4['Text'].str.len()\n",
    "    return df_4\n",
    "    \n",
    "if __name__ == \"__main__\":\n",
    "    df_4 = pd.DataFrame(['Arun Kumar','Virat Kohli','INDIA','RCB'], columns = ['Text'])\n",
    "    df_4 = create_new_column(df_4)\n",
    "    print(df_4)"
   ]
  },
  {
   "cell_type": "markdown",
   "id": "ae7316c6-c647-4a64-ad1d-5c805e7e8934",
   "metadata": {},
   "source": [
    "----------------"
   ]
  },
  {
   "cell_type": "markdown",
   "id": "84b3f98f-53f9-47c5-9a30-bb78e7f298f2",
   "metadata": {},
   "source": [
    "#### Q5. How are DataFrame.size() and DataFrame.shape() different?"
   ]
  },
  {
   "cell_type": "code",
   "execution_count": 28,
   "id": "e9269a45-66c5-43cc-a182-feb7865b4fcc",
   "metadata": {},
   "outputs": [
    {
     "data": {
      "text/html": [
       "<div>\n",
       "<style scoped>\n",
       "    .dataframe tbody tr th:only-of-type {\n",
       "        vertical-align: middle;\n",
       "    }\n",
       "\n",
       "    .dataframe tbody tr th {\n",
       "        vertical-align: top;\n",
       "    }\n",
       "\n",
       "    .dataframe thead th {\n",
       "        text-align: right;\n",
       "    }\n",
       "</style>\n",
       "<table border=\"1\" class=\"dataframe\">\n",
       "  <thead>\n",
       "    <tr style=\"text-align: right;\">\n",
       "      <th></th>\n",
       "      <th>Text</th>\n",
       "      <th>Word_Count</th>\n",
       "    </tr>\n",
       "  </thead>\n",
       "  <tbody>\n",
       "    <tr>\n",
       "      <th>0</th>\n",
       "      <td>Arun Kumar</td>\n",
       "      <td>10</td>\n",
       "    </tr>\n",
       "    <tr>\n",
       "      <th>1</th>\n",
       "      <td>Virat Kohli</td>\n",
       "      <td>11</td>\n",
       "    </tr>\n",
       "    <tr>\n",
       "      <th>2</th>\n",
       "      <td>INDIA</td>\n",
       "      <td>5</td>\n",
       "    </tr>\n",
       "    <tr>\n",
       "      <th>3</th>\n",
       "      <td>RCB</td>\n",
       "      <td>3</td>\n",
       "    </tr>\n",
       "  </tbody>\n",
       "</table>\n",
       "</div>"
      ],
      "text/plain": [
       "          Text  Word_Count\n",
       "0   Arun Kumar          10\n",
       "1  Virat Kohli          11\n",
       "2        INDIA           5\n",
       "3          RCB           3"
      ]
     },
     "execution_count": 28,
     "metadata": {},
     "output_type": "execute_result"
    }
   ],
   "source": [
    "df_4\n",
    "## in this Dataframe we have 4 columns and 2 rows."
   ]
  },
  {
   "cell_type": "code",
   "execution_count": 29,
   "id": "0afc3bbd-616e-4f68-a990-ff5db4f07b14",
   "metadata": {},
   "outputs": [
    {
     "data": {
      "text/plain": [
       "8"
      ]
     },
     "execution_count": 29,
     "metadata": {},
     "output_type": "execute_result"
    }
   ],
   "source": [
    "df_4.size\n",
    "\n",
    "# in this Dataframe we have 4 columns and 2 rows.\n",
    "# method returns the total number of elements in the DataFrame, including both rows and columns.\n",
    "# so the output of the df_4.size is 8 cause it has 4 rows and 2 columns."
   ]
  },
  {
   "cell_type": "code",
   "execution_count": 30,
   "id": "8aa3a5a3-e28c-4464-bac5-0cb24f002245",
   "metadata": {},
   "outputs": [
    {
     "data": {
      "text/plain": [
       "(4, 2)"
      ]
     },
     "execution_count": 30,
     "metadata": {},
     "output_type": "execute_result"
    }
   ],
   "source": [
    "df_4.shape\n",
    "\n",
    "# in this Dataframe we have 4 columns and 2 rows.\n",
    "# method returns a tuple of two numbers, representing the number of rows and columns in the DataFrame. \n",
    "# so the output of the df_4.shape is (2,4) cause it has 4 rows and 2 columns.\n"
   ]
  },
  {
   "cell_type": "markdown",
   "id": "0f001eba-8333-4857-932a-53bd7d304a83",
   "metadata": {},
   "source": [
    "--------------------"
   ]
  },
  {
   "cell_type": "markdown",
   "id": "6b572d04-ac4f-4d31-90d2-a11142ae1e91",
   "metadata": {},
   "source": [
    "#### Q6. Which function of pandas do we use to read an excel file?"
   ]
  },
  {
   "cell_type": "code",
   "execution_count": 31,
   "id": "2e418324-3927-4938-84d2-1d1b7690fdf3",
   "metadata": {},
   "outputs": [
    {
     "data": {
      "text/html": [
       "<div>\n",
       "<style scoped>\n",
       "    .dataframe tbody tr th:only-of-type {\n",
       "        vertical-align: middle;\n",
       "    }\n",
       "\n",
       "    .dataframe tbody tr th {\n",
       "        vertical-align: top;\n",
       "    }\n",
       "\n",
       "    .dataframe thead th {\n",
       "        text-align: right;\n",
       "    }\n",
       "</style>\n",
       "<table border=\"1\" class=\"dataframe\">\n",
       "  <thead>\n",
       "    <tr style=\"text-align: right;\">\n",
       "      <th></th>\n",
       "      <th>Unnamed: 0</th>\n",
       "      <th>Unnamed: 1</th>\n",
       "      <th>Unnamed: 2</th>\n",
       "      <th>Unnamed: 3</th>\n",
       "      <th>Unnamed: 4</th>\n",
       "      <th>Unnamed: 5</th>\n",
       "      <th>Unnamed: 6</th>\n",
       "      <th>Unnamed: 7</th>\n",
       "      <th>Unnamed: 8</th>\n",
       "      <th>Unnamed: 9</th>\n",
       "    </tr>\n",
       "  </thead>\n",
       "  <tbody>\n",
       "    <tr>\n",
       "      <th>0</th>\n",
       "      <td>NaN</td>\n",
       "      <td>NaN</td>\n",
       "      <td>NaN</td>\n",
       "      <td>NaN</td>\n",
       "      <td>NaN</td>\n",
       "      <td>NaN</td>\n",
       "      <td>NaN</td>\n",
       "      <td>NaN</td>\n",
       "      <td>NaN</td>\n",
       "      <td>NaN</td>\n",
       "    </tr>\n",
       "    <tr>\n",
       "      <th>1</th>\n",
       "      <td>NaN</td>\n",
       "      <td>NaN</td>\n",
       "      <td>NaN</td>\n",
       "      <td>Datetimes in LUSID</td>\n",
       "      <td>NaN</td>\n",
       "      <td>NaN</td>\n",
       "      <td>NaN</td>\n",
       "      <td>NaN</td>\n",
       "      <td>NaN</td>\n",
       "      <td>NaN</td>\n",
       "    </tr>\n",
       "  </tbody>\n",
       "</table>\n",
       "</div>"
      ],
      "text/plain": [
       "   Unnamed: 0  Unnamed: 1  Unnamed: 2          Unnamed: 3 Unnamed: 4  \\\n",
       "0         NaN         NaN         NaN                 NaN        NaN   \n",
       "1         NaN         NaN         NaN  Datetimes in LUSID        NaN   \n",
       "\n",
       "  Unnamed: 5  Unnamed: 6 Unnamed: 7 Unnamed: 8 Unnamed: 9  \n",
       "0        NaN         NaN        NaN        NaN        NaN  \n",
       "1        NaN         NaN        NaN        NaN        NaN  "
      ]
     },
     "execution_count": 31,
     "metadata": {},
     "output_type": "execute_result"
    }
   ],
   "source": [
    "## the pandas.read_excel is the function used to read an excel file in python pandas.\n",
    "\n",
    "df_6 = pd.read_excel('LUSID Excel - Setting up your market data.xlsx')\n",
    "df_6.head(2)"
   ]
  },
  {
   "cell_type": "markdown",
   "id": "679c92de-bf07-4ffc-8702-e1410ecfaa2f",
   "metadata": {},
   "source": [
    "-------------------"
   ]
  },
  {
   "cell_type": "markdown",
   "id": "f77dca40-1d0f-41d4-afb8-85bd021c028a",
   "metadata": {},
   "source": [
    "#### Q7. You have a Pandas DataFrame df that contains a column named 'Email' that contains email addresses in the format 'username@domain.com'. Write a Python function that creates a new column 'Username' in df that contains only the username part of each email address.\n",
    "\n",
    "\n",
    "#### The username is the part of the email address that appears before the '@' symbol. For example, if the email address is 'john.doe@example.com', the 'Username' column should contain 'john.doe'. Your function should extract the username from each email address and store it in the new 'Username' column."
   ]
  },
  {
   "cell_type": "code",
   "execution_count": 32,
   "id": "7c6f8a2a-e541-4f72-a201-9fb1ed2641da",
   "metadata": {},
   "outputs": [
    {
     "name": "stdout",
     "output_type": "stream",
     "text": [
      "                     Email          UserName\n",
      "0           arun@gmail.com              arun\n",
      "1          virat@gmail.com             virat\n",
      "2            RCB@gmail.com               RCB\n",
      "3          INDIA@yahoo.com             INDIA\n",
      "4  Sachin.Tendulkar@mi.com  Sachin.Tendulkar\n",
      "5     john.doe@example.com          john.doe\n"
     ]
    }
   ],
   "source": [
    "def create_new_column_username(df_7):\n",
    "    df_7['UserName'] = df_7['Email'].str.split('@').str[0]\n",
    "    return df_7\n",
    "    \n",
    "if __name__ == \"__main__\":\n",
    "    df_7 = pd.DataFrame(['arun@gmail.com','virat@gmail.com','RCB@gmail.com','INDIA@yahoo.com','Sachin.Tendulkar@mi.com','john.doe@example.com'],columns=['Email'])\n",
    "    df_7 = create_new_column_username(df_7)\n",
    "    print(df_7)"
   ]
  },
  {
   "cell_type": "markdown",
   "id": "9e5e983a-74ef-41b7-87f4-1610b9ab3ee2",
   "metadata": {},
   "source": [
    "----------------------"
   ]
  },
  {
   "cell_type": "markdown",
   "id": "1ab93672-b4fc-4da6-80aa-f2a2c17ee8e9",
   "metadata": {},
   "source": [
    "#### Q8. You have a Pandas DataFrame df with columns 'A', 'B', and 'C'. Write a Python function that selects all rows where the value in column 'A' is greater than 5 and the value in column 'B' is less than 10. The function should return a new DataFrame that contains only the selected rows. For example, if df contains the following values:\n",
    "\n",
    "|| A| B|C|\n",
    "|---|---|---|---|\n",
    "|0| 3| 5| 1|\n",
    "|1| 8| 2| 7|\n",
    "|2| 6| 9| 4|\n",
    "|3| 2| 3| 5|\n",
    "|4| 9| 1| 2|\n",
    "\n",
    "\n",
    "Your function should select the following rows:\n",
    "| |A |B| C|\n",
    "|---|---|---|---|\n",
    "|1| 8 |2 |7|\n",
    "|2|6|9|4|\n",
    "|4| 9 |1 |2|\n",
    "\n",
    "\n",
    "The function should return a new DataFrame that contains only the selected rows."
   ]
  },
  {
   "cell_type": "code",
   "execution_count": 33,
   "id": "8f9415b5-c6b6-4490-8c6e-6e428dffb9e1",
   "metadata": {},
   "outputs": [
    {
     "name": "stdout",
     "output_type": "stream",
     "text": [
      "   A  B  C\n",
      "1  8  2  7\n",
      "2  6  9  4\n",
      "4  9  1  2\n"
     ]
    }
   ],
   "source": [
    "def function_question_8(df_7):\n",
    "    df_8_new = df_8[(df_8['A']>5) & (df_8['B']<10)]\n",
    "    return df_8_new\n",
    "    \n",
    "if __name__ == \"__main__\":\n",
    "    data_8 = { 'A' : [3,8,6,2,9], 'B' : [5,2,9,3,1], 'C' : [1,7,4,5,2] }\n",
    "    df_8 = pd.DataFrame(data_8)\n",
    "    df_8_new = function_question_8(df_7)\n",
    "    print(df_8_new)"
   ]
  },
  {
   "cell_type": "markdown",
   "id": "ec3129a2-d44a-4bb7-b3da-c5ff76e20779",
   "metadata": {},
   "source": [
    "------------------------------"
   ]
  },
  {
   "cell_type": "markdown",
   "id": "a59b32fc-33e4-4221-9f5d-882058596109",
   "metadata": {},
   "source": [
    "#### Q9. Given a Pandas DataFrame df with a column 'Values', write a Python function to calculate the mean, median, and standard deviation of the values in the 'Values' column."
   ]
  },
  {
   "cell_type": "code",
   "execution_count": 34,
   "id": "817aa552-d2a5-4957-8682-8abac46e8134",
   "metadata": {},
   "outputs": [
    {
     "name": "stdout",
     "output_type": "stream",
     "text": [
      "(10, 55.0, 30.276503540974915)\n"
     ]
    }
   ],
   "source": [
    "def function_question_9(df_9):\n",
    "    count = df_9['Values'].count()   ## return tsh count of the df_9['Values'] \n",
    "    mean = df_9['Values'].mean()  ## return the mean of the df_9['Values']\n",
    "    std = df_9['Values'].std()    ## return the std of the df_9['Values']\n",
    "    return count,mean,std\n",
    "    \n",
    "if __name__ == \"__main__\":\n",
    "    df_9 = pd.DataFrame([10,20,30,40,50,60,70,80,90,100], columns=['Values'])\n",
    "    print(function_question_9(df_9))"
   ]
  },
  {
   "cell_type": "code",
   "execution_count": 35,
   "id": "2c970740-5837-4f60-84ed-fe86d2b581e8",
   "metadata": {},
   "outputs": [
    {
     "data": {
      "text/html": [
       "<div>\n",
       "<style scoped>\n",
       "    .dataframe tbody tr th:only-of-type {\n",
       "        vertical-align: middle;\n",
       "    }\n",
       "\n",
       "    .dataframe tbody tr th {\n",
       "        vertical-align: top;\n",
       "    }\n",
       "\n",
       "    .dataframe thead th {\n",
       "        text-align: right;\n",
       "    }\n",
       "</style>\n",
       "<table border=\"1\" class=\"dataframe\">\n",
       "  <thead>\n",
       "    <tr style=\"text-align: right;\">\n",
       "      <th></th>\n",
       "      <th>Values</th>\n",
       "    </tr>\n",
       "  </thead>\n",
       "  <tbody>\n",
       "    <tr>\n",
       "      <th>count</th>\n",
       "      <td>10.000000</td>\n",
       "    </tr>\n",
       "    <tr>\n",
       "      <th>mean</th>\n",
       "      <td>55.000000</td>\n",
       "    </tr>\n",
       "    <tr>\n",
       "      <th>std</th>\n",
       "      <td>30.276504</td>\n",
       "    </tr>\n",
       "    <tr>\n",
       "      <th>min</th>\n",
       "      <td>10.000000</td>\n",
       "    </tr>\n",
       "    <tr>\n",
       "      <th>25%</th>\n",
       "      <td>32.500000</td>\n",
       "    </tr>\n",
       "    <tr>\n",
       "      <th>50%</th>\n",
       "      <td>55.000000</td>\n",
       "    </tr>\n",
       "    <tr>\n",
       "      <th>75%</th>\n",
       "      <td>77.500000</td>\n",
       "    </tr>\n",
       "    <tr>\n",
       "      <th>max</th>\n",
       "      <td>100.000000</td>\n",
       "    </tr>\n",
       "  </tbody>\n",
       "</table>\n",
       "</div>"
      ],
      "text/plain": [
       "           Values\n",
       "count   10.000000\n",
       "mean    55.000000\n",
       "std     30.276504\n",
       "min     10.000000\n",
       "25%     32.500000\n",
       "50%     55.000000\n",
       "75%     77.500000\n",
       "max    100.000000"
      ]
     },
     "execution_count": 35,
     "metadata": {},
     "output_type": "execute_result"
    }
   ],
   "source": [
    "df_9.describe()\n",
    "## to cross check the values, and can conform the output is right after comparing."
   ]
  },
  {
   "cell_type": "markdown",
   "id": "beb74bf3-2782-44cd-98e6-68fd205b1486",
   "metadata": {},
   "source": [
    "-----------------------------"
   ]
  },
  {
   "cell_type": "markdown",
   "id": "14ca4f6d-7b3d-4781-9d77-a364f828a614",
   "metadata": {},
   "source": [
    "#### Q10. Given a Pandas DataFrame df with a column 'Sales' and a column 'Date', write a Python function to create a new column 'MovingAverage' that contains the moving average of the sales for the past 7 days for each row in the DataFrame. The moving average should be calculated using a window of size 7 and should include the current day. "
   ]
  },
  {
   "cell_type": "code",
   "execution_count": 36,
   "id": "a8f87ff5-5491-445b-9a0e-57f175cd7a4a",
   "metadata": {},
   "outputs": [
    {
     "name": "stdout",
     "output_type": "stream",
     "text": [
      "         Date Sales  MovingAverage\n",
      "0  2023-06-01  1964            NaN\n",
      "1  2023-06-02  1636            NaN\n",
      "2  2023-06-03  1093            NaN\n",
      "3  2023-06-04  1073            NaN\n",
      "4  2023-06-05  1673            NaN\n",
      "5  2023-06-06   253            NaN\n",
      "6  2023-06-07  1442         1305.0\n",
      "7  2023-06-08  1366         1219.0\n",
      "8  2023-06-09   538         1063.0\n",
      "9  2023-06-10   139          926.0\n",
      "10 2023-06-11   845          894.0\n",
      "11 2023-06-12   329          702.0\n",
      "12 2023-06-13   558          745.0\n",
      "13 2023-06-14  1151          704.0\n",
      "14 2023-06-15   247          544.0\n",
      "15 2023-06-16  1885          736.0\n",
      "16 2023-06-17   329          763.0\n",
      "17 2023-06-18   423          703.0\n",
      "18 2023-06-19  1100          813.0\n",
      "19 2023-06-20  1163          900.0\n",
      "20 2023-06-21   374          789.0\n",
      "21 2023-06-22   673          850.0\n",
      "22 2023-06-23  1551          802.0\n",
      "23 2023-06-24  1399          955.0\n",
      "24 2023-06-25  1644         1129.0\n",
      "25 2023-06-26  1374         1168.0\n",
      "26 2023-06-27   391         1058.0\n",
      "27 2023-06-28   948         1140.0\n",
      "28 2023-06-29  1780         1298.0\n"
     ]
    }
   ],
   "source": [
    "import random    # module to generate random numbers\n",
    "\n",
    "def moving_avg_column(df_q10):\n",
    "    df_q10['MovingAverage'] = round(df_q10['Sales'].rolling(window=7).mean(),0)\n",
    "    return df_q10\n",
    "    \n",
    "\n",
    "if __name__ == \"__main__\":\n",
    "    \n",
    "    ## list of 29 random numbers generated for Sales column.\n",
    "    sales = [random.randint(100,2000) for i in range(29)] \n",
    "\n",
    "    ## list of 20  dates generated for Sales column.\n",
    "    date = pd.date_range(start='2023-06-01',end='2023-06-29', freq='D')\n",
    "    \n",
    "    # creating a datframe using the 2 lists. - Date & Sales\n",
    "    df_q10 = pd.DataFrame([date,sales],index=['Date','Sales']).T\n",
    "    \n",
    "    \n",
    "    print(moving_avg_column(df_q10))"
   ]
  },
  {
   "cell_type": "markdown",
   "id": "ece26892-68c2-41fc-8a26-ef8b4f51b954",
   "metadata": {},
   "source": [
    "------------"
   ]
  },
  {
   "cell_type": "markdown",
   "id": "867a3f16-963a-4d5d-9662-9c585bef093c",
   "metadata": {},
   "source": [
    "#### Q11. You have a Pandas DataFrame df with a column 'Date'. Write a Python function that creates a new column 'Weekday' in the DataFrame. The 'Weekday' column should contain the weekday name (e.g. Monday, Tuesday) corresponding to each date in the 'Date' column.\n",
    "\n",
    "For example, if df contains the following values:\n",
    "\n",
    "    Date\n",
    "    0 2023-01-01\n",
    "    1 2023-01-02\n",
    "    2 2023-01-03\n",
    "    3 2023-01-04\n",
    "    4 2023-01-05\n",
    "\n",
    "Your function should create the following DataFrame:\n",
    "\n",
    "Date Weekday\n",
    "\n",
    "    0 2023-01-01 Sunday\n",
    "    1 2023-01-02 Monday\n",
    "    2 2023-01-03 Tuesday\n",
    "    3 2023-01-04 Wednesday\n",
    "    4 2023-01-05 Thursday\n",
    "\n",
    "The function should return the modified DataFrame."
   ]
  },
  {
   "cell_type": "code",
   "execution_count": 42,
   "id": "4fafee5a-412f-4343-9cc4-b4085a1b9a6c",
   "metadata": {},
   "outputs": [
    {
     "name": "stdout",
     "output_type": "stream",
     "text": [
      "         Date    WeekDay\n",
      "0  2023-06-15   Thursday\n",
      "1  2023-06-16     Friday\n",
      "2  2023-06-17   Saturday\n",
      "3  2023-06-18     Sunday\n",
      "4  2023-06-19     Monday\n",
      "5  2023-06-20    Tuesday\n",
      "6  2023-06-21  Wednesday\n",
      "7  2023-06-22   Thursday\n",
      "8  2023-06-23     Friday\n",
      "9  2023-06-24   Saturday\n",
      "10 2023-06-25     Sunday\n",
      "11 2023-06-26     Monday\n",
      "12 2023-06-27    Tuesday\n",
      "13 2023-06-28  Wednesday\n",
      "14 2023-06-29   Thursday\n",
      "15 2023-06-30     Friday\n",
      "16 2023-07-01   Saturday\n",
      "17 2023-07-02     Sunday\n",
      "18 2023-07-03     Monday\n"
     ]
    }
   ],
   "source": [
    "def week_day_name(df_q11):\n",
    "    df_q11['WeekDay'] = df_q11['Date'].dt.day_name()\n",
    "    return df_q11\n",
    "\n",
    "if __name__ == \"__main__\":\n",
    "    \n",
    "    ## list of 18  dates generated for Date Column.\n",
    "    date = pd.date_range(start='2023-06-15',end='2023-07-03', freq='D')\n",
    "    \n",
    "    # creating a dataframe using the date. - Date & Sales\n",
    "    df_q11 = pd.DataFrame([date],index=['Date']).T\n",
    "    \n",
    "    print(week_day_name(df_q11))"
   ]
  },
  {
   "cell_type": "markdown",
   "id": "8d171c29-8dbd-4787-84c4-6583308dcdb7",
   "metadata": {},
   "source": [
    "----------------------------"
   ]
  }
 ],
 "metadata": {
  "kernelspec": {
   "display_name": "Python 3 (ipykernel)",
   "language": "python",
   "name": "python3"
  },
  "language_info": {
   "codemirror_mode": {
    "name": "ipython",
    "version": 3
   },
   "file_extension": ".py",
   "mimetype": "text/x-python",
   "name": "python",
   "nbconvert_exporter": "python",
   "pygments_lexer": "ipython3",
   "version": "3.10.8"
  }
 },
 "nbformat": 4,
 "nbformat_minor": 5
}
