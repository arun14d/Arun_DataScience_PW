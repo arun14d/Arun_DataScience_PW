{
 "cells": [
  {
   "cell_type": "markdown",
   "id": "50fbcc5e-77e7-4457-9167-95c9a077ca0d",
   "metadata": {},
   "source": [
    "#### Pandas Basic Assignment\n",
    "-------------------------------"
   ]
  },
  {
   "cell_type": "markdown",
   "id": "8e5663cd-b501-4ec7-90f1-004afab08e4a",
   "metadata": {},
   "source": [
    "#### Q1. Create a Pandas Series that contains the following data: 4, 8, 15, 16, 23, and 42. Then, print the series."
   ]
  },
  {
   "cell_type": "markdown",
   "id": "2ace8381-8744-4e71-8438-eccd1ae1ad54",
   "metadata": {},
   "source": [
    "1. A Pandas Series is like a column in a table.\n",
    "\n",
    "2. It is a one-dimensional array holding data of any type."
   ]
  },
  {
   "cell_type": "code",
   "execution_count": 1,
   "id": "65ac5166-66f3-401b-b576-ef8d87f620fd",
   "metadata": {},
   "outputs": [],
   "source": [
    "import pandas as pd # module related to pandas"
   ]
  },
  {
   "cell_type": "code",
   "execution_count": 2,
   "id": "d4dc086c-feb3-4b8e-95ef-130531d1df54",
   "metadata": {},
   "outputs": [
    {
     "name": "stdout",
     "output_type": "stream",
     "text": [
      "0     4\n",
      "1     8\n",
      "2    15\n",
      "3    16\n",
      "4    23\n",
      "5    42\n",
      "dtype: int64\n"
     ]
    }
   ],
   "source": [
    "data = pd.Series([4, 8, 15, 16, 23, 42])  ## the numbers/data has to be passed in a list to pd.Series function.\n",
    "print(data)"
   ]
  },
  {
   "cell_type": "code",
   "execution_count": 3,
   "id": "87e125e5-74a9-4489-b757-a9ed3d5c3ca5",
   "metadata": {},
   "outputs": [
    {
     "data": {
      "text/plain": [
       "pandas.core.series.Series"
      ]
     },
     "execution_count": 3,
     "metadata": {},
     "output_type": "execute_result"
    }
   ],
   "source": [
    "type(data)\n",
    "## its Series type"
   ]
  },
  {
   "cell_type": "markdown",
   "id": "23e9e512-c931-4128-ae6a-53c06ab8232b",
   "metadata": {},
   "source": [
    "--------------------"
   ]
  },
  {
   "cell_type": "markdown",
   "id": "b0aa7dde-9e7b-4a03-b70c-8652fd8f213d",
   "metadata": {},
   "source": [
    "#### Q2. Create a variable of list type containing 10 elements in it, and apply pandas.Series function on the variable print it"
   ]
  },
  {
   "cell_type": "code",
   "execution_count": 4,
   "id": "a665a88a-90c4-446d-a4da-faba9e8e58e9",
   "metadata": {},
   "outputs": [],
   "source": [
    "list1 = [10,2,3,4,50,60,7,80,9,100]  # list having 10 elements \n",
    "\n",
    "series_list = pd.Series(list1)  ## pandas.Series function to convert the list to Series"
   ]
  },
  {
   "cell_type": "code",
   "execution_count": 5,
   "id": "d4196d53-699e-4cfa-af5b-c4979821c742",
   "metadata": {},
   "outputs": [
    {
     "name": "stdout",
     "output_type": "stream",
     "text": [
      "0     10\n",
      "1      2\n",
      "2      3\n",
      "3      4\n",
      "4     50\n",
      "5     60\n",
      "6      7\n",
      "7     80\n",
      "8      9\n",
      "9    100\n",
      "dtype: int64\n"
     ]
    }
   ],
   "source": [
    "print(series_list)"
   ]
  },
  {
   "cell_type": "code",
   "execution_count": 6,
   "id": "1513236d-4f3a-4121-8750-cedd57052e70",
   "metadata": {},
   "outputs": [
    {
     "data": {
      "text/plain": [
       "pandas.core.series.Series"
      ]
     },
     "execution_count": 6,
     "metadata": {},
     "output_type": "execute_result"
    }
   ],
   "source": [
    "type(series_list)  ## its a Series type"
   ]
  },
  {
   "cell_type": "markdown",
   "id": "0f0662e2-8961-48d8-9fa7-b50a9f1d97e0",
   "metadata": {},
   "source": [
    "\n",
    "-----------------------"
   ]
  },
  {
   "cell_type": "markdown",
   "id": "f2196218-f60b-4526-b7e0-96f7c1a114eb",
   "metadata": {},
   "source": [
    "#### Q3. Create a Pandas DataFrame that contains the following data: Then, print the DataFrame.\n",
    "\n",
    "|Name|Age|Gender|\n",
    "|---|---|---|\n",
    "|Alice|25|Female|\n",
    "|Bob|30|Male|\n",
    "|Claire|27|Female|\n"
   ]
  },
  {
   "cell_type": "markdown",
   "id": "b2e92df5-e7f0-42c8-a07c-2df11233d6c9",
   "metadata": {},
   "source": [
    "A Pandas DataFrame is a 2 dimensional data structure, like a 2 dimensional array, or a table with rows and columns."
   ]
  },
  {
   "cell_type": "code",
   "execution_count": 8,
   "id": "5c9e1b21-01e4-400a-aaf7-429616b83035",
   "metadata": {},
   "outputs": [],
   "source": [
    "## Constructing DataFrame from a dictionary.\n",
    "\n",
    "data3 = {\n",
    "'Name' : ['Alice','Bob','Claire'],\n",
    "'Age' : [25,30,27],\n",
    "'Claire' : ['Female','Male','Female']\n",
    "}"
   ]
  },
  {
   "cell_type": "code",
   "execution_count": 9,
   "id": "d7e8a1b5-a8c4-4071-a4f6-7a492a172c92",
   "metadata": {},
   "outputs": [
    {
     "data": {
      "text/html": [
       "<div>\n",
       "<style scoped>\n",
       "    .dataframe tbody tr th:only-of-type {\n",
       "        vertical-align: middle;\n",
       "    }\n",
       "\n",
       "    .dataframe tbody tr th {\n",
       "        vertical-align: top;\n",
       "    }\n",
       "\n",
       "    .dataframe thead th {\n",
       "        text-align: right;\n",
       "    }\n",
       "</style>\n",
       "<table border=\"1\" class=\"dataframe\">\n",
       "  <thead>\n",
       "    <tr style=\"text-align: right;\">\n",
       "      <th></th>\n",
       "      <th>Name</th>\n",
       "      <th>Age</th>\n",
       "      <th>Claire</th>\n",
       "    </tr>\n",
       "  </thead>\n",
       "  <tbody>\n",
       "    <tr>\n",
       "      <th>0</th>\n",
       "      <td>Alice</td>\n",
       "      <td>25</td>\n",
       "      <td>Female</td>\n",
       "    </tr>\n",
       "    <tr>\n",
       "      <th>1</th>\n",
       "      <td>Bob</td>\n",
       "      <td>30</td>\n",
       "      <td>Male</td>\n",
       "    </tr>\n",
       "    <tr>\n",
       "      <th>2</th>\n",
       "      <td>Claire</td>\n",
       "      <td>27</td>\n",
       "      <td>Female</td>\n",
       "    </tr>\n",
       "  </tbody>\n",
       "</table>\n",
       "</div>"
      ],
      "text/plain": [
       "     Name  Age  Claire\n",
       "0   Alice   25  Female\n",
       "1     Bob   30    Male\n",
       "2  Claire   27  Female"
      ]
     },
     "execution_count": 9,
     "metadata": {},
     "output_type": "execute_result"
    }
   ],
   "source": [
    "Q3_df = pd.DataFrame(data3)\n",
    "\n",
    "Q3_df"
   ]
  },
  {
   "cell_type": "markdown",
   "id": "daf3fa2d-db31-48e1-86dc-d4dff464b4e9",
   "metadata": {},
   "source": [
    "-----------------\n"
   ]
  },
  {
   "cell_type": "markdown",
   "id": "4df18f3f-acc7-465d-a05a-a52d6b61b43e",
   "metadata": {},
   "source": [
    "#### Q4. What is ‘DataFrame’ in pandas and how is it different from pandas.series? Explain with an example."
   ]
  },
  {
   "cell_type": "markdown",
   "id": "9c4a4ec9-e22e-49a0-add6-be1e5b259f90",
   "metadata": {},
   "source": [
    "*DataFrame*\n",
    "\n",
    "1. A pandas DataFrame is a two-dimensional data structure that can be thought of as a spreadsheet. \n",
    "\n",
    "2. A Pandas DataFrame is a 2 dimensional data structure, like a 2 dimensional array, or a table with rows and columns.\n",
    "\n",
    "3. It can also be thought of as a collection of two or more series with common indices.\n",
    "\n"
   ]
  },
  {
   "cell_type": "code",
   "execution_count": 10,
   "id": "4d9d4870-d74d-4a8a-b385-7bb230b9638a",
   "metadata": {},
   "outputs": [
    {
     "data": {
      "text/plain": [
       "pandas.core.frame.DataFrame"
      ]
     },
     "execution_count": 10,
     "metadata": {},
     "output_type": "execute_result"
    }
   ],
   "source": [
    "# Example of dictionary conversion to dataFrame.\n",
    "data_q4 = {\n",
    "'Name' : ['Virat Kohli','Arun Kumar J','Sachin Tendulkar','Cristiano Ronaldo','Smriti Mandanna'],\n",
    "'Age' : [34,32,50,37,27],\n",
    "'Sex' : ['Male','Male','Male','Male','Female']\n",
    "}\n",
    "\n",
    "## converting the dictionary to DataFrame\n",
    "\n",
    "df_q4 = pd.DataFrame(data_q4)\n",
    "\n",
    "## checking the type of the variable - df_q4\n",
    "type(df_q4)"
   ]
  },
  {
   "cell_type": "code",
   "execution_count": 11,
   "id": "bc4ee702-80b9-4fe4-82a9-14393d05b432",
   "metadata": {},
   "outputs": [
    {
     "data": {
      "text/html": [
       "<div>\n",
       "<style scoped>\n",
       "    .dataframe tbody tr th:only-of-type {\n",
       "        vertical-align: middle;\n",
       "    }\n",
       "\n",
       "    .dataframe tbody tr th {\n",
       "        vertical-align: top;\n",
       "    }\n",
       "\n",
       "    .dataframe thead th {\n",
       "        text-align: right;\n",
       "    }\n",
       "</style>\n",
       "<table border=\"1\" class=\"dataframe\">\n",
       "  <thead>\n",
       "    <tr style=\"text-align: right;\">\n",
       "      <th></th>\n",
       "      <th>Name</th>\n",
       "      <th>Age</th>\n",
       "      <th>Sex</th>\n",
       "    </tr>\n",
       "  </thead>\n",
       "  <tbody>\n",
       "    <tr>\n",
       "      <th>0</th>\n",
       "      <td>Virat Kohli</td>\n",
       "      <td>34</td>\n",
       "      <td>Male</td>\n",
       "    </tr>\n",
       "    <tr>\n",
       "      <th>1</th>\n",
       "      <td>Arun Kumar J</td>\n",
       "      <td>32</td>\n",
       "      <td>Male</td>\n",
       "    </tr>\n",
       "    <tr>\n",
       "      <th>2</th>\n",
       "      <td>Sachin Tendulkar</td>\n",
       "      <td>50</td>\n",
       "      <td>Male</td>\n",
       "    </tr>\n",
       "    <tr>\n",
       "      <th>3</th>\n",
       "      <td>Cristiano Ronaldo</td>\n",
       "      <td>37</td>\n",
       "      <td>Male</td>\n",
       "    </tr>\n",
       "    <tr>\n",
       "      <th>4</th>\n",
       "      <td>Smriti Mandanna</td>\n",
       "      <td>27</td>\n",
       "      <td>Female</td>\n",
       "    </tr>\n",
       "  </tbody>\n",
       "</table>\n",
       "</div>"
      ],
      "text/plain": [
       "                Name  Age     Sex\n",
       "0        Virat Kohli   34    Male\n",
       "1       Arun Kumar J   32    Male\n",
       "2   Sachin Tendulkar   50    Male\n",
       "3  Cristiano Ronaldo   37    Male\n",
       "4    Smriti Mandanna   27  Female"
      ]
     },
     "execution_count": 11,
     "metadata": {},
     "output_type": "execute_result"
    }
   ],
   "source": [
    "df_q4\n",
    "## We can see that the below is the df_q4 which is a table like structure."
   ]
  },
  {
   "cell_type": "code",
   "execution_count": 12,
   "id": "72703f43-fdee-409f-8d7c-21dfb79a3dab",
   "metadata": {},
   "outputs": [],
   "source": [
    "## creating a dataframe from an .csv file"
   ]
  },
  {
   "cell_type": "code",
   "execution_count": 13,
   "id": "2b5323d2-70c0-4962-a3ab-c8abef525ebe",
   "metadata": {},
   "outputs": [
    {
     "data": {
      "text/html": [
       "<div>\n",
       "<style scoped>\n",
       "    .dataframe tbody tr th:only-of-type {\n",
       "        vertical-align: middle;\n",
       "    }\n",
       "\n",
       "    .dataframe tbody tr th {\n",
       "        vertical-align: top;\n",
       "    }\n",
       "\n",
       "    .dataframe thead th {\n",
       "        text-align: right;\n",
       "    }\n",
       "</style>\n",
       "<table border=\"1\" class=\"dataframe\">\n",
       "  <thead>\n",
       "    <tr style=\"text-align: right;\">\n",
       "      <th></th>\n",
       "      <th>id</th>\n",
       "      <th>location_id</th>\n",
       "      <th>program_id</th>\n",
       "      <th>accepted_payments</th>\n",
       "      <th>alternate_name</th>\n",
       "      <th>application_process</th>\n",
       "      <th>audience</th>\n",
       "      <th>description</th>\n",
       "      <th>eligibility</th>\n",
       "      <th>email</th>\n",
       "      <th>...</th>\n",
       "      <th>interpretation_services</th>\n",
       "      <th>keywords</th>\n",
       "      <th>languages</th>\n",
       "      <th>name</th>\n",
       "      <th>required_documents</th>\n",
       "      <th>service_areas</th>\n",
       "      <th>status</th>\n",
       "      <th>wait_time</th>\n",
       "      <th>website</th>\n",
       "      <th>taxonomy_ids</th>\n",
       "    </tr>\n",
       "  </thead>\n",
       "  <tbody>\n",
       "    <tr>\n",
       "      <th>0</th>\n",
       "      <td>1</td>\n",
       "      <td>1</td>\n",
       "      <td>NaN</td>\n",
       "      <td>NaN</td>\n",
       "      <td>NaN</td>\n",
       "      <td>Walk in or apply by phone.</td>\n",
       "      <td>Older adults age 55 or over, ethnic minorities...</td>\n",
       "      <td>A walk-in center for older adults that provide...</td>\n",
       "      <td>Age 55 or over for most programs, age 60 or ov...</td>\n",
       "      <td>NaN</td>\n",
       "      <td>...</td>\n",
       "      <td>NaN</td>\n",
       "      <td>ADULT PROTECTION AND CARE SERVICES, Meal Sites...</td>\n",
       "      <td>NaN</td>\n",
       "      <td>Fair Oaks Adult Activity Center</td>\n",
       "      <td>NaN</td>\n",
       "      <td>Colma</td>\n",
       "      <td>active</td>\n",
       "      <td>No wait.</td>\n",
       "      <td>NaN</td>\n",
       "      <td>NaN</td>\n",
       "    </tr>\n",
       "    <tr>\n",
       "      <th>1</th>\n",
       "      <td>2</td>\n",
       "      <td>2</td>\n",
       "      <td>NaN</td>\n",
       "      <td>NaN</td>\n",
       "      <td>NaN</td>\n",
       "      <td>Apply by phone for an appointment.</td>\n",
       "      <td>Residents of San Mateo County age 55 or over</td>\n",
       "      <td>Provides training and job placement to eligibl...</td>\n",
       "      <td>Age 55 or over, county resident and willing an...</td>\n",
       "      <td>NaN</td>\n",
       "      <td>...</td>\n",
       "      <td>NaN</td>\n",
       "      <td>EMPLOYMENT/TRAINING SERVICES, Job Development,...</td>\n",
       "      <td>NaN</td>\n",
       "      <td>Second Career Employment Program</td>\n",
       "      <td>NaN</td>\n",
       "      <td>San Mateo County</td>\n",
       "      <td>active</td>\n",
       "      <td>Varies.</td>\n",
       "      <td>NaN</td>\n",
       "      <td>NaN</td>\n",
       "    </tr>\n",
       "  </tbody>\n",
       "</table>\n",
       "<p>2 rows × 22 columns</p>\n",
       "</div>"
      ],
      "text/plain": [
       "   id  location_id  program_id accepted_payments alternate_name  \\\n",
       "0   1            1         NaN               NaN            NaN   \n",
       "1   2            2         NaN               NaN            NaN   \n",
       "\n",
       "                  application_process  \\\n",
       "0          Walk in or apply by phone.   \n",
       "1  Apply by phone for an appointment.   \n",
       "\n",
       "                                            audience  \\\n",
       "0  Older adults age 55 or over, ethnic minorities...   \n",
       "1       Residents of San Mateo County age 55 or over   \n",
       "\n",
       "                                         description  \\\n",
       "0  A walk-in center for older adults that provide...   \n",
       "1  Provides training and job placement to eligibl...   \n",
       "\n",
       "                                         eligibility email  ...  \\\n",
       "0  Age 55 or over for most programs, age 60 or ov...   NaN  ...   \n",
       "1  Age 55 or over, county resident and willing an...   NaN  ...   \n",
       "\n",
       "  interpretation_services                                           keywords  \\\n",
       "0                     NaN  ADULT PROTECTION AND CARE SERVICES, Meal Sites...   \n",
       "1                     NaN  EMPLOYMENT/TRAINING SERVICES, Job Development,...   \n",
       "\n",
       "  languages                              name required_documents  \\\n",
       "0       NaN   Fair Oaks Adult Activity Center                NaN   \n",
       "1       NaN  Second Career Employment Program                NaN   \n",
       "\n",
       "      service_areas  status wait_time website taxonomy_ids  \n",
       "0             Colma  active  No wait.     NaN          NaN  \n",
       "1  San Mateo County  active   Varies.     NaN          NaN  \n",
       "\n",
       "[2 rows x 22 columns]"
      ]
     },
     "execution_count": 13,
     "metadata": {},
     "output_type": "execute_result"
    }
   ],
   "source": [
    "df_csv = pd.read_csv('services.csv')\n",
    "df_csv.head(2) # used to view the first 2 elements in a dataframe."
   ]
  },
  {
   "cell_type": "code",
   "execution_count": 14,
   "id": "0424b65f-87b8-4ac7-b3b3-55af12ba5ae3",
   "metadata": {},
   "outputs": [
    {
     "data": {
      "text/plain": [
       "pandas.core.frame.DataFrame"
      ]
     },
     "execution_count": 14,
     "metadata": {},
     "output_type": "execute_result"
    }
   ],
   "source": [
    "type(df_csv) # its of type DataFrame"
   ]
  },
  {
   "cell_type": "code",
   "execution_count": null,
   "id": "6bf8be41-eaee-4e0c-909b-95232f1339c7",
   "metadata": {},
   "outputs": [],
   "source": []
  },
  {
   "cell_type": "markdown",
   "id": "d0a16bf9-a7f2-48a2-a3ea-b0a2ccf566ad",
   "metadata": {},
   "source": [
    "*Series*\n",
    "\n",
    "1. A Pandas Series is like a column in a table.\n",
    "\n",
    "2. A Python one-dimensional labelled array called a Pandas Series may hold any form of data (integer, float, string, etc.). \n",
    "\n",
    "3. It is possible to create new Series by using lists, arrays, dictionaries, and existing Series objects. \n",
    "\n",
    "4. Also each column of a DataFrame is a Series, we can say collection of series together is a Dataframe"
   ]
  },
  {
   "cell_type": "code",
   "execution_count": 16,
   "id": "3a8e584e-883a-4cd8-9514-71c55d044c8e",
   "metadata": {},
   "outputs": [
    {
     "data": {
      "text/plain": [
       "0          Virat Kohli\n",
       "1         Arun Kumar J\n",
       "2     Sachin Tendulkar\n",
       "3    Cristiano Ronaldo\n",
       "4      Smriti Mandanna\n",
       "Name: Name, dtype: object"
      ]
     },
     "execution_count": 16,
     "metadata": {},
     "output_type": "execute_result"
    }
   ],
   "source": [
    "## Creating a series by selecting a single dataframe column called Name\n",
    "Name_series = df_q4['Name']  \n",
    "Name_series"
   ]
  },
  {
   "cell_type": "code",
   "execution_count": 17,
   "id": "c83cd7bb-406d-47ba-8965-0aebe4d4378d",
   "metadata": {},
   "outputs": [
    {
     "data": {
      "text/plain": [
       "pandas.core.series.Series"
      ]
     },
     "execution_count": 17,
     "metadata": {},
     "output_type": "execute_result"
    }
   ],
   "source": [
    "type(Name_series)"
   ]
  },
  {
   "cell_type": "code",
   "execution_count": 19,
   "id": "88faef5a-ce7c-4ad7-b321-6c957959dc0e",
   "metadata": {},
   "outputs": [
    {
     "data": {
      "text/plain": [
       "0     10\n",
       "1     22\n",
       "2     44\n",
       "3     33\n",
       "4     22\n",
       "5     23\n",
       "6    112\n",
       "7     33\n",
       "dtype: int64"
      ]
     },
     "execution_count": 19,
     "metadata": {},
     "output_type": "execute_result"
    }
   ],
   "source": [
    "## Creating a Series from the list\n",
    "Age_series = pd.Series([10,22,44,33,22,23,112,33])\n",
    "Age_series"
   ]
  },
  {
   "cell_type": "code",
   "execution_count": 20,
   "id": "b7995e48-6b6a-4f46-9c5a-c92e7134ede9",
   "metadata": {},
   "outputs": [
    {
     "data": {
      "text/plain": [
       "pandas.core.series.Series"
      ]
     },
     "execution_count": 20,
     "metadata": {},
     "output_type": "execute_result"
    }
   ],
   "source": [
    "type(Age_series)"
   ]
  },
  {
   "cell_type": "markdown",
   "id": "3388eccb-5327-427e-8363-dff56e5e5ec5",
   "metadata": {},
   "source": [
    "---------------"
   ]
  },
  {
   "cell_type": "markdown",
   "id": "e83ac446-2ed5-4862-8be5-29964de5bdcd",
   "metadata": {},
   "source": [
    "#### Q5. What are some common functions you can use to manipulate data in a Pandas DataFrame? Can you give an example of when you might use one of these functions?"
   ]
  },
  {
   "cell_type": "code",
   "execution_count": 34,
   "id": "7ac14588-8e6f-4b55-a26a-207cd8c168a9",
   "metadata": {},
   "outputs": [],
   "source": [
    "## lets take an example, by importing a .csv file.\n",
    "\n",
    "df_q5 = pd.read_csv('services.csv')"
   ]
  },
  {
   "cell_type": "code",
   "execution_count": 35,
   "id": "2f668dcf-c5ba-46f9-a646-8b87678d2791",
   "metadata": {},
   "outputs": [
    {
     "data": {
      "text/html": [
       "<div>\n",
       "<style scoped>\n",
       "    .dataframe tbody tr th:only-of-type {\n",
       "        vertical-align: middle;\n",
       "    }\n",
       "\n",
       "    .dataframe tbody tr th {\n",
       "        vertical-align: top;\n",
       "    }\n",
       "\n",
       "    .dataframe thead th {\n",
       "        text-align: right;\n",
       "    }\n",
       "</style>\n",
       "<table border=\"1\" class=\"dataframe\">\n",
       "  <thead>\n",
       "    <tr style=\"text-align: right;\">\n",
       "      <th></th>\n",
       "      <th>id</th>\n",
       "      <th>location_id</th>\n",
       "      <th>program_id</th>\n",
       "      <th>accepted_payments</th>\n",
       "      <th>alternate_name</th>\n",
       "      <th>application_process</th>\n",
       "      <th>audience</th>\n",
       "      <th>description</th>\n",
       "      <th>eligibility</th>\n",
       "      <th>email</th>\n",
       "      <th>...</th>\n",
       "      <th>interpretation_services</th>\n",
       "      <th>keywords</th>\n",
       "      <th>languages</th>\n",
       "      <th>name</th>\n",
       "      <th>required_documents</th>\n",
       "      <th>service_areas</th>\n",
       "      <th>status</th>\n",
       "      <th>wait_time</th>\n",
       "      <th>website</th>\n",
       "      <th>taxonomy_ids</th>\n",
       "    </tr>\n",
       "  </thead>\n",
       "  <tbody>\n",
       "    <tr>\n",
       "      <th>0</th>\n",
       "      <td>1</td>\n",
       "      <td>1</td>\n",
       "      <td>NaN</td>\n",
       "      <td>NaN</td>\n",
       "      <td>NaN</td>\n",
       "      <td>Walk in or apply by phone.</td>\n",
       "      <td>Older adults age 55 or over, ethnic minorities...</td>\n",
       "      <td>A walk-in center for older adults that provide...</td>\n",
       "      <td>Age 55 or over for most programs, age 60 or ov...</td>\n",
       "      <td>NaN</td>\n",
       "      <td>...</td>\n",
       "      <td>NaN</td>\n",
       "      <td>ADULT PROTECTION AND CARE SERVICES, Meal Sites...</td>\n",
       "      <td>NaN</td>\n",
       "      <td>Fair Oaks Adult Activity Center</td>\n",
       "      <td>NaN</td>\n",
       "      <td>Colma</td>\n",
       "      <td>active</td>\n",
       "      <td>No wait.</td>\n",
       "      <td>NaN</td>\n",
       "      <td>NaN</td>\n",
       "    </tr>\n",
       "    <tr>\n",
       "      <th>1</th>\n",
       "      <td>2</td>\n",
       "      <td>2</td>\n",
       "      <td>NaN</td>\n",
       "      <td>NaN</td>\n",
       "      <td>NaN</td>\n",
       "      <td>Apply by phone for an appointment.</td>\n",
       "      <td>Residents of San Mateo County age 55 or over</td>\n",
       "      <td>Provides training and job placement to eligibl...</td>\n",
       "      <td>Age 55 or over, county resident and willing an...</td>\n",
       "      <td>NaN</td>\n",
       "      <td>...</td>\n",
       "      <td>NaN</td>\n",
       "      <td>EMPLOYMENT/TRAINING SERVICES, Job Development,...</td>\n",
       "      <td>NaN</td>\n",
       "      <td>Second Career Employment Program</td>\n",
       "      <td>NaN</td>\n",
       "      <td>San Mateo County</td>\n",
       "      <td>active</td>\n",
       "      <td>Varies.</td>\n",
       "      <td>NaN</td>\n",
       "      <td>NaN</td>\n",
       "    </tr>\n",
       "  </tbody>\n",
       "</table>\n",
       "<p>2 rows × 22 columns</p>\n",
       "</div>"
      ],
      "text/plain": [
       "   id  location_id  program_id accepted_payments alternate_name  \\\n",
       "0   1            1         NaN               NaN            NaN   \n",
       "1   2            2         NaN               NaN            NaN   \n",
       "\n",
       "                  application_process  \\\n",
       "0          Walk in or apply by phone.   \n",
       "1  Apply by phone for an appointment.   \n",
       "\n",
       "                                            audience  \\\n",
       "0  Older adults age 55 or over, ethnic minorities...   \n",
       "1       Residents of San Mateo County age 55 or over   \n",
       "\n",
       "                                         description  \\\n",
       "0  A walk-in center for older adults that provide...   \n",
       "1  Provides training and job placement to eligibl...   \n",
       "\n",
       "                                         eligibility email  ...  \\\n",
       "0  Age 55 or over for most programs, age 60 or ov...   NaN  ...   \n",
       "1  Age 55 or over, county resident and willing an...   NaN  ...   \n",
       "\n",
       "  interpretation_services                                           keywords  \\\n",
       "0                     NaN  ADULT PROTECTION AND CARE SERVICES, Meal Sites...   \n",
       "1                     NaN  EMPLOYMENT/TRAINING SERVICES, Job Development,...   \n",
       "\n",
       "  languages                              name required_documents  \\\n",
       "0       NaN   Fair Oaks Adult Activity Center                NaN   \n",
       "1       NaN  Second Career Employment Program                NaN   \n",
       "\n",
       "      service_areas  status wait_time website taxonomy_ids  \n",
       "0             Colma  active  No wait.     NaN          NaN  \n",
       "1  San Mateo County  active   Varies.     NaN          NaN  \n",
       "\n",
       "[2 rows x 22 columns]"
      ]
     },
     "execution_count": 35,
     "metadata": {},
     "output_type": "execute_result"
    }
   ],
   "source": [
    "## list down the top 2 rows in the dataFrame\n",
    "df_q5.head(2)"
   ]
  },
  {
   "cell_type": "code",
   "execution_count": 36,
   "id": "0c86dcdf-018e-482f-989d-ae145f2e6029",
   "metadata": {},
   "outputs": [
    {
     "data": {
      "text/html": [
       "<div>\n",
       "<style scoped>\n",
       "    .dataframe tbody tr th:only-of-type {\n",
       "        vertical-align: middle;\n",
       "    }\n",
       "\n",
       "    .dataframe tbody tr th {\n",
       "        vertical-align: top;\n",
       "    }\n",
       "\n",
       "    .dataframe thead th {\n",
       "        text-align: right;\n",
       "    }\n",
       "</style>\n",
       "<table border=\"1\" class=\"dataframe\">\n",
       "  <thead>\n",
       "    <tr style=\"text-align: right;\">\n",
       "      <th></th>\n",
       "      <th>id</th>\n",
       "      <th>location_id</th>\n",
       "      <th>program_id</th>\n",
       "      <th>accepted_payments</th>\n",
       "      <th>alternate_name</th>\n",
       "      <th>application_process</th>\n",
       "      <th>audience</th>\n",
       "      <th>description</th>\n",
       "      <th>eligibility</th>\n",
       "      <th>email</th>\n",
       "      <th>...</th>\n",
       "      <th>interpretation_services</th>\n",
       "      <th>keywords</th>\n",
       "      <th>languages</th>\n",
       "      <th>name</th>\n",
       "      <th>required_documents</th>\n",
       "      <th>service_areas</th>\n",
       "      <th>status</th>\n",
       "      <th>wait_time</th>\n",
       "      <th>website</th>\n",
       "      <th>taxonomy_ids</th>\n",
       "    </tr>\n",
       "  </thead>\n",
       "  <tbody>\n",
       "    <tr>\n",
       "      <th>21</th>\n",
       "      <td>22</td>\n",
       "      <td>22</td>\n",
       "      <td>NaN</td>\n",
       "      <td>Cash, Check, Credit Card</td>\n",
       "      <td>Fotos para pasaportes</td>\n",
       "      <td>Walk in or apply by phone or mail</td>\n",
       "      <td>Profit and nonprofit businesses, the public, m...</td>\n",
       "      <td>[NOTE THIS IS NOT A REAL SERVICE--THIS IS FOR ...</td>\n",
       "      <td>None</td>\n",
       "      <td>passports@example.org</td>\n",
       "      <td>...</td>\n",
       "      <td>We offer 3-way interpretation services over th...</td>\n",
       "      <td>Salud, Medicina</td>\n",
       "      <td>Spanish</td>\n",
       "      <td>Passport Photos</td>\n",
       "      <td>Government-issued picture identification</td>\n",
       "      <td>Alameda County, San Mateo County</td>\n",
       "      <td>active</td>\n",
       "      <td>No wait to 2 weeks.</td>\n",
       "      <td>http://www.example.com</td>\n",
       "      <td>105, 108, 108-05, 108-05-01, 111, 111-05</td>\n",
       "    </tr>\n",
       "    <tr>\n",
       "      <th>22</th>\n",
       "      <td>23</td>\n",
       "      <td>22</td>\n",
       "      <td>NaN</td>\n",
       "      <td>NaN</td>\n",
       "      <td>NaN</td>\n",
       "      <td>Walk in or apply by phone or mail</td>\n",
       "      <td>Second service and nonprofit businesses, the p...</td>\n",
       "      <td>[NOTE THIS IS NOT A REAL ORGANIZATION--THIS IS...</td>\n",
       "      <td>None</td>\n",
       "      <td>NaN</td>\n",
       "      <td>...</td>\n",
       "      <td>NaN</td>\n",
       "      <td>Ruby on Rails/Postgres/Redis, testing, wic</td>\n",
       "      <td>NaN</td>\n",
       "      <td>Example Service Name</td>\n",
       "      <td>NaN</td>\n",
       "      <td>San Mateo County, Alameda County</td>\n",
       "      <td>active</td>\n",
       "      <td>No wait to 2 weeks</td>\n",
       "      <td>http://www.example.com</td>\n",
       "      <td>NaN</td>\n",
       "    </tr>\n",
       "  </tbody>\n",
       "</table>\n",
       "<p>2 rows × 22 columns</p>\n",
       "</div>"
      ],
      "text/plain": [
       "    id  location_id  program_id         accepted_payments  \\\n",
       "21  22           22         NaN  Cash, Check, Credit Card   \n",
       "22  23           22         NaN                       NaN   \n",
       "\n",
       "           alternate_name                application_process  \\\n",
       "21  Fotos para pasaportes  Walk in or apply by phone or mail   \n",
       "22                    NaN  Walk in or apply by phone or mail   \n",
       "\n",
       "                                             audience  \\\n",
       "21  Profit and nonprofit businesses, the public, m...   \n",
       "22  Second service and nonprofit businesses, the p...   \n",
       "\n",
       "                                          description eligibility  \\\n",
       "21  [NOTE THIS IS NOT A REAL SERVICE--THIS IS FOR ...        None   \n",
       "22  [NOTE THIS IS NOT A REAL ORGANIZATION--THIS IS...        None   \n",
       "\n",
       "                    email  ...  \\\n",
       "21  passports@example.org  ...   \n",
       "22                    NaN  ...   \n",
       "\n",
       "                              interpretation_services  \\\n",
       "21  We offer 3-way interpretation services over th...   \n",
       "22                                                NaN   \n",
       "\n",
       "                                      keywords languages  \\\n",
       "21                             Salud, Medicina   Spanish   \n",
       "22  Ruby on Rails/Postgres/Redis, testing, wic       NaN   \n",
       "\n",
       "                    name                        required_documents  \\\n",
       "21       Passport Photos  Government-issued picture identification   \n",
       "22  Example Service Name                                       NaN   \n",
       "\n",
       "                       service_areas  status            wait_time  \\\n",
       "21  Alameda County, San Mateo County  active  No wait to 2 weeks.   \n",
       "22  San Mateo County, Alameda County  active   No wait to 2 weeks   \n",
       "\n",
       "                   website                              taxonomy_ids  \n",
       "21  http://www.example.com  105, 108, 108-05, 108-05-01, 111, 111-05  \n",
       "22  http://www.example.com                                       NaN  \n",
       "\n",
       "[2 rows x 22 columns]"
      ]
     },
     "execution_count": 36,
     "metadata": {},
     "output_type": "execute_result"
    }
   ],
   "source": [
    "## list down the last 2 rows in the dataFrame\n",
    "df_q5.tail(2)"
   ]
  },
  {
   "cell_type": "code",
   "execution_count": 37,
   "id": "88bd146c-56fc-4636-ae16-4a902a5a8a5a",
   "metadata": {},
   "outputs": [
    {
     "data": {
      "text/html": [
       "<div>\n",
       "<style scoped>\n",
       "    .dataframe tbody tr th:only-of-type {\n",
       "        vertical-align: middle;\n",
       "    }\n",
       "\n",
       "    .dataframe tbody tr th {\n",
       "        vertical-align: top;\n",
       "    }\n",
       "\n",
       "    .dataframe thead th {\n",
       "        text-align: right;\n",
       "    }\n",
       "</style>\n",
       "<table border=\"1\" class=\"dataframe\">\n",
       "  <thead>\n",
       "    <tr style=\"text-align: right;\">\n",
       "      <th></th>\n",
       "      <th>id</th>\n",
       "      <th>location_id</th>\n",
       "      <th>program_id</th>\n",
       "    </tr>\n",
       "  </thead>\n",
       "  <tbody>\n",
       "    <tr>\n",
       "      <th>count</th>\n",
       "      <td>23.00000</td>\n",
       "      <td>23.000000</td>\n",
       "      <td>0.0</td>\n",
       "    </tr>\n",
       "    <tr>\n",
       "      <th>mean</th>\n",
       "      <td>12.00000</td>\n",
       "      <td>11.956522</td>\n",
       "      <td>NaN</td>\n",
       "    </tr>\n",
       "    <tr>\n",
       "      <th>std</th>\n",
       "      <td>6.78233</td>\n",
       "      <td>6.711444</td>\n",
       "      <td>NaN</td>\n",
       "    </tr>\n",
       "    <tr>\n",
       "      <th>min</th>\n",
       "      <td>1.00000</td>\n",
       "      <td>1.000000</td>\n",
       "      <td>NaN</td>\n",
       "    </tr>\n",
       "    <tr>\n",
       "      <th>25%</th>\n",
       "      <td>6.50000</td>\n",
       "      <td>6.500000</td>\n",
       "      <td>NaN</td>\n",
       "    </tr>\n",
       "    <tr>\n",
       "      <th>50%</th>\n",
       "      <td>12.00000</td>\n",
       "      <td>12.000000</td>\n",
       "      <td>NaN</td>\n",
       "    </tr>\n",
       "    <tr>\n",
       "      <th>75%</th>\n",
       "      <td>17.50000</td>\n",
       "      <td>17.500000</td>\n",
       "      <td>NaN</td>\n",
       "    </tr>\n",
       "    <tr>\n",
       "      <th>max</th>\n",
       "      <td>23.00000</td>\n",
       "      <td>22.000000</td>\n",
       "      <td>NaN</td>\n",
       "    </tr>\n",
       "  </tbody>\n",
       "</table>\n",
       "</div>"
      ],
      "text/plain": [
       "             id  location_id  program_id\n",
       "count  23.00000    23.000000         0.0\n",
       "mean   12.00000    11.956522         NaN\n",
       "std     6.78233     6.711444         NaN\n",
       "min     1.00000     1.000000         NaN\n",
       "25%     6.50000     6.500000         NaN\n",
       "50%    12.00000    12.000000         NaN\n",
       "75%    17.50000    17.500000         NaN\n",
       "max    23.00000    22.000000         NaN"
      ]
     },
     "execution_count": 37,
     "metadata": {},
     "output_type": "execute_result"
    }
   ],
   "source": [
    "## describe() - This function provides a summary of the statistical distribution of the data in a DataFrame.\n",
    "\n",
    "df_q5.describe()\n",
    "\n",
    "\n",
    "## it gives the statistical distribution of the Numerical columns of the dataframe.\n",
    "## like count --> count of each records for that particular column\n",
    "## mean/min/max --> mean/min/max of each records for that particular column\n",
    "## 25th,50th and 75th Percentile as well"
   ]
  },
  {
   "cell_type": "code",
   "execution_count": 38,
   "id": "bf929503-2636-484a-8e61-f4ea8c5e461a",
   "metadata": {},
   "outputs": [
    {
     "data": {
      "text/plain": [
       "Index(['id', 'location_id', 'program_id', 'accepted_payments',\n",
       "       'alternate_name', 'application_process', 'audience', 'description',\n",
       "       'eligibility', 'email', 'fees', 'funding_sources',\n",
       "       'interpretation_services', 'keywords', 'languages', 'name',\n",
       "       'required_documents', 'service_areas', 'status', 'wait_time', 'website',\n",
       "       'taxonomy_ids'],\n",
       "      dtype='object')"
      ]
     },
     "execution_count": 38,
     "metadata": {},
     "output_type": "execute_result"
    }
   ],
   "source": [
    "df_q5.columns ## to know the columns present in the dataframe"
   ]
  },
  {
   "cell_type": "code",
   "execution_count": 39,
   "id": "fab925eb-624d-474a-8342-6991a03039d5",
   "metadata": {},
   "outputs": [
    {
     "data": {
      "text/plain": [
       "id                           int64\n",
       "location_id                  int64\n",
       "program_id                 float64\n",
       "accepted_payments           object\n",
       "alternate_name              object\n",
       "application_process         object\n",
       "audience                    object\n",
       "description                 object\n",
       "eligibility                 object\n",
       "email                       object\n",
       "fees                        object\n",
       "funding_sources             object\n",
       "interpretation_services     object\n",
       "keywords                    object\n",
       "languages                   object\n",
       "name                        object\n",
       "required_documents          object\n",
       "service_areas               object\n",
       "status                      object\n",
       "wait_time                   object\n",
       "website                     object\n",
       "taxonomy_ids                object\n",
       "dtype: object"
      ]
     },
     "execution_count": 39,
     "metadata": {},
     "output_type": "execute_result"
    }
   ],
   "source": [
    "df_q5.dtypes ## to know the datatypes of the column in the dataframe"
   ]
  },
  {
   "cell_type": "code",
   "execution_count": 40,
   "id": "20ade2ca-1e60-4cd2-83f5-f93a0edf70b0",
   "metadata": {},
   "outputs": [
    {
     "data": {
      "text/html": [
       "<div>\n",
       "<style scoped>\n",
       "    .dataframe tbody tr th:only-of-type {\n",
       "        vertical-align: middle;\n",
       "    }\n",
       "\n",
       "    .dataframe tbody tr th {\n",
       "        vertical-align: top;\n",
       "    }\n",
       "\n",
       "    .dataframe thead th {\n",
       "        text-align: right;\n",
       "    }\n",
       "</style>\n",
       "<table border=\"1\" class=\"dataframe\">\n",
       "  <thead>\n",
       "    <tr style=\"text-align: right;\">\n",
       "      <th></th>\n",
       "      <th>id</th>\n",
       "      <th>location_id</th>\n",
       "    </tr>\n",
       "  </thead>\n",
       "  <tbody>\n",
       "    <tr>\n",
       "      <th>0</th>\n",
       "      <td>1</td>\n",
       "      <td>1</td>\n",
       "    </tr>\n",
       "    <tr>\n",
       "      <th>1</th>\n",
       "      <td>2</td>\n",
       "      <td>2</td>\n",
       "    </tr>\n",
       "  </tbody>\n",
       "</table>\n",
       "</div>"
      ],
      "text/plain": [
       "   id  location_id\n",
       "0   1            1\n",
       "1   2            2"
      ]
     },
     "execution_count": 40,
     "metadata": {},
     "output_type": "execute_result"
    }
   ],
   "source": [
    "df_q5[df_q5.dtypes[df_q5.dtypes == int].index].head(2) ## to check only the int column "
   ]
  },
  {
   "cell_type": "code",
   "execution_count": 41,
   "id": "97983879-98b8-4a14-9271-63103d55d701",
   "metadata": {},
   "outputs": [
    {
     "data": {
      "text/plain": [
       "['active', 'active', 'active', 'active', 'active', ..., 'active', 'defunct', 'inactive', 'active', 'active']\n",
       "Length: 23\n",
       "Categories (3, object): ['active', 'defunct', 'inactive']"
      ]
     },
     "execution_count": 41,
     "metadata": {},
     "output_type": "execute_result"
    }
   ],
   "source": [
    "pd.Categorical(df_q5['status'])\n",
    "## give the categories/unique details in the column - Status"
   ]
  },
  {
   "cell_type": "code",
   "execution_count": 42,
   "id": "5c445688-5be1-4e9a-9bf9-0257650355cc",
   "metadata": {},
   "outputs": [
    {
     "data": {
      "text/plain": [
       "<bound method Series.unique of 0     $2.50 suggested donation for lunch for age 60 ...\n",
       "1     None. Donations requested of clients who can a...\n",
       "2                                                 None.\n",
       "3     Vary according to income ($5-$90). Cash, check...\n",
       "4         $60 application fee. Cash or checks accepted.\n",
       "5     $55 per year membership dues. Classes have fee...\n",
       "6     $85 per day. Vary according to income for thos...\n",
       "7     Suggested donation of $4.25 per meal for senio...\n",
       "8                                                 None.\n",
       "9                                                 None.\n",
       "10                                                None.\n",
       "11                                                None.\n",
       "12                                                None.\n",
       "13                                                None.\n",
       "14                                                None.\n",
       "15    None for emergency services. Vary for after sc...\n",
       "16                                                None.\n",
       "17                                                None.\n",
       "18                                                None.\n",
       "19                                                  NaN\n",
       "20                                                  NaN\n",
       "21    None, except for permits and photocopying. Cas...\n",
       "22    None, except for permits and photocopying. Cas...\n",
       "Name: fees, dtype: object>"
      ]
     },
     "execution_count": 42,
     "metadata": {},
     "output_type": "execute_result"
    }
   ],
   "source": [
    "df_q5['fees'].unique\n",
    "\n",
    "# used to get the unique values from the column."
   ]
  },
  {
   "cell_type": "code",
   "execution_count": 43,
   "id": "e4730ece-8236-49e1-a10c-d59e29689477",
   "metadata": {},
   "outputs": [],
   "source": [
    "df_q5=df_q5.drop('fees',axis=1) ## to delete/drop the column from the dataframe"
   ]
  },
  {
   "cell_type": "code",
   "execution_count": 49,
   "id": "9aa33017-7b5a-4074-b2bb-3e7b5947422f",
   "metadata": {},
   "outputs": [
    {
     "ename": "KeyError",
     "evalue": "'fees'",
     "output_type": "error",
     "traceback": [
      "\u001b[0;31m---------------------------------------------------------------------------\u001b[0m",
      "\u001b[0;31mKeyError\u001b[0m                                  Traceback (most recent call last)",
      "File \u001b[0;32m/opt/conda/lib/python3.10/site-packages/pandas/core/indexes/base.py:3803\u001b[0m, in \u001b[0;36mIndex.get_loc\u001b[0;34m(self, key, method, tolerance)\u001b[0m\n\u001b[1;32m   3802\u001b[0m \u001b[38;5;28;01mtry\u001b[39;00m:\n\u001b[0;32m-> 3803\u001b[0m     \u001b[38;5;28;01mreturn\u001b[39;00m \u001b[38;5;28;43mself\u001b[39;49m\u001b[38;5;241;43m.\u001b[39;49m\u001b[43m_engine\u001b[49m\u001b[38;5;241;43m.\u001b[39;49m\u001b[43mget_loc\u001b[49m\u001b[43m(\u001b[49m\u001b[43mcasted_key\u001b[49m\u001b[43m)\u001b[49m\n\u001b[1;32m   3804\u001b[0m \u001b[38;5;28;01mexcept\u001b[39;00m \u001b[38;5;167;01mKeyError\u001b[39;00m \u001b[38;5;28;01mas\u001b[39;00m err:\n",
      "File \u001b[0;32m/opt/conda/lib/python3.10/site-packages/pandas/_libs/index.pyx:138\u001b[0m, in \u001b[0;36mpandas._libs.index.IndexEngine.get_loc\u001b[0;34m()\u001b[0m\n",
      "File \u001b[0;32m/opt/conda/lib/python3.10/site-packages/pandas/_libs/index.pyx:165\u001b[0m, in \u001b[0;36mpandas._libs.index.IndexEngine.get_loc\u001b[0;34m()\u001b[0m\n",
      "File \u001b[0;32mpandas/_libs/hashtable_class_helper.pxi:5745\u001b[0m, in \u001b[0;36mpandas._libs.hashtable.PyObjectHashTable.get_item\u001b[0;34m()\u001b[0m\n",
      "File \u001b[0;32mpandas/_libs/hashtable_class_helper.pxi:5753\u001b[0m, in \u001b[0;36mpandas._libs.hashtable.PyObjectHashTable.get_item\u001b[0;34m()\u001b[0m\n",
      "\u001b[0;31mKeyError\u001b[0m: 'fees'",
      "\nThe above exception was the direct cause of the following exception:\n",
      "\u001b[0;31mKeyError\u001b[0m                                  Traceback (most recent call last)",
      "Cell \u001b[0;32mIn[49], line 1\u001b[0m\n\u001b[0;32m----> 1\u001b[0m \u001b[43mdf_q5\u001b[49m\u001b[43m[\u001b[49m\u001b[38;5;124;43m'\u001b[39;49m\u001b[38;5;124;43mfees\u001b[39;49m\u001b[38;5;124;43m'\u001b[39;49m\u001b[43m]\u001b[49m\n",
      "File \u001b[0;32m/opt/conda/lib/python3.10/site-packages/pandas/core/frame.py:3805\u001b[0m, in \u001b[0;36mDataFrame.__getitem__\u001b[0;34m(self, key)\u001b[0m\n\u001b[1;32m   3803\u001b[0m \u001b[38;5;28;01mif\u001b[39;00m \u001b[38;5;28mself\u001b[39m\u001b[38;5;241m.\u001b[39mcolumns\u001b[38;5;241m.\u001b[39mnlevels \u001b[38;5;241m>\u001b[39m \u001b[38;5;241m1\u001b[39m:\n\u001b[1;32m   3804\u001b[0m     \u001b[38;5;28;01mreturn\u001b[39;00m \u001b[38;5;28mself\u001b[39m\u001b[38;5;241m.\u001b[39m_getitem_multilevel(key)\n\u001b[0;32m-> 3805\u001b[0m indexer \u001b[38;5;241m=\u001b[39m \u001b[38;5;28;43mself\u001b[39;49m\u001b[38;5;241;43m.\u001b[39;49m\u001b[43mcolumns\u001b[49m\u001b[38;5;241;43m.\u001b[39;49m\u001b[43mget_loc\u001b[49m\u001b[43m(\u001b[49m\u001b[43mkey\u001b[49m\u001b[43m)\u001b[49m\n\u001b[1;32m   3806\u001b[0m \u001b[38;5;28;01mif\u001b[39;00m is_integer(indexer):\n\u001b[1;32m   3807\u001b[0m     indexer \u001b[38;5;241m=\u001b[39m [indexer]\n",
      "File \u001b[0;32m/opt/conda/lib/python3.10/site-packages/pandas/core/indexes/base.py:3805\u001b[0m, in \u001b[0;36mIndex.get_loc\u001b[0;34m(self, key, method, tolerance)\u001b[0m\n\u001b[1;32m   3803\u001b[0m     \u001b[38;5;28;01mreturn\u001b[39;00m \u001b[38;5;28mself\u001b[39m\u001b[38;5;241m.\u001b[39m_engine\u001b[38;5;241m.\u001b[39mget_loc(casted_key)\n\u001b[1;32m   3804\u001b[0m \u001b[38;5;28;01mexcept\u001b[39;00m \u001b[38;5;167;01mKeyError\u001b[39;00m \u001b[38;5;28;01mas\u001b[39;00m err:\n\u001b[0;32m-> 3805\u001b[0m     \u001b[38;5;28;01mraise\u001b[39;00m \u001b[38;5;167;01mKeyError\u001b[39;00m(key) \u001b[38;5;28;01mfrom\u001b[39;00m \u001b[38;5;21;01merr\u001b[39;00m\n\u001b[1;32m   3806\u001b[0m \u001b[38;5;28;01mexcept\u001b[39;00m \u001b[38;5;167;01mTypeError\u001b[39;00m:\n\u001b[1;32m   3807\u001b[0m     \u001b[38;5;66;03m# If we have a listlike key, _check_indexing_error will raise\u001b[39;00m\n\u001b[1;32m   3808\u001b[0m     \u001b[38;5;66;03m#  InvalidIndexError. Otherwise we fall through and re-raise\u001b[39;00m\n\u001b[1;32m   3809\u001b[0m     \u001b[38;5;66;03m#  the TypeError.\u001b[39;00m\n\u001b[1;32m   3810\u001b[0m     \u001b[38;5;28mself\u001b[39m\u001b[38;5;241m.\u001b[39m_check_indexing_error(key)\n",
      "\u001b[0;31mKeyError\u001b[0m: 'fees'"
     ]
    }
   ],
   "source": [
    "df_q5['fees'] ## when we tried to check for the 'fees' column, we got an Key Error.\n",
    "## as the key column has been dropped by previous command"
   ]
  },
  {
   "cell_type": "code",
   "execution_count": 52,
   "id": "454254a9-55d9-4369-833d-deb98e8c4192",
   "metadata": {},
   "outputs": [
    {
     "data": {
      "text/html": [
       "<div>\n",
       "<style scoped>\n",
       "    .dataframe tbody tr th:only-of-type {\n",
       "        vertical-align: middle;\n",
       "    }\n",
       "\n",
       "    .dataframe tbody tr th {\n",
       "        vertical-align: top;\n",
       "    }\n",
       "\n",
       "    .dataframe thead th {\n",
       "        text-align: right;\n",
       "    }\n",
       "</style>\n",
       "<table border=\"1\" class=\"dataframe\">\n",
       "  <thead>\n",
       "    <tr style=\"text-align: right;\">\n",
       "      <th></th>\n",
       "      <th>Name</th>\n",
       "      <th>Age</th>\n",
       "      <th>Sex</th>\n",
       "    </tr>\n",
       "  </thead>\n",
       "  <tbody>\n",
       "    <tr>\n",
       "      <th>0</th>\n",
       "      <td>Virat Kohli</td>\n",
       "      <td>34</td>\n",
       "      <td>Male</td>\n",
       "    </tr>\n",
       "    <tr>\n",
       "      <th>1</th>\n",
       "      <td>Arun Kumar J</td>\n",
       "      <td>32</td>\n",
       "      <td>Male</td>\n",
       "    </tr>\n",
       "    <tr>\n",
       "      <th>2</th>\n",
       "      <td>Sachin Tendulkar</td>\n",
       "      <td>50</td>\n",
       "      <td>Male</td>\n",
       "    </tr>\n",
       "    <tr>\n",
       "      <th>3</th>\n",
       "      <td>Cristiano Ronaldo</td>\n",
       "      <td>37</td>\n",
       "      <td>Male</td>\n",
       "    </tr>\n",
       "    <tr>\n",
       "      <th>4</th>\n",
       "      <td>Smriti Mandanna</td>\n",
       "      <td>27</td>\n",
       "      <td>Female</td>\n",
       "    </tr>\n",
       "  </tbody>\n",
       "</table>\n",
       "</div>"
      ],
      "text/plain": [
       "                Name  Age     Sex\n",
       "0        Virat Kohli   34    Male\n",
       "1       Arun Kumar J   32    Male\n",
       "2   Sachin Tendulkar   50    Male\n",
       "3  Cristiano Ronaldo   37    Male\n",
       "4    Smriti Mandanna   27  Female"
      ]
     },
     "execution_count": 52,
     "metadata": {},
     "output_type": "execute_result"
    }
   ],
   "source": [
    "df_q4\n",
    "\n",
    "# lets try to calculate the mean age of the dataframe"
   ]
  },
  {
   "cell_type": "code",
   "execution_count": 54,
   "id": "1a0e856c-e047-4271-b605-ba818c53b282",
   "metadata": {},
   "outputs": [
    {
     "data": {
      "text/plain": [
       "36.0"
      ]
     },
     "execution_count": 54,
     "metadata": {},
     "output_type": "execute_result"
    }
   ],
   "source": [
    "df_q4['Age'].mean()  ## mathematical function used to check mean/average age of the group."
   ]
  },
  {
   "cell_type": "markdown",
   "id": "135ba44c-6788-4413-8345-4516f0b56358",
   "metadata": {},
   "source": [
    "---------------------"
   ]
  },
  {
   "cell_type": "markdown",
   "id": "f5d3d1f3-49ac-4e18-93f9-183a371ee939",
   "metadata": {},
   "source": [
    "#### Q6. Which of the following is mutable in nature Series, DataFrame, Panel?"
   ]
  },
  {
   "cell_type": "markdown",
   "id": "f8f25546-21c8-40ba-a6ae-8e46c2376557",
   "metadata": {},
   "source": [
    "|Data Structure\t| Mutability |\n",
    "|---|---|\n",
    "|Series\t| Mutable|\n",
    "|DataFrame |\tMutable |\n",
    "|Panel | \tNot Mutable |"
   ]
  },
  {
   "cell_type": "markdown",
   "id": "eb11937c-74cc-4ffd-a35c-4433a57a65e4",
   "metadata": {},
   "source": [
    "*SERIES*"
   ]
  },
  {
   "cell_type": "code",
   "execution_count": 59,
   "id": "81a6db91-bf5c-4d15-adcc-b3443e5d3ac4",
   "metadata": {},
   "outputs": [
    {
     "data": {
      "text/plain": [
       "0    10\n",
       "1     2\n",
       "dtype: int64"
      ]
     },
     "execution_count": 59,
     "metadata": {},
     "output_type": "execute_result"
    }
   ],
   "source": [
    "# sample list data_6_s\n",
    "\n",
    "data_6_s = [10,2]\n",
    "\n",
    "## creating a series from a list\n",
    "\n",
    "s1 = pd.Series(data_6_s)\n",
    "s1 ## now s1 series has data 10,2"
   ]
  },
  {
   "cell_type": "code",
   "execution_count": 61,
   "id": "2d1be759-933c-4978-b4b3-980fe8628727",
   "metadata": {},
   "outputs": [
    {
     "data": {
      "text/plain": [
       "0    Arun Kumar J\n",
       "1               2\n",
       "dtype: object"
      ]
     },
     "execution_count": 61,
     "metadata": {},
     "output_type": "execute_result"
    }
   ],
   "source": [
    "## Let's try to replace the 0th Element of the Series with my Name.\n",
    "\n",
    "## i.e 10 needs to be replaced by 'Arun Kumar j'\n",
    "\n",
    "s1[0] = 'Arun Kumar J'\n",
    "s1\n",
    "\n",
    "# we can clearly see that the Series data has been mutatated."
   ]
  },
  {
   "cell_type": "code",
   "execution_count": null,
   "id": "0a8e194d-e9fd-483a-8cc9-3745f618c490",
   "metadata": {},
   "outputs": [],
   "source": []
  },
  {
   "cell_type": "markdown",
   "id": "2c6fe841-1ac6-4925-a62a-7e23a69f39f4",
   "metadata": {},
   "source": [
    "*DATAFRAME*"
   ]
  },
  {
   "cell_type": "code",
   "execution_count": 62,
   "id": "e22c8172-0d0f-4b87-83f6-a52d7d19ea5c",
   "metadata": {},
   "outputs": [
    {
     "data": {
      "text/plain": [
       "{'Name': ['Arun', 'Virat', 'Sachin'], 'Age': [32, 34, 50]}"
      ]
     },
     "execution_count": 62,
     "metadata": {},
     "output_type": "execute_result"
    }
   ],
   "source": [
    "data_6 = {\n",
    "'Name' : [\"Arun\",\"Virat\",\"Sachin\"],\n",
    "'Age' : [32,34,50]\n",
    "}\n",
    "data_6\n",
    "\n",
    "## Dictonary data_6"
   ]
  },
  {
   "cell_type": "code",
   "execution_count": 63,
   "id": "72b7a1f4-f6c3-441f-8e3e-21f39c71160a",
   "metadata": {},
   "outputs": [
    {
     "data": {
      "text/html": [
       "<div>\n",
       "<style scoped>\n",
       "    .dataframe tbody tr th:only-of-type {\n",
       "        vertical-align: middle;\n",
       "    }\n",
       "\n",
       "    .dataframe tbody tr th {\n",
       "        vertical-align: top;\n",
       "    }\n",
       "\n",
       "    .dataframe thead th {\n",
       "        text-align: right;\n",
       "    }\n",
       "</style>\n",
       "<table border=\"1\" class=\"dataframe\">\n",
       "  <thead>\n",
       "    <tr style=\"text-align: right;\">\n",
       "      <th></th>\n",
       "      <th>Name</th>\n",
       "      <th>Age</th>\n",
       "    </tr>\n",
       "  </thead>\n",
       "  <tbody>\n",
       "    <tr>\n",
       "      <th>0</th>\n",
       "      <td>Arun</td>\n",
       "      <td>32</td>\n",
       "    </tr>\n",
       "    <tr>\n",
       "      <th>1</th>\n",
       "      <td>Virat</td>\n",
       "      <td>34</td>\n",
       "    </tr>\n",
       "    <tr>\n",
       "      <th>2</th>\n",
       "      <td>Sachin</td>\n",
       "      <td>50</td>\n",
       "    </tr>\n",
       "  </tbody>\n",
       "</table>\n",
       "</div>"
      ],
      "text/plain": [
       "     Name  Age\n",
       "0    Arun   32\n",
       "1   Virat   34\n",
       "2  Sachin   50"
      ]
     },
     "execution_count": 63,
     "metadata": {},
     "output_type": "execute_result"
    }
   ],
   "source": [
    "## creating a dataframe from dictinary \n",
    "\n",
    "df_q6 = pd.DataFrame(data_6)\n",
    "df_q6"
   ]
  },
  {
   "cell_type": "code",
   "execution_count": 64,
   "id": "fa214101-4d02-4d0e-a10d-2799e1800b63",
   "metadata": {},
   "outputs": [
    {
     "data": {
      "text/html": [
       "<div>\n",
       "<style scoped>\n",
       "    .dataframe tbody tr th:only-of-type {\n",
       "        vertical-align: middle;\n",
       "    }\n",
       "\n",
       "    .dataframe tbody tr th {\n",
       "        vertical-align: top;\n",
       "    }\n",
       "\n",
       "    .dataframe thead th {\n",
       "        text-align: right;\n",
       "    }\n",
       "</style>\n",
       "<table border=\"1\" class=\"dataframe\">\n",
       "  <thead>\n",
       "    <tr style=\"text-align: right;\">\n",
       "      <th></th>\n",
       "      <th>Name</th>\n",
       "      <th>Age</th>\n",
       "      <th>Team</th>\n",
       "    </tr>\n",
       "  </thead>\n",
       "  <tbody>\n",
       "    <tr>\n",
       "      <th>0</th>\n",
       "      <td>Arun</td>\n",
       "      <td>32</td>\n",
       "      <td>RCB</td>\n",
       "    </tr>\n",
       "    <tr>\n",
       "      <th>1</th>\n",
       "      <td>Virat</td>\n",
       "      <td>34</td>\n",
       "      <td>RCB</td>\n",
       "    </tr>\n",
       "    <tr>\n",
       "      <th>2</th>\n",
       "      <td>Sachin</td>\n",
       "      <td>50</td>\n",
       "      <td>MI</td>\n",
       "    </tr>\n",
       "  </tbody>\n",
       "</table>\n",
       "</div>"
      ],
      "text/plain": [
       "     Name  Age Team\n",
       "0    Arun   32  RCB\n",
       "1   Virat   34  RCB\n",
       "2  Sachin   50   MI"
      ]
     },
     "execution_count": 64,
     "metadata": {},
     "output_type": "execute_result"
    }
   ],
   "source": [
    "## Now lets try to add a new column called Team to the dataframe\n",
    "df_q6['Team'] = ['RCB','RCB','MI']\n",
    "df_q6\n",
    "\n",
    "# so we can see that we are able to add a new column called Team with the values of our choices to the Dataframe."
   ]
  },
  {
   "cell_type": "code",
   "execution_count": 65,
   "id": "21ee86f5-8829-4212-8dd1-8cf708bc0577",
   "metadata": {},
   "outputs": [
    {
     "data": {
      "text/html": [
       "<div>\n",
       "<style scoped>\n",
       "    .dataframe tbody tr th:only-of-type {\n",
       "        vertical-align: middle;\n",
       "    }\n",
       "\n",
       "    .dataframe tbody tr th {\n",
       "        vertical-align: top;\n",
       "    }\n",
       "\n",
       "    .dataframe thead th {\n",
       "        text-align: right;\n",
       "    }\n",
       "</style>\n",
       "<table border=\"1\" class=\"dataframe\">\n",
       "  <thead>\n",
       "    <tr style=\"text-align: right;\">\n",
       "      <th></th>\n",
       "      <th>Name</th>\n",
       "      <th>Age</th>\n",
       "      <th>Team</th>\n",
       "    </tr>\n",
       "  </thead>\n",
       "  <tbody>\n",
       "    <tr>\n",
       "      <th>0</th>\n",
       "      <td>Arun</td>\n",
       "      <td>32</td>\n",
       "      <td>INDIA</td>\n",
       "    </tr>\n",
       "    <tr>\n",
       "      <th>1</th>\n",
       "      <td>Virat</td>\n",
       "      <td>34</td>\n",
       "      <td>INDIA</td>\n",
       "    </tr>\n",
       "    <tr>\n",
       "      <th>2</th>\n",
       "      <td>Sachin</td>\n",
       "      <td>50</td>\n",
       "      <td>INDIA</td>\n",
       "    </tr>\n",
       "  </tbody>\n",
       "</table>\n",
       "</div>"
      ],
      "text/plain": [
       "     Name  Age   Team\n",
       "0    Arun   32  INDIA\n",
       "1   Virat   34  INDIA\n",
       "2  Sachin   50  INDIA"
      ]
     },
     "execution_count": 65,
     "metadata": {},
     "output_type": "execute_result"
    }
   ],
   "source": [
    "df_q6['Team'] = ['INDIA','INDIA','INDIA']\n",
    "df_q6\n",
    "## now we tried to change the team names to \"INDIA', and we were successfully able to chnage the data.\n",
    "\n",
    "## Hence DATAFRAMES are mutable objects - Value mutatable and size mutable as well. \n",
    "## cause initially we were able to create dataframe with 2 columns, and then added a new column called Team.\n",
    "## then we were also able to change the value of the column Team as well.\n",
    "\n",
    "## DataFrames are mutable."
   ]
  },
  {
   "cell_type": "markdown",
   "id": "6f67ba31-fd80-49bb-8bef-36d25129758e",
   "metadata": {},
   "source": [
    "*PANEL*"
   ]
  },
  {
   "cell_type": "markdown",
   "id": "e5c53744-f778-4e13-a2e9-278eac4f2687",
   "metadata": {},
   "source": [
    "1. Panel is a three-dimensional labeled array that can hold any data type. \n",
    "2. It is not mutable, meaning that the values in a Panel cannot be changed after it has been created."
   ]
  },
  {
   "cell_type": "markdown",
   "id": "e65a36ee-77d6-42a3-8183-0b107df81c7d",
   "metadata": {},
   "source": [
    "---------------------"
   ]
  },
  {
   "cell_type": "markdown",
   "id": "07285eb0-9ebb-4ea0-ad0f-110d5777f244",
   "metadata": {},
   "source": [
    "#### Q7. Create a DataFrame using multiple Series. Explain with an example."
   ]
  },
  {
   "cell_type": "code",
   "execution_count": 66,
   "id": "d300913f-00e3-4781-a2b9-432de46b7807",
   "metadata": {},
   "outputs": [],
   "source": [
    "series_2_name = pd.Series(['Arun','Virat','Sudhanshu','KrishNaik','Deepika','Angelina','Katrina','Sachin','ABD','XYZ'])\n",
    "series_3_age = pd.Series([32,34,32,33,34,45,34,50,33])\n",
    "series_4_married = pd.Series(['no','yes','yes','yes','yes','yes','yes','yes','yes'])\n",
    "\n",
    "# We have above 3 individual series --> name , age and married\n",
    "# lets try to bring this all 3 series into a single table like structure - DataFrame"
   ]
  },
  {
   "cell_type": "code",
   "execution_count": 67,
   "id": "455c99b4-4f47-40f4-b11f-71540c8278b7",
   "metadata": {},
   "outputs": [
    {
     "data": {
      "text/html": [
       "<div>\n",
       "<style scoped>\n",
       "    .dataframe tbody tr th:only-of-type {\n",
       "        vertical-align: middle;\n",
       "    }\n",
       "\n",
       "    .dataframe tbody tr th {\n",
       "        vertical-align: top;\n",
       "    }\n",
       "\n",
       "    .dataframe thead th {\n",
       "        text-align: right;\n",
       "    }\n",
       "</style>\n",
       "<table border=\"1\" class=\"dataframe\">\n",
       "  <thead>\n",
       "    <tr style=\"text-align: right;\">\n",
       "      <th></th>\n",
       "      <th>0</th>\n",
       "      <th>1</th>\n",
       "      <th>2</th>\n",
       "      <th>3</th>\n",
       "      <th>4</th>\n",
       "      <th>5</th>\n",
       "      <th>6</th>\n",
       "      <th>7</th>\n",
       "      <th>8</th>\n",
       "      <th>9</th>\n",
       "    </tr>\n",
       "  </thead>\n",
       "  <tbody>\n",
       "    <tr>\n",
       "      <th>Name</th>\n",
       "      <td>Arun</td>\n",
       "      <td>Virat</td>\n",
       "      <td>Sudhanshu</td>\n",
       "      <td>KrishNaik</td>\n",
       "      <td>Deepika</td>\n",
       "      <td>Angelina</td>\n",
       "      <td>Katrina</td>\n",
       "      <td>Sachin</td>\n",
       "      <td>ABD</td>\n",
       "      <td>XYZ</td>\n",
       "    </tr>\n",
       "    <tr>\n",
       "      <th>Age</th>\n",
       "      <td>32.0</td>\n",
       "      <td>34.0</td>\n",
       "      <td>32.0</td>\n",
       "      <td>33.0</td>\n",
       "      <td>34.0</td>\n",
       "      <td>45.0</td>\n",
       "      <td>34.0</td>\n",
       "      <td>50.0</td>\n",
       "      <td>33.0</td>\n",
       "      <td>NaN</td>\n",
       "    </tr>\n",
       "    <tr>\n",
       "      <th>Married?</th>\n",
       "      <td>no</td>\n",
       "      <td>yes</td>\n",
       "      <td>yes</td>\n",
       "      <td>yes</td>\n",
       "      <td>yes</td>\n",
       "      <td>yes</td>\n",
       "      <td>yes</td>\n",
       "      <td>yes</td>\n",
       "      <td>yes</td>\n",
       "      <td>NaN</td>\n",
       "    </tr>\n",
       "  </tbody>\n",
       "</table>\n",
       "</div>"
      ],
      "text/plain": [
       "             0      1          2          3        4         5        6  \\\n",
       "Name      Arun  Virat  Sudhanshu  KrishNaik  Deepika  Angelina  Katrina   \n",
       "Age       32.0   34.0       32.0       33.0     34.0      45.0     34.0   \n",
       "Married?    no    yes        yes        yes      yes       yes      yes   \n",
       "\n",
       "               7     8    9  \n",
       "Name      Sachin   ABD  XYZ  \n",
       "Age         50.0  33.0  NaN  \n",
       "Married?     yes   yes  NaN  "
      ]
     },
     "execution_count": 67,
     "metadata": {},
     "output_type": "execute_result"
    }
   ],
   "source": [
    "df_q7 = pd.DataFrame([series_2_name,series_3_age,series_4_married],index=['Name','Age','Married?'])\n",
    "df_q7\n",
    "\n",
    "## we are passing the 3 series as an input in the form of list\n",
    "## and we are explicitly giving the row index\n",
    "\n",
    "## also to note that, the length of the series_2_name - 10, series - series_3_age & series_4_married  - 9.\n",
    "## so for the values thats not present, it will automatically assign Nan value. \n",
    "## a missing value is denoted by NaN"
   ]
  },
  {
   "cell_type": "code",
   "execution_count": 68,
   "id": "80afb15d-02bb-4f03-b2f8-238ec58910ae",
   "metadata": {},
   "outputs": [
    {
     "data": {
      "text/plain": [
       "pandas.core.frame.DataFrame"
      ]
     },
     "execution_count": 68,
     "metadata": {},
     "output_type": "execute_result"
    }
   ],
   "source": [
    "type(df_q7)"
   ]
  },
  {
   "cell_type": "code",
   "execution_count": 70,
   "id": "ab85520e-2c6e-444e-b355-3905a2bd4a81",
   "metadata": {},
   "outputs": [
    {
     "data": {
      "text/html": [
       "<div>\n",
       "<style scoped>\n",
       "    .dataframe tbody tr th:only-of-type {\n",
       "        vertical-align: middle;\n",
       "    }\n",
       "\n",
       "    .dataframe tbody tr th {\n",
       "        vertical-align: top;\n",
       "    }\n",
       "\n",
       "    .dataframe thead th {\n",
       "        text-align: right;\n",
       "    }\n",
       "</style>\n",
       "<table border=\"1\" class=\"dataframe\">\n",
       "  <thead>\n",
       "    <tr style=\"text-align: right;\">\n",
       "      <th></th>\n",
       "      <th>Name</th>\n",
       "      <th>Age</th>\n",
       "      <th>Married?</th>\n",
       "    </tr>\n",
       "  </thead>\n",
       "  <tbody>\n",
       "    <tr>\n",
       "      <th>0</th>\n",
       "      <td>Arun</td>\n",
       "      <td>32.0</td>\n",
       "      <td>no</td>\n",
       "    </tr>\n",
       "    <tr>\n",
       "      <th>1</th>\n",
       "      <td>Virat</td>\n",
       "      <td>34.0</td>\n",
       "      <td>yes</td>\n",
       "    </tr>\n",
       "    <tr>\n",
       "      <th>2</th>\n",
       "      <td>Sudhanshu</td>\n",
       "      <td>32.0</td>\n",
       "      <td>yes</td>\n",
       "    </tr>\n",
       "    <tr>\n",
       "      <th>3</th>\n",
       "      <td>KrishNaik</td>\n",
       "      <td>33.0</td>\n",
       "      <td>yes</td>\n",
       "    </tr>\n",
       "    <tr>\n",
       "      <th>4</th>\n",
       "      <td>Deepika</td>\n",
       "      <td>34.0</td>\n",
       "      <td>yes</td>\n",
       "    </tr>\n",
       "    <tr>\n",
       "      <th>5</th>\n",
       "      <td>Angelina</td>\n",
       "      <td>45.0</td>\n",
       "      <td>yes</td>\n",
       "    </tr>\n",
       "    <tr>\n",
       "      <th>6</th>\n",
       "      <td>Katrina</td>\n",
       "      <td>34.0</td>\n",
       "      <td>yes</td>\n",
       "    </tr>\n",
       "    <tr>\n",
       "      <th>7</th>\n",
       "      <td>Sachin</td>\n",
       "      <td>50.0</td>\n",
       "      <td>yes</td>\n",
       "    </tr>\n",
       "    <tr>\n",
       "      <th>8</th>\n",
       "      <td>ABD</td>\n",
       "      <td>33.0</td>\n",
       "      <td>yes</td>\n",
       "    </tr>\n",
       "    <tr>\n",
       "      <th>9</th>\n",
       "      <td>XYZ</td>\n",
       "      <td>NaN</td>\n",
       "      <td>NaN</td>\n",
       "    </tr>\n",
       "  </tbody>\n",
       "</table>\n",
       "</div>"
      ],
      "text/plain": [
       "        Name   Age Married?\n",
       "0       Arun  32.0       no\n",
       "1      Virat  34.0      yes\n",
       "2  Sudhanshu  32.0      yes\n",
       "3  KrishNaik  33.0      yes\n",
       "4    Deepika  34.0      yes\n",
       "5   Angelina  45.0      yes\n",
       "6    Katrina  34.0      yes\n",
       "7     Sachin  50.0      yes\n",
       "8        ABD  33.0      yes\n",
       "9        XYZ   NaN      NaN"
      ]
     },
     "execution_count": 70,
     "metadata": {},
     "output_type": "execute_result"
    }
   ],
   "source": [
    "df_q7.T\n",
    "\n",
    "## .T --> transpose() - a function used to change the data 180 degress. i.e from vertical view to horizontal view."
   ]
  },
  {
   "cell_type": "markdown",
   "id": "0f6a4666-a04a-4d48-91e0-dd4e6a5b9534",
   "metadata": {},
   "source": [
    "--------------------"
   ]
  }
 ],
 "metadata": {
  "kernelspec": {
   "display_name": "Python 3 (ipykernel)",
   "language": "python",
   "name": "python3"
  },
  "language_info": {
   "codemirror_mode": {
    "name": "ipython",
    "version": 3
   },
   "file_extension": ".py",
   "mimetype": "text/x-python",
   "name": "python",
   "nbconvert_exporter": "python",
   "pygments_lexer": "ipython3",
   "version": "3.10.8"
  }
 },
 "nbformat": 4,
 "nbformat_minor": 5
}
