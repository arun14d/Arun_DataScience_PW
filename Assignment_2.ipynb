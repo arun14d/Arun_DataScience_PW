{
 "cells": [
  {
   "cell_type": "markdown",
   "id": "ce14db7e-6e10-4605-8ab0-1ab8af1c4bbb",
   "metadata": {},
   "source": [
    "### ASSIGNMENT - 2"
   ]
  },
  {
   "cell_type": "markdown",
   "id": "bc04a9fd-dccd-471b-a4b5-0285975f0b04",
   "metadata": {},
   "source": [
    "###### Q1. How do you comment code in Python? What are the different types of comments?"
   ]
  },
  {
   "cell_type": "markdown",
   "id": "f6350035-17df-4c5f-b15b-b76ffbb04f52",
   "metadata": {},
   "source": [
    "Answer :  In Python, we use # - it's a single line comment. or simply use 3 single/double quotes at the starting and ending of the comment line. Please see the below examples"
   ]
  },
  {
   "cell_type": "code",
   "execution_count": 1,
   "id": "36c6bfc7-2397-41d3-8c25-52c791146b5b",
   "metadata": {},
   "outputs": [],
   "source": [
    "# My name is Arun. And i am from Bangalore.       --> # Single line comment"
   ]
  },
  {
   "cell_type": "code",
   "execution_count": 2,
   "id": "cc605092-8936-422b-84b5-18733bb124a8",
   "metadata": {},
   "outputs": [],
   "source": [
    "# My name is Arun. \n",
    "# And I am from Bangalore.\n",
    "\n",
    "## this can be done by selecting entire data in the cell, and pressing Ctrl + Forward slash"
   ]
  },
  {
   "cell_type": "code",
   "execution_count": 3,
   "id": "2f0733b2-4d22-4e95-8e51-cba1c6c36f5b",
   "metadata": {},
   "outputs": [
    {
     "data": {
      "text/plain": [
       "'Multi line comment example is below.\\nMy name is Arun. \\nAnd I am from Bangalore.\\nI have used 3 single quotes in this example'"
      ]
     },
     "execution_count": 3,
     "metadata": {},
     "output_type": "execute_result"
    }
   ],
   "source": [
    "'''Multi line comment example is below.\n",
    "My name is Arun. \n",
    "And I am from Bangalore.\n",
    "I have used 3 single quotes in this example'''"
   ]
  },
  {
   "cell_type": "code",
   "execution_count": 5,
   "id": "b99a68cf-5a69-4133-a30f-04a3ad3ee99b",
   "metadata": {},
   "outputs": [
    {
     "data": {
      "text/plain": [
       "'Multi line comment example is below.\\nMy name is Arun. \\nAnd I am from Bangalore.\\nI have used 3 Double quotes in this example'"
      ]
     },
     "execution_count": 5,
     "metadata": {},
     "output_type": "execute_result"
    }
   ],
   "source": [
    "\"\"\"Multi line comment example is below.\n",
    "My name is Arun. \n",
    "And I am from Bangalore.\n",
    "I have used 3 Double quotes in this example\"\"\""
   ]
  },
  {
   "cell_type": "markdown",
   "id": "57a22d9a-3ac1-44bc-bfee-19c30fb20fc1",
   "metadata": {},
   "source": [
    "##### Q2. What are variables in Python? How do you declare and assign values to variables?"
   ]
  },
  {
   "cell_type": "markdown",
   "id": "9fdbc81b-7b09-4fcb-b789-59c16920e1fc",
   "metadata": {},
   "source": [
    "Answer :  A Variable is string of characters/numbers that can hold information.\n",
    "          = operator is used to assign values to the variable.\n",
    "        \n",
    "        There are certain rules for declaring a variable.\n",
    "            1. A variable cant start with special character.\n",
    "            2. A variable cant start with numbers.\n",
    "            3. A variable can start with _ or alphabets as first letter of variable.\n",
    "            4. A variable can have alpha numerical characters after the 1st letter.\n",
    "            \n",
    "            Ex :- arun = 10 \n",
    "                  _arun = 20 \n",
    "                  arun_09 = 122\n",
    "                    arun09_09 = 102 are all valid variable examples."
   ]
  },
  {
   "cell_type": "code",
   "execution_count": 6,
   "id": "bda85115-f152-4145-920b-743a1fc8dc9d",
   "metadata": {},
   "outputs": [
    {
     "data": {
      "text/plain": [
       "10"
      ]
     },
     "execution_count": 6,
     "metadata": {},
     "output_type": "execute_result"
    }
   ],
   "source": [
    "# examples of valid variables\n",
    "\n",
    "arun = 10\n",
    "arun"
   ]
  },
  {
   "cell_type": "code",
   "execution_count": 7,
   "id": "0a50343e-68b3-4399-bdde-1314c447ed41",
   "metadata": {},
   "outputs": [
    {
     "data": {
      "text/plain": [
       "20"
      ]
     },
     "execution_count": 7,
     "metadata": {},
     "output_type": "execute_result"
    }
   ],
   "source": [
    "_arun = 20 \n",
    "_arun "
   ]
  },
  {
   "cell_type": "code",
   "execution_count": 8,
   "id": "df61b43f-b7be-4487-b610-a55bec55e716",
   "metadata": {},
   "outputs": [
    {
     "data": {
      "text/plain": [
       "122"
      ]
     },
     "execution_count": 8,
     "metadata": {},
     "output_type": "execute_result"
    }
   ],
   "source": [
    "arun_09 = 122\n",
    "arun_09"
   ]
  },
  {
   "cell_type": "code",
   "execution_count": 9,
   "id": "e41e914a-8481-4bc6-a4f0-38d788e8b987",
   "metadata": {},
   "outputs": [
    {
     "data": {
      "text/plain": [
       "102"
      ]
     },
     "execution_count": 9,
     "metadata": {},
     "output_type": "execute_result"
    }
   ],
   "source": [
    "arun09_09 = 102\n",
    "arun09_09"
   ]
  },
  {
   "cell_type": "code",
   "execution_count": 10,
   "id": "72b40e47-e000-4099-95c1-49566080782d",
   "metadata": {},
   "outputs": [
    {
     "ename": "SyntaxError",
     "evalue": "invalid syntax (4112747206.py, line 3)",
     "output_type": "error",
     "traceback": [
      "\u001b[0;36m  Cell \u001b[0;32mIn[10], line 3\u001b[0;36m\u001b[0m\n\u001b[0;31m    $arun=1\u001b[0m\n\u001b[0m    ^\u001b[0m\n\u001b[0;31mSyntaxError\u001b[0m\u001b[0;31m:\u001b[0m invalid syntax\n"
     ]
    }
   ],
   "source": [
    "#Examples of Invalid variables\n",
    "\n",
    "$arun=1\n"
   ]
  },
  {
   "cell_type": "code",
   "execution_count": 11,
   "id": "519a95f9-9af6-4b45-894c-76525aa0939e",
   "metadata": {},
   "outputs": [
    {
     "ename": "SyntaxError",
     "evalue": "invalid decimal literal (831574521.py, line 1)",
     "output_type": "error",
     "traceback": [
      "\u001b[0;36m  Cell \u001b[0;32mIn[11], line 1\u001b[0;36m\u001b[0m\n\u001b[0;31m    99_arun  = \"Arun\"\u001b[0m\n\u001b[0m      ^\u001b[0m\n\u001b[0;31mSyntaxError\u001b[0m\u001b[0;31m:\u001b[0m invalid decimal literal\n"
     ]
    }
   ],
   "source": [
    "99_arun  = \"Arun\""
   ]
  },
  {
   "cell_type": "code",
   "execution_count": 12,
   "id": "12810373-907d-4403-a903-60464ab51db9",
   "metadata": {},
   "outputs": [
    {
     "ename": "SyntaxError",
     "evalue": "unmatched ')' (1501403333.py, line 1)",
     "output_type": "error",
     "traceback": [
      "\u001b[0;36m  Cell \u001b[0;32mIn[12], line 1\u001b[0;36m\u001b[0m\n\u001b[0;31m    )_arun = \"222\"\u001b[0m\n\u001b[0m    ^\u001b[0m\n\u001b[0;31mSyntaxError\u001b[0m\u001b[0;31m:\u001b[0m unmatched ')'\n"
     ]
    }
   ],
   "source": [
    ")_arun = \"222\"\n"
   ]
  },
  {
   "cell_type": "markdown",
   "id": "a623e7b0-e82b-4e92-aeed-1620f605a086",
   "metadata": {},
   "source": [
    "#### Q3. How do you convert one data type to another in Python?"
   ]
  },
  {
   "cell_type": "code",
   "execution_count": 13,
   "id": "3b9a4d86-8eac-464a-8f21-637c66ee6340",
   "metadata": {},
   "outputs": [
    {
     "data": {
      "text/plain": [
       "str"
      ]
     },
     "execution_count": 13,
     "metadata": {},
     "output_type": "execute_result"
    }
   ],
   "source": [
    "# Example 1\n",
    "\n",
    "a = \"123\"  # here we are storing a as an String, as we see its enclosed in a double quotes.\n",
    "type(a)"
   ]
  },
  {
   "cell_type": "code",
   "execution_count": 14,
   "id": "e2beb548-d497-4a87-b48e-46623d8c7089",
   "metadata": {},
   "outputs": [
    {
     "data": {
      "text/plain": [
       "int"
      ]
     },
     "execution_count": 14,
     "metadata": {},
     "output_type": "execute_result"
    }
   ],
   "source": [
    "a=int(a)  ## here we try to perform type casting. we converted the string variable \"a\" to integer using int(a)\n",
    "type(a)"
   ]
  },
  {
   "cell_type": "code",
   "execution_count": 15,
   "id": "ecc9a4ac-762c-4e8d-9394-90c3f8316fb6",
   "metadata": {},
   "outputs": [
    {
     "data": {
      "text/plain": [
       "int"
      ]
     },
     "execution_count": 15,
     "metadata": {},
     "output_type": "execute_result"
    }
   ],
   "source": [
    "b=123\n",
    "type(b) ## now we see that b is integer, to convert it to a string"
   ]
  },
  {
   "cell_type": "code",
   "execution_count": 16,
   "id": "9b64c5a6-940e-4be6-b489-b593f366619f",
   "metadata": {},
   "outputs": [
    {
     "data": {
      "text/plain": [
       "str"
      ]
     },
     "execution_count": 16,
     "metadata": {},
     "output_type": "execute_result"
    }
   ],
   "source": [
    "type(str(b)) ## we changed the data type from int to str"
   ]
  },
  {
   "cell_type": "code",
   "execution_count": 17,
   "id": "1a5142ac-cd9d-4f89-bb98-83b710e14bd2",
   "metadata": {},
   "outputs": [
    {
     "data": {
      "text/plain": [
       "bool"
      ]
     },
     "execution_count": 17,
     "metadata": {},
     "output_type": "execute_result"
    }
   ],
   "source": [
    "c= True\n",
    "type(c) ## the datatype is Boolean,"
   ]
  },
  {
   "cell_type": "code",
   "execution_count": 18,
   "id": "325fb21f-af9d-46e2-9efb-2a1a2437a817",
   "metadata": {},
   "outputs": [
    {
     "data": {
      "text/plain": [
       "str"
      ]
     },
     "execution_count": 18,
     "metadata": {},
     "output_type": "execute_result"
    }
   ],
   "source": [
    "type(str(c)) ## converted the data type from boolean to str"
   ]
  },
  {
   "cell_type": "code",
   "execution_count": 19,
   "id": "1458c766-60c5-4fd5-b223-29f875d155be",
   "metadata": {},
   "outputs": [
    {
     "data": {
      "text/plain": [
       "str"
      ]
     },
     "execution_count": 19,
     "metadata": {},
     "output_type": "execute_result"
    }
   ],
   "source": [
    "d=\"False\"\n",
    "type(d)  ## the data type is String."
   ]
  },
  {
   "cell_type": "code",
   "execution_count": 20,
   "id": "ec7e9ab9-f0fc-4d7b-baa0-a73d2f0a9959",
   "metadata": {},
   "outputs": [
    {
     "data": {
      "text/plain": [
       "bool"
      ]
     },
     "execution_count": 20,
     "metadata": {},
     "output_type": "execute_result"
    }
   ],
   "source": [
    "type(bool(d))  ## converted the data type from str to boolean"
   ]
  },
  {
   "cell_type": "markdown",
   "id": "41110f17-8c2d-443e-a20e-2ca3aeb47a22",
   "metadata": {},
   "source": [
    "#### Q4. How do you write and execute a Python script from the command line?"
   ]
  },
  {
   "cell_type": "markdown",
   "id": "63c77461-deb4-4af3-b5d6-5861720b6b4a",
   "metadata": {},
   "source": [
    "1. lets say, the python file name is saved as arun.py\n",
    "2. then in the console we need to type the below code to execute it.\n",
    "        $ python arun.py"
   ]
  },
  {
   "cell_type": "markdown",
   "id": "5d7f9bdc-6c12-40eb-ad1b-887335599e69",
   "metadata": {},
   "source": [
    "##### Q5. Given a list my_list = [1, 2, 3, 4, 5], write the code to slice the list and obtain the sub-list [2, 3]."
   ]
  },
  {
   "cell_type": "code",
   "execution_count": 21,
   "id": "ce98f65f-937d-4606-b543-79c0e0013948",
   "metadata": {},
   "outputs": [],
   "source": [
    "my_list = [1, 2, 3, 4, 5]"
   ]
  },
  {
   "cell_type": "code",
   "execution_count": 22,
   "id": "38f8dd85-f313-4a0d-85a2-62d190a678d1",
   "metadata": {},
   "outputs": [
    {
     "data": {
      "text/plain": [
       "[2, 3]"
      ]
     },
     "execution_count": 22,
     "metadata": {},
     "output_type": "execute_result"
    }
   ],
   "source": [
    "# Method 1\n",
    "l1=[]\n",
    "for i in my_list:\n",
    "    if i==2 or i==3:\n",
    "        l1.append(i)\n",
    "l1"
   ]
  },
  {
   "cell_type": "code",
   "execution_count": 23,
   "id": "5adfe355-a646-403b-bde4-dba2d5b60d03",
   "metadata": {},
   "outputs": [
    {
     "data": {
      "text/plain": [
       "[2, 3]"
      ]
     },
     "execution_count": 23,
     "metadata": {},
     "output_type": "execute_result"
    }
   ],
   "source": [
    "# Method 2\n",
    "\n",
    "my_list[1:3:]"
   ]
  },
  {
   "cell_type": "markdown",
   "id": "7487c333-3216-4349-bb9e-2a9cc5394c4d",
   "metadata": {},
   "source": [
    "##### Q6. What is a complex number in mathematics, and how is it represented in Python? "
   ]
  },
  {
   "cell_type": "markdown",
   "id": "65e3df40-ccfe-454f-aa80-371952e1b2d0",
   "metadata": {},
   "source": [
    "Answer : \n",
    "\n",
    "Complex numbers are the numbers that are expressed in the form of a+ib. \n",
    "\n",
    "Where a & b are real numbers and \n",
    "\n",
    "i is an imaginary number.\n",
    "\n",
    "But when it comes to python, the imaginary number part is represented by the letter 'j'"
   ]
  },
  {
   "cell_type": "code",
   "execution_count": 24,
   "id": "737a39df-9f29-4d86-859c-8d34e3e1c0dd",
   "metadata": {},
   "outputs": [
    {
     "name": "stdout",
     "output_type": "stream",
     "text": [
      "The data type of (5+7j) is <class 'complex'>\n",
      "The data type of (10+12j) is <class 'complex'>\n"
     ]
    }
   ],
   "source": [
    "# sample complex numbers examples\n",
    "\n",
    "complex_no1 = 5+7j\n",
    "complex_no2= 10+12j\n",
    "\n",
    "print(\"The data type of\",complex_no1,\"is\",type(complex_no1))\n",
    "print(\"The data type of\",complex_no2,\"is\",type(complex_no2))"
   ]
  },
  {
   "cell_type": "markdown",
   "id": "5557b5bd-aa0d-45d2-92ec-a64b22125d80",
   "metadata": {},
   "source": [
    "##### Q7. What is the correct way to declare a variable named age and assign the value 25 to it?"
   ]
  },
  {
   "cell_type": "code",
   "execution_count": 25,
   "id": "ddbcdb1b-97a5-4139-8e83-96e93d147b75",
   "metadata": {},
   "outputs": [],
   "source": [
    "age = 25\n",
    "\n",
    "# age is the variable name\n",
    "# = --> assignment operator\n",
    "# 25 --> is the value it holds.\n",
    "# age --> age int data type"
   ]
  },
  {
   "cell_type": "code",
   "execution_count": 26,
   "id": "25396da8-d3ce-405a-9593-45e087ef6d56",
   "metadata": {},
   "outputs": [
    {
     "data": {
      "text/plain": [
       "int"
      ]
     },
     "execution_count": 26,
     "metadata": {},
     "output_type": "execute_result"
    }
   ],
   "source": [
    "type(age)"
   ]
  },
  {
   "cell_type": "markdown",
   "id": "ef42f4b3-a118-471c-aac1-649cfd4843f4",
   "metadata": {},
   "source": [
    "##### Q8. Declare a variable named price and assign the value 9.99 to it. What data type does this variable belong to?"
   ]
  },
  {
   "cell_type": "code",
   "execution_count": 27,
   "id": "7aaf055b-d03e-4d9b-bec5-f6003b8f9a87",
   "metadata": {},
   "outputs": [
    {
     "data": {
      "text/plain": [
       "float"
      ]
     },
     "execution_count": 27,
     "metadata": {},
     "output_type": "execute_result"
    }
   ],
   "source": [
    "price = 9.99  # variable price holds the floating point value of 9.99.\n",
    "type(price)  # price variable belongs to floating point number."
   ]
  },
  {
   "cell_type": "markdown",
   "id": "8782ffc4-2b46-48f8-9dd5-da565e173fe7",
   "metadata": {},
   "source": [
    "##### Q9. Create a variable named name and assign your full name to it as a string. How would you print the value of this variable?"
   ]
  },
  {
   "cell_type": "code",
   "execution_count": 28,
   "id": "2cc24a7d-9dd2-4a9e-a7b6-51a561eeaee3",
   "metadata": {},
   "outputs": [],
   "source": [
    "name = 'Arun Kumar J'\n",
    "# or we can enclose it in double quotes as well.\n",
    "Name = \"Arun Kumar J\""
   ]
  },
  {
   "cell_type": "code",
   "execution_count": 29,
   "id": "96ee6d9d-c108-4216-b7f9-ecab9277735b",
   "metadata": {},
   "outputs": [
    {
     "name": "stdout",
     "output_type": "stream",
     "text": [
      "My name is : Arun Kumar J\n",
      "My Name is : Arun Kumar J\n"
     ]
    }
   ],
   "source": [
    "# we would print the value of the variable using print()\n",
    "print(\"My name is :\",name)\n",
    "print(\"My Name is :\",Name)"
   ]
  },
  {
   "cell_type": "markdown",
   "id": "3417e0dc-14ff-4114-ad77-9aaff4634b4c",
   "metadata": {},
   "source": [
    "##### Q10. Given the string \"Hello, World!\", extract the substring \"World\"."
   ]
  },
  {
   "cell_type": "code",
   "execution_count": 30,
   "id": "e0560d2a-4877-469d-abdb-f7f94914e945",
   "metadata": {},
   "outputs": [
    {
     "data": {
      "text/plain": [
       "'Hello, World!'"
      ]
     },
     "execution_count": 30,
     "metadata": {},
     "output_type": "execute_result"
    }
   ],
   "source": [
    "# Answer\n",
    "\n",
    "s1=\"Hello, World!\"\n",
    "s1"
   ]
  },
  {
   "cell_type": "code",
   "execution_count": 33,
   "id": "63196553-a445-451b-906a-6db5211d365c",
   "metadata": {},
   "outputs": [
    {
     "data": {
      "text/plain": [
       "'World'"
      ]
     },
     "execution_count": 33,
     "metadata": {},
     "output_type": "execute_result"
    }
   ],
   "source": [
    "s1[s1.find('W'):len(s1)-1:]"
   ]
  },
  {
   "cell_type": "code",
   "execution_count": 32,
   "id": "a510bdba-9722-49ab-bf6e-0b284ef82489",
   "metadata": {},
   "outputs": [
    {
     "data": {
      "text/plain": [
       "'World'"
      ]
     },
     "execution_count": 32,
     "metadata": {},
     "output_type": "execute_result"
    }
   ],
   "source": [
    "s1[7:len(s1)-1:]"
   ]
  },
  {
   "cell_type": "markdown",
   "id": "470540ac-a248-4cf4-9d1c-7e6c43c53d98",
   "metadata": {},
   "source": [
    "##### Q11. Create a variable named \"is_student\" and assign it a boolean value indicating whether you are currently a student or not."
   ]
  },
  {
   "cell_type": "code",
   "execution_count": 34,
   "id": "2dccedd6-0ecf-45b2-8394-3fc947d1deb2",
   "metadata": {},
   "outputs": [],
   "source": [
    "is_student = True\n",
    "\n",
    "#is_student is a variable containing a boolean value."
   ]
  }
 ],
 "metadata": {
  "kernelspec": {
   "display_name": "Python 3 (ipykernel)",
   "language": "python",
   "name": "python3"
  },
  "language_info": {
   "codemirror_mode": {
    "name": "ipython",
    "version": 3
   },
   "file_extension": ".py",
   "mimetype": "text/x-python",
   "name": "python",
   "nbconvert_exporter": "python",
   "pygments_lexer": "ipython3",
   "version": "3.10.8"
  }
 },
 "nbformat": 4,
 "nbformat_minor": 5
}
