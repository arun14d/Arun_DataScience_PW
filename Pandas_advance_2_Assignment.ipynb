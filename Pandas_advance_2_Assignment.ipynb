{
 "cells": [
  {
   "cell_type": "markdown",
   "id": "c186b899-44d5-4507-98ec-37e061ec8e82",
   "metadata": {},
   "source": [
    "### Pandas Advance-2\n",
    "\n",
    "--------------"
   ]
  },
  {
   "cell_type": "markdown",
   "id": "bb09649e-30a6-4f59-b51a-7ba0f1ab3c89",
   "metadata": {},
   "source": [
    "#### Consider following code to answer further questions:\n",
    "\n",
    "import pandas as pd\n",
    "\n",
    "course_name = [‘Data Science’, ‘Machine Learning’, ‘Big Data’, ‘Data Engineer’]\n",
    "\n",
    "duration = [2,3,6,4]\n",
    "\n",
    "df = pd.DataFrame(data = {‘course_name’ : course_name, ‘duration’ : duration})\n",
    "\n",
    "Q1. Write a code to print the data present in the second row of the dataframe, df."
   ]
  },
  {
   "cell_type": "code",
   "execution_count": 1,
   "id": "707dc7fb-c3ff-443a-8157-a496b1c30be1",
   "metadata": {},
   "outputs": [],
   "source": [
    "import pandas as pd\n",
    "\n",
    "course_name = ['Data Science', 'Machine Learning', 'Big Data', 'Data Engineer']\n",
    "\n",
    "duration = [2,3,6,4]\n",
    "\n",
    "df = pd.DataFrame(data = {'course_name' : course_name, 'duration' : duration})"
   ]
  },
  {
   "cell_type": "code",
   "execution_count": 2,
   "id": "e692cbb9-44d0-4862-9e2c-37f739c81cb8",
   "metadata": {},
   "outputs": [
    {
     "data": {
      "text/html": [
       "<div>\n",
       "<style scoped>\n",
       "    .dataframe tbody tr th:only-of-type {\n",
       "        vertical-align: middle;\n",
       "    }\n",
       "\n",
       "    .dataframe tbody tr th {\n",
       "        vertical-align: top;\n",
       "    }\n",
       "\n",
       "    .dataframe thead th {\n",
       "        text-align: right;\n",
       "    }\n",
       "</style>\n",
       "<table border=\"1\" class=\"dataframe\">\n",
       "  <thead>\n",
       "    <tr style=\"text-align: right;\">\n",
       "      <th></th>\n",
       "      <th>course_name</th>\n",
       "      <th>duration</th>\n",
       "    </tr>\n",
       "  </thead>\n",
       "  <tbody>\n",
       "    <tr>\n",
       "      <th>0</th>\n",
       "      <td>Data Science</td>\n",
       "      <td>2</td>\n",
       "    </tr>\n",
       "    <tr>\n",
       "      <th>1</th>\n",
       "      <td>Machine Learning</td>\n",
       "      <td>3</td>\n",
       "    </tr>\n",
       "    <tr>\n",
       "      <th>2</th>\n",
       "      <td>Big Data</td>\n",
       "      <td>6</td>\n",
       "    </tr>\n",
       "    <tr>\n",
       "      <th>3</th>\n",
       "      <td>Data Engineer</td>\n",
       "      <td>4</td>\n",
       "    </tr>\n",
       "  </tbody>\n",
       "</table>\n",
       "</div>"
      ],
      "text/plain": [
       "        course_name  duration\n",
       "0      Data Science         2\n",
       "1  Machine Learning         3\n",
       "2          Big Data         6\n",
       "3     Data Engineer         4"
      ]
     },
     "execution_count": 2,
     "metadata": {},
     "output_type": "execute_result"
    }
   ],
   "source": [
    "df"
   ]
  },
  {
   "cell_type": "code",
   "execution_count": 3,
   "id": "10f1b379-8c1e-45ad-bfe0-1f147c48af99",
   "metadata": {},
   "outputs": [
    {
     "data": {
      "text/html": [
       "<div>\n",
       "<style scoped>\n",
       "    .dataframe tbody tr th:only-of-type {\n",
       "        vertical-align: middle;\n",
       "    }\n",
       "\n",
       "    .dataframe tbody tr th {\n",
       "        vertical-align: top;\n",
       "    }\n",
       "\n",
       "    .dataframe thead th {\n",
       "        text-align: right;\n",
       "    }\n",
       "</style>\n",
       "<table border=\"1\" class=\"dataframe\">\n",
       "  <thead>\n",
       "    <tr style=\"text-align: right;\">\n",
       "      <th></th>\n",
       "      <th>course_name</th>\n",
       "      <th>duration</th>\n",
       "    </tr>\n",
       "  </thead>\n",
       "  <tbody>\n",
       "    <tr>\n",
       "      <th>1</th>\n",
       "      <td>Machine Learning</td>\n",
       "      <td>3</td>\n",
       "    </tr>\n",
       "  </tbody>\n",
       "</table>\n",
       "</div>"
      ],
      "text/plain": [
       "        course_name  duration\n",
       "1  Machine Learning         3"
      ]
     },
     "execution_count": 3,
     "metadata": {},
     "output_type": "execute_result"
    }
   ],
   "source": [
    "#### code to print the data present in the second row of the dataframe\n",
    "\n",
    "df[1:2]"
   ]
  },
  {
   "cell_type": "markdown",
   "id": "81c5edea-fde2-4758-a723-47c14ba81f84",
   "metadata": {},
   "source": [
    "--------------------"
   ]
  },
  {
   "cell_type": "markdown",
   "id": "89c13698-9425-44f9-ba48-ec9089ec2ee8",
   "metadata": {},
   "source": [
    "#### Q2. What is the difference between the functions loc and iloc in pandas.DataFrame?"
   ]
  },
  {
   "cell_type": "markdown",
   "id": "3fa536bb-15cd-4a98-909b-ecf0fe7953d1",
   "metadata": {},
   "source": [
    "The loc and iloc functions in pandas.DataFrame are used to select rows and columns from a DataFrame.\n",
    "\n",
    "1. The main difference between the two functions is that loc uses label-based indexing, while iloc uses integer-based indexing.\n",
    "2. loc is label-based indexing, which means that we have to specify rows and columns based on their row and column labels.\n",
    "3. iloc is integer-position-based indexing, so you have to specify rows and columns by their integer position values (0-based integer position)."
   ]
  },
  {
   "cell_type": "code",
   "execution_count": 4,
   "id": "561c778c-5478-479b-bb1a-75bd42a86fa7",
   "metadata": {},
   "outputs": [
    {
     "data": {
      "text/html": [
       "<div>\n",
       "<style scoped>\n",
       "    .dataframe tbody tr th:only-of-type {\n",
       "        vertical-align: middle;\n",
       "    }\n",
       "\n",
       "    .dataframe tbody tr th {\n",
       "        vertical-align: top;\n",
       "    }\n",
       "\n",
       "    .dataframe thead th {\n",
       "        text-align: right;\n",
       "    }\n",
       "</style>\n",
       "<table border=\"1\" class=\"dataframe\">\n",
       "  <thead>\n",
       "    <tr style=\"text-align: right;\">\n",
       "      <th></th>\n",
       "      <th>taxonomy_id</th>\n",
       "      <th>name</th>\n",
       "      <th>parent_id</th>\n",
       "      <th>parent_name</th>\n",
       "    </tr>\n",
       "  </thead>\n",
       "  <tbody>\n",
       "    <tr>\n",
       "      <th>0</th>\n",
       "      <td>101</td>\n",
       "      <td>Emergency</td>\n",
       "      <td>NaN</td>\n",
       "      <td>NaN</td>\n",
       "    </tr>\n",
       "    <tr>\n",
       "      <th>1</th>\n",
       "      <td>101-01</td>\n",
       "      <td>Disaster Response</td>\n",
       "      <td>101</td>\n",
       "      <td>Emergency</td>\n",
       "    </tr>\n",
       "    <tr>\n",
       "      <th>2</th>\n",
       "      <td>101-02</td>\n",
       "      <td>Emergency Cash</td>\n",
       "      <td>101</td>\n",
       "      <td>Emergency</td>\n",
       "    </tr>\n",
       "    <tr>\n",
       "      <th>3</th>\n",
       "      <td>101-02-01</td>\n",
       "      <td>Help Pay for Food</td>\n",
       "      <td>101-02</td>\n",
       "      <td>Emergency Cash</td>\n",
       "    </tr>\n",
       "    <tr>\n",
       "      <th>4</th>\n",
       "      <td>101-02-02</td>\n",
       "      <td>Help Pay for Healthcare</td>\n",
       "      <td>101-02</td>\n",
       "      <td>Emergency Cash</td>\n",
       "    </tr>\n",
       "    <tr>\n",
       "      <th>5</th>\n",
       "      <td>101-02-03</td>\n",
       "      <td>Help Pay for Housing</td>\n",
       "      <td>101-02</td>\n",
       "      <td>Emergency Cash</td>\n",
       "    </tr>\n",
       "    <tr>\n",
       "      <th>6</th>\n",
       "      <td>101-02-04</td>\n",
       "      <td>Help Pay for Gas</td>\n",
       "      <td>101-02</td>\n",
       "      <td>Emergency Cash</td>\n",
       "    </tr>\n",
       "    <tr>\n",
       "      <th>7</th>\n",
       "      <td>101-02-05</td>\n",
       "      <td>Help Pay for School</td>\n",
       "      <td>101-02</td>\n",
       "      <td>Emergency Cash</td>\n",
       "    </tr>\n",
       "    <tr>\n",
       "      <th>8</th>\n",
       "      <td>101-02-06</td>\n",
       "      <td>Help Pay for Utilities</td>\n",
       "      <td>101-02</td>\n",
       "      <td>Emergency Cash</td>\n",
       "    </tr>\n",
       "    <tr>\n",
       "      <th>9</th>\n",
       "      <td>101-03</td>\n",
       "      <td>Emergency Food</td>\n",
       "      <td>101</td>\n",
       "      <td>Emergency</td>\n",
       "    </tr>\n",
       "  </tbody>\n",
       "</table>\n",
       "</div>"
      ],
      "text/plain": [
       "  taxonomy_id                     name parent_id     parent_name\n",
       "0         101                Emergency       NaN             NaN\n",
       "1      101-01        Disaster Response       101       Emergency\n",
       "2      101-02           Emergency Cash       101       Emergency\n",
       "3   101-02-01        Help Pay for Food    101-02  Emergency Cash\n",
       "4   101-02-02  Help Pay for Healthcare    101-02  Emergency Cash\n",
       "5   101-02-03     Help Pay for Housing    101-02  Emergency Cash\n",
       "6   101-02-04         Help Pay for Gas    101-02  Emergency Cash\n",
       "7   101-02-05      Help Pay for School    101-02  Emergency Cash\n",
       "8   101-02-06   Help Pay for Utilities    101-02  Emergency Cash\n",
       "9      101-03           Emergency Food       101       Emergency"
      ]
     },
     "execution_count": 4,
     "metadata": {},
     "output_type": "execute_result"
    }
   ],
   "source": [
    "## let us consider the below example.\n",
    "\n",
    "df_Q2 = pd.read_csv('taxonomy.csv')\n",
    "df_Q2.head(10)"
   ]
  },
  {
   "cell_type": "code",
   "execution_count": 5,
   "id": "71e44fde-abd8-4f5c-8b99-08671f2c9adb",
   "metadata": {},
   "outputs": [
    {
     "data": {
      "text/html": [
       "<div>\n",
       "<style scoped>\n",
       "    .dataframe tbody tr th:only-of-type {\n",
       "        vertical-align: middle;\n",
       "    }\n",
       "\n",
       "    .dataframe tbody tr th {\n",
       "        vertical-align: top;\n",
       "    }\n",
       "\n",
       "    .dataframe thead th {\n",
       "        text-align: right;\n",
       "    }\n",
       "</style>\n",
       "<table border=\"1\" class=\"dataframe\">\n",
       "  <thead>\n",
       "    <tr style=\"text-align: right;\">\n",
       "      <th></th>\n",
       "      <th>taxonomy_id</th>\n",
       "      <th>name</th>\n",
       "    </tr>\n",
       "  </thead>\n",
       "  <tbody>\n",
       "    <tr>\n",
       "      <th>2</th>\n",
       "      <td>101-02</td>\n",
       "      <td>Emergency Cash</td>\n",
       "    </tr>\n",
       "    <tr>\n",
       "      <th>3</th>\n",
       "      <td>101-02-01</td>\n",
       "      <td>Help Pay for Food</td>\n",
       "    </tr>\n",
       "    <tr>\n",
       "      <th>4</th>\n",
       "      <td>101-02-02</td>\n",
       "      <td>Help Pay for Healthcare</td>\n",
       "    </tr>\n",
       "    <tr>\n",
       "      <th>5</th>\n",
       "      <td>101-02-03</td>\n",
       "      <td>Help Pay for Housing</td>\n",
       "    </tr>\n",
       "    <tr>\n",
       "      <th>6</th>\n",
       "      <td>101-02-04</td>\n",
       "      <td>Help Pay for Gas</td>\n",
       "    </tr>\n",
       "    <tr>\n",
       "      <th>7</th>\n",
       "      <td>101-02-05</td>\n",
       "      <td>Help Pay for School</td>\n",
       "    </tr>\n",
       "  </tbody>\n",
       "</table>\n",
       "</div>"
      ],
      "text/plain": [
       "  taxonomy_id                     name\n",
       "2      101-02           Emergency Cash\n",
       "3   101-02-01        Help Pay for Food\n",
       "4   101-02-02  Help Pay for Healthcare\n",
       "5   101-02-03     Help Pay for Housing\n",
       "6   101-02-04         Help Pay for Gas\n",
       "7   101-02-05      Help Pay for School"
      ]
     },
     "execution_count": 5,
     "metadata": {},
     "output_type": "execute_result"
    }
   ],
   "source": [
    "## Lets access using the loc\n",
    "\n",
    "## 1. Lets access the rows from 2-7  and columb Taxonomy_id and Name using loc\n",
    "## dataFrame.loc[rows,columns]\n",
    "\n",
    "df_Q2.loc[2:7,['taxonomy_id','name']]\n",
    "\n",
    "## it displays the column - taxonomy_id & name from row 2 to 7.\n",
    "## so we need specify the column name"
   ]
  },
  {
   "cell_type": "code",
   "execution_count": 6,
   "id": "cb533e07-c4d9-4d8a-984b-86ad1812a216",
   "metadata": {},
   "outputs": [
    {
     "data": {
      "text/html": [
       "<div>\n",
       "<style scoped>\n",
       "    .dataframe tbody tr th:only-of-type {\n",
       "        vertical-align: middle;\n",
       "    }\n",
       "\n",
       "    .dataframe tbody tr th {\n",
       "        vertical-align: top;\n",
       "    }\n",
       "\n",
       "    .dataframe thead th {\n",
       "        text-align: right;\n",
       "    }\n",
       "</style>\n",
       "<table border=\"1\" class=\"dataframe\">\n",
       "  <thead>\n",
       "    <tr style=\"text-align: right;\">\n",
       "      <th></th>\n",
       "      <th>taxonomy_id</th>\n",
       "      <th>name</th>\n",
       "    </tr>\n",
       "  </thead>\n",
       "  <tbody>\n",
       "    <tr>\n",
       "      <th>2</th>\n",
       "      <td>101-02</td>\n",
       "      <td>Emergency Cash</td>\n",
       "    </tr>\n",
       "    <tr>\n",
       "      <th>3</th>\n",
       "      <td>101-02-01</td>\n",
       "      <td>Help Pay for Food</td>\n",
       "    </tr>\n",
       "    <tr>\n",
       "      <th>4</th>\n",
       "      <td>101-02-02</td>\n",
       "      <td>Help Pay for Healthcare</td>\n",
       "    </tr>\n",
       "    <tr>\n",
       "      <th>5</th>\n",
       "      <td>101-02-03</td>\n",
       "      <td>Help Pay for Housing</td>\n",
       "    </tr>\n",
       "    <tr>\n",
       "      <th>6</th>\n",
       "      <td>101-02-04</td>\n",
       "      <td>Help Pay for Gas</td>\n",
       "    </tr>\n",
       "  </tbody>\n",
       "</table>\n",
       "</div>"
      ],
      "text/plain": [
       "  taxonomy_id                     name\n",
       "2      101-02           Emergency Cash\n",
       "3   101-02-01        Help Pay for Food\n",
       "4   101-02-02  Help Pay for Healthcare\n",
       "5   101-02-03     Help Pay for Housing\n",
       "6   101-02-04         Help Pay for Gas"
      ]
     },
     "execution_count": 6,
     "metadata": {},
     "output_type": "execute_result"
    }
   ],
   "source": [
    "## Lets access using the iloc\n",
    "\n",
    "## 2. Lets access the rows from 2-7  and columb Taxonomy_id and Name using iloc\n",
    "## dataFrame.loc[rows,columns]\n",
    "\n",
    "df_Q2.iloc[2:7,[0,1]]\n",
    "\n",
    "## it displays the column - taxonomy_id & name from row 2 to 7.\n",
    "## so we need specify the default index of the column here\n",
    "\n",
    "## one difference i observed here is \n",
    "    ## using loc --> we got 6 rows, it included the upper bound value -7 . df_Q2.loc[2:7,['taxonomy_id','name']]\n",
    "    ## using iloc --> we got 5 rows, it excluded the upper bound value 7. df_Q2.iloc[2:7,[0,1]]\n",
    "    "
   ]
  },
  {
   "cell_type": "markdown",
   "id": "a12c2e34-3de1-4e40-b7e4-8ebd5ce6179c",
   "metadata": {},
   "source": [
    "------"
   ]
  },
  {
   "cell_type": "markdown",
   "id": "76d0aee5-9be0-46a8-a0ef-9ba175c719a9",
   "metadata": {},
   "source": [
    "#### Q3. Reindex the given dataframe using a variable, reindex = [3,0,1,2] and store it in the variable, new_df then find the output for both new_df.loc[2] and new_df.iloc[2].\n",
    "\n",
    "Did you observe any difference in the both the outputs? If so then explain it\n"
   ]
  },
  {
   "cell_type": "code",
   "execution_count": 8,
   "id": "f5425d95-aa94-40af-b781-a216ff9d0b2b",
   "metadata": {},
   "outputs": [
    {
     "data": {
      "text/html": [
       "<div>\n",
       "<style scoped>\n",
       "    .dataframe tbody tr th:only-of-type {\n",
       "        vertical-align: middle;\n",
       "    }\n",
       "\n",
       "    .dataframe tbody tr th {\n",
       "        vertical-align: top;\n",
       "    }\n",
       "\n",
       "    .dataframe thead th {\n",
       "        text-align: right;\n",
       "    }\n",
       "</style>\n",
       "<table border=\"1\" class=\"dataframe\">\n",
       "  <thead>\n",
       "    <tr style=\"text-align: right;\">\n",
       "      <th></th>\n",
       "      <th>course_name</th>\n",
       "      <th>duration</th>\n",
       "    </tr>\n",
       "  </thead>\n",
       "  <tbody>\n",
       "    <tr>\n",
       "      <th>0</th>\n",
       "      <td>Data Science</td>\n",
       "      <td>2</td>\n",
       "    </tr>\n",
       "    <tr>\n",
       "      <th>1</th>\n",
       "      <td>Machine Learning</td>\n",
       "      <td>3</td>\n",
       "    </tr>\n",
       "    <tr>\n",
       "      <th>2</th>\n",
       "      <td>Big Data</td>\n",
       "      <td>6</td>\n",
       "    </tr>\n",
       "    <tr>\n",
       "      <th>3</th>\n",
       "      <td>Data Engineer</td>\n",
       "      <td>4</td>\n",
       "    </tr>\n",
       "  </tbody>\n",
       "</table>\n",
       "</div>"
      ],
      "text/plain": [
       "        course_name  duration\n",
       "0      Data Science         2\n",
       "1  Machine Learning         3\n",
       "2          Big Data         6\n",
       "3     Data Engineer         4"
      ]
     },
     "execution_count": 8,
     "metadata": {},
     "output_type": "execute_result"
    }
   ],
   "source": [
    "df ## lets consisder the Dataframe"
   ]
  },
  {
   "cell_type": "code",
   "execution_count": 9,
   "id": "c44c4621-a51e-4208-a8dd-cb9c1e8e8397",
   "metadata": {},
   "outputs": [],
   "source": [
    "## the re-index value stored in the variable \n",
    "reindex = [3,0,1,2]"
   ]
  },
  {
   "cell_type": "code",
   "execution_count": 10,
   "id": "04d439e1-d472-4459-9173-384cdd3cf209",
   "metadata": {},
   "outputs": [
    {
     "data": {
      "text/html": [
       "<div>\n",
       "<style scoped>\n",
       "    .dataframe tbody tr th:only-of-type {\n",
       "        vertical-align: middle;\n",
       "    }\n",
       "\n",
       "    .dataframe tbody tr th {\n",
       "        vertical-align: top;\n",
       "    }\n",
       "\n",
       "    .dataframe thead th {\n",
       "        text-align: right;\n",
       "    }\n",
       "</style>\n",
       "<table border=\"1\" class=\"dataframe\">\n",
       "  <thead>\n",
       "    <tr style=\"text-align: right;\">\n",
       "      <th></th>\n",
       "      <th>course_name</th>\n",
       "      <th>duration</th>\n",
       "    </tr>\n",
       "  </thead>\n",
       "  <tbody>\n",
       "    <tr>\n",
       "      <th>3</th>\n",
       "      <td>Data Engineer</td>\n",
       "      <td>4</td>\n",
       "    </tr>\n",
       "    <tr>\n",
       "      <th>0</th>\n",
       "      <td>Data Science</td>\n",
       "      <td>2</td>\n",
       "    </tr>\n",
       "    <tr>\n",
       "      <th>1</th>\n",
       "      <td>Machine Learning</td>\n",
       "      <td>3</td>\n",
       "    </tr>\n",
       "    <tr>\n",
       "      <th>2</th>\n",
       "      <td>Big Data</td>\n",
       "      <td>6</td>\n",
       "    </tr>\n",
       "  </tbody>\n",
       "</table>\n",
       "</div>"
      ],
      "text/plain": [
       "        course_name  duration\n",
       "3     Data Engineer         4\n",
       "0      Data Science         2\n",
       "1  Machine Learning         3\n",
       "2          Big Data         6"
      ]
     },
     "execution_count": 10,
     "metadata": {},
     "output_type": "execute_result"
    }
   ],
   "source": [
    "new_df = pd.DataFrame(df,index=reindex)\n",
    "new_df"
   ]
  },
  {
   "cell_type": "code",
   "execution_count": 11,
   "id": "e01a060d-c9ab-4ea1-b119-39789e275c7a",
   "metadata": {},
   "outputs": [
    {
     "data": {
      "text/plain": [
       "course_name    Big Data\n",
       "duration              6\n",
       "Name: 2, dtype: object"
      ]
     },
     "execution_count": 11,
     "metadata": {},
     "output_type": "execute_result"
    }
   ],
   "source": [
    "new_df.loc[2]"
   ]
  },
  {
   "cell_type": "code",
   "execution_count": 12,
   "id": "2a647292-263e-4122-a52e-52b89b271a93",
   "metadata": {},
   "outputs": [
    {
     "data": {
      "text/plain": [
       "course_name    Machine Learning\n",
       "duration                      3\n",
       "Name: 1, dtype: object"
      ]
     },
     "execution_count": 12,
     "metadata": {},
     "output_type": "execute_result"
    }
   ],
   "source": [
    "new_df.iloc[2]"
   ]
  },
  {
   "cell_type": "code",
   "execution_count": 13,
   "id": "b2d0306b-c371-46b2-ba13-a281c8d97af5",
   "metadata": {},
   "outputs": [],
   "source": [
    "## Yes there is a difference in the output of the above 2 statements.\n",
    "\n",
    "## new_df.loc[2]\n",
    "## output is Course_name - Big Data, Duration - 6\n",
    "## new_df.loc[2] --> refers to the label based indexing. When the Dataframe was created, the index assigned to it will be taken.\n",
    "\n",
    "\n",
    "## new_df.iloc[2]\n",
    "## output is Course_name - Machine Learning, Duration - 3\n",
    "## new_df.iloc[2] --> refers to theinteger-position-based indexing, so you have to specify rows and \n",
    "                ## ---> columns by their integer position values so in the ne dataframe that was created,\n",
    "                ## we can see machine learning is present in the 2nd Index place.\n",
    "\n"
   ]
  },
  {
   "cell_type": "markdown",
   "id": "902882c9-0ff5-4bfb-bb96-4824de957782",
   "metadata": {},
   "source": [
    "------------"
   ]
  },
  {
   "cell_type": "markdown",
   "id": "d1c8a1b9-3d9c-4433-a0d5-96f582fcbce8",
   "metadata": {},
   "source": [
    "#### Consider the below code to answer further questions:\n",
    "\n",
    "    import pandas as pd\n",
    "    import numpy as np\n",
    "    columns = ['column_1', 'column_2', 'column_3', 'column_4', 'column_5', 'column_6']\n",
    "    indices = [1,2,3,4,5,6]\n",
    "    #Creating a dataframe:\n",
    "    df1 = pd.DataFrame(np.random.rand(6,6), columns = columns, index = indices)"
   ]
  },
  {
   "cell_type": "markdown",
   "id": "ddf3664f-e562-4a1b-9e1c-da7ff07a2717",
   "metadata": {},
   "source": [
    "#### Q4. Write a code to find the following statistical measurements for the above dataframe df1:\n",
    "    (i) mean of each and every column present in the dataframe.\n",
    "    (ii) standard deviation of column, ‘column_2’"
   ]
  },
  {
   "cell_type": "code",
   "execution_count": 14,
   "id": "9fc76e53-0035-4bc8-94b0-fdb3f64d01d9",
   "metadata": {},
   "outputs": [
    {
     "data": {
      "text/html": [
       "<div>\n",
       "<style scoped>\n",
       "    .dataframe tbody tr th:only-of-type {\n",
       "        vertical-align: middle;\n",
       "    }\n",
       "\n",
       "    .dataframe tbody tr th {\n",
       "        vertical-align: top;\n",
       "    }\n",
       "\n",
       "    .dataframe thead th {\n",
       "        text-align: right;\n",
       "    }\n",
       "</style>\n",
       "<table border=\"1\" class=\"dataframe\">\n",
       "  <thead>\n",
       "    <tr style=\"text-align: right;\">\n",
       "      <th></th>\n",
       "      <th>column_1</th>\n",
       "      <th>column_2</th>\n",
       "      <th>column_3</th>\n",
       "      <th>column_4</th>\n",
       "      <th>column_5</th>\n",
       "      <th>column_6</th>\n",
       "    </tr>\n",
       "  </thead>\n",
       "  <tbody>\n",
       "    <tr>\n",
       "      <th>1</th>\n",
       "      <td>0.554090</td>\n",
       "      <td>0.667155</td>\n",
       "      <td>0.468590</td>\n",
       "      <td>0.779818</td>\n",
       "      <td>0.198410</td>\n",
       "      <td>0.718761</td>\n",
       "    </tr>\n",
       "    <tr>\n",
       "      <th>2</th>\n",
       "      <td>0.752431</td>\n",
       "      <td>0.070551</td>\n",
       "      <td>0.782298</td>\n",
       "      <td>0.139643</td>\n",
       "      <td>0.963910</td>\n",
       "      <td>0.523318</td>\n",
       "    </tr>\n",
       "    <tr>\n",
       "      <th>3</th>\n",
       "      <td>0.477339</td>\n",
       "      <td>0.639765</td>\n",
       "      <td>0.036735</td>\n",
       "      <td>0.883784</td>\n",
       "      <td>0.783927</td>\n",
       "      <td>0.132693</td>\n",
       "    </tr>\n",
       "    <tr>\n",
       "      <th>4</th>\n",
       "      <td>0.511003</td>\n",
       "      <td>0.421160</td>\n",
       "      <td>0.797716</td>\n",
       "      <td>0.165190</td>\n",
       "      <td>0.840896</td>\n",
       "      <td>0.810076</td>\n",
       "    </tr>\n",
       "    <tr>\n",
       "      <th>5</th>\n",
       "      <td>0.585738</td>\n",
       "      <td>0.081669</td>\n",
       "      <td>0.424446</td>\n",
       "      <td>0.185144</td>\n",
       "      <td>0.565822</td>\n",
       "      <td>0.076780</td>\n",
       "    </tr>\n",
       "    <tr>\n",
       "      <th>6</th>\n",
       "      <td>0.999055</td>\n",
       "      <td>0.153690</td>\n",
       "      <td>0.274694</td>\n",
       "      <td>0.496995</td>\n",
       "      <td>0.159669</td>\n",
       "      <td>0.731012</td>\n",
       "    </tr>\n",
       "  </tbody>\n",
       "</table>\n",
       "</div>"
      ],
      "text/plain": [
       "   column_1  column_2  column_3  column_4  column_5  column_6\n",
       "1  0.554090  0.667155  0.468590  0.779818  0.198410  0.718761\n",
       "2  0.752431  0.070551  0.782298  0.139643  0.963910  0.523318\n",
       "3  0.477339  0.639765  0.036735  0.883784  0.783927  0.132693\n",
       "4  0.511003  0.421160  0.797716  0.165190  0.840896  0.810076\n",
       "5  0.585738  0.081669  0.424446  0.185144  0.565822  0.076780\n",
       "6  0.999055  0.153690  0.274694  0.496995  0.159669  0.731012"
      ]
     },
     "execution_count": 14,
     "metadata": {},
     "output_type": "execute_result"
    }
   ],
   "source": [
    "import pandas as pd\n",
    "import numpy as np\n",
    "\n",
    "columns = ['column_1', 'column_2', 'column_3', 'column_4', 'column_5', 'column_6']\n",
    "indices = [1,2,3,4,5,6]\n",
    "#Creating a dataframe:\n",
    "df1 = pd.DataFrame(np.random.rand(6,6), columns = columns, index = indices)\n",
    "df1"
   ]
  },
  {
   "cell_type": "code",
   "execution_count": 15,
   "id": "65ef2e41-a3e3-4c54-82f2-cc34eb22d8d0",
   "metadata": {},
   "outputs": [
    {
     "data": {
      "text/plain": [
       "column_1    0.646609\n",
       "column_2    0.338998\n",
       "column_3    0.464080\n",
       "column_4    0.441762\n",
       "column_5    0.585439\n",
       "column_6    0.498773\n",
       "dtype: float64"
      ]
     },
     "execution_count": 15,
     "metadata": {},
     "output_type": "execute_result"
    }
   ],
   "source": [
    "## (i) mean of each and every column present in the dataframe.\n",
    "\n",
    "df1.mean(axis=0)"
   ]
  },
  {
   "cell_type": "code",
   "execution_count": 16,
   "id": "9f7c72d2-9f1b-4d72-9d93-3727b16a875e",
   "metadata": {},
   "outputs": [
    {
     "data": {
      "text/plain": [
       "0.2747797280515221"
      ]
     },
     "execution_count": 16,
     "metadata": {},
     "output_type": "execute_result"
    }
   ],
   "source": [
    "## (ii) standard deviation of column, ‘column_2’\n",
    "\n",
    "df1['column_2'].std()"
   ]
  },
  {
   "cell_type": "markdown",
   "id": "c9e5a62a-95e1-4e19-97f5-e9b5825c167a",
   "metadata": {},
   "source": [
    "#### Q5. Replace the data present in the second row of column, ‘column_2’ by a string variable then find the mean of column, column_2. If you are getting errors in executing it then explain why.\n",
    "\n",
    "[Hint: To replace the data use df1.loc[] and equate this to string data of your choice.]"
   ]
  },
  {
   "cell_type": "code",
   "execution_count": 17,
   "id": "8c71fb67-c564-4a76-9ade-164131da1dd4",
   "metadata": {},
   "outputs": [
    {
     "data": {
      "text/plain": [
       "0.0705508852300204"
      ]
     },
     "execution_count": 17,
     "metadata": {},
     "output_type": "execute_result"
    }
   ],
   "source": [
    "df1['column_2'][2] ## confirming the data present in the row 2 of column_2"
   ]
  },
  {
   "cell_type": "code",
   "execution_count": 18,
   "id": "4998b252-b84e-4203-9a80-58aaa78d7887",
   "metadata": {},
   "outputs": [],
   "source": [
    "df1['column_2'].loc[2] = 'Virat Kohli'  ## replacing the value of row 2 of column_2 with \"Virat Kohli\""
   ]
  },
  {
   "cell_type": "code",
   "execution_count": 19,
   "id": "a4333f0e-2a4f-4ef0-925d-2172a612754f",
   "metadata": {},
   "outputs": [
    {
     "data": {
      "text/plain": [
       "'Virat Kohli'"
      ]
     },
     "execution_count": 19,
     "metadata": {},
     "output_type": "execute_result"
    }
   ],
   "source": [
    "df1['column_2'].loc[2] # We can see that the column details are changed."
   ]
  },
  {
   "cell_type": "code",
   "execution_count": 20,
   "id": "ddf1b7e1-cc81-45a1-961b-21d4059f2653",
   "metadata": {},
   "outputs": [
    {
     "ename": "TypeError",
     "evalue": "unsupported operand type(s) for +: 'float' and 'str'",
     "output_type": "error",
     "traceback": [
      "\u001b[0;31m---------------------------------------------------------------------------\u001b[0m",
      "\u001b[0;31mTypeError\u001b[0m                                 Traceback (most recent call last)",
      "Cell \u001b[0;32mIn[20], line 1\u001b[0m\n\u001b[0;32m----> 1\u001b[0m \u001b[43mdf1\u001b[49m\u001b[43m[\u001b[49m\u001b[38;5;124;43m'\u001b[39;49m\u001b[38;5;124;43mcolumn_2\u001b[39;49m\u001b[38;5;124;43m'\u001b[39;49m\u001b[43m]\u001b[49m\u001b[38;5;241;43m.\u001b[39;49m\u001b[43mmean\u001b[49m\u001b[43m(\u001b[49m\u001b[43m)\u001b[49m\n\u001b[1;32m      3\u001b[0m \u001b[38;5;66;03m## We face an error - \"TypeError: unsupported operand type(s) for +: 'float' and 'str'\"\u001b[39;00m\n\u001b[1;32m      4\u001b[0m \n\u001b[1;32m      5\u001b[0m \u001b[38;5;66;03m## cause mean is mathematical fucntion valid on numbers only.\u001b[39;00m\n\u001b[1;32m      6\u001b[0m \u001b[38;5;66;03m## since the  value at row2 of column_2 is a string ,and we cant apply mean() on strings.\u001b[39;00m\n\u001b[1;32m      7\u001b[0m \u001b[38;5;66;03m## hence we are getting the below error.\u001b[39;00m\n",
      "File \u001b[0;32m/opt/conda/lib/python3.10/site-packages/pandas/core/generic.py:11847\u001b[0m, in \u001b[0;36mNDFrame._add_numeric_operations.<locals>.mean\u001b[0;34m(self, axis, skipna, level, numeric_only, **kwargs)\u001b[0m\n\u001b[1;32m  11829\u001b[0m \u001b[38;5;129m@doc\u001b[39m(\n\u001b[1;32m  11830\u001b[0m     _num_doc,\n\u001b[1;32m  11831\u001b[0m     desc\u001b[38;5;241m=\u001b[39m\u001b[38;5;124m\"\u001b[39m\u001b[38;5;124mReturn the mean of the values over the requested axis.\u001b[39m\u001b[38;5;124m\"\u001b[39m,\n\u001b[0;32m   (...)\u001b[0m\n\u001b[1;32m  11845\u001b[0m     \u001b[38;5;241m*\u001b[39m\u001b[38;5;241m*\u001b[39mkwargs,\n\u001b[1;32m  11846\u001b[0m ):\n\u001b[0;32m> 11847\u001b[0m     \u001b[38;5;28;01mreturn\u001b[39;00m \u001b[43mNDFrame\u001b[49m\u001b[38;5;241;43m.\u001b[39;49m\u001b[43mmean\u001b[49m\u001b[43m(\u001b[49m\u001b[38;5;28;43mself\u001b[39;49m\u001b[43m,\u001b[49m\u001b[43m \u001b[49m\u001b[43maxis\u001b[49m\u001b[43m,\u001b[49m\u001b[43m \u001b[49m\u001b[43mskipna\u001b[49m\u001b[43m,\u001b[49m\u001b[43m \u001b[49m\u001b[43mlevel\u001b[49m\u001b[43m,\u001b[49m\u001b[43m \u001b[49m\u001b[43mnumeric_only\u001b[49m\u001b[43m,\u001b[49m\u001b[43m \u001b[49m\u001b[38;5;241;43m*\u001b[39;49m\u001b[38;5;241;43m*\u001b[39;49m\u001b[43mkwargs\u001b[49m\u001b[43m)\u001b[49m\n",
      "File \u001b[0;32m/opt/conda/lib/python3.10/site-packages/pandas/core/generic.py:11401\u001b[0m, in \u001b[0;36mNDFrame.mean\u001b[0;34m(self, axis, skipna, level, numeric_only, **kwargs)\u001b[0m\n\u001b[1;32m  11393\u001b[0m \u001b[38;5;28;01mdef\u001b[39;00m \u001b[38;5;21mmean\u001b[39m(\n\u001b[1;32m  11394\u001b[0m     \u001b[38;5;28mself\u001b[39m,\n\u001b[1;32m  11395\u001b[0m     axis: Axis \u001b[38;5;241m|\u001b[39m \u001b[38;5;28;01mNone\u001b[39;00m \u001b[38;5;241m|\u001b[39m lib\u001b[38;5;241m.\u001b[39mNoDefault \u001b[38;5;241m=\u001b[39m lib\u001b[38;5;241m.\u001b[39mno_default,\n\u001b[0;32m   (...)\u001b[0m\n\u001b[1;32m  11399\u001b[0m     \u001b[38;5;241m*\u001b[39m\u001b[38;5;241m*\u001b[39mkwargs,\n\u001b[1;32m  11400\u001b[0m ) \u001b[38;5;241m-\u001b[39m\u001b[38;5;241m>\u001b[39m Series \u001b[38;5;241m|\u001b[39m \u001b[38;5;28mfloat\u001b[39m:\n\u001b[0;32m> 11401\u001b[0m     \u001b[38;5;28;01mreturn\u001b[39;00m \u001b[38;5;28;43mself\u001b[39;49m\u001b[38;5;241;43m.\u001b[39;49m\u001b[43m_stat_function\u001b[49m\u001b[43m(\u001b[49m\n\u001b[1;32m  11402\u001b[0m \u001b[43m        \u001b[49m\u001b[38;5;124;43m\"\u001b[39;49m\u001b[38;5;124;43mmean\u001b[39;49m\u001b[38;5;124;43m\"\u001b[39;49m\u001b[43m,\u001b[49m\u001b[43m \u001b[49m\u001b[43mnanops\u001b[49m\u001b[38;5;241;43m.\u001b[39;49m\u001b[43mnanmean\u001b[49m\u001b[43m,\u001b[49m\u001b[43m \u001b[49m\u001b[43maxis\u001b[49m\u001b[43m,\u001b[49m\u001b[43m \u001b[49m\u001b[43mskipna\u001b[49m\u001b[43m,\u001b[49m\u001b[43m \u001b[49m\u001b[43mlevel\u001b[49m\u001b[43m,\u001b[49m\u001b[43m \u001b[49m\u001b[43mnumeric_only\u001b[49m\u001b[43m,\u001b[49m\u001b[43m \u001b[49m\u001b[38;5;241;43m*\u001b[39;49m\u001b[38;5;241;43m*\u001b[39;49m\u001b[43mkwargs\u001b[49m\n\u001b[1;32m  11403\u001b[0m \u001b[43m    \u001b[49m\u001b[43m)\u001b[49m\n",
      "File \u001b[0;32m/opt/conda/lib/python3.10/site-packages/pandas/core/generic.py:11353\u001b[0m, in \u001b[0;36mNDFrame._stat_function\u001b[0;34m(self, name, func, axis, skipna, level, numeric_only, **kwargs)\u001b[0m\n\u001b[1;32m  11343\u001b[0m     warnings\u001b[38;5;241m.\u001b[39mwarn(\n\u001b[1;32m  11344\u001b[0m         \u001b[38;5;124m\"\u001b[39m\u001b[38;5;124mUsing the level keyword in DataFrame and Series aggregations is \u001b[39m\u001b[38;5;124m\"\u001b[39m\n\u001b[1;32m  11345\u001b[0m         \u001b[38;5;124m\"\u001b[39m\u001b[38;5;124mdeprecated and will be removed in a future version. Use groupby \u001b[39m\u001b[38;5;124m\"\u001b[39m\n\u001b[0;32m   (...)\u001b[0m\n\u001b[1;32m  11348\u001b[0m         stacklevel\u001b[38;5;241m=\u001b[39mfind_stack_level(),\n\u001b[1;32m  11349\u001b[0m     )\n\u001b[1;32m  11350\u001b[0m     \u001b[38;5;28;01mreturn\u001b[39;00m \u001b[38;5;28mself\u001b[39m\u001b[38;5;241m.\u001b[39m_agg_by_level(\n\u001b[1;32m  11351\u001b[0m         name, axis\u001b[38;5;241m=\u001b[39maxis, level\u001b[38;5;241m=\u001b[39mlevel, skipna\u001b[38;5;241m=\u001b[39mskipna, numeric_only\u001b[38;5;241m=\u001b[39mnumeric_only\n\u001b[1;32m  11352\u001b[0m     )\n\u001b[0;32m> 11353\u001b[0m \u001b[38;5;28;01mreturn\u001b[39;00m \u001b[38;5;28;43mself\u001b[39;49m\u001b[38;5;241;43m.\u001b[39;49m\u001b[43m_reduce\u001b[49m\u001b[43m(\u001b[49m\n\u001b[1;32m  11354\u001b[0m \u001b[43m    \u001b[49m\u001b[43mfunc\u001b[49m\u001b[43m,\u001b[49m\u001b[43m \u001b[49m\u001b[43mname\u001b[49m\u001b[38;5;241;43m=\u001b[39;49m\u001b[43mname\u001b[49m\u001b[43m,\u001b[49m\u001b[43m \u001b[49m\u001b[43maxis\u001b[49m\u001b[38;5;241;43m=\u001b[39;49m\u001b[43maxis\u001b[49m\u001b[43m,\u001b[49m\u001b[43m \u001b[49m\u001b[43mskipna\u001b[49m\u001b[38;5;241;43m=\u001b[39;49m\u001b[43mskipna\u001b[49m\u001b[43m,\u001b[49m\u001b[43m \u001b[49m\u001b[43mnumeric_only\u001b[49m\u001b[38;5;241;43m=\u001b[39;49m\u001b[43mnumeric_only\u001b[49m\n\u001b[1;32m  11355\u001b[0m \u001b[43m\u001b[49m\u001b[43m)\u001b[49m\n",
      "File \u001b[0;32m/opt/conda/lib/python3.10/site-packages/pandas/core/series.py:4816\u001b[0m, in \u001b[0;36mSeries._reduce\u001b[0;34m(self, op, name, axis, skipna, numeric_only, filter_type, **kwds)\u001b[0m\n\u001b[1;32m   4812\u001b[0m     \u001b[38;5;28;01mraise\u001b[39;00m \u001b[38;5;167;01mNotImplementedError\u001b[39;00m(\n\u001b[1;32m   4813\u001b[0m         \u001b[38;5;124mf\u001b[39m\u001b[38;5;124m\"\u001b[39m\u001b[38;5;124mSeries.\u001b[39m\u001b[38;5;132;01m{\u001b[39;00mname\u001b[38;5;132;01m}\u001b[39;00m\u001b[38;5;124m does not implement \u001b[39m\u001b[38;5;132;01m{\u001b[39;00mkwd_name\u001b[38;5;132;01m}\u001b[39;00m\u001b[38;5;124m.\u001b[39m\u001b[38;5;124m\"\u001b[39m\n\u001b[1;32m   4814\u001b[0m     )\n\u001b[1;32m   4815\u001b[0m \u001b[38;5;28;01mwith\u001b[39;00m np\u001b[38;5;241m.\u001b[39merrstate(\u001b[38;5;28mall\u001b[39m\u001b[38;5;241m=\u001b[39m\u001b[38;5;124m\"\u001b[39m\u001b[38;5;124mignore\u001b[39m\u001b[38;5;124m\"\u001b[39m):\n\u001b[0;32m-> 4816\u001b[0m     \u001b[38;5;28;01mreturn\u001b[39;00m \u001b[43mop\u001b[49m\u001b[43m(\u001b[49m\u001b[43mdelegate\u001b[49m\u001b[43m,\u001b[49m\u001b[43m \u001b[49m\u001b[43mskipna\u001b[49m\u001b[38;5;241;43m=\u001b[39;49m\u001b[43mskipna\u001b[49m\u001b[43m,\u001b[49m\u001b[43m \u001b[49m\u001b[38;5;241;43m*\u001b[39;49m\u001b[38;5;241;43m*\u001b[39;49m\u001b[43mkwds\u001b[49m\u001b[43m)\u001b[49m\n",
      "File \u001b[0;32m/opt/conda/lib/python3.10/site-packages/pandas/core/nanops.py:93\u001b[0m, in \u001b[0;36mdisallow.__call__.<locals>._f\u001b[0;34m(*args, **kwargs)\u001b[0m\n\u001b[1;32m     91\u001b[0m \u001b[38;5;28;01mtry\u001b[39;00m:\n\u001b[1;32m     92\u001b[0m     \u001b[38;5;28;01mwith\u001b[39;00m np\u001b[38;5;241m.\u001b[39merrstate(invalid\u001b[38;5;241m=\u001b[39m\u001b[38;5;124m\"\u001b[39m\u001b[38;5;124mignore\u001b[39m\u001b[38;5;124m\"\u001b[39m):\n\u001b[0;32m---> 93\u001b[0m         \u001b[38;5;28;01mreturn\u001b[39;00m \u001b[43mf\u001b[49m\u001b[43m(\u001b[49m\u001b[38;5;241;43m*\u001b[39;49m\u001b[43margs\u001b[49m\u001b[43m,\u001b[49m\u001b[43m \u001b[49m\u001b[38;5;241;43m*\u001b[39;49m\u001b[38;5;241;43m*\u001b[39;49m\u001b[43mkwargs\u001b[49m\u001b[43m)\u001b[49m\n\u001b[1;32m     94\u001b[0m \u001b[38;5;28;01mexcept\u001b[39;00m \u001b[38;5;167;01mValueError\u001b[39;00m \u001b[38;5;28;01mas\u001b[39;00m e:\n\u001b[1;32m     95\u001b[0m     \u001b[38;5;66;03m# we want to transform an object array\u001b[39;00m\n\u001b[1;32m     96\u001b[0m     \u001b[38;5;66;03m# ValueError message to the more typical TypeError\u001b[39;00m\n\u001b[1;32m     97\u001b[0m     \u001b[38;5;66;03m# e.g. this is normally a disallowed function on\u001b[39;00m\n\u001b[1;32m     98\u001b[0m     \u001b[38;5;66;03m# object arrays that contain strings\u001b[39;00m\n\u001b[1;32m     99\u001b[0m     \u001b[38;5;28;01mif\u001b[39;00m is_object_dtype(args[\u001b[38;5;241m0\u001b[39m]):\n",
      "File \u001b[0;32m/opt/conda/lib/python3.10/site-packages/pandas/core/nanops.py:155\u001b[0m, in \u001b[0;36mbottleneck_switch.__call__.<locals>.f\u001b[0;34m(values, axis, skipna, **kwds)\u001b[0m\n\u001b[1;32m    153\u001b[0m         result \u001b[38;5;241m=\u001b[39m alt(values, axis\u001b[38;5;241m=\u001b[39maxis, skipna\u001b[38;5;241m=\u001b[39mskipna, \u001b[38;5;241m*\u001b[39m\u001b[38;5;241m*\u001b[39mkwds)\n\u001b[1;32m    154\u001b[0m \u001b[38;5;28;01melse\u001b[39;00m:\n\u001b[0;32m--> 155\u001b[0m     result \u001b[38;5;241m=\u001b[39m \u001b[43malt\u001b[49m\u001b[43m(\u001b[49m\u001b[43mvalues\u001b[49m\u001b[43m,\u001b[49m\u001b[43m \u001b[49m\u001b[43maxis\u001b[49m\u001b[38;5;241;43m=\u001b[39;49m\u001b[43maxis\u001b[49m\u001b[43m,\u001b[49m\u001b[43m \u001b[49m\u001b[43mskipna\u001b[49m\u001b[38;5;241;43m=\u001b[39;49m\u001b[43mskipna\u001b[49m\u001b[43m,\u001b[49m\u001b[43m \u001b[49m\u001b[38;5;241;43m*\u001b[39;49m\u001b[38;5;241;43m*\u001b[39;49m\u001b[43mkwds\u001b[49m\u001b[43m)\u001b[49m\n\u001b[1;32m    157\u001b[0m \u001b[38;5;28;01mreturn\u001b[39;00m result\n",
      "File \u001b[0;32m/opt/conda/lib/python3.10/site-packages/pandas/core/nanops.py:418\u001b[0m, in \u001b[0;36m_datetimelike_compat.<locals>.new_func\u001b[0;34m(values, axis, skipna, mask, **kwargs)\u001b[0m\n\u001b[1;32m    415\u001b[0m \u001b[38;5;28;01mif\u001b[39;00m datetimelike \u001b[38;5;129;01mand\u001b[39;00m mask \u001b[38;5;129;01mis\u001b[39;00m \u001b[38;5;28;01mNone\u001b[39;00m:\n\u001b[1;32m    416\u001b[0m     mask \u001b[38;5;241m=\u001b[39m isna(values)\n\u001b[0;32m--> 418\u001b[0m result \u001b[38;5;241m=\u001b[39m \u001b[43mfunc\u001b[49m\u001b[43m(\u001b[49m\u001b[43mvalues\u001b[49m\u001b[43m,\u001b[49m\u001b[43m \u001b[49m\u001b[43maxis\u001b[49m\u001b[38;5;241;43m=\u001b[39;49m\u001b[43maxis\u001b[49m\u001b[43m,\u001b[49m\u001b[43m \u001b[49m\u001b[43mskipna\u001b[49m\u001b[38;5;241;43m=\u001b[39;49m\u001b[43mskipna\u001b[49m\u001b[43m,\u001b[49m\u001b[43m \u001b[49m\u001b[43mmask\u001b[49m\u001b[38;5;241;43m=\u001b[39;49m\u001b[43mmask\u001b[49m\u001b[43m,\u001b[49m\u001b[43m \u001b[49m\u001b[38;5;241;43m*\u001b[39;49m\u001b[38;5;241;43m*\u001b[39;49m\u001b[43mkwargs\u001b[49m\u001b[43m)\u001b[49m\n\u001b[1;32m    420\u001b[0m \u001b[38;5;28;01mif\u001b[39;00m datetimelike:\n\u001b[1;32m    421\u001b[0m     result \u001b[38;5;241m=\u001b[39m _wrap_results(result, orig_values\u001b[38;5;241m.\u001b[39mdtype, fill_value\u001b[38;5;241m=\u001b[39miNaT)\n",
      "File \u001b[0;32m/opt/conda/lib/python3.10/site-packages/pandas/core/nanops.py:706\u001b[0m, in \u001b[0;36mnanmean\u001b[0;34m(values, axis, skipna, mask)\u001b[0m\n\u001b[1;32m    703\u001b[0m     dtype_count \u001b[38;5;241m=\u001b[39m dtype\n\u001b[1;32m    705\u001b[0m count \u001b[38;5;241m=\u001b[39m _get_counts(values\u001b[38;5;241m.\u001b[39mshape, mask, axis, dtype\u001b[38;5;241m=\u001b[39mdtype_count)\n\u001b[0;32m--> 706\u001b[0m the_sum \u001b[38;5;241m=\u001b[39m _ensure_numeric(\u001b[43mvalues\u001b[49m\u001b[38;5;241;43m.\u001b[39;49m\u001b[43msum\u001b[49m\u001b[43m(\u001b[49m\u001b[43maxis\u001b[49m\u001b[43m,\u001b[49m\u001b[43m \u001b[49m\u001b[43mdtype\u001b[49m\u001b[38;5;241;43m=\u001b[39;49m\u001b[43mdtype_sum\u001b[49m\u001b[43m)\u001b[49m)\n\u001b[1;32m    708\u001b[0m \u001b[38;5;28;01mif\u001b[39;00m axis \u001b[38;5;129;01mis\u001b[39;00m \u001b[38;5;129;01mnot\u001b[39;00m \u001b[38;5;28;01mNone\u001b[39;00m \u001b[38;5;129;01mand\u001b[39;00m \u001b[38;5;28mgetattr\u001b[39m(the_sum, \u001b[38;5;124m\"\u001b[39m\u001b[38;5;124mndim\u001b[39m\u001b[38;5;124m\"\u001b[39m, \u001b[38;5;28;01mFalse\u001b[39;00m):\n\u001b[1;32m    709\u001b[0m     count \u001b[38;5;241m=\u001b[39m cast(np\u001b[38;5;241m.\u001b[39mndarray, count)\n",
      "File \u001b[0;32m/opt/conda/lib/python3.10/site-packages/numpy/core/_methods.py:48\u001b[0m, in \u001b[0;36m_sum\u001b[0;34m(a, axis, dtype, out, keepdims, initial, where)\u001b[0m\n\u001b[1;32m     46\u001b[0m \u001b[38;5;28;01mdef\u001b[39;00m \u001b[38;5;21m_sum\u001b[39m(a, axis\u001b[38;5;241m=\u001b[39m\u001b[38;5;28;01mNone\u001b[39;00m, dtype\u001b[38;5;241m=\u001b[39m\u001b[38;5;28;01mNone\u001b[39;00m, out\u001b[38;5;241m=\u001b[39m\u001b[38;5;28;01mNone\u001b[39;00m, keepdims\u001b[38;5;241m=\u001b[39m\u001b[38;5;28;01mFalse\u001b[39;00m,\n\u001b[1;32m     47\u001b[0m          initial\u001b[38;5;241m=\u001b[39m_NoValue, where\u001b[38;5;241m=\u001b[39m\u001b[38;5;28;01mTrue\u001b[39;00m):\n\u001b[0;32m---> 48\u001b[0m     \u001b[38;5;28;01mreturn\u001b[39;00m \u001b[43mumr_sum\u001b[49m\u001b[43m(\u001b[49m\u001b[43ma\u001b[49m\u001b[43m,\u001b[49m\u001b[43m \u001b[49m\u001b[43maxis\u001b[49m\u001b[43m,\u001b[49m\u001b[43m \u001b[49m\u001b[43mdtype\u001b[49m\u001b[43m,\u001b[49m\u001b[43m \u001b[49m\u001b[43mout\u001b[49m\u001b[43m,\u001b[49m\u001b[43m \u001b[49m\u001b[43mkeepdims\u001b[49m\u001b[43m,\u001b[49m\u001b[43m \u001b[49m\u001b[43minitial\u001b[49m\u001b[43m,\u001b[49m\u001b[43m \u001b[49m\u001b[43mwhere\u001b[49m\u001b[43m)\u001b[49m\n",
      "\u001b[0;31mTypeError\u001b[0m: unsupported operand type(s) for +: 'float' and 'str'"
     ]
    }
   ],
   "source": [
    "df1['column_2'].mean()\n",
    "\n",
    "## We face an error - \"TypeError: unsupported operand type(s) for +: 'float' and 'str'\"\n",
    "\n",
    "## cause mean is mathematical fucntion valid on numbers only.\n",
    "## since the  value at row2 of column_2 is a string ,and we cant apply mean() on strings.\n",
    "## hence we are getting the below error."
   ]
  },
  {
   "cell_type": "markdown",
   "id": "ec889d7f-1cae-40c8-87d7-de397434b806",
   "metadata": {},
   "source": [
    "--------------------"
   ]
  },
  {
   "cell_type": "markdown",
   "id": "9916b492-54bb-4c38-89db-07da71a120dd",
   "metadata": {},
   "source": [
    "#### Q6. What do you understand about the windows function in pandas and list the types of windows functions?"
   ]
  },
  {
   "cell_type": "markdown",
   "id": "e6b94869-3312-470d-9959-68ce3380b84b",
   "metadata": {},
   "source": [
    "1. A window function in Pandas is a function that performs a calculation across a set of rows that are related to the current row. \n",
    "\n",
    "2. These functions are often used to calculate moving averages, rolling sums, and other types of aggregations.\n",
    "\n",
    "3. There are four main types of window functions in Pandas:\n",
    "\n",
    "    1. **Rolling windows:** \n",
    "        These windows slide across the data, calculating the aggregation over a fixed number of rows. For example, a rolling window of 3 would calculate the average of the current row, the row before it, and the row after it.\n",
    "        \n",
    "    2. **Expanding windows:** These windows expand as the data grows, calculating the aggregation over all of the rows that have been seen so far. For example, an expanding window of 3 would calculate the average of the current row and all of the rows before it.\n",
    "    \n",
    "    3. **Weighted windows:** These windows allow you to weight the rows in the calculation, giving more weight to recent rows or rows that have a higher value.\n",
    "\n",
    "    4. **Exponentially weighted windows:** These windows are a special type of weighted window that uses an exponential decay function to weight the rows. This means that more recent rows are given more weight, while older rows are given less weight."
   ]
  },
  {
   "cell_type": "code",
   "execution_count": 4,
   "id": "b4c7feee-6ea5-4e12-b60c-09ba751aaeac",
   "metadata": {},
   "outputs": [
    {
     "data": {
      "text/plain": [
       "0     300\n",
       "1      40\n",
       "2    5000\n",
       "3      22\n",
       "4     121\n",
       "5     453\n",
       "6    1094\n",
       "7    5209\n",
       "8     623\n",
       "Name: Price, dtype: int64"
      ]
     },
     "execution_count": 4,
     "metadata": {},
     "output_type": "execute_result"
    }
   ],
   "source": [
    "## Example of Rolling windows\n",
    "\n",
    "df6  = pd.DataFrame( { 'Price' : [300,40,5000,22,121,453,1094,5209,623] } )\n",
    "\n",
    "df6['Price'] "
   ]
  },
  {
   "cell_type": "code",
   "execution_count": 6,
   "id": "38de099a-549e-4752-8862-698606ffd5f6",
   "metadata": {},
   "outputs": [
    {
     "data": {
      "text/plain": [
       "0            NaN\n",
       "1            NaN\n",
       "2    1780.000000\n",
       "3    1687.333333\n",
       "4    1714.333333\n",
       "5     198.666667\n",
       "6     556.000000\n",
       "7    2252.000000\n",
       "8    2308.666667\n",
       "Name: Price, dtype: float64"
      ]
     },
     "execution_count": 6,
     "metadata": {},
     "output_type": "execute_result"
    }
   ],
   "source": [
    "## Lets apply rolling fucntion on the above Price details:\n",
    "df6['Price'].rolling(window=3).mean()\n",
    "\n",
    "## here we are calculating the average/mean of 3 elements top from the the index 0 and return the average of it.\n",
    "## 0th Index --> 1st element is 300, and rest 2 elements are Nan and mean of them is Nan.\n",
    "## 1st Index --> 2nd element is 40, and 1st element is 300 and other one is NaN and mean of them is Nan.\n",
    "## 2nd Index --> 3rd element is 5000, 2nd element is 40 and first element is 300 and mean of the 3 is 1780.\n",
    "## ....\n",
    "\n",
    "### untill the last index its calculating.\n",
    "\n",
    "## and we can use any aggregate function here. \n",
    "## in example we have used mean(), we can use min()/max(),sum() as well\n"
   ]
  },
  {
   "cell_type": "code",
   "execution_count": 7,
   "id": "370c048f-db70-40c7-9a70-db9ae3eb729b",
   "metadata": {},
   "outputs": [
    {
     "data": {
      "text/plain": [
       "0       NaN\n",
       "1       NaN\n",
       "2    5340.0\n",
       "3    5062.0\n",
       "4    5143.0\n",
       "5     596.0\n",
       "6    1668.0\n",
       "7    6756.0\n",
       "8    6926.0\n",
       "Name: Price, dtype: float64"
      ]
     },
     "execution_count": 7,
     "metadata": {},
     "output_type": "execute_result"
    }
   ],
   "source": [
    "df6['Price'].rolling(window=3).sum() ## \n",
    "\n",
    "## here we are calculating the sum of 3 elements top from the the index 0 and return the sum of it.\n",
    "## 0th Index --> 1st element is 300, and rest 2 elements are Nan and sum of them is Nan.\n",
    "## 1st Index --> 2nd element is 40, and 1st element is 300 and other one is NaN and sum of them is Nan.\n",
    "## 2nd Index --> 3rd element is 5000, 2nd element is 40 and first element is 300 and sum of the 3 is 5340.\n",
    "## ....\n",
    "\n",
    "### untill the last index its calculating."
   ]
  },
  {
   "cell_type": "code",
   "execution_count": 9,
   "id": "e7924441-4e46-4195-b1e5-baf5c9d257ba",
   "metadata": {},
   "outputs": [
    {
     "data": {
      "text/plain": [
       "0     300\n",
       "1      40\n",
       "2    5000\n",
       "3      22\n",
       "4     121\n",
       "5     453\n",
       "6    1094\n",
       "7    5209\n",
       "8     623\n",
       "Name: Price, dtype: int64"
      ]
     },
     "execution_count": 9,
     "metadata": {},
     "output_type": "execute_result"
    }
   ],
   "source": [
    "df6['Price']"
   ]
  },
  {
   "cell_type": "code",
   "execution_count": 8,
   "id": "089854e4-aed5-4d08-849c-b5f892a54783",
   "metadata": {},
   "outputs": [
    {
     "data": {
      "text/plain": [
       "0      300\n",
       "1      340\n",
       "2     5340\n",
       "3     5362\n",
       "4     5483\n",
       "5     5936\n",
       "6     7030\n",
       "7    12239\n",
       "8    12862\n",
       "Name: Price, dtype: int64"
      ]
     },
     "execution_count": 8,
     "metadata": {},
     "output_type": "execute_result"
    }
   ],
   "source": [
    "df6['Price'].cumsum()\n",
    "\n",
    "## it give sthe cummulative sum of \n",
    "## index 0 ==? 300\n",
    "## index 1 = elemeny is 40, the cumsum = 40+300 =340\n",
    "## index 2 = element is 5000, and previus cumsum is 340 = 5000+340 = 5340\n",
    "## index 3 = element is 22, and previus cumsum is 5340 = 5340+22 = 5362\n",
    "\n",
    "## ..... so in still last index."
   ]
  },
  {
   "cell_type": "markdown",
   "id": "ffa33902-c2b0-4fcb-9462-0c47724ded58",
   "metadata": {},
   "source": [
    "-------------"
   ]
  },
  {
   "cell_type": "markdown",
   "id": "f80419c1-49a5-496a-bdf3-824019714b28",
   "metadata": {},
   "source": [
    "#### Q7. Write a code to print only the current month and year at the time of answering this question.  [Hint: Use pandas.datetime function]"
   ]
  },
  {
   "cell_type": "code",
   "execution_count": 21,
   "id": "e25d44c4-6e21-4bcb-9692-304c7b2c0129",
   "metadata": {},
   "outputs": [
    {
     "name": "stdout",
     "output_type": "stream",
     "text": [
      "The Current month is 7, and the current year is 2023\n"
     ]
    },
    {
     "name": "stderr",
     "output_type": "stream",
     "text": [
      "/tmp/ipykernel_10341/1930290568.py:1: FutureWarning: The pandas.datetime class is deprecated and will be removed from pandas in a future version. Import from datetime module instead.\n",
      "  Month = pd.datetime.now().month\n",
      "/tmp/ipykernel_10341/1930290568.py:2: FutureWarning: The pandas.datetime class is deprecated and will be removed from pandas in a future version. Import from datetime module instead.\n",
      "  Year = pd.datetime.now().year\n"
     ]
    }
   ],
   "source": [
    "Month = pd.datetime.now().month\n",
    "Year = pd.datetime.now().year\n",
    "\n",
    "print(\"The Current month is {}, and the current year is {}\".format(Month,Year))"
   ]
  },
  {
   "cell_type": "code",
   "execution_count": 22,
   "id": "2d8a3e11-5be2-47a9-9b89-d48bc58d1f97",
   "metadata": {},
   "outputs": [],
   "source": [
    "### using datetime module"
   ]
  },
  {
   "cell_type": "code",
   "execution_count": 23,
   "id": "f6c6a166-0ad7-40d0-95a7-489d7ea33112",
   "metadata": {},
   "outputs": [],
   "source": [
    "import datetime "
   ]
  },
  {
   "cell_type": "code",
   "execution_count": 24,
   "id": "48e889b5-f30c-46ca-a0c0-160cdc918027",
   "metadata": {},
   "outputs": [],
   "source": [
    "Month = datetime.datetime.today().month"
   ]
  },
  {
   "cell_type": "code",
   "execution_count": 25,
   "id": "e9176506-6074-4d73-b64f-42cfb92ed352",
   "metadata": {},
   "outputs": [],
   "source": [
    "Year = datetime.datetime.today().year"
   ]
  },
  {
   "cell_type": "code",
   "execution_count": 26,
   "id": "0cf2c078-788d-49ab-853d-ed35b2104dd2",
   "metadata": {},
   "outputs": [
    {
     "name": "stdout",
     "output_type": "stream",
     "text": [
      "The Current month is 7, and the current year is 2023\n"
     ]
    }
   ],
   "source": [
    "print(\"The Current month is {}, and the current year is {}\".format(Month,Year))"
   ]
  },
  {
   "cell_type": "markdown",
   "id": "3ec92d27-8cee-4c36-9ce5-64d399805eb6",
   "metadata": {},
   "source": [
    "-----------------"
   ]
  },
  {
   "cell_type": "markdown",
   "id": "a8e7ec46-d680-45df-a066-39f214845bfc",
   "metadata": {},
   "source": [
    "#### Q8. Write a Python program that takes in two dates as input (in the format YYYY-MM-DD) and  calculates the difference between them in days, hours, and minutes using Pandas"
   ]
  },
  {
   "cell_type": "code",
   "execution_count": 27,
   "id": "1ea518c0-f9cb-43ac-8af4-35a94291094f",
   "metadata": {},
   "outputs": [
    {
     "name": "stdin",
     "output_type": "stream",
     "text": [
      "Enter the Date1 in YYYY-MM-DD format 2023-03-09\n",
      "Enter the Date2 in YYYY-MM-DD format 2023-07-04\n"
     ]
    },
    {
     "name": "stdout",
     "output_type": "stream",
     "text": [
      "The Entered Date1 value is 2023-03-09\n",
      "The Entered Date2 value is 2023-07-04\n",
      "The no. of days are 117, the number of hours are 2808, the number minutes are 168480\n"
     ]
    }
   ],
   "source": [
    "def date_diff(date1,date2):\n",
    "    days = abs((date2-date1).days) \n",
    "# I have used abs(), for the output to be displayed as postive number.\n",
    "# just to eliminate, the scenario when the user tries to give the date2 value lesser than date1 value.\n",
    "    hours = days*24\n",
    "    minutes = hours*60\n",
    "    return \"The no. of days are {}, the number of hours are {}, the number minutes are {}\".format(days,hours,minutes)\n",
    "\n",
    "if __name__ == \"__main__\":\n",
    "    date1 = input(\"Enter the Date1 in YYYY-MM-DD format\")\n",
    "    date2 = input(\"Enter the Date2 in YYYY-MM-DD format\")\n",
    "\n",
    "    print(\"The Entered Date1 value is\",date1)\n",
    "    print(\"The Entered Date2 value is\",date2)\n",
    "    \n",
    "    date1 = pd.to_datetime(date1)\n",
    "    date2 = pd.to_datetime(date2)\n",
    "    \n",
    "    print(date_diff(date1,date2))"
   ]
  },
  {
   "cell_type": "markdown",
   "id": "9f136043-25da-48b8-a673-2a4a7ffe9c35",
   "metadata": {},
   "source": [
    "--------------"
   ]
  },
  {
   "cell_type": "markdown",
   "id": "a8ac0352-5d28-48cd-abfb-820c18e0f2c8",
   "metadata": {},
   "source": [
    "#### Q9. Write a Python program that reads a CSV file containing categorical data and converts a specified column to a categorical data type. The program should prompt the user to enter the file path, column name, and category order, and then display the sorted data."
   ]
  },
  {
   "cell_type": "code",
   "execution_count": 30,
   "id": "131cb542-2bc2-4196-9205-0d1cbe188434",
   "metadata": {},
   "outputs": [],
   "source": [
    "from pandas.api.types import CategoricalDtype"
   ]
  },
  {
   "cell_type": "code",
   "execution_count": 33,
   "id": "b3e54ce6-abde-41a3-a1a0-db8c5395c883",
   "metadata": {},
   "outputs": [
    {
     "name": "stdin",
     "output_type": "stream",
     "text": [
      "Enter the complete file path https://raw.githubusercontent.com/datasciencedojo/datasets/master/titanic.csv\n"
     ]
    },
    {
     "name": "stdout",
     "output_type": "stream",
     "text": [
      "Displaying the file path entered https://raw.githubusercontent.com/datasciencedojo/datasets/master/titanic.csv\n"
     ]
    },
    {
     "name": "stdin",
     "output_type": "stream",
     "text": [
      "Enter the column name Sex\n"
     ]
    },
    {
     "name": "stdout",
     "output_type": "stream",
     "text": [
      "The entered column name is  Sex\n"
     ]
    },
    {
     "name": "stdin",
     "output_type": "stream",
     "text": [
      "Enter the category order(comma-separated values): male,female\n"
     ]
    },
    {
     "name": "stdout",
     "output_type": "stream",
     "text": [
      "The entered category order are:  ['male', 'female']\n",
      "The data after sorting are below: \n",
      "     PassengerId  Survived  Pclass                                    Name  \\\n",
      "0              1         0       3                 Braund, Mr. Owen Harris   \n",
      "532          533         0       3                    Elias, Mr. Joseph Jr   \n",
      "536          537         0       1       Butt, Major. Archibald Willingham   \n",
      "538          539         0       3                Risien, Mr. Samuel Beard   \n",
      "543          544         1       2                       Beane, Mr. Edward   \n",
      "..           ...       ...     ...                                     ...   \n",
      "290          291         1       1            Barber, Miss. Ellen \"Nellie\"   \n",
      "651          652         1       2                     Doling, Miss. Elsie   \n",
      "289          290         1       3                    Connolly, Miss. Kate   \n",
      "166          167         1       1  Chibnall, Mrs. (Edith Martha Bowerman)   \n",
      "184          185         1       3     Kink-Heilmann, Miss. Luise Gretchen   \n",
      "\n",
      "        Sex   Age  SibSp  Parch     Ticket     Fare Cabin Embarked  \n",
      "0      male  22.0      1      0  A/5 21171   7.2500   NaN        S  \n",
      "532    male  17.0      1      1       2690   7.2292   NaN        C  \n",
      "536    male  45.0      0      0     113050  26.5500   B38        S  \n",
      "538    male   NaN      0      0     364498  14.5000   NaN        S  \n",
      "543    male  32.0      1      0       2908  26.0000   NaN        S  \n",
      "..      ...   ...    ...    ...        ...      ...   ...      ...  \n",
      "290  female  26.0      0      0      19877  78.8500   NaN        S  \n",
      "651  female  18.0      0      1     231919  23.0000   NaN        S  \n",
      "289  female  22.0      0      0     370373   7.7500   NaN        Q  \n",
      "166  female   NaN      0      1     113505  55.0000   E33        S  \n",
      "184  female   4.0      0      2     315153  22.0250   NaN        S  \n",
      "\n",
      "[891 rows x 12 columns]\n"
     ]
    }
   ],
   "source": [
    "def convert_to_categorical(data,column,category_order):\n",
    "    ordered_category =pd.api.types.CategoricalDtype(categories=category_order,ordered=True)\n",
    "    data[column] = data[column].astype(ordered_category)\n",
    "\n",
    "if __name__ == \"__main__\":\n",
    "    \n",
    "    file_path = str(input(\"Enter the complete file path\"))\n",
    "    print(\"Displaying the file path entered\",file_path)\n",
    "    \n",
    "    column_name = input(\"Enter the column name\")\n",
    "    print(\"The entered column name is \",column_name)\n",
    "    \n",
    "    category_order = input(\"Enter the category order(comma-separated values):\").split(\",\")\n",
    "    print(\"The entered category order are: \",category_order)\n",
    "    \n",
    "    data = pd.read_csv(file_path)\n",
    "    \n",
    "    convert_to_categorical(data,column_name,category_order)\n",
    "    \n",
    "    sorted_data = data.sort_values(column_name)\n",
    "    \n",
    "    print(\"The data after sorting are below: \")\n",
    "    print(pd.DataFrame(sorted_data))"
   ]
  },
  {
   "cell_type": "markdown",
   "id": "89b693f0-9aac-425c-a7c5-07ae28388637",
   "metadata": {},
   "source": [
    "----------------------------------"
   ]
  },
  {
   "cell_type": "markdown",
   "id": "9e1277d9-a377-42bb-87c3-6acb14bf44f2",
   "metadata": {},
   "source": [
    "#### Q10. Write a Python program that reads a CSV file containing sales data for different products and visualizes the data using a stacked bar chart to show the sales of each product category over time. Theprogram should prompt the user to enter the file path and display the chart."
   ]
  },
  {
   "cell_type": "code",
   "execution_count": 67,
   "id": "fc442fbd-21ca-44fc-82cf-a27f5216c0ec",
   "metadata": {},
   "outputs": [
    {
     "name": "stdin",
     "output_type": "stream",
     "text": [
      "Enter the file path/name sales.csv\n"
     ]
    },
    {
     "name": "stdout",
     "output_type": "stream",
     "text": [
      "The entered file name is :  sales.csv\n",
      "The below is the stacked bar chart Example\n"
     ]
    },
    {
     "data": {
      "image/png": "[encoded data removed]",
      "text/plain": [
       "<Figure size 640x480 with 1 Axes>"
      ]
     },
     "metadata": {},
     "output_type": "display_data"
    }
   ],
   "source": [
    "if __name__ == \"__main__\":\n",
    "    \n",
    "    file_name = input(\"Enter the file path/name\")\n",
    "    print(\"The entered file name is : \",file_name)\n",
    "    \n",
    "    df_q10 = pd.read_csv(file_name)\n",
    "     \n",
    "    ## plottting the stacked bar chart for the iphone sales\n",
    "    print(\"The below is the stacked bar chart Example\")\n",
    "    df10.plot(x='Month', kind='bar', stacked=True,title='Stacked Bar Graph for Iphone 12/13/14 Sales in the year 2022')"
   ]
  },
  {
   "cell_type": "markdown",
   "id": "35bb0bbd-4ad7-4c8b-8a90-1e21584daddc",
   "metadata": {},
   "source": [
    "---------------"
   ]
  },
  {
   "cell_type": "markdown",
   "id": "3498a5dd-c4c7-485d-90dd-e74be874975b",
   "metadata": {},
   "source": [
    "\n",
    "#### Q11. You are given a CSV file containing student data that includes the student ID and their test score. Write a Python program that reads the CSV file, calculates the mean, median, and mode of the test scores, and displays the results in a table. \n",
    "\n",
    "    The program should do the followingM\n",
    "    I Prompt the user to enter the file path of the CSV file containing the student dataR\n",
    "    I Read the CSV file into a Pandas DataFrameR\n",
    "    I Calculate the mean, median, and mode of the test scores using Pandas toolsR\n",
    "    I Display the mean, median, and mode in a table.\n",
    "    \n",
    "    Assume the CSV file contains the following columnsM\n",
    "    I Student ID: The ID of the studentR\n",
    "    I Test Score: The score of the student's test.\n",
    "\n",
    "    Example usage of the program:\n",
    "\n",
    "Enter the file path of the CSV file containing the student data: student_data.csv\n",
    "\n",
    "+-----------+--------+\n",
    "| Statistic | Value |\n",
    "+-----------+--------+\n",
    "| Mean | 79.6 |\n",
    "| Median | 82 |\n",
    "| Mode | 85, 90 |\n",
    "+-----------+--------+\n",
    "\n",
    "Assume that the CSV file student_data.csv contains the following data:\n",
    "\n",
    "Student ID,Test Score\n",
    "1,85\n",
    "2,90\n",
    "3,80\n",
    "4,75\n",
    "5,85\n",
    "6,82\n",
    "7,78\n",
    "8,85\n",
    "9,90\n",
    "10,85\n",
    "\n",
    "The program should calculate the mean, median, and mode of the test scores and display the results in a table."
   ]
  },
  {
   "cell_type": "code",
   "execution_count": 68,
   "id": "ff3bf60c-4cb8-4b17-912c-c0c519051181",
   "metadata": {},
   "outputs": [
    {
     "name": "stdin",
     "output_type": "stream",
     "text": [
      "Enter the file path of the file https://raw.githubusercontent.com/arun14d/Arun_DataScience_PW/main/student_data.csv\n"
     ]
    },
    {
     "name": "stdout",
     "output_type": "stream",
     "text": [
      "The Entered file path is : https://raw.githubusercontent.com/arun14d/Arun_DataScience_PW/main/student_data.csv\n",
      "+-----------+--------+\n",
      "| Statistic | Value |\n",
      "+-----------+--------+\n",
      "| Mean | 83.5 |\n",
      "| Median | 85.0 |\n",
      "| Mode | 85 |\n",
      "+-----------+--------+\n"
     ]
    }
   ],
   "source": [
    "## The link used will be from the github.\n",
    "## the link for the file --> https://raw.githubusercontent.com/arun14d/Arun_DataScience_PW/main/student_data.csv\n",
    "\n",
    "file_path = str(input(\"Enter the file path of the file\"))\n",
    "print(\"The Entered file path is :\",file_path )\n",
    "\n",
    "## creating the DataFrame from the csv file student.\n",
    "test_scores = pd.read_csv(file_path,sep=',')\n",
    "\n",
    "# calcualting the Mean, Median & Mode\n",
    "\n",
    "mean = test_scores['Test Score'].mean()\n",
    "median = test_scores['Test Score'].median()\n",
    "mode  = test_scores['Test Score'].mode()[0]\n",
    "\n",
    "print(\"+-----------+--------+\")\n",
    "print(\"| Statistic | Value |\")\n",
    "print(\"+-----------+--------+\")\n",
    "print(\"| Mean | {} |\".format(mean))\n",
    "print(\"| Median | {} |\".format(median))\n",
    "print(\"| Mode | {} |\".format(mode))\n",
    "print(\"+-----------+--------+\")"
   ]
  },
  {
   "cell_type": "markdown",
   "id": "950ac213-3805-40d8-8347-2e4ed77d59c0",
   "metadata": {},
   "source": [
    "-------------------------------"
   ]
  }
 ],
 "metadata": {
  "kernelspec": {
   "display_name": "Python 3 (ipykernel)",
   "language": "python",
   "name": "python3"
  },
  "language_info": {
   "codemirror_mode": {
    "name": "ipython",
    "version": 3
   },
   "file_extension": ".py",
   "mimetype": "text/x-python",
   "name": "python",
   "nbconvert_exporter": "python",
   "pygments_lexer": "ipython3",
   "version": "3.10.8"
  }
 },
 "nbformat": 4,
 "nbformat_minor": 5
}
