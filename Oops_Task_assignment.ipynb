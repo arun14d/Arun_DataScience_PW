{
 "cells": [
  {
   "cell_type": "markdown",
   "id": "a69d31fe-9838-405b-9992-caa380dea827",
   "metadata": {},
   "source": [
    "## OOPS Task Assignment"
   ]
  },
  {
   "cell_type": "markdown",
   "id": "e93b8654-3a7e-4503-b6bd-e3127bbca91a",
   "metadata": {},
   "source": [
    "### Q1, Create a vehicle class with an init method having instance variables as name_of_vehicle, max_speed and average_of_vehicle."
   ]
  },
  {
   "cell_type": "code",
   "execution_count": 121,
   "id": "dab59bf8-ed31-4a4b-ac15-04b6b4b99edd",
   "metadata": {},
   "outputs": [],
   "source": [
    "class vehicle:   ## class vehicle\n",
    "    \n",
    "    def __init__(self, name_of_vehicle,max_speed,average_of_vehicle):\n",
    "        self.name_of_vehicle = name_of_vehicle\n",
    "        self.max_speed = max_speed\n",
    "        self.average_of_vehicle = average_of_vehicle"
   ]
  },
  {
   "cell_type": "code",
   "execution_count": null,
   "id": "6a0c46ca-60b8-45d9-964c-388c24e296f4",
   "metadata": {},
   "outputs": [],
   "source": []
  },
  {
   "cell_type": "markdown",
   "id": "5a9bd6b7-8d77-4b58-89e8-18624465b755",
   "metadata": {},
   "source": [
    "Q2. Create a child class car from the vehicle class created in Que 1, which will inherit the vehicle class.\n",
    "Create a method named seating_capacity which takes capacity as an argument and returns the name of\n",
    "the vehicle and its seating capacity."
   ]
  },
  {
   "cell_type": "code",
   "execution_count": 122,
   "id": "fec963a7-020d-413c-b9df-afeb8a4a97e7",
   "metadata": {},
   "outputs": [],
   "source": [
    "## modifying the parent class here \n",
    "\n",
    "class vehicle:   ## class vehicle\n",
    "    \n",
    "    def __init__(self, name_of_vehicle,max_speed,average_of_vehicle):\n",
    "        self.name_of_vehicle = name_of_vehicle\n",
    "        self.max_speed = max_speed\n",
    "        self.average_of_vehicle = average_of_vehicle\n",
    "        \n",
    "    def seating_capacity(self,capacity):  ## created a seating_capacity function for parent class\n",
    "        return  f\"The name of the car is : {self.name_of_vehicle}, and its capacity is : {capacity}\""
   ]
  },
  {
   "cell_type": "code",
   "execution_count": 118,
   "id": "0dcf454f-b5c1-4d88-ae2d-8c866720e7ce",
   "metadata": {},
   "outputs": [],
   "source": [
    "class car(vehicle):  ## INheriting the properties of Vehicle class to car class\n",
    "    \n",
    "    def seating_capacity(self,capacity):  ## creating the seating fucntion, which takes values of capcity\n",
    "        return super().seating_capacity(capacity) ## super() is used to access the parent class methods."
   ]
  },
  {
   "cell_type": "code",
   "execution_count": 119,
   "id": "e99010da-b9c4-40d5-80e7-f220329d9552",
   "metadata": {},
   "outputs": [],
   "source": [
    "car1 = car(\"Audi Q4\",230,30) ## car1 is the object of the class car"
   ]
  },
  {
   "cell_type": "code",
   "execution_count": 120,
   "id": "d020fed1-7809-461e-a2c6-ae3a8c180cd2",
   "metadata": {},
   "outputs": [
    {
     "data": {
      "text/plain": [
       "'The name of the car is : Audi Q4, and its capacity is : 5'"
      ]
     },
     "execution_count": 120,
     "metadata": {},
     "output_type": "execute_result"
    }
   ],
   "source": [
    "car1.seating_capacity(5)  ## when trying call function - seating capacity with input parameter as 5 - seating capacity"
   ]
  },
  {
   "cell_type": "code",
   "execution_count": null,
   "id": "d87e7bad-4289-4164-a980-d0e0b71fa5d1",
   "metadata": {},
   "outputs": [],
   "source": []
  },
  {
   "cell_type": "markdown",
   "id": "485b3d77-bc86-4f09-9788-bb3c897fcc27",
   "metadata": {},
   "source": [
    "### Q3. What is multiple inheritance? Write a python code to demonstrate multiple inheritanc"
   ]
  },
  {
   "cell_type": "markdown",
   "id": "aeea8bba-f94a-4455-a13d-6044e8075c6d",
   "metadata": {},
   "source": [
    "#### Inheritance : \n",
    "1. Inheritance allows us to define a class that inherits all the methods and properties from another class. \n",
    "2. The Parent class is the class being inherited from, also called base class. \n",
    "3. The Child class is the class that inherits from another class, also called derived class.\n",
    "\n",
    "#### Mulitple Inheritance \n",
    "\n",
    "1. Multiple inheritance is in which an object or class can inherit characteristics and features from more than one parent object or the parent class \n",
    "2. A class can be derived from more than one superclass in Python. This is called multiple inheritance.\n"
   ]
  },
  {
   "cell_type": "code",
   "execution_count": 137,
   "id": "eb848fa4-2687-4ce5-a999-c52ab76d32c6",
   "metadata": {},
   "outputs": [],
   "source": [
    "### Multiple Inheritance Example"
   ]
  },
  {
   "cell_type": "code",
   "execution_count": 126,
   "id": "af0bae0f-3dd8-4114-9838-bb9752cbe935",
   "metadata": {},
   "outputs": [],
   "source": [
    "## class_1 --> parent class, where we perform addiiton  & subtraction operations.\n",
    "class class_1:\n",
    "    def __init__(self,a,b):\n",
    "        self.a = a\n",
    "        self.b = b\n",
    "\n",
    "    def display_addition_result(self):\n",
    "        return self.a+self.b\n",
    "    \n",
    "    def display_subtraction_result(self):\n",
    "        return self.a-self.b"
   ]
  },
  {
   "cell_type": "code",
   "execution_count": 127,
   "id": "eb3dda68-d99a-4413-9d39-e637ca967fac",
   "metadata": {},
   "outputs": [],
   "source": [
    "## class_2--> parent class, where we perform only division operations.\n",
    "class class_2:\n",
    "    def __init__(self,a,b):\n",
    "        self.a = a\n",
    "        self.b = b\n",
    "\n",
    "    def display_division_result(self):\n",
    "        return self.a/self.b"
   ]
  },
  {
   "cell_type": "code",
   "execution_count": 128,
   "id": "16ad09e4-2a15-4949-b83e-8041b31adab5",
   "metadata": {},
   "outputs": [],
   "source": [
    "## we will try to inherit the properties of class_1 & class_2 to class_3\n",
    "## class_3--> child class of class_1 & class_2, where it will inherit the properties from class_1, class-2.\n",
    "## also will have its owne property - to perform multiplication operations.\n",
    "\n",
    "class class_3(class_1,class_2):\n",
    "    def __init__(self,a,b):\n",
    "        self.a = a\n",
    "        self.b = b\n",
    "    \n",
    "    def display_multiplication_result(self):\n",
    "        return self.a*self.b"
   ]
  },
  {
   "cell_type": "code",
   "execution_count": 129,
   "id": "f46a3b6f-e32d-4801-8e97-a3475085a186",
   "metadata": {},
   "outputs": [],
   "source": [
    "c1 = class_1(100,20)\n",
    "c2 = class_2(100,20)\n",
    "c3 = class_3(100,20)"
   ]
  },
  {
   "cell_type": "code",
   "execution_count": 130,
   "id": "aed54430-ca01-4d79-861d-92abf3ccb22f",
   "metadata": {},
   "outputs": [
    {
     "data": {
      "text/plain": [
       "120"
      ]
     },
     "execution_count": 130,
     "metadata": {},
     "output_type": "execute_result"
    }
   ],
   "source": [
    "## object c1 of class_1 - has 2 fucntions - addition & subtractions\n",
    "\n",
    "c1.display_addition_result()"
   ]
  },
  {
   "cell_type": "code",
   "execution_count": 131,
   "id": "8e4a33b9-9e90-49f5-a717-33db007e32bb",
   "metadata": {},
   "outputs": [
    {
     "data": {
      "text/plain": [
       "80"
      ]
     },
     "execution_count": 131,
     "metadata": {},
     "output_type": "execute_result"
    }
   ],
   "source": [
    "c1.display_subtraction_result()"
   ]
  },
  {
   "cell_type": "code",
   "execution_count": 132,
   "id": "b6407b37-3eeb-44ae-8bb8-9e93133401d3",
   "metadata": {},
   "outputs": [
    {
     "data": {
      "text/plain": [
       "5.0"
      ]
     },
     "execution_count": 132,
     "metadata": {},
     "output_type": "execute_result"
    }
   ],
   "source": [
    "## object c2 of class_2 - has only 1 fucntions - division\n",
    "c2.display_division_result()"
   ]
  },
  {
   "cell_type": "code",
   "execution_count": 138,
   "id": "dfc374e4-ee24-48e3-8c69-a3b31e328d61",
   "metadata": {},
   "outputs": [
    {
     "data": {
      "text/plain": [
       "120"
      ]
     },
     "execution_count": 138,
     "metadata": {},
     "output_type": "execute_result"
    }
   ],
   "source": [
    "## object c3 of class_3 - has all the 4 fucntions - addition, subtraction & division --> Inherited properties\n",
    "## Multiplication  fucntion --> its own function.\n",
    "c3.display_addition_result()"
   ]
  },
  {
   "cell_type": "code",
   "execution_count": 139,
   "id": "8bda668c-207d-4618-a808-aa756e4afe82",
   "metadata": {},
   "outputs": [
    {
     "data": {
      "text/plain": [
       "80"
      ]
     },
     "execution_count": 139,
     "metadata": {},
     "output_type": "execute_result"
    }
   ],
   "source": [
    "c3.display_subtraction_result()"
   ]
  },
  {
   "cell_type": "code",
   "execution_count": 140,
   "id": "9e754ca5-ce91-42f0-ba11-f745a0ebba9e",
   "metadata": {},
   "outputs": [
    {
     "data": {
      "text/plain": [
       "5.0"
      ]
     },
     "execution_count": 140,
     "metadata": {},
     "output_type": "execute_result"
    }
   ],
   "source": [
    "c3.display_division_result()"
   ]
  },
  {
   "cell_type": "code",
   "execution_count": 141,
   "id": "ae89bcf4-d528-4577-9495-9efba294a6d9",
   "metadata": {},
   "outputs": [
    {
     "data": {
      "text/plain": [
       "2000"
      ]
     },
     "execution_count": 141,
     "metadata": {},
     "output_type": "execute_result"
    }
   ],
   "source": [
    "c3.display_multiplication_result()"
   ]
  },
  {
   "cell_type": "code",
   "execution_count": null,
   "id": "cb608b6e-fa63-410b-930a-5f020a6721b4",
   "metadata": {},
   "outputs": [],
   "source": []
  },
  {
   "cell_type": "markdown",
   "id": "78e49764-3dcd-46dc-b72e-c2e34ad0dd26",
   "metadata": {},
   "source": [
    "#### Q4. What are getter and setter in python? Create a class and create a getter and a setter method in this class.\n"
   ]
  },
  {
   "cell_type": "markdown",
   "id": "b87fb882-122a-4665-866c-dec54d60be82",
   "metadata": {},
   "source": [
    "The primary goal of any decorator is to modify the class methods or attributes so that the class user does not need to change their code.\n",
    "\n",
    "Getter -\n",
    "\n",
    "1.Getters are the methods that are used in Object-Oriented Programming (OOPS) to access a class's private attributes.\n",
    "\n",
    "Setter - \n",
    "\n",
    "1. The setter is a method that is used to set the property's value. "
   ]
  },
  {
   "cell_type": "code",
   "execution_count": 4,
   "id": "c143d96c-be58-4c43-9f22-e792f9273dec",
   "metadata": {},
   "outputs": [],
   "source": [
    "class pancard_details:\n",
    "    \n",
    "    def __init__(self,name,age,pan_no):\n",
    "        self.name = name\n",
    "        self.age = age\n",
    "        self.__pan_no = pan_no            # __pan_no ==> private varible\n",
    "        \n",
    "    @property                             ## we are creating a decorator, to give access to the private variable\n",
    "    def access_pan_no(self):\n",
    "        return self.__pan_no\n",
    "        \n",
    "    @access_pan_no.setter         ## giving access to modify the private varible\n",
    "    def pan_no_set(self,pan):\n",
    "        if len(pan)==10:                ## condition,  only to modify if the new pan_no is 10 char in length. else remain the same\n",
    "            self.__pan_no =  pan\n",
    "        else:\n",
    "            self.__pan_no = self.__pan_no\n",
    "            \n",
    "    @access_pan_no.deleter\n",
    "    def pan_no_delete(self):\n",
    "        del self.__pan_no\n",
    "            "
   ]
  },
  {
   "cell_type": "code",
   "execution_count": 5,
   "id": "1af0fe3b-e377-4249-9801-a4f90d564cef",
   "metadata": {},
   "outputs": [],
   "source": [
    "pan1 = pancard_details(\"Arun Kumar J\",32,\"ARUN0903AK\")"
   ]
  },
  {
   "cell_type": "code",
   "execution_count": 6,
   "id": "852d7a0e-e3a5-4f19-a5bc-cbe7a9ce44f6",
   "metadata": {},
   "outputs": [
    {
     "data": {
      "text/plain": [
       "32"
      ]
     },
     "execution_count": 6,
     "metadata": {},
     "output_type": "execute_result"
    }
   ],
   "source": [
    "pan1.age"
   ]
  },
  {
   "cell_type": "code",
   "execution_count": 7,
   "id": "3fb762e3-be84-4393-921b-76ba958b2e28",
   "metadata": {},
   "outputs": [
    {
     "data": {
      "text/plain": [
       "'ARUN0903AK'"
      ]
     },
     "execution_count": 7,
     "metadata": {},
     "output_type": "execute_result"
    }
   ],
   "source": [
    "pan1.access_pan_no     ### able to access the PAN no."
   ]
  },
  {
   "cell_type": "code",
   "execution_count": 8,
   "id": "0e40418f-a83b-4a11-9156-71195cfb8987",
   "metadata": {},
   "outputs": [],
   "source": [
    "pan1.pan_no_set = \"ABCD0908KKK\"    ## updating the new pan with 11 characters, it will bot be updated, and will retain the old data"
   ]
  },
  {
   "cell_type": "code",
   "execution_count": 9,
   "id": "7bd833b1-d2fe-457a-b73b-6905bcb1101d",
   "metadata": {},
   "outputs": [
    {
     "data": {
      "text/plain": [
       "'ARUN0903AK'"
      ]
     },
     "execution_count": 9,
     "metadata": {},
     "output_type": "execute_result"
    }
   ],
   "source": [
    "pan1.access_pan_no     ### able to access the PAN no."
   ]
  },
  {
   "cell_type": "code",
   "execution_count": 10,
   "id": "71fa31ac-cb5a-4e12-97d1-62ae52058a4c",
   "metadata": {},
   "outputs": [],
   "source": [
    "pan1.pan_no_set = 'WXYZ0011AB'"
   ]
  },
  {
   "cell_type": "code",
   "execution_count": 12,
   "id": "fbd9df92-d0c3-4ab3-9098-e0f555040afd",
   "metadata": {},
   "outputs": [
    {
     "data": {
      "text/plain": [
       "'WXYZ0011AB'"
      ]
     },
     "execution_count": 12,
     "metadata": {},
     "output_type": "execute_result"
    }
   ],
   "source": [
    "pan1.access_pan_no   ## new pan details is set"
   ]
  },
  {
   "cell_type": "code",
   "execution_count": 14,
   "id": "b95f779b-5a82-400f-a247-be84cea4ea9d",
   "metadata": {},
   "outputs": [],
   "source": [
    "## deleting the __pan_no variable\n",
    "\n",
    "del pan1.pan_no_delete"
   ]
  },
  {
   "cell_type": "code",
   "execution_count": 16,
   "id": "e535834d-10e8-4b32-b829-e20c387ddf90",
   "metadata": {},
   "outputs": [
    {
     "ename": "AttributeError",
     "evalue": "'pancard_details' object has no attribute '_pancard_details__pan_no'",
     "output_type": "error",
     "traceback": [
      "\u001b[0;31m---------------------------------------------------------------------------\u001b[0m",
      "\u001b[0;31mAttributeError\u001b[0m                            Traceback (most recent call last)",
      "Cell \u001b[0;32mIn[16], line 1\u001b[0m\n\u001b[0;32m----> 1\u001b[0m \u001b[43mpan1\u001b[49m\u001b[38;5;241;43m.\u001b[39;49m\u001b[43maccess_pan_no\u001b[49m  \u001b[38;5;66;03m## when trying to access the private varible, it shows an error, as its already deleted.\u001b[39;00m\n",
      "Cell \u001b[0;32mIn[4], line 10\u001b[0m, in \u001b[0;36mpancard_details.access_pan_no\u001b[0;34m(self)\u001b[0m\n\u001b[1;32m      8\u001b[0m \u001b[38;5;129m@property\u001b[39m                             \u001b[38;5;66;03m## we are creating a decorator, to give access to the private variable\u001b[39;00m\n\u001b[1;32m      9\u001b[0m \u001b[38;5;28;01mdef\u001b[39;00m \u001b[38;5;21maccess_pan_no\u001b[39m(\u001b[38;5;28mself\u001b[39m):\n\u001b[0;32m---> 10\u001b[0m     \u001b[38;5;28;01mreturn\u001b[39;00m \u001b[38;5;28;43mself\u001b[39;49m\u001b[38;5;241;43m.\u001b[39;49m\u001b[43m__pan_no\u001b[49m\n",
      "\u001b[0;31mAttributeError\u001b[0m: 'pancard_details' object has no attribute '_pancard_details__pan_no'"
     ]
    }
   ],
   "source": [
    "pan1.access_pan_no  ## when trying to access the private varible, it shows an error, as its already deleted."
   ]
  },
  {
   "cell_type": "code",
   "execution_count": null,
   "id": "9b6baa7c-a6eb-4f22-84b2-4778a7fce4e2",
   "metadata": {},
   "outputs": [],
   "source": []
  },
  {
   "cell_type": "markdown",
   "id": "1c1a6f63-0e7e-4765-9400-659ec30ff29b",
   "metadata": {},
   "source": [
    "#### Q5.What is method overriding in python? Write a python code to demonstrate method overriding."
   ]
  },
  {
   "cell_type": "markdown",
   "id": "d8716952-8d14-43ea-82b0-b48ba1aa881c",
   "metadata": {},
   "source": [
    "Method overriding is a feature of Object-oriented programming that enables you to change the behavior of inherited methods as per our specific needs.\n",
    "\n",
    "Base class's method is called overridden method and the derived class method is called overriding method."
   ]
  },
  {
   "cell_type": "code",
   "execution_count": 20,
   "id": "5d50889d-4d2d-4012-9dc6-a82e7a440402",
   "metadata": {},
   "outputs": [],
   "source": [
    "## parent class\n",
    "class Animal:\n",
    "    def sound(self):\n",
    "        print('What Sound does Animal make?')"
   ]
  },
  {
   "cell_type": "code",
   "execution_count": 22,
   "id": "5f52e35b-cffa-4ece-a8a2-32b4b7ca8a06",
   "metadata": {},
   "outputs": [],
   "source": [
    "## Child Class of class Animal\n",
    "class Dog(Animal):\n",
    "    def sound(self):\n",
    "        print('DOG BARKS')"
   ]
  },
  {
   "cell_type": "code",
   "execution_count": 23,
   "id": "b43d4725-ea51-4ae4-8973-b811d55c22d2",
   "metadata": {},
   "outputs": [],
   "source": [
    "dog1 = Dog()  # dog1 is anobject of child class"
   ]
  },
  {
   "cell_type": "code",
   "execution_count": 25,
   "id": "25d03db0-238d-428c-b360-2b82c653b233",
   "metadata": {},
   "outputs": [
    {
     "name": "stdout",
     "output_type": "stream",
     "text": [
      "DOG BARKS\n"
     ]
    }
   ],
   "source": [
    "dog1.sound()\n",
    "\n",
    "## this is method overiding, cause the method sound() is common to both the classes,\n",
    "## but once the ojbect is created for the Dog class ( Child class) and when accessing the methods of the child class, \n",
    "## The method of the child is executed/invoked.\n",
    "## hence we "
   ]
  },
  {
   "cell_type": "code",
   "execution_count": null,
   "id": "8d336462-e831-4ec9-9a76-3922a9adb4b3",
   "metadata": {},
   "outputs": [],
   "source": []
  },
  {
   "cell_type": "code",
   "execution_count": null,
   "id": "8484a38d-a734-4c61-8b8e-fdb412897e56",
   "metadata": {},
   "outputs": [],
   "source": []
  },
  {
   "cell_type": "code",
   "execution_count": null,
   "id": "fce32f0a-5d1f-4658-88f3-7c48d21b2e8c",
   "metadata": {},
   "outputs": [],
   "source": []
  },
  {
   "cell_type": "code",
   "execution_count": null,
   "id": "17c9d7e0-05b5-46c4-8584-b1b24ca7de00",
   "metadata": {},
   "outputs": [],
   "source": []
  },
  {
   "cell_type": "code",
   "execution_count": null,
   "id": "cbe8e9f9-e018-4ad3-9755-b895f2bef2cb",
   "metadata": {},
   "outputs": [],
   "source": []
  },
  {
   "cell_type": "code",
   "execution_count": null,
   "id": "dc932965-6146-4450-8735-d91ec0a100f5",
   "metadata": {},
   "outputs": [],
   "source": []
  },
  {
   "cell_type": "code",
   "execution_count": null,
   "id": "bd05ff0d-92c4-44ef-8624-7ef8a3036016",
   "metadata": {},
   "outputs": [],
   "source": []
  }
 ],
 "metadata": {
  "kernelspec": {
   "display_name": "Python 3 (ipykernel)",
   "language": "python",
   "name": "python3"
  },
  "language_info": {
   "codemirror_mode": {
    "name": "ipython",
    "version": 3
   },
   "file_extension": ".py",
   "mimetype": "text/x-python",
   "name": "python",
   "nbconvert_exporter": "python",
   "pygments_lexer": "ipython3",
   "version": "3.10.8"
  }
 },
 "nbformat": 4,
 "nbformat_minor": 5
}
