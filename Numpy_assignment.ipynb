{
 "cells": [
  {
   "cell_type": "markdown",
   "id": "72afd42b-9ade-4775-83df-7f4e1154c129",
   "metadata": {},
   "source": [
    "### Numpy Assignment \n",
    "-------------"
   ]
  },
  {
   "cell_type": "markdown",
   "id": "4599e387-c12e-4e82-8eca-ef0fa8e11989",
   "metadata": {},
   "source": [
    "Consider the below code to answer further questions: \n",
    "\n",
    "    import numpy as np\n",
    "    list_ = [ ‘1’ , ’2’ , ‘3’ , ‘4’ , ‘5’ ]\n",
    "    array_list = np.array(object = list_)"
   ]
  },
  {
   "cell_type": "markdown",
   "id": "1e4dbc63-42ea-4ff0-936b-45d6ecedd158",
   "metadata": {},
   "source": [
    "####  Q1. Is there any difference in the data type of variables list_ and array_list? If there is then write a code to print the data types of both the variables."
   ]
  },
  {
   "cell_type": "code",
   "execution_count": 50,
   "id": "cb690ca1-488d-4b1b-ba99-719aa2792d70",
   "metadata": {},
   "outputs": [],
   "source": [
    "import numpy as np\n",
    "list_ = [ '1' , '2' , '3' , '4' , '5' ]\n",
    "array_list = np.array(object = list_)"
   ]
  },
  {
   "cell_type": "code",
   "execution_count": 51,
   "id": "a348db7b-d29e-4561-8559-a414e565f812",
   "metadata": {},
   "outputs": [
    {
     "data": {
      "text/plain": [
       "['1', '2', '3', '4', '5']"
      ]
     },
     "execution_count": 51,
     "metadata": {},
     "output_type": "execute_result"
    }
   ],
   "source": [
    "list_"
   ]
  },
  {
   "cell_type": "code",
   "execution_count": 52,
   "id": "b876fa13-5d76-4b88-83df-7a27989e499a",
   "metadata": {},
   "outputs": [
    {
     "data": {
      "text/plain": [
       "array(['1', '2', '3', '4', '5'], dtype='<U1')"
      ]
     },
     "execution_count": 52,
     "metadata": {},
     "output_type": "execute_result"
    }
   ],
   "source": [
    "array_list"
   ]
  },
  {
   "cell_type": "code",
   "execution_count": 53,
   "id": "dbb00b20-4c2f-453d-a617-afb9f935a67b",
   "metadata": {},
   "outputs": [],
   "source": [
    "## Yes there is a difference between the list_ & array_list\n",
    "\n",
    "## list_ --> list type datatype\n",
    "\n",
    "## array_list --> ndarray type data type."
   ]
  },
  {
   "cell_type": "code",
   "execution_count": 54,
   "id": "3c3be1a1-35aa-4637-96b4-7eac3242c255",
   "metadata": {},
   "outputs": [
    {
     "name": "stdout",
     "output_type": "stream",
     "text": [
      "The variable list_ is of Datatype : <class 'list'>\n"
     ]
    }
   ],
   "source": [
    "\n",
    "print(\"The variable list_ is of Datatype :\",type(list_))\n"
   ]
  },
  {
   "cell_type": "code",
   "execution_count": 57,
   "id": "2a27d296-3d2a-4b74-ae31-9ed37e46d938",
   "metadata": {},
   "outputs": [
    {
     "name": "stdout",
     "output_type": "stream",
     "text": [
      "The variable array_list is of Datatype : <class 'numpy.ndarray'>\n"
     ]
    }
   ],
   "source": [
    "print(\"The variable array_list is of Datatype :\",type(array_list))"
   ]
  },
  {
   "cell_type": "markdown",
   "id": "ec3f24dc-5337-48ce-aa92-a97e681b5f7a",
   "metadata": {},
   "source": [
    "------------"
   ]
  },
  {
   "cell_type": "markdown",
   "id": "8540530d-a59d-41d2-9338-f692857059c4",
   "metadata": {},
   "source": [
    "#### Q2. Write a code to print the data type of each and every element of both the variables list_ and arra_list.\n"
   ]
  },
  {
   "cell_type": "code",
   "execution_count": 58,
   "id": "5540f16e-31f5-4f7b-a1cf-b1f38e26021c",
   "metadata": {},
   "outputs": [
    {
     "name": "stdout",
     "output_type": "stream",
     "text": [
      "The datatype of the element - 1 at the index 0 of list_  is : <class 'str'>\n",
      "The datatype of the element - 2 at the index 1 of list_  is : <class 'str'>\n",
      "The datatype of the element - 3 at the index 2 of list_  is : <class 'str'>\n",
      "The datatype of the element - 4 at the index 3 of list_  is : <class 'str'>\n",
      "The datatype of the element - 5 at the index 4 of list_  is : <class 'str'>\n"
     ]
    }
   ],
   "source": [
    "for i in range(len(list_)):\n",
    "    print(\"The datatype of the element - {} at the index {} of list_  is : {}\" .format(list_[i],i,type(list_[i] )))\n",
    "    \n",
    "    ## list_ --> each element is of datatype - Str"
   ]
  },
  {
   "cell_type": "code",
   "execution_count": null,
   "id": "d332e8bf-530e-4736-9dee-ecbcd5b90155",
   "metadata": {},
   "outputs": [],
   "source": []
  },
  {
   "cell_type": "code",
   "execution_count": 49,
   "id": "4da31960-8ca6-4912-9b40-43be5204ab67",
   "metadata": {},
   "outputs": [
    {
     "name": "stdout",
     "output_type": "stream",
     "text": [
      "The datatype of the element - 1 at the index 0 of array_list  is : int64\n",
      "The datatype of the element - 2 at the index 1 of array_list  is : int64\n",
      "The datatype of the element - 3 at the index 2 of array_list  is : int64\n",
      "The datatype of the element - 4 at the index 3 of array_list  is : int64\n",
      "The datatype of the element - 5 at the index 4 of array_list  is : int64\n"
     ]
    }
   ],
   "source": [
    "for i in range(len(array_list)):\n",
    "    print(\"The datatype of the element - {} at the index {} of array_list  is : {}\" .format(array_list[i],i,array_list[i].dtype))\n",
    "    \n",
    "    ## array_list --> each element is of datatype - numpy.str"
   ]
  },
  {
   "cell_type": "markdown",
   "id": "a6ecb42a-a37a-44ed-8f80-d0544995c4d3",
   "metadata": {},
   "source": [
    "----------------------"
   ]
  },
  {
   "cell_type": "markdown",
   "id": "2c32087f-a68a-440f-9a7a-ffdd2e40a4df",
   "metadata": {},
   "source": [
    "Q3. Considering the following changes in the variable, array_list:\n",
    "\n",
    "    array_list = np.array(object = list_, dtype = int)\n",
    "\n",
    "Will there be any difference in the data type of the elements present in both the variables, list_ and arra_list? If so then print the data types of each and every element present in both the variables, list_ and arra_list.\n",
    "\n"
   ]
  },
  {
   "cell_type": "code",
   "execution_count": 59,
   "id": "e1859019-9f0e-4ca7-9202-addfbac8dca7",
   "metadata": {},
   "outputs": [
    {
     "data": {
      "text/plain": [
       "['1', '2', '3', '4', '5']"
      ]
     },
     "execution_count": 59,
     "metadata": {},
     "output_type": "execute_result"
    }
   ],
   "source": [
    "list_\n",
    "## The elements in the list_"
   ]
  },
  {
   "cell_type": "code",
   "execution_count": 60,
   "id": "5da8b8b8-b980-421f-814c-ea67b5156424",
   "metadata": {},
   "outputs": [
    {
     "data": {
      "text/plain": [
       "array([1, 2, 3, 4, 5])"
      ]
     },
     "execution_count": 60,
     "metadata": {},
     "output_type": "execute_result"
    }
   ],
   "source": [
    "\n",
    "array_list = np.array(object = list_, dtype = int)\n",
    "array_list\n",
    "## the elements in array_list"
   ]
  },
  {
   "cell_type": "code",
   "execution_count": 61,
   "id": "e1c7c587-b8ed-407f-a836-2895985dafe7",
   "metadata": {},
   "outputs": [],
   "source": [
    "# Yes there is difference  in the datatype of the elements in the 2 variables.\n",
    "\n",
    "## list_ ---> the elements are String Datatype\n",
    "\n",
    "## array_list --> the elements are integer datatype"
   ]
  },
  {
   "cell_type": "code",
   "execution_count": 62,
   "id": "d0a46513-a1e7-47d7-b3bc-92100c0f3445",
   "metadata": {},
   "outputs": [
    {
     "name": "stdout",
     "output_type": "stream",
     "text": [
      "The datatype of the element - 1 at the index 0 of list_  is : <class 'str'>\n",
      "The datatype of the element - 2 at the index 1 of list_  is : <class 'str'>\n",
      "The datatype of the element - 3 at the index 2 of list_  is : <class 'str'>\n",
      "The datatype of the element - 4 at the index 3 of list_  is : <class 'str'>\n",
      "The datatype of the element - 5 at the index 4 of list_  is : <class 'str'>\n"
     ]
    }
   ],
   "source": [
    "for i in range(len(list_)):\n",
    "    print(\"The datatype of the element - {} at the index {} of list_  is : {}\" .format(list_[i],i,type(list_[i] )))\n",
    "    "
   ]
  },
  {
   "cell_type": "code",
   "execution_count": 63,
   "id": "522658ef-dac1-4baf-8c2b-5beb57689156",
   "metadata": {},
   "outputs": [
    {
     "name": "stdout",
     "output_type": "stream",
     "text": [
      "The datatype of the element - 1 at the index 0 of array_list  is : int64\n",
      "The datatype of the element - 2 at the index 1 of array_list  is : int64\n",
      "The datatype of the element - 3 at the index 2 of array_list  is : int64\n",
      "The datatype of the element - 4 at the index 3 of array_list  is : int64\n",
      "The datatype of the element - 5 at the index 4 of array_list  is : int64\n"
     ]
    }
   ],
   "source": [
    "for i in range(len(array_list)):\n",
    "    print(\"The datatype of the element - {} at the index {} of array_list  is : {}\" .format(array_list[i],i,array_list[i].dtype))\n",
    "    \n",
    "    ## all the elements are - numpy.int64"
   ]
  },
  {
   "cell_type": "markdown",
   "id": "8a76bedb-56da-4722-8d64-32b56c028e77",
   "metadata": {},
   "source": [
    "-----------------------"
   ]
  },
  {
   "cell_type": "markdown",
   "id": "84783be7-6cc7-45ef-919b-be86ba856d12",
   "metadata": {},
   "source": [
    "\n",
    "#### Consider the below code to answer further questions:\n",
    "\n",
    "    import numpy as np\n",
    "    num_list = [ [ 1 , 2 , 3 ] , [ 4 , 5 , 6 ] ]\n",
    "    num_array = np.array(object = num_list)\n",
    "\n",
    "Q4. Write a code to find the following characteristics of variable, num_array:\n",
    "    \n",
    "    (i) shape\n",
    "    (ii) size\n",
    "\n"
   ]
  },
  {
   "cell_type": "code",
   "execution_count": 64,
   "id": "4013ad2c-fbbf-4f9f-91b1-383f131e2b23",
   "metadata": {},
   "outputs": [],
   "source": [
    "import numpy as np\n",
    "num_list = [ [ 1 , 2 , 3 ] , [ 4 , 5 , 6 ] ]\n",
    "num_array = np.array(object = num_list)"
   ]
  },
  {
   "cell_type": "code",
   "execution_count": 66,
   "id": "bd5b95f3-0639-4d8b-ac79-507f940c4a4d",
   "metadata": {},
   "outputs": [
    {
     "data": {
      "text/plain": [
       "array([[1, 2, 3],\n",
       "       [4, 5, 6]])"
      ]
     },
     "execution_count": 66,
     "metadata": {},
     "output_type": "execute_result"
    }
   ],
   "source": [
    "num_array"
   ]
  },
  {
   "cell_type": "code",
   "execution_count": 65,
   "id": "4a6f6eab-aafc-4605-8b4c-41b6fbdc7834",
   "metadata": {},
   "outputs": [
    {
     "data": {
      "text/plain": [
       "(2, 3)"
      ]
     },
     "execution_count": 65,
     "metadata": {},
     "output_type": "execute_result"
    }
   ],
   "source": [
    "## (i) shape\n",
    "num_array.shape\n",
    "\n",
    "## (2,3) --> rows,calumns\n",
    "## the num_array has 2 rows and 3 columns\n"
   ]
  },
  {
   "cell_type": "code",
   "execution_count": 68,
   "id": "ccf37e26-c2b9-46b7-8237-3a4997ef0e66",
   "metadata": {},
   "outputs": [
    {
     "data": {
      "text/plain": [
       "6"
      ]
     },
     "execution_count": 68,
     "metadata": {},
     "output_type": "execute_result"
    }
   ],
   "source": [
    "## (ii) size\n",
    "\n",
    "num_array.size\n",
    "\n",
    "## it gives the total number of elements in the arrray\n",
    "## row * Column\n",
    "## 2*3 ==> 6 elements"
   ]
  },
  {
   "cell_type": "markdown",
   "id": "5f4a0d32-3c92-4cab-833d-a364a320aaf6",
   "metadata": {},
   "source": [
    "----------------------------------"
   ]
  },
  {
   "cell_type": "markdown",
   "id": "14e55bd0-bf7b-4066-96a0-87025562e2ff",
   "metadata": {},
   "source": [
    "#### Q5. Write a code to create numpy array of 3*3 matrix containing zeros only, using a numpy array creation function.\n",
    "\n",
    "[Hint: The size of the array will be 9 and the shape will be (3,3).]"
   ]
  },
  {
   "cell_type": "code",
   "execution_count": 72,
   "id": "3da6802f-1e6e-4e78-93a2-0bc6ef894927",
   "metadata": {},
   "outputs": [
    {
     "data": {
      "text/plain": [
       "array([[0., 0., 0.],\n",
       "       [0., 0., 0.],\n",
       "       [0., 0., 0.]])"
      ]
     },
     "execution_count": 72,
     "metadata": {},
     "output_type": "execute_result"
    }
   ],
   "source": [
    "array_q5 = np.zeros((3,3))\n",
    "array_q5"
   ]
  },
  {
   "cell_type": "code",
   "execution_count": 73,
   "id": "7b973ba9-9c69-464e-a60d-779d8904b33f",
   "metadata": {},
   "outputs": [
    {
     "data": {
      "text/plain": [
       "(3, 3)"
      ]
     },
     "execution_count": 73,
     "metadata": {},
     "output_type": "execute_result"
    }
   ],
   "source": [
    "array_q5.shape # the row * column = 3 x 3"
   ]
  },
  {
   "cell_type": "code",
   "execution_count": 74,
   "id": "e3621dbb-7903-4573-a2ef-ca19feab3f21",
   "metadata": {},
   "outputs": [
    {
     "data": {
      "text/plain": [
       "9"
      ]
     },
     "execution_count": 74,
     "metadata": {},
     "output_type": "execute_result"
    }
   ],
   "source": [
    "array_q5.size # the total element sin array = 3*3 = 9"
   ]
  },
  {
   "cell_type": "markdown",
   "id": "4b74b401-715e-4488-9875-830030b32ddf",
   "metadata": {},
   "source": [
    "----------------------"
   ]
  },
  {
   "cell_type": "markdown",
   "id": "d0255a68-9ea5-472e-823c-89cf552acab0",
   "metadata": {},
   "source": [
    "#### Q6. Create an identity matrix of shape (5,5) using numpy functions?\n",
    "\n",
    "[Hint: An identity matrix is a matrix containing 1 diagonally and other elements will be 0.]"
   ]
  },
  {
   "cell_type": "code",
   "execution_count": 76,
   "id": "60f6735e-3c87-4c61-9955-0bd59fc6252f",
   "metadata": {},
   "outputs": [],
   "source": [
    "import numpy.matlib as num\n",
    "\n",
    "# first we need to import the matlib module"
   ]
  },
  {
   "cell_type": "code",
   "execution_count": 80,
   "id": "2a8dfcdd-c8b4-4754-9eda-9c9d9623ab9a",
   "metadata": {},
   "outputs": [
    {
     "data": {
      "text/plain": [
       "matrix([[1., 0., 0., 0., 0.],\n",
       "        [0., 1., 0., 0., 0.],\n",
       "        [0., 0., 1., 0., 0.],\n",
       "        [0., 0., 0., 1., 0.],\n",
       "        [0., 0., 0., 0., 1.]])"
      ]
     },
     "execution_count": 80,
     "metadata": {},
     "output_type": "execute_result"
    }
   ],
   "source": [
    "\n",
    "matrix_q6 = num.eye(5,5)  # function used to create a identity matrix\n",
    "\n",
    "matrix_q6 "
   ]
  },
  {
   "cell_type": "markdown",
   "id": "8d61d93f-1f3e-4938-bf3a-a57cacf29f56",
   "metadata": {},
   "source": [
    "------------------------------"
   ]
  }
 ],
 "metadata": {
  "kernelspec": {
   "display_name": "Python 3 (ipykernel)",
   "language": "python",
   "name": "python3"
  },
  "language_info": {
   "codemirror_mode": {
    "name": "ipython",
    "version": 3
   },
   "file_extension": ".py",
   "mimetype": "text/x-python",
   "name": "python",
   "nbconvert_exporter": "python",
   "pygments_lexer": "ipython3",
   "version": "3.10.8"
  }
 },
 "nbformat": 4,
 "nbformat_minor": 5
}
